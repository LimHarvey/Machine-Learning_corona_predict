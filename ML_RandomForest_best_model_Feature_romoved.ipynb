{
 "cells": [
  {
   "cell_type": "markdown",
   "id": "adfb9818",
   "metadata": {},
   "source": [
    "### RandomForest_best_model_Feature_romoved\n",
    "\n",
    "- 프로젝트 동안 best_score가 나온 모델이 RandomForest\n",
    "- 그 모델 결과로 Feature_importance 후 (importance > 0)인 columns로 df 새로 구성\n",
    "- 분석 방식은 raw와 동일"
   ]
  },
  {
   "cell_type": "code",
   "execution_count": null,
   "id": "fa90dc54",
   "metadata": {},
   "outputs": [],
   "source": []
  },
  {
   "cell_type": "code",
   "execution_count": 1,
   "id": "c2049246",
   "metadata": {},
   "outputs": [],
   "source": [
    "import pandas as pd\n",
    "import numpy as np"
   ]
  },
  {
   "cell_type": "code",
   "execution_count": 6,
   "id": "673efbb8",
   "metadata": {},
   "outputs": [],
   "source": [
    "\n",
    "import warnings\n",
    "\n",
    "warnings.filterwarnings(action='ignore')\n",
    "from sklearn.model_selection import train_test_split\n",
    "from sklearn.preprocessing import MinMaxScaler, StandardScaler\n",
    "\n",
    "from sklearn.linear_model import LinearRegression\n",
    "from sklearn.linear_model import Ridge\n",
    "from sklearn.linear_model import Lasso\n",
    "# from sklearn.linear_model import ElasticNet\n",
    "from sklearn.neighbors import KNeighborsRegressor\n",
    "from sklearn.tree import DecisionTreeRegressor\n",
    "from sklearn.svm import LinearSVR, SVR\n",
    "from sklearn.ensemble import ExtraTreesRegressor\n",
    "from sklearn.ensemble import RandomForestRegressor\n",
    "from sklearn.ensemble import GradientBoostingRegressor\n",
    "from sklearn.ensemble import AdaBoostRegressor\n",
    "from xgboost import XGBRegressor\n",
    "from lightgbm import LGBMRegressor"
   ]
  },
  {
   "cell_type": "code",
   "execution_count": 19,
   "id": "77bf5bf5",
   "metadata": {},
   "outputs": [],
   "source": [
    "df = pd.read_csv('./data/rfr_df.csv',index_col = 0)\n",
    "y = df['확진자수']\n",
    "x = df.drop('확진자수', axis=1)"
   ]
  },
  {
   "cell_type": "code",
   "execution_count": 31,
   "id": "61d38819",
   "metadata": {},
   "outputs": [
    {
     "name": "stdout",
     "output_type": "stream",
     "text": [
      "<class 'pandas.core.frame.DataFrame'>\n",
      "Int64Index: 550 entries, 0 to 549\n",
      "Columns: 495 entries, 총_생활인구_수 to 확진자수\n",
      "dtypes: float64(468), int64(27)\n",
      "memory usage: 2.1 MB\n"
     ]
    }
   ],
   "source": [
    "df.info()"
   ]
  },
  {
   "cell_type": "code",
   "execution_count": 20,
   "id": "ab687ca5",
   "metadata": {},
   "outputs": [],
   "source": [
    "x_train, x_test, y_train, y_test = train_test_split(x,y, random_state=42)"
   ]
  },
  {
   "cell_type": "code",
   "execution_count": 21,
   "id": "d6628411",
   "metadata": {},
   "outputs": [],
   "source": [
    "sv = SVR()\n",
    "lsv=LinearSVR()\n",
    "lr = LinearRegression()\n",
    "ridge = Ridge(random_state=42)\n",
    "lasso =  Lasso(random_state=42)\n",
    "kn = KNeighborsRegressor()\n",
    "dtr = DecisionTreeRegressor(random_state=42)\n",
    "etr = ExtraTreesRegressor(random_state=42)\n",
    "rfr = RandomForestRegressor(random_state=42)\n",
    "gbr = GradientBoostingRegressor(random_state=42)\n",
    "abr = AdaBoostRegressor(random_state=42)\n",
    "xgb = XGBRegressor(random_state=42)\n",
    "lgb = LGBMRegressor(random_state=42)"
   ]
  },
  {
   "cell_type": "markdown",
   "id": "8a69a3f2",
   "metadata": {},
   "source": [
    "#### raw"
   ]
  },
  {
   "cell_type": "code",
   "execution_count": 22,
   "id": "78eb5f98",
   "metadata": {
    "collapsed": true
   },
   "outputs": [
    {
     "name": "stdout",
     "output_type": "stream",
     "text": [
      "SVR\n",
      "-0.11647665702425947\n",
      "-0.0457276867189782\n",
      "\n",
      "LinearSVR\n",
      "-0.3391107405972069\n",
      "-0.19827004280249305\n",
      "\n",
      "LinearRegression\n",
      "0.9999999999999998\n",
      "-72.62505447646826\n",
      "\n",
      "Ridge\n",
      "0.6196074274976333\n",
      "-0.5499492771022758\n",
      "\n",
      "Lasso\n",
      "0.7042761439210522\n",
      "-0.3753406292257353\n",
      "\n",
      "KNeighborsRegressor\n",
      "0.2822814346825131\n",
      "0.09343571251898042\n",
      "\n",
      "DecisionTreeRegressor\n",
      "1.0\n",
      "-0.21369890514794543\n",
      "\n",
      "RandomForestRegressor\n",
      "0.873076516490225\n",
      "0.3734818348560255\n",
      "\n",
      "ExtraTreesRegressor\n",
      "1.0\n",
      "0.22777378339542786\n",
      "\n",
      "GradientBoostingRegressor\n",
      "0.9150413460254054\n",
      "0.22783392098235433\n",
      "\n",
      "AdaBoostRegressor\n",
      "0.5741111716845566\n",
      "0.02832557061501695\n",
      "\n",
      "XGBRegressor\n",
      "0.9999999930115931\n",
      "0.09597787908446542\n",
      "\n",
      "LGBMRegressor\n",
      "0.9502996660951688\n",
      "0.09938550661634771\n",
      "\n"
     ]
    }
   ],
   "source": [
    "models = [sv,lsv,lr, ridge, lasso, kn, dtr, rfr,etr, gbr, abr, xgb, lgb ]\n",
    "\n",
    "for m in models :\n",
    "    m.fit(x_train,y_train)\n",
    "    print(m.__class__.__name__)\n",
    "    print(m.score(x_train, y_train))\n",
    "#     print(m.score(x_valid, y_valid))\n",
    "    print(m.score(x_test,y_test))\n",
    "    print()"
   ]
  },
  {
   "cell_type": "markdown",
   "id": "88273898",
   "metadata": {},
   "source": [
    "#### StandardScaler"
   ]
  },
  {
   "cell_type": "code",
   "execution_count": 23,
   "id": "7e6c921c",
   "metadata": {
    "collapsed": true
   },
   "outputs": [
    {
     "name": "stdout",
     "output_type": "stream",
     "text": [
      "SVR\n",
      "-0.06451737655758905\n",
      "-0.009892439426075761\n",
      "\n",
      "LinearSVR\n",
      "0.5458602519029715\n",
      "0.07896060687539408\n",
      "\n",
      "LinearRegression\n",
      "1.0\n",
      "-11.181317098844408\n",
      "\n",
      "Ridge\n",
      "0.8540671039344012\n",
      "-0.27318719624016286\n",
      "\n",
      "Lasso\n",
      "0.6200952364865602\n",
      "0.2273037127993245\n",
      "\n",
      "KNeighborsRegressor\n",
      "0.34674674150686924\n",
      "0.3396590796410315\n",
      "\n",
      "DecisionTreeRegressor\n",
      "1.0\n",
      "-0.21369890514794543\n",
      "\n",
      "RandomForestRegressor\n",
      "0.8730784664392203\n",
      "0.3733573700091949\n",
      "\n",
      "ExtraTreesRegressor\n",
      "1.0\n",
      "0.22777378339542786\n",
      "\n",
      "GradientBoostingRegressor\n",
      "0.9150413460254054\n",
      "0.22729206990308115\n",
      "\n",
      "AdaBoostRegressor\n",
      "0.565966679201473\n",
      "0.039067334140302834\n",
      "\n",
      "XGBRegressor\n",
      "0.9999999930115931\n",
      "0.09597787908446542\n",
      "\n",
      "LGBMRegressor\n",
      "0.9462483946434936\n",
      "0.12487941246120904\n",
      "\n"
     ]
    }
   ],
   "source": [
    "scaler = StandardScaler()\n",
    "scaler.fit(x_train)\n",
    "\n",
    "x_train_stan = scaler.transform(x_train)\n",
    "x_test_stan = scaler.transform(x_test)\n",
    "\n",
    "models = [sv,lsv,lr, ridge, lasso, kn, dtr, rfr,etr, gbr, abr, xgb, lgb ]\n",
    "\n",
    "for m in models :\n",
    "    m.fit(x_train_stan,y_train)\n",
    "    print(m.__class__.__name__)\n",
    "    print(m.score(x_train_stan, y_train))\n",
    "#     print(m.score(x_valid, y_valid))\n",
    "    print(m.score(x_test_stan,y_test))\n",
    "    print()"
   ]
  },
  {
   "cell_type": "markdown",
   "id": "d7fe4e63",
   "metadata": {},
   "source": [
    "#### MinMaxScaler"
   ]
  },
  {
   "cell_type": "code",
   "execution_count": 24,
   "id": "83b8904b",
   "metadata": {
    "collapsed": true
   },
   "outputs": [
    {
     "name": "stdout",
     "output_type": "stream",
     "text": [
      "SVR\n",
      "-0.09355288263507822\n",
      "-0.030699393785014184\n",
      "\n",
      "LinearSVR\n",
      "0.11221792033281841\n",
      "0.21514014398602188\n",
      "\n",
      "LinearRegression\n",
      "1.0\n",
      "-10.443697055155075\n",
      "\n",
      "Ridge\n",
      "0.6327544357123165\n",
      "0.19316106296014934\n",
      "\n",
      "Lasso\n",
      "0.1914948473774205\n",
      "0.2507644790917096\n",
      "\n",
      "KNeighborsRegressor\n",
      "0.36024557109664446\n",
      "0.306325696025768\n",
      "\n",
      "DecisionTreeRegressor\n",
      "1.0\n",
      "-0.21369890514794543\n",
      "\n",
      "RandomForestRegressor\n",
      "0.8726788960121732\n",
      "0.37242065515321376\n",
      "\n",
      "ExtraTreesRegressor\n",
      "1.0\n",
      "0.22777378339542786\n",
      "\n",
      "GradientBoostingRegressor\n",
      "0.9150413460254054\n",
      "0.22808119076925282\n",
      "\n",
      "AdaBoostRegressor\n",
      "0.5506311445827952\n",
      "-0.02228410594285224\n",
      "\n",
      "XGBRegressor\n",
      "0.9999999930115931\n",
      "0.09605025973051262\n",
      "\n",
      "LGBMRegressor\n",
      "0.9488613008517103\n",
      "0.09828319949004272\n",
      "\n"
     ]
    }
   ],
   "source": [
    "scaler = MinMaxScaler()\n",
    "scaler.fit(x_train)\n",
    "\n",
    "x_train_min = scaler.transform(x_train)\n",
    "x_test_min = scaler.transform(x_test)\n",
    "\n",
    "models = [sv,lsv,lr, ridge, lasso, kn, dtr, rfr,etr, gbr, abr, xgb, lgb ]\n",
    "\n",
    "\n",
    "for m in models :\n",
    "    m.fit(x_train_min,y_train)\n",
    "    print(m.__class__.__name__)\n",
    "    print(m.score(x_train_min, y_train))\n",
    "#     print(m.score(x_valid, y_valid))\n",
    "    print(m.score(x_test_min,y_test))\n",
    "    print()"
   ]
  },
  {
   "cell_type": "code",
   "execution_count": null,
   "id": "8678801d",
   "metadata": {},
   "outputs": [],
   "source": []
  },
  {
   "cell_type": "code",
   "execution_count": null,
   "id": "6ac99975",
   "metadata": {},
   "outputs": [],
   "source": [
    "# raw_DataFrame기반 결과와 별 차이 없다는 결론. --> 추후 분석(param_tuning 생략)"
   ]
  }
 ],
 "metadata": {
  "kernelspec": {
   "display_name": "Python 3",
   "language": "python",
   "name": "python3"
  },
  "language_info": {
   "codemirror_mode": {
    "name": "ipython",
    "version": 3
   },
   "file_extension": ".py",
   "mimetype": "text/x-python",
   "name": "python",
   "nbconvert_exporter": "python",
   "pygments_lexer": "ipython3",
   "version": "3.8.8"
  }
 },
 "nbformat": 4,
 "nbformat_minor": 5
}
