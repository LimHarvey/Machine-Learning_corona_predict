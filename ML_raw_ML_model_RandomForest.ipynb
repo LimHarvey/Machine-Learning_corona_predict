{
 "cells": [
  {
   "cell_type": "markdown",
   "id": "9e578da9",
   "metadata": {},
   "source": [
    "### raw_ML_model_RandomForest\n",
    "\n",
    "- raw_merged_data 전처리 후 12개의 회귀모델 사용\n",
    "- target 값의 3 경우로 나누어 실행// Featurescale도 3가지 경우로 나누어 실행\n",
    "- 결과 적으로 (y=확진자수/ featurescale 방식은 standardscale/ + 분기 column을 dummy화) 조합 결정\n",
    "- 9가지의 결과 값 비교 후 best_score Top3 model 선택하여 optimization 시행\n",
    "- optimization은 임의의 param_tuning과 GridSearchcv로 진행"
   ]
  },
  {
   "cell_type": "code",
   "execution_count": null,
   "id": "8d595f72",
   "metadata": {},
   "outputs": [],
   "source": []
  },
  {
   "cell_type": "code",
   "execution_count": 5,
   "id": "9d7e39ba",
   "metadata": {
    "id": "9d7e39ba"
   },
   "outputs": [],
   "source": [
    "import pandas as pd\n",
    "import numpy as np\n",
    "import matplotlib.pyplot as plt\n",
    "import seaborn as sns"
   ]
  },
  {
   "cell_type": "code",
   "execution_count": 6,
   "id": "60e63b8b",
   "metadata": {
    "id": "60e63b8b"
   },
   "outputs": [],
   "source": [
    "import warnings\n",
    "\n",
    "warnings.filterwarnings(action='ignore')"
   ]
  },
  {
   "cell_type": "code",
   "execution_count": 7,
   "id": "2a92bf0a",
   "metadata": {
    "id": "2a92bf0a"
   },
   "outputs": [],
   "source": [
    "\n",
    "import matplotlib as mpl\n",
    "import matplotlib.font_manager as fm\n",
    "\n",
    "mpl.rcParams['axes.unicode_minus']= False\n",
    "\n",
    "path = 'C:/Windows/Fonts/malgun.ttf'\n",
    "font_name = fm.FontProperties(fname = path, size = 50).get_name()\n",
    "plt.rc('font', family=font_name)"
   ]
  },
  {
   "cell_type": "code",
   "execution_count": 180,
   "id": "47c28de2",
   "metadata": {
    "id": "47c28de2"
   },
   "outputs": [],
   "source": [
    "#  merged_data 불러오기"
   ]
  },
  {
   "cell_type": "code",
   "execution_count": 91,
   "id": "286172de",
   "metadata": {
    "id": "286172de",
    "outputId": "d7a86fa2-89b7-43d8-9763-9f2ed828281d",
    "scrolled": true
   },
   "outputs": [
    {
     "data": {
      "text/html": [
       "<div>\n",
       "<style scoped>\n",
       "    .dataframe tbody tr th:only-of-type {\n",
       "        vertical-align: middle;\n",
       "    }\n",
       "\n",
       "    .dataframe tbody tr th {\n",
       "        vertical-align: top;\n",
       "    }\n",
       "\n",
       "    .dataframe thead th {\n",
       "        text-align: right;\n",
       "    }\n",
       "</style>\n",
       "<table border=\"1\" class=\"dataframe\">\n",
       "  <thead>\n",
       "    <tr style=\"text-align: right;\">\n",
       "      <th></th>\n",
       "      <th>기준_분기_코드</th>\n",
       "      <th>matching_상권_코드_명</th>\n",
       "      <th>상권_구분_코드_명_x</th>\n",
       "      <th>총_생활인구_수</th>\n",
       "      <th>남성_생활인구_수</th>\n",
       "      <th>여성_생활인구_수</th>\n",
       "      <th>연령대_10_생활인구_수</th>\n",
       "      <th>연령대_20_생활인구_수</th>\n",
       "      <th>연령대_30_생활인구_수</th>\n",
       "      <th>연령대_40_생활인구_수</th>\n",
       "      <th>...</th>\n",
       "      <th>18시총승객수</th>\n",
       "      <th>19시총승객수</th>\n",
       "      <th>20시총승객수</th>\n",
       "      <th>21시총승객수</th>\n",
       "      <th>22시총승객수</th>\n",
       "      <th>23시총승객수</th>\n",
       "      <th>버스정류장 수</th>\n",
       "      <th>확진자수</th>\n",
       "      <th>선별진료소 수</th>\n",
       "      <th>임시선별소 수</th>\n",
       "    </tr>\n",
       "  </thead>\n",
       "  <tbody>\n",
       "    <tr>\n",
       "      <th>0</th>\n",
       "      <td>2.0</td>\n",
       "      <td>코엑스</td>\n",
       "      <td>발달상권</td>\n",
       "      <td>90544.0</td>\n",
       "      <td>46022.0</td>\n",
       "      <td>44522.0</td>\n",
       "      <td>4560.0</td>\n",
       "      <td>20323.0</td>\n",
       "      <td>26443.0</td>\n",
       "      <td>19121.0</td>\n",
       "      <td>...</td>\n",
       "      <td>124375.0</td>\n",
       "      <td>94556.0</td>\n",
       "      <td>74366.0</td>\n",
       "      <td>62425.0</td>\n",
       "      <td>50758.0</td>\n",
       "      <td>24553.0</td>\n",
       "      <td>10.0</td>\n",
       "      <td>0.0</td>\n",
       "      <td>0.0</td>\n",
       "      <td>1.0</td>\n",
       "    </tr>\n",
       "    <tr>\n",
       "      <th>1</th>\n",
       "      <td>1.0</td>\n",
       "      <td>코엑스</td>\n",
       "      <td>발달상권</td>\n",
       "      <td>48906.0</td>\n",
       "      <td>24692.0</td>\n",
       "      <td>24214.0</td>\n",
       "      <td>2970.0</td>\n",
       "      <td>11272.5</td>\n",
       "      <td>13689.5</td>\n",
       "      <td>10139.5</td>\n",
       "      <td>...</td>\n",
       "      <td>46746.0</td>\n",
       "      <td>35292.0</td>\n",
       "      <td>26961.5</td>\n",
       "      <td>22938.5</td>\n",
       "      <td>18948.5</td>\n",
       "      <td>8777.0</td>\n",
       "      <td>10.0</td>\n",
       "      <td>6.0</td>\n",
       "      <td>0.0</td>\n",
       "      <td>1.0</td>\n",
       "    </tr>\n",
       "    <tr>\n",
       "      <th>2</th>\n",
       "      <td>2.0</td>\n",
       "      <td>잠실 관광특구</td>\n",
       "      <td>관광특구</td>\n",
       "      <td>3026454.0</td>\n",
       "      <td>1479790.0</td>\n",
       "      <td>1546665.0</td>\n",
       "      <td>255317.0</td>\n",
       "      <td>681334.0</td>\n",
       "      <td>701941.0</td>\n",
       "      <td>495230.0</td>\n",
       "      <td>...</td>\n",
       "      <td>278260.0</td>\n",
       "      <td>217631.0</td>\n",
       "      <td>172048.0</td>\n",
       "      <td>156635.0</td>\n",
       "      <td>147175.0</td>\n",
       "      <td>89409.0</td>\n",
       "      <td>24.0</td>\n",
       "      <td>131.0</td>\n",
       "      <td>1.0</td>\n",
       "      <td>1.0</td>\n",
       "    </tr>\n",
       "    <tr>\n",
       "      <th>3</th>\n",
       "      <td>1.0</td>\n",
       "      <td>잠실 관광특구</td>\n",
       "      <td>관광특구</td>\n",
       "      <td>1533259.5</td>\n",
       "      <td>750364.5</td>\n",
       "      <td>782895.0</td>\n",
       "      <td>143798.5</td>\n",
       "      <td>340689.5</td>\n",
       "      <td>343638.5</td>\n",
       "      <td>249110.5</td>\n",
       "      <td>...</td>\n",
       "      <td>98559.0</td>\n",
       "      <td>78759.0</td>\n",
       "      <td>59314.0</td>\n",
       "      <td>54749.0</td>\n",
       "      <td>51631.0</td>\n",
       "      <td>31227.5</td>\n",
       "      <td>24.0</td>\n",
       "      <td>140.0</td>\n",
       "      <td>1.0</td>\n",
       "      <td>1.0</td>\n",
       "    </tr>\n",
       "    <tr>\n",
       "      <th>4</th>\n",
       "      <td>2.0</td>\n",
       "      <td>동대문패션타운 관광특구</td>\n",
       "      <td>관광특구</td>\n",
       "      <td>3262023.0</td>\n",
       "      <td>1588974.0</td>\n",
       "      <td>1673049.0</td>\n",
       "      <td>106459.0</td>\n",
       "      <td>612378.0</td>\n",
       "      <td>845244.0</td>\n",
       "      <td>657147.0</td>\n",
       "      <td>...</td>\n",
       "      <td>131072.0</td>\n",
       "      <td>110298.0</td>\n",
       "      <td>90399.0</td>\n",
       "      <td>84175.0</td>\n",
       "      <td>71067.0</td>\n",
       "      <td>59202.0</td>\n",
       "      <td>19.0</td>\n",
       "      <td>114.0</td>\n",
       "      <td>1.0</td>\n",
       "      <td>0.0</td>\n",
       "    </tr>\n",
       "  </tbody>\n",
       "</table>\n",
       "<p>5 rows × 685 columns</p>\n",
       "</div>"
      ],
      "text/plain": [
       "   기준_분기_코드 matching_상권_코드_명 상권_구분_코드_명_x   총_생활인구_수  남성_생활인구_수  여성_생활인구_수  \\\n",
       "0       2.0              코엑스         발달상권    90544.0    46022.0    44522.0   \n",
       "1       1.0              코엑스         발달상권    48906.0    24692.0    24214.0   \n",
       "2       2.0          잠실 관광특구         관광특구  3026454.0  1479790.0  1546665.0   \n",
       "3       1.0          잠실 관광특구         관광특구  1533259.5   750364.5   782895.0   \n",
       "4       2.0     동대문패션타운 관광특구         관광특구  3262023.0  1588974.0  1673049.0   \n",
       "\n",
       "   연령대_10_생활인구_수  연령대_20_생활인구_수  연령대_30_생활인구_수  연령대_40_생활인구_수  ...   18시총승객수  \\\n",
       "0         4560.0        20323.0        26443.0        19121.0  ...  124375.0   \n",
       "1         2970.0        11272.5        13689.5        10139.5  ...   46746.0   \n",
       "2       255317.0       681334.0       701941.0       495230.0  ...  278260.0   \n",
       "3       143798.5       340689.5       343638.5       249110.5  ...   98559.0   \n",
       "4       106459.0       612378.0       845244.0       657147.0  ...  131072.0   \n",
       "\n",
       "    19시총승객수   20시총승객수   21시총승객수   22시총승객수  23시총승객수  버스정류장 수   확진자수  선별진료소 수  \\\n",
       "0   94556.0   74366.0   62425.0   50758.0  24553.0     10.0    0.0      0.0   \n",
       "1   35292.0   26961.5   22938.5   18948.5   8777.0     10.0    6.0      0.0   \n",
       "2  217631.0  172048.0  156635.0  147175.0  89409.0     24.0  131.0      1.0   \n",
       "3   78759.0   59314.0   54749.0   51631.0  31227.5     24.0  140.0      1.0   \n",
       "4  110298.0   90399.0   84175.0   71067.0  59202.0     19.0  114.0      1.0   \n",
       "\n",
       "   임시선별소 수  \n",
       "0      1.0  \n",
       "1      1.0  \n",
       "2      1.0  \n",
       "3      1.0  \n",
       "4      0.0  \n",
       "\n",
       "[5 rows x 685 columns]"
      ]
     },
     "execution_count": 91,
     "metadata": {},
     "output_type": "execute_result"
    }
   ],
   "source": [
    "df = pd.read_csv('./data/final_result.csv', index_col=0)\n",
    "df.head()"
   ]
  },
  {
   "cell_type": "code",
   "execution_count": 92,
   "id": "4b51ab43",
   "metadata": {
    "id": "4b51ab43",
    "outputId": "2d4eaea2-2606-4472-c711-1b8fee73b273"
   },
   "outputs": [
    {
     "name": "stdout",
     "output_type": "stream",
     "text": [
      "<class 'pandas.core.frame.DataFrame'>\n",
      "Int64Index: 550 entries, 0 to 549\n",
      "Columns: 685 entries, 기준_분기_코드 to 임시선별소 수\n",
      "dtypes: float64(683), object(2)\n",
      "memory usage: 2.9+ MB\n"
     ]
    }
   ],
   "source": [
    "df.info()"
   ]
  },
  {
   "cell_type": "code",
   "execution_count": 93,
   "id": "55bb2b80",
   "metadata": {
    "id": "55bb2b80",
    "outputId": "75a9c555-9b67-4a5d-f8a5-54daa52f714a"
   },
   "outputs": [
    {
     "data": {
      "text/plain": [
       "0"
      ]
     },
     "execution_count": 93,
     "metadata": {},
     "output_type": "execute_result"
    }
   ],
   "source": [
    "df.isnull().sum().sum()"
   ]
  },
  {
   "cell_type": "markdown",
   "id": "0af888c1",
   "metadata": {
    "id": "0af888c1"
   },
   "source": [
    "####  target 값의 분포"
   ]
  },
  {
   "cell_type": "code",
   "execution_count": 94,
   "id": "5ef680a5",
   "metadata": {
    "id": "5ef680a5",
    "outputId": "3f4277f6-41da-4cd6-8c24-5ac68d94ad20",
    "scrolled": true
   },
   "outputs": [
    {
     "data": {
      "text/plain": [
       "(array([435.,  62.,  17.,  12.,  10.,   5.,   1.,   5.,   0.,   3.]),\n",
       " array([  0. ,  32.7,  65.4,  98.1, 130.8, 163.5, 196.2, 228.9, 261.6,\n",
       "        294.3, 327. ]),\n",
       " <BarContainer object of 10 artists>)"
      ]
     },
     "execution_count": 94,
     "metadata": {},
     "output_type": "execute_result"
    },
    {
     "data": {
      "image/png": "[encoded data removed]",
      "text/plain": [
       "<Figure size 432x288 with 1 Axes>"
      ]
     },
     "metadata": {
      "needs_background": "light"
     },
     "output_type": "display_data"
    }
   ],
   "source": [
    "plt.hist(df['확진자수'])"
   ]
  },
  {
   "cell_type": "code",
   "execution_count": 95,
   "id": "a2891d61",
   "metadata": {
    "id": "a2891d61",
    "outputId": "6cdbfadb-6627-41d7-a098-82f27908b6a1"
   },
   "outputs": [
    {
     "data": {
      "text/plain": [
       "(array([226.,   3.,   0.,  56.,  53.,  96.,  56.,  24.,  26.,  10.]),\n",
       " array([0.        , 0.57930136, 1.15860272, 1.73790408, 2.31720544,\n",
       "        2.8965068 , 3.47580817, 4.05510953, 4.63441089, 5.21371225,\n",
       "        5.79301361]),\n",
       " <BarContainer object of 10 artists>)"
      ]
     },
     "execution_count": 95,
     "metadata": {},
     "output_type": "execute_result"
    },
    {
     "data": {
      "image/png": "[encoded data removed]",
      "text/plain": [
       "<Figure size 432x288 with 1 Axes>"
      ]
     },
     "metadata": {
      "needs_background": "light"
     },
     "output_type": "display_data"
    }
   ],
   "source": [
    "# value가 0일 때 np.log쓰면 inf 값 갖는다. ==> np.logp1써줘야\n",
    "plt.hist(np.log1p(df['확진자수']))"
   ]
  },
  {
   "cell_type": "code",
   "execution_count": 96,
   "id": "7a0ba0ca",
   "metadata": {
    "id": "7a0ba0ca",
    "outputId": "4e53641b-d029-4332-e274-d75b5a0c8826"
   },
   "outputs": [
    {
     "data": {
      "text/plain": [
       "(550, 685)"
      ]
     },
     "execution_count": 96,
     "metadata": {},
     "output_type": "execute_result"
    }
   ],
   "source": [
    "df.shape"
   ]
  },
  {
   "cell_type": "code",
   "execution_count": 97,
   "id": "3226e5cc",
   "metadata": {
    "id": "3226e5cc",
    "outputId": "7a0edbec-6f48-4785-ebb5-cfbb2bfc2d58"
   },
   "outputs": [
    {
     "data": {
      "text/plain": [
       "(550, 962)"
      ]
     },
     "execution_count": 97,
     "metadata": {},
     "output_type": "execute_result"
    }
   ],
   "source": [
    "pd.get_dummies(df).shape"
   ]
  },
  {
   "cell_type": "code",
   "execution_count": 98,
   "id": "fbfbaccb",
   "metadata": {
    "id": "fbfbaccb"
   },
   "outputs": [],
   "source": [
    "df = pd.get_dummies(df)"
   ]
  },
  {
   "cell_type": "code",
   "execution_count": 99,
   "id": "9b7737c7",
   "metadata": {
    "id": "9b7737c7"
   },
   "outputs": [],
   "source": [
    "y = df['확진자수']"
   ]
  },
  {
   "cell_type": "code",
   "execution_count": 100,
   "id": "922f0992",
   "metadata": {
    "id": "922f0992"
   },
   "outputs": [],
   "source": [
    "# y = np.log1p(df['확진자수'])"
   ]
  },
  {
   "cell_type": "code",
   "execution_count": 101,
   "id": "87501fb0",
   "metadata": {
    "id": "87501fb0"
   },
   "outputs": [],
   "source": [
    "x = df.drop('확진자수', axis=1)"
   ]
  },
  {
   "cell_type": "code",
   "execution_count": null,
   "id": "51ae6e27",
   "metadata": {
    "id": "51ae6e27"
   },
   "outputs": [],
   "source": []
  },
  {
   "cell_type": "code",
   "execution_count": 102,
   "id": "eb024308",
   "metadata": {
    "id": "eb024308"
   },
   "outputs": [],
   "source": [
    "from sklearn.model_selection import train_test_split"
   ]
  },
  {
   "cell_type": "code",
   "execution_count": 103,
   "id": "3323a302",
   "metadata": {
    "id": "3323a302"
   },
   "outputs": [],
   "source": [
    "x_train, x_test, y_train, y_test = train_test_split(x,y, random_state=42)"
   ]
  },
  {
   "cell_type": "code",
   "execution_count": 105,
   "id": "adc2c4e6",
   "metadata": {
    "id": "adc2c4e6"
   },
   "outputs": [],
   "source": [
    "from sklearn.preprocessing import MinMaxScaler, StandardScaler"
   ]
  },
  {
   "cell_type": "code",
   "execution_count": 106,
   "id": "73e89273",
   "metadata": {
    "id": "73e89273"
   },
   "outputs": [],
   "source": [
    "# scaler = StandardScaler()\n",
    "# scaler.fit(x_train)\n",
    "\n",
    "# x_train_stan = scaler.transform(x_train)\n",
    "# x_test_stan = scaler.transform(x_test)"
   ]
  },
  {
   "cell_type": "code",
   "execution_count": 107,
   "id": "3efc1be5",
   "metadata": {
    "id": "3efc1be5"
   },
   "outputs": [],
   "source": [
    "# scaler = MinMaxScaler()\n",
    "# scaler.fit(x_train)\n",
    "\n",
    "# x_train_min = scaler.transform(x_train)\n",
    "# x_test_min = scaler.transform(x_test)\n"
   ]
  },
  {
   "cell_type": "markdown",
   "id": "2f7cc085",
   "metadata": {},
   "source": [
    "#### import model"
   ]
  },
  {
   "cell_type": "code",
   "execution_count": 109,
   "id": "ce1ea0e0",
   "metadata": {
    "id": "ce1ea0e0"
   },
   "outputs": [],
   "source": [
    "from sklearn.linear_model import LinearRegression\n",
    "from sklearn.linear_model import Ridge\n",
    "from sklearn.linear_model import Lasso\n",
    "# from sklearn.linear_model import ElasticNet\n",
    "from sklearn.neighbors import KNeighborsRegressor\n",
    "from sklearn.tree import DecisionTreeRegressor\n",
    "from sklearn.svm import LinearSVR, SVR"
   ]
  },
  {
   "cell_type": "code",
   "execution_count": 110,
   "id": "ff12ff07",
   "metadata": {
    "id": "ff12ff07"
   },
   "outputs": [],
   "source": [
    "from sklearn.ensemble import ExtraTreesRegressor\n",
    "from sklearn.ensemble import RandomForestRegressor\n",
    "from sklearn.ensemble import GradientBoostingRegressor\n",
    "from sklearn.ensemble import AdaBoostRegressor\n",
    "from xgboost import XGBRegressor\n",
    "from lightgbm import LGBMRegressor"
   ]
  },
  {
   "cell_type": "code",
   "execution_count": 111,
   "id": "2acdb428",
   "metadata": {
    "id": "2acdb428"
   },
   "outputs": [],
   "source": [
    "sv = SVR()\n",
    "lsv=LinearSVR()\n",
    "lr = LinearRegression()\n",
    "ridge = Ridge(random_state=42)\n",
    "lasso =  Lasso(random_state=42)\n",
    "kn = KNeighborsRegressor()\n",
    "dtr = DecisionTreeRegressor(random_state=42)\n",
    "etr = ExtraTreesRegressor(random_state=42)\n",
    "rfr = RandomForestRegressor(random_state=42)\n",
    "gbr = GradientBoostingRegressor(random_state=42)\n",
    "abr = AdaBoostRegressor(random_state=42)\n",
    "xgb = XGBRegressor(random_state=42)\n",
    "lgb = LGBMRegressor(random_state=42)"
   ]
  },
  {
   "cell_type": "code",
   "execution_count": null,
   "id": "05a9f6fc",
   "metadata": {
    "id": "05a9f6fc"
   },
   "outputs": [],
   "source": []
  },
  {
   "cell_type": "markdown",
   "id": "c683e62b",
   "metadata": {
    "id": "c683e62b"
   },
   "source": [
    "### y = np.log1p(df['확진자수'])"
   ]
  },
  {
   "cell_type": "code",
   "execution_count": 112,
   "id": "c2fc36fb",
   "metadata": {
    "id": "c2fc36fb"
   },
   "outputs": [],
   "source": [
    "df = pd.read_csv('./data/final_result.csv', index_col=0)\n",
    "df = pd.get_dummies(df)\n",
    "y = np.log1p(df['확진자수'])\n",
    "x = df.drop('확진자수', axis=1)\n",
    "x_train, x_test, y_train, y_test = train_test_split(x,y, random_state=42)"
   ]
  },
  {
   "cell_type": "markdown",
   "id": "2e45f9dc",
   "metadata": {
    "id": "2e45f9dc"
   },
   "source": [
    "#### raw값"
   ]
  },
  {
   "cell_type": "code",
   "execution_count": null,
   "id": "ca92b21b",
   "metadata": {
    "collapsed": true,
    "id": "ca92b21b",
    "outputId": "b74a9739-d491-4d64-a156-5b3a7c33ae36"
   },
   "outputs": [
    {
     "name": "stdout",
     "output_type": "stream",
     "text": [
      "SVR\n",
      "0.046837481354253585\n",
      "-0.10154987215955558\n",
      "\n",
      "LinearSVR\n",
      "-1.2601982671528695\n",
      "-0.9878241272950372\n",
      "\n",
      "LinearRegression\n",
      "1.0\n",
      "-21.978437229066493\n",
      "\n",
      "Ridge\n",
      "0.2866485662049618\n",
      "-1.6908390023124835\n",
      "\n",
      "Lasso\n",
      "0.465507301414796\n",
      "-1.0112975516102738\n",
      "\n",
      "KNeighborsRegressor\n",
      "0.22824008944539576\n",
      "-0.1335217977410923\n",
      "\n",
      "DecisionTreeRegressor\n",
      "1.0\n",
      "-0.7645105461445303\n",
      "\n",
      "RandomForestRegressor\n",
      "0.8514726939867492\n",
      "0.05017356975583498\n",
      "\n",
      "ExtraTreesRegressor\n",
      "1.0\n",
      "0.04657442866831529\n",
      "\n",
      "GradientBoostingRegressor\n",
      "0.8760367631029805\n",
      "-0.05943055273019593\n",
      "\n",
      "AdaBoostRegressor\n",
      "0.3253611453835623\n",
      "0.014226123727263063\n",
      "\n",
      "XGBRegressor\n",
      "0.6958240218538481\n",
      "-0.07721248594698271\n",
      "\n",
      "LGBMRegressor\n",
      "0.9909469380269706\n",
      "-0.10396819548033442\n",
      "\n"
     ]
    }
   ],
   "source": [
    "models = [sv,lsv,lr, ridge, lasso, kn, dtr, rfr,etr, gbr, abr, xgb, lgb ]\n",
    "\n",
    "for m in models :\n",
    "    m.fit(x_train,y_train)\n",
    "    print(m.__class__.__name__)\n",
    "    print(m.score(x_train, y_train))\n",
    "#     print(m.score(x_valid, y_valid))\n",
    "    print(m.score(x_test,y_test))\n",
    "    print()"
   ]
  },
  {
   "cell_type": "markdown",
   "id": "5c5985e7",
   "metadata": {
    "id": "5c5985e7"
   },
   "source": [
    "#### StandardScaler"
   ]
  },
  {
   "cell_type": "code",
   "execution_count": 113,
   "id": "cf222447",
   "metadata": {
    "collapsed": true,
    "id": "cf222447",
    "outputId": "c1cc37f2-df38-4b7d-b725-d3f8f6ca3263"
   },
   "outputs": [
    {
     "name": "stdout",
     "output_type": "stream",
     "text": [
      "SVR\n",
      "0.30947269254513055\n",
      "-0.37561961989472414\n",
      "\n",
      "LinearSVR\n",
      "0.6211578143567102\n",
      "-7.480859585120113\n",
      "\n",
      "LinearRegression\n",
      "1.0\n",
      "-25.492525892965773\n",
      "\n",
      "Ridge\n",
      "0.8341900285269841\n",
      "-5.862050250505336\n",
      "\n",
      "Lasso\n",
      "0.0\n",
      "-0.03962675265502158\n",
      "\n",
      "KNeighborsRegressor\n",
      "0.164277862780275\n",
      "-0.1452336021347702\n",
      "\n",
      "DecisionTreeRegressor\n",
      "1.0\n",
      "-0.7645105461445303\n",
      "\n",
      "RandomForestRegressor\n",
      "0.8515138443901793\n",
      "0.049761322235658656\n",
      "\n",
      "ExtraTreesRegressor\n",
      "1.0\n",
      "0.04655870855485178\n",
      "\n",
      "GradientBoostingRegressor\n",
      "0.8760367631029805\n",
      "-0.05943055273019593\n",
      "\n",
      "AdaBoostRegressor\n",
      "0.3253611453835623\n",
      "0.014226123727263063\n",
      "\n",
      "XGBRegressor\n",
      "0.9999999162975756\n",
      "-0.14107492163615287\n",
      "\n",
      "LGBMRegressor\n",
      "0.9904275578208057\n",
      "-0.1008870155402466\n",
      "\n"
     ]
    }
   ],
   "source": [
    "scaler = StandardScaler()\n",
    "scaler.fit(x_train)\n",
    "\n",
    "x_train_stan = scaler.transform(x_train)\n",
    "x_test_stan = scaler.transform(x_test)\n",
    "\n",
    "models = [sv,lsv,lr, ridge, lasso, kn, dtr, rfr,etr, gbr, abr, xgb, lgb ]\n",
    "\n",
    "for m in models :\n",
    "    m.fit(x_train_stan,y_train)\n",
    "    print(m.__class__.__name__)\n",
    "    print(m.score(x_train_stan, y_train))\n",
    "#     print(m.score(x_valid, y_valid))\n",
    "    print(m.score(x_test_stan,y_test))\n",
    "    print()"
   ]
  },
  {
   "cell_type": "markdown",
   "id": "8739a656",
   "metadata": {
    "id": "8739a656"
   },
   "source": [
    "#### MinMaxScaler"
   ]
  },
  {
   "cell_type": "code",
   "execution_count": 114,
   "id": "15714f8d",
   "metadata": {
    "collapsed": true,
    "id": "15714f8d",
    "outputId": "b5a4f590-52c1-467b-ee6a-c33d8b69dfe1"
   },
   "outputs": [
    {
     "name": "stdout",
     "output_type": "stream",
     "text": [
      "SVR\n",
      "0.17999268225589715\n",
      "-0.1670131659875449\n",
      "\n",
      "LinearSVR\n",
      "0.3482847341859736\n",
      "-1.0702511501603658\n",
      "\n",
      "LinearRegression\n",
      "1.0\n",
      "-22.001291251765824\n",
      "\n",
      "Ridge\n",
      "0.4904125397149842\n",
      "-0.7501815591812442\n",
      "\n",
      "Lasso\n",
      "0.0\n",
      "-0.03962675265502158\n",
      "\n",
      "KNeighborsRegressor\n",
      "0.23372634438436457\n",
      "-0.23938488292973137\n",
      "\n",
      "DecisionTreeRegressor\n",
      "1.0\n",
      "-0.7753716453344408\n",
      "\n",
      "RandomForestRegressor\n",
      "0.8515484046464304\n",
      "0.04955075770678996\n",
      "\n",
      "ExtraTreesRegressor\n",
      "1.0\n",
      "0.04657442866831529\n",
      "\n",
      "GradientBoostingRegressor\n",
      "0.8760367631029805\n",
      "-0.05943055273019593\n",
      "\n",
      "AdaBoostRegressor\n",
      "0.32633593572666086\n",
      "0.02168018584198872\n",
      "\n",
      "XGBRegressor\n",
      "0.9999999162975756\n",
      "-0.13809106862050835\n",
      "\n",
      "LGBMRegressor\n",
      "0.990397349670915\n",
      "-0.07932623254392213\n",
      "\n"
     ]
    }
   ],
   "source": [
    "scaler = MinMaxScaler()\n",
    "scaler.fit(x_train)\n",
    "\n",
    "x_train_min = scaler.transform(x_train)\n",
    "x_test_min = scaler.transform(x_test)\n",
    "\n",
    "models = [sv,lsv,lr, ridge, lasso, kn, dtr, rfr,etr, gbr, abr, xgb, lgb ]\n",
    "\n",
    "\n",
    "for m in models :\n",
    "    m.fit(x_train_min,y_train)\n",
    "    print(m.__class__.__name__)\n",
    "    print(m.score(x_train_min, y_train))\n",
    "#     print(m.score(x_valid, y_valid))\n",
    "    print(m.score(x_test_min,y_test))\n",
    "    print()"
   ]
  },
  {
   "cell_type": "code",
   "execution_count": null,
   "id": "adbcc089",
   "metadata": {
    "id": "adbcc089"
   },
   "outputs": [],
   "source": []
  },
  {
   "cell_type": "code",
   "execution_count": null,
   "id": "16b963f1",
   "metadata": {},
   "outputs": [],
   "source": []
  },
  {
   "cell_type": "markdown",
   "id": "5ae19bfd",
   "metadata": {
    "id": "5ae19bfd"
   },
   "source": [
    "### y = df['확진자수']"
   ]
  },
  {
   "cell_type": "code",
   "execution_count": 116,
   "id": "54312d36",
   "metadata": {
    "id": "54312d36"
   },
   "outputs": [],
   "source": [
    "df = pd.read_csv('./data/final_result.csv', index_col=0)\n",
    "df = pd.get_dummies(df)\n",
    "y = df['확진자수']\n",
    "x = df.drop('확진자수', axis=1)\n",
    "x_train, x_test, y_train, y_test = train_test_split(x,y, random_state=42)\n"
   ]
  },
  {
   "cell_type": "markdown",
   "id": "6c888a9e",
   "metadata": {
    "id": "6c888a9e"
   },
   "source": [
    "#### raw값"
   ]
  },
  {
   "cell_type": "code",
   "execution_count": 117,
   "id": "523606bf",
   "metadata": {
    "collapsed": true,
    "id": "523606bf",
    "outputId": "bf3bb9fa-9db2-4894-8029-a5df1a5964c4"
   },
   "outputs": [
    {
     "name": "stdout",
     "output_type": "stream",
     "text": [
      "SVR\n",
      "-0.1177650155193759\n",
      "-0.04685830624904508\n",
      "\n",
      "LinearSVR\n",
      "-0.3391107405972069\n",
      "-0.19827004280249305\n",
      "\n",
      "LinearRegression\n",
      "1.0\n",
      "-19.973374831226593\n",
      "\n",
      "Ridge\n",
      "0.5893823454165998\n",
      "-0.7218079482831872\n",
      "\n",
      "Lasso\n",
      "0.7350914127725774\n",
      "-0.42175506388630524\n",
      "\n",
      "KNeighborsRegressor\n",
      "0.3071114734442322\n",
      "0.03621101107718294\n",
      "\n",
      "DecisionTreeRegressor\n",
      "1.0\n",
      "-0.07658024829660715\n",
      "\n",
      "RandomForestRegressor\n",
      "0.869981727977012\n",
      "0.36484916749206675\n",
      "\n",
      "ExtraTreesRegressor\n",
      "1.0\n",
      "0.1853000019243929\n",
      "\n",
      "GradientBoostingRegressor\n",
      "0.9098341034617643\n",
      "0.2831374984705415\n",
      "\n",
      "AdaBoostRegressor\n",
      "0.5843598082696371\n",
      "0.04367791720100178\n",
      "\n",
      "XGBRegressor\n",
      "0.9999999443241604\n",
      "0.07986878611622494\n",
      "\n",
      "LGBMRegressor\n",
      "0.9480753926610712\n",
      "0.11118095077693413\n",
      "\n"
     ]
    }
   ],
   "source": [
    "# RandomForestRegressor부터 조금 개선\n",
    "\n",
    "models = [sv,lsv,lr, ridge, lasso, kn, dtr, rfr,etr, gbr, abr, xgb, lgb ]\n",
    "\n",
    "for m in models :\n",
    "    m.fit(x_train,y_train)\n",
    "    print(m.__class__.__name__)\n",
    "    print(m.score(x_train, y_train))\n",
    "#     print(m.score(x_valid, y_valid))\n",
    "    print(m.score(x_test,y_test))\n",
    "    print()"
   ]
  },
  {
   "cell_type": "markdown",
   "id": "019cdde9",
   "metadata": {
    "id": "019cdde9"
   },
   "source": [
    "#### StandardScaler()"
   ]
  },
  {
   "cell_type": "code",
   "execution_count": null,
   "id": "f0c479bf",
   "metadata": {
    "collapsed": true,
    "id": "f0c479bf",
    "outputId": "2e14e744-cd01-467e-b638-3da453f5c014"
   },
   "outputs": [
    {
     "name": "stdout",
     "output_type": "stream",
     "text": [
      "SVR\n",
      "-0.09161929570490934\n",
      "-0.02967300533775674\n",
      "\n",
      "LinearSVR\n",
      "0.6532817186899869\n",
      "-0.4301422256034557\n",
      "\n",
      "LinearRegression\n",
      "1.0\n",
      "-4.314460843093612\n",
      "\n",
      "Ridge\n",
      "0.9507599600462092\n",
      "-1.704527833145292\n",
      "\n",
      "Lasso\n",
      "0.6992280980253173\n",
      "0.08922550071395585\n",
      "\n",
      "KNeighborsRegressor\n",
      "0.30614572034598164\n",
      "0.24114808952697642\n",
      "\n",
      "DecisionTreeRegressor\n",
      "1.0\n",
      "-0.07658024829660715\n",
      "\n",
      "RandomForestRegressor\n",
      "0.8700360356398275\n",
      "0.3663546727921888\n",
      "\n",
      "GradientBoostingRegressor\n",
      "0.9098341034617643\n",
      "0.2831374984705415\n",
      "\n",
      "AdaBoostRegressor\n",
      "0.5414475740023772\n",
      "-0.019045138060258093\n",
      "\n",
      "XGBRegressor\n",
      "0.9999999443241604\n",
      "0.07985078952401148\n",
      "\n",
      "LGBMRegressor\n",
      "0.941670844835743\n",
      "0.12617622475490986\n",
      "\n"
     ]
    }
   ],
   "source": [
    "# 조금개선 but 큰 차이 없다.\n",
    "\n",
    "scaler = StandardScaler()\n",
    "scaler.fit(x_train)\n",
    "\n",
    "x_train_stan = scaler.transform(x_train)\n",
    "x_test_stan = scaler.transform(x_test)\n",
    "models = [sv,lsv,lr, ridge, lasso, kn, dtr, rfr,etr, gbr, abr, xgb, lgb ]\n",
    "\n",
    "for m in models :\n",
    "    m.fit(x_train_stan,y_train)\n",
    "    print(m.__class__.__name__)\n",
    "    print(m.score(x_train_stan, y_train))\n",
    "#     print(m.score(x_valid, y_valid))\n",
    "    print(m.score(x_test_stan,y_test))\n",
    "    print()"
   ]
  },
  {
   "cell_type": "markdown",
   "id": "8cb29e32",
   "metadata": {
    "id": "8cb29e32"
   },
   "source": [
    "#### MinMaxScaler"
   ]
  },
  {
   "cell_type": "code",
   "execution_count": null,
   "id": "c0444d02",
   "metadata": {
    "collapsed": true,
    "id": "c0444d02",
    "outputId": "898111ce-3b14-4dba-9ef0-23dd73fc42a3"
   },
   "outputs": [
    {
     "name": "stdout",
     "output_type": "stream",
     "text": [
      "SVR\n",
      "-0.10180570560489222\n",
      "-0.035921905592223746\n",
      "\n",
      "LinearSVR\n",
      "0.1265520102272235\n",
      "0.220713537660729\n",
      "\n",
      "LinearRegression\n",
      "1.0\n",
      "-3.4805509574027926\n",
      "\n",
      "Ridge\n",
      "0.7348622123211772\n",
      "0.06193703814346674\n",
      "\n",
      "Lasso\n",
      "0.19113927952664034\n",
      "0.2475684213471323\n",
      "\n",
      "KNeighborsRegressor\n",
      "0.3387421028676353\n",
      "0.23890600643534754\n",
      "\n",
      "DecisionTreeRegressor\n",
      "1.0\n",
      "-0.07658024829660715\n",
      "\n",
      "RandomForestRegressor\n",
      "0.8700359049163418\n",
      "0.3649017721829271\n",
      "\n",
      "GradientBoostingRegressor\n",
      "0.9098341034617643\n",
      "0.2831374984705415\n",
      "\n",
      "AdaBoostRegressor\n",
      "0.5414475740023772\n",
      "-0.017956546479337643\n",
      "\n",
      "XGBRegressor\n",
      "0.9999999443241604\n",
      "0.07983290820333011\n",
      "\n",
      "LGBMRegressor\n",
      "0.9508040316814171\n",
      "0.12160961764963141\n",
      "\n"
     ]
    }
   ],
   "source": [
    "# StandardScaler와 유사\n",
    "\n",
    "scaler = MinMaxScaler()\n",
    "scaler.fit(x_train)\n",
    "\n",
    "x_train_min = scaler.transform(x_train)\n",
    "x_test_min = scaler.transform(x_test)\n",
    "\n",
    "\n",
    "models = [sv,lsv,lr, ridge, lasso, kn, dtr, rfr,etr, gbr, abr, xgb, lgb ]\n",
    "\n",
    "\n",
    "for m in models :\n",
    "    m.fit(x_train_min,y_train)\n",
    "    print(m.__class__.__name__)\n",
    "    print(m.score(x_train_min, y_train))\n",
    "#     print(m.score(x_valid, y_valid))\n",
    "    print(m.score(x_test_min,y_test))\n",
    "    print()\n",
    "# ridge lasso"
   ]
  },
  {
   "cell_type": "code",
   "execution_count": null,
   "id": "43c02fdc",
   "metadata": {
    "id": "43c02fdc"
   },
   "outputs": [],
   "source": []
  },
  {
   "cell_type": "markdown",
   "id": "4c710aab",
   "metadata": {
    "id": "4c710aab"
   },
   "source": [
    "### 분기를 dummy로\n"
   ]
  },
  {
   "cell_type": "code",
   "execution_count": 25,
   "id": "17ae81d6",
   "metadata": {
    "id": "17ae81d6"
   },
   "outputs": [],
   "source": [
    "df = pd.read_csv('./data/final_result.csv', index_col=0)\n",
    "df['기준_분기_코드'] = df['기준_분기_코드'].apply(lambda x : str(x)+'분기')\n",
    "df = pd.get_dummies(df)\n",
    "y = df['확진자수']\n",
    "x = df.drop('확진자수', axis=1)\n",
    "x_train, x_test, y_train, y_test = train_test_split(x,y, random_state=42)"
   ]
  },
  {
   "cell_type": "markdown",
   "id": "1458512a",
   "metadata": {
    "id": "9172d115"
   },
   "source": [
    "#### raw"
   ]
  },
  {
   "cell_type": "code",
   "execution_count": 26,
   "id": "a8db8f9a",
   "metadata": {
    "collapsed": true,
    "id": "a8db8f9a",
    "outputId": "8fa93c1e-a757-4b0f-e09f-16ad519603ef"
   },
   "outputs": [
    {
     "name": "stdout",
     "output_type": "stream",
     "text": [
      "SVR\n",
      "-0.11776502287928792\n",
      "-0.046858301266591296\n",
      "\n",
      "LinearSVR\n",
      "-0.3391107405972069\n",
      "-0.19827004280249305\n",
      "\n",
      "LinearRegression\n",
      "1.0\n",
      "-19.968681691026603\n",
      "\n",
      "Ridge\n",
      "0.5747360523327052\n",
      "-0.9127210816320297\n",
      "\n",
      "Lasso\n",
      "0.7350915060444312\n",
      "-0.4217535300946522\n",
      "\n",
      "KNeighborsRegressor\n",
      "0.3071114734442322\n",
      "0.03621101107718294\n",
      "\n",
      "DecisionTreeRegressor\n",
      "1.0\n",
      "-0.13441552247546817\n",
      "\n",
      "RandomForestRegressor\n",
      "0.8687337992455182\n",
      "0.37144211705966057\n",
      "\n",
      "ExtraTreesRegressor\n",
      "1.0\n",
      "0.18584435721392267\n",
      "\n",
      "GradientBoostingRegressor\n",
      "0.9098341034617643\n",
      "0.28883890601728757\n",
      "\n",
      "AdaBoostRegressor\n",
      "0.5083718193675437\n",
      "-0.024529516835490872\n",
      "\n",
      "XGBRegressor\n",
      "0.9999999443241604\n",
      "0.08745775187102756\n",
      "\n",
      "LGBMRegressor\n",
      "0.9480753926610712\n",
      "0.11118095077693413\n",
      "\n"
     ]
    }
   ],
   "source": [
    "x_train, x_test, y_train, y_test = train_test_split(x,y, random_state=42)\n",
    "models = [sv,lsv,lr, ridge, lasso, kn, dtr, rfr,etr, gbr, abr, xgb, lgb ]\n",
    "\n",
    "for m in models :\n",
    "    m.fit(x_train,y_train)\n",
    "    print(m.__class__.__name__)\n",
    "    print(m.score(x_train, y_train))\n",
    "#     print(m.score(x_valid, y_valid))\n",
    "    print(m.score(x_test,y_test))\n",
    "    print()"
   ]
  },
  {
   "cell_type": "markdown",
   "id": "5866b0f0",
   "metadata": {},
   "source": [
    "#### StandardScaler"
   ]
  },
  {
   "cell_type": "code",
   "execution_count": null,
   "id": "5599a21f",
   "metadata": {
    "collapsed": true,
    "id": "5599a21f",
    "outputId": "c37623df-0470-444a-e432-8be23f37a336"
   },
   "outputs": [
    {
     "name": "stdout",
     "output_type": "stream",
     "text": [
      "SVR\n",
      "-0.09181792101282338\n",
      "-0.029720603579305616\n",
      "\n",
      "LinearSVR\n",
      "0.6526695974202372\n",
      "-0.43125466812228863\n",
      "\n",
      "LinearRegression\n",
      "1.0\n",
      "-4.313969361298421\n",
      "\n",
      "Ridge\n",
      "0.9507703237992031\n",
      "-1.705553028679843\n",
      "\n",
      "Lasso\n",
      "0.699228453302002\n",
      "0.08922488415738217\n",
      "\n",
      "KNeighborsRegressor\n",
      "0.3073436903194059\n",
      "0.2455509786675214\n",
      "\n",
      "DecisionTreeRegressor\n",
      "1.0\n",
      "-0.13441552247546817\n",
      "\n",
      "RandomForestRegressor\n",
      "0.8687127366413746\n",
      "0.37234995369256074\n",
      "\n",
      "ExtraTreesRegressor\n",
      "1.0\n",
      "0.18584435721392267\n",
      "\n",
      "GradientBoostingRegressor\n",
      "0.9098341034617643\n",
      "0.28883890601728757\n",
      "\n",
      "AdaBoostRegressor\n",
      "0.5460543794577236\n",
      "0.0013918374030584824\n",
      "\n",
      "XGBRegressor\n",
      "0.9999999443241604\n",
      "0.08743975527881409\n",
      "\n",
      "LGBMRegressor\n",
      "0.941670844835743\n",
      "0.12617622475490986\n",
      "\n"
     ]
    }
   ],
   "source": [
    "scaler = StandardScaler()\n",
    "scaler.fit(x_train)\n",
    "\n",
    "x_train_stan = scaler.transform(x_train)\n",
    "x_test_stan = scaler.transform(x_test)\n",
    "\n",
    "models = [sv,lsv,lr, ridge, lasso, kn, dtr, rfr,etr, gbr, abr, xgb, lgb ]\n",
    "\n",
    "for m in models :\n",
    "    m.fit(x_train_stan,y_train)\n",
    "    print(m.__class__.__name__)\n",
    "    print(m.score(x_train_stan, y_train))\n",
    "#     print(m.score(x_valid, y_valid))\n",
    "    print(m.score(x_test_stan,y_test))\n",
    "    print()"
   ]
  },
  {
   "cell_type": "markdown",
   "id": "bff887d6",
   "metadata": {},
   "source": [
    "#### MinMaxscaler"
   ]
  },
  {
   "cell_type": "code",
   "execution_count": null,
   "id": "cd6b3d78",
   "metadata": {
    "collapsed": true,
    "id": "cd6b3d78",
    "outputId": "da48a22e-aa6d-446f-fe77-0c52f9040a0c"
   },
   "outputs": [
    {
     "name": "stdout",
     "output_type": "stream",
     "text": [
      "SVR\n",
      "-0.10274184121037755\n",
      "-0.0349646451184622\n",
      "\n",
      "LinearSVR\n",
      "0.12532814610509302\n",
      "0.21979032012694744\n",
      "\n",
      "LinearRegression\n",
      "1.0\n",
      "-3.4805282078351434\n",
      "\n",
      "Ridge\n",
      "0.7348616619979373\n",
      "0.061913934656117164\n",
      "\n",
      "Lasso\n",
      "0.1911393498619013\n",
      "0.24756832945557627\n",
      "\n",
      "KNeighborsRegressor\n",
      "0.32311541507022323\n",
      "0.26621264376102916\n",
      "\n",
      "DecisionTreeRegressor\n",
      "1.0\n",
      "-0.13441552247546817\n",
      "\n",
      "RandomForestRegressor\n",
      "0.8687456796557194\n",
      "0.3715145607725523\n",
      "\n",
      "ExtraTreesRegressor\n",
      "1.0\n",
      "0.18584435721392267\n",
      "\n",
      "GradientBoostingRegressor\n",
      "0.9098341034617643\n",
      "0.28883890601728757\n",
      "\n",
      "AdaBoostRegressor\n",
      "0.5144577620837949\n",
      "-0.033776274480278756\n",
      "\n",
      "XGBRegressor\n",
      "0.9999999443241604\n",
      "0.08742187395813272\n",
      "\n",
      "LGBMRegressor\n",
      "0.9508040316814171\n",
      "0.12160961764963141\n",
      "\n"
     ]
    }
   ],
   "source": [
    "scaler = MinMaxScaler()\n",
    "scaler.fit(x_train)\n",
    "\n",
    "x_train_min = scaler.transform(x_train)\n",
    "x_test_min = scaler.transform(x_test)\n",
    "\n",
    "\n",
    "models = [sv,lsv,lr, ridge, lasso, kn, dtr, rfr,etr, gbr, abr, xgb, lgb ]\n",
    "\n",
    "\n",
    "for m in models :\n",
    "    m.fit(x_train_min,y_train)\n",
    "    print(m.__class__.__name__)\n",
    "    print(m.score(x_train_min, y_train))\n",
    "#     print(m.score(x_valid, y_valid))\n",
    "    print(m.score(x_test_min,y_test))\n",
    "    print()"
   ]
  },
  {
   "cell_type": "code",
   "execution_count": null,
   "id": "5cab80fb",
   "metadata": {
    "id": "5cab80fb"
   },
   "outputs": [],
   "source": []
  },
  {
   "cell_type": "code",
   "execution_count": null,
   "id": "7a2a3359",
   "metadata": {},
   "outputs": [],
   "source": []
  },
  {
   "cell_type": "markdown",
   "id": "737f5ade",
   "metadata": {
    "id": "737f5ade"
   },
   "source": [
    "## GridSearchCV\n",
    "- 위 결과 top3 모델만 선정해서\n",
    "- RandomForest, extratree, gradientboost\n",
    "- XGB도 추가로 시행"
   ]
  },
  {
   "cell_type": "markdown",
   "id": "2d63edab",
   "metadata": {},
   "source": [
    "."
   ]
  },
  {
   "cell_type": "markdown",
   "id": "bb2ef067",
   "metadata": {
    "id": "bb2ef067"
   },
   "source": [
    "## RandomForest"
   ]
  },
  {
   "cell_type": "code",
   "execution_count": null,
   "id": "05fb08a2",
   "metadata": {
    "id": "05fb08a2"
   },
   "outputs": [],
   "source": [
    "from sklearn.model_selection import GridSearchCV\n",
    "from sklearn.model_selection import KFold ,StratifiedKFold"
   ]
  },
  {
   "cell_type": "code",
   "execution_count": 27,
   "id": "eef039ea",
   "metadata": {
    "id": "eef039ea"
   },
   "outputs": [],
   "source": [
    "df = pd.read_csv('./data/final_result.csv', index_col=0)\n",
    "df['기준_분기_코드'] = df['기준_분기_코드'].apply(lambda x : str(x)+'분기')\n",
    "df = pd.get_dummies(df)\n",
    "y = df['확진자수']\n",
    "x = df.drop('확진자수', axis=1)\n",
    "x_train, x_test, y_train, y_test = train_test_split(x,y, random_state=42)"
   ]
  },
  {
   "cell_type": "code",
   "execution_count": 28,
   "id": "117f3639",
   "metadata": {
    "id": "117f3639"
   },
   "outputs": [],
   "source": [
    "scaler = StandardScaler()\n",
    "scaler.fit(x_train)\n",
    "\n",
    "x_train_stan = scaler.transform(x_train)\n",
    "x_test_stan = scaler.transform(x_test)\n"
   ]
  },
  {
   "cell_type": "markdown",
   "id": "f61ed4d6",
   "metadata": {
    "id": "f61ed4d6"
   },
   "source": [
    "### test_param_tuning"
   ]
  },
  {
   "cell_type": "code",
   "execution_count": null,
   "id": "5b1914ea",
   "metadata": {
    "id": "5b1914ea",
    "outputId": "b71477cf-2da5-4805-8e18-4889d5a27c8b"
   },
   "outputs": [
    {
     "name": "stdout",
     "output_type": "stream",
     "text": [
      "0.8687127366413746\n",
      "0.37234995369256074\n"
     ]
    }
   ],
   "source": [
    "rfr = RandomForestRegressor(random_state=42)\n",
    "rfr.fit(x_train_stan,y_train)\n",
    "print(rfr.score(x_train_stan, y_train))\n",
    "print(rfr.score(x_test_stan, y_test))"
   ]
  },
  {
   "cell_type": "code",
   "execution_count": null,
   "id": "6ed6af38",
   "metadata": {
    "id": "6ed6af38",
    "outputId": "2e9075d1-78c9-4e3c-d18c-9b03f71ca644"
   },
   "outputs": [
    {
     "name": "stdout",
     "output_type": "stream",
     "text": [
      "0.8697237399003767\n",
      "0.39336036005559116\n"
     ]
    }
   ],
   "source": [
    "rfr = RandomForestRegressor(random_state=42,n_estimators=50,min_samples_split=2,max_depth=None)\n",
    "rfr.fit(x_train_stan,y_train)\n",
    "print(rfr.score(x_train_stan, y_train))\n",
    "print(rfr.score(x_test_stan, y_test))"
   ]
  },
  {
   "cell_type": "code",
   "execution_count": null,
   "id": "00c87ad0",
   "metadata": {
    "id": "00c87ad0",
    "outputId": "526729f9-bdcd-40ca-a0c5-04d0ca241e63"
   },
   "outputs": [
    {
     "name": "stdout",
     "output_type": "stream",
     "text": [
      "0.8190835428029833\n",
      "0.3884278011454798\n"
     ]
    }
   ],
   "source": [
    "# rfr = RandomForestRegressor(random_state=42,n_estimators=50,min_samples_split=5,max_depth=None)\n",
    "# rfr.fit(x_train_stan,y_train)\n",
    "# print(rfr.score(x_train_stan, y_train))\n",
    "# print(rfr.score(x_test_stan, y_test))"
   ]
  },
  {
   "cell_type": "code",
   "execution_count": null,
   "id": "df758f44",
   "metadata": {
    "id": "df758f44",
    "outputId": "297db20a-b412-4a5c-f770-bb5b69eb5b5c"
   },
   "outputs": [
    {
     "name": "stdout",
     "output_type": "stream",
     "text": [
      "0.7691724250904901\n",
      "0.42003138551471086\n"
     ]
    }
   ],
   "source": [
    "rfr = RandomForestRegressor(random_state=42,n_estimators=50,min_samples_split=2,max_depth=10)\n",
    "rfr.fit(x_train_stan,y_train)\n",
    "print(rfr.score(x_train_stan, y_train))\n",
    "print(rfr.score(x_test_stan, y_test))"
   ]
  },
  {
   "cell_type": "code",
   "execution_count": null,
   "id": "78f544cc",
   "metadata": {
    "id": "78f544cc",
    "outputId": "9ba58a9c-d01b-46cc-8024-37a28f674068"
   },
   "outputs": [
    {
     "name": "stdout",
     "output_type": "stream",
     "text": [
      "0.7662339280551964\n",
      "0.4284552627460819\n"
     ]
    }
   ],
   "source": [
    "rfr = RandomForestRegressor(random_state=42,n_estimators=40,min_samples_split=2,max_depth=10)\n",
    "rfr.fit(x_train_stan,y_train)\n",
    "print(rfr.score(x_train_stan, y_train))\n",
    "print(rfr.score(x_test_stan, y_test))"
   ]
  },
  {
   "cell_type": "code",
   "execution_count": null,
   "id": "722c37d8",
   "metadata": {
    "id": "722c37d8",
    "outputId": "e87175bf-3cf4-4c25-e576-c84ce726f616"
   },
   "outputs": [
    {
     "name": "stdout",
     "output_type": "stream",
     "text": [
      "0.8006148773821854\n",
      "0.4064891939721752\n"
     ]
    }
   ],
   "source": [
    "# rfr = RandomForestRegressor(random_state=42,n_estimators=50,min_samples_split=2,max_depth=13)\n",
    "# rfr.fit(x_train_stan,y_train)\n",
    "# print(rfr.score(x_train_stan, y_train))\n",
    "# print(rfr.score(x_test_stan, y_test))"
   ]
  },
  {
   "cell_type": "code",
   "execution_count": 29,
   "id": "1e13b92d",
   "metadata": {
    "id": "1e13b92d",
    "outputId": "6aa3f885-9740-4dbe-a85c-14b3718d8678"
   },
   "outputs": [
    {
     "name": "stdout",
     "output_type": "stream",
     "text": [
      "0.7663297648592939\n",
      "0.4288248735428668\n"
     ]
    }
   ],
   "source": [
    "rfr = RandomForestRegressor(random_state=42,n_estimators=35,min_samples_split=2,max_depth=10)\n",
    "rfr.fit(x_train_stan,y_train)\n",
    "print(rfr.score(x_train_stan, y_train))\n",
    "print(rfr.score(x_test_stan, y_test))"
   ]
  },
  {
   "cell_type": "code",
   "execution_count": null,
   "id": "c97bbe1e",
   "metadata": {
    "id": "c97bbe1e"
   },
   "outputs": [],
   "source": []
  },
  {
   "cell_type": "code",
   "execution_count": null,
   "id": "acf64ad6",
   "metadata": {
    "id": "acf64ad6"
   },
   "outputs": [],
   "source": []
  },
  {
   "cell_type": "markdown",
   "id": "d1a325d1",
   "metadata": {
    "id": "d1a325d1"
   },
   "source": [
    "### Gridsearch  - param 고정 , KFold 차이보기"
   ]
  },
  {
   "cell_type": "markdown",
   "id": "5d80be3c",
   "metadata": {},
   "source": [
    "#### KFold = 5"
   ]
  },
  {
   "cell_type": "code",
   "execution_count": null,
   "id": "8a677c62",
   "metadata": {
    "id": "8a677c62"
   },
   "outputs": [],
   "source": [
    "cv = KFold(5, shuffle=True, random_state=42)\n",
    "params = { \n",
    "    'n_estimators': [100,200,300,400],\n",
    "    'max_depth' : [None, 2, 4,6,8],\n",
    "    'min_samples_split': [2, 3]}"
   ]
  },
  {
   "cell_type": "code",
   "execution_count": null,
   "id": "0bfd9b02",
   "metadata": {
    "id": "0bfd9b02"
   },
   "outputs": [],
   "source": [
    "grid=GridSearchCV(RandomForestRegressor(random_state=42),param_grid=params,cv=cv, refit=True, verbose=True, n_jobs=-1) "
   ]
  },
  {
   "cell_type": "code",
   "execution_count": null,
   "id": "3b18a3f4",
   "metadata": {
    "id": "3b18a3f4",
    "outputId": "29ca6de0-c186-45c4-bac8-8f44d4bf2ced",
    "scrolled": false
   },
   "outputs": [
    {
     "name": "stdout",
     "output_type": "stream",
     "text": [
      "Fitting 5 folds for each of 40 candidates, totalling 200 fits\n"
     ]
    },
    {
     "data": {
      "text/plain": [
       "GridSearchCV(cv=KFold(n_splits=5, random_state=42, shuffle=True),\n",
       "             estimator=RandomForestRegressor(random_state=42), n_jobs=-1,\n",
       "             param_grid={'max_depth': [None, 2, 4, 6, 8],\n",
       "                         'min_samples_split': [2, 3],\n",
       "                         'n_estimators': [100, 200, 300, 400]},\n",
       "             verbose=True)"
      ]
     },
     "execution_count": 244,
     "metadata": {},
     "output_type": "execute_result"
    }
   ],
   "source": [
    "grid.fit(x_train_stan,y_train)"
   ]
  },
  {
   "cell_type": "code",
   "execution_count": null,
   "id": "55d99282",
   "metadata": {
    "id": "55d99282",
    "outputId": "26eddd19-7135-4933-e07d-a4854dc5b9c8"
   },
   "outputs": [
    {
     "data": {
      "text/plain": [
       "RandomForestRegressor(max_depth=2, n_estimators=400, random_state=42)"
      ]
     },
     "execution_count": 245,
     "metadata": {},
     "output_type": "execute_result"
    }
   ],
   "source": [
    "grid.best_estimator_ "
   ]
  },
  {
   "cell_type": "code",
   "execution_count": null,
   "id": "54e9bd99",
   "metadata": {
    "id": "54e9bd99",
    "outputId": "6253adfb-fdce-48be-c0ca-5bd5f319f5af"
   },
   "outputs": [
    {
     "data": {
      "text/plain": [
       "0.0631160214034538"
      ]
     },
     "execution_count": 246,
     "metadata": {},
     "output_type": "execute_result"
    }
   ],
   "source": [
    "grid.best_score_ "
   ]
  },
  {
   "cell_type": "code",
   "execution_count": null,
   "id": "9dc27b88",
   "metadata": {
    "id": "9dc27b88",
    "outputId": "36e53e85-f8c3-4320-8189-d1dc1df3973b"
   },
   "outputs": [
    {
     "data": {
      "text/plain": [
       "0.2702142360339329"
      ]
     },
     "execution_count": 247,
     "metadata": {},
     "output_type": "execute_result"
    }
   ],
   "source": [
    "grid.score(x_test_stan,y_test)"
   ]
  },
  {
   "cell_type": "markdown",
   "id": "0cb642e7",
   "metadata": {
    "id": "e0f52df3"
   },
   "source": [
    "#### KFold = 3"
   ]
  },
  {
   "cell_type": "code",
   "execution_count": null,
   "id": "23fc096d",
   "metadata": {
    "id": "23fc096d"
   },
   "outputs": [],
   "source": [
    "cv = KFold(3, shuffle=True, random_state=42)\n",
    "params = { \n",
    "    'n_estimators': [100,200,300,400],\n",
    "    'max_depth' : [None, 2, 4,6,8],\n",
    "    'min_samples_split': [2, 4,6]}"
   ]
  },
  {
   "cell_type": "code",
   "execution_count": null,
   "id": "a77bf496",
   "metadata": {
    "id": "a77bf496"
   },
   "outputs": [],
   "source": [
    "grid=GridSearchCV(RandomForestRegressor(random_state=42),param_grid=params,cv=cv, refit=True, verbose=True, n_jobs=-1) "
   ]
  },
  {
   "cell_type": "code",
   "execution_count": null,
   "id": "1d96a48d",
   "metadata": {
    "id": "1d96a48d",
    "outputId": "f993b2dc-b679-4dbb-9826-c18338b5ad50"
   },
   "outputs": [
    {
     "name": "stdout",
     "output_type": "stream",
     "text": [
      "Fitting 3 folds for each of 60 candidates, totalling 180 fits\n"
     ]
    },
    {
     "data": {
      "text/plain": [
       "GridSearchCV(cv=KFold(n_splits=3, random_state=42, shuffle=True),\n",
       "             estimator=RandomForestRegressor(random_state=42), n_jobs=-1,\n",
       "             param_grid={'max_depth': [None, 2, 4, 6, 8],\n",
       "                         'min_samples_split': [2, 4, 6],\n",
       "                         'n_estimators': [100, 200, 300, 400]},\n",
       "             verbose=True)"
      ]
     },
     "execution_count": 251,
     "metadata": {},
     "output_type": "execute_result"
    }
   ],
   "source": [
    "grid.fit(x_train_stan,y_train)"
   ]
  },
  {
   "cell_type": "code",
   "execution_count": null,
   "id": "0b9fb50d",
   "metadata": {
    "id": "0b9fb50d",
    "outputId": "398c1f6b-6b75-4c0d-86db-2c59de155caf"
   },
   "outputs": [
    {
     "data": {
      "text/plain": [
       "RandomForestRegressor(max_depth=2, min_samples_split=6, n_estimators=400,\n",
       "                      random_state=42)"
      ]
     },
     "execution_count": 252,
     "metadata": {},
     "output_type": "execute_result"
    }
   ],
   "source": [
    "grid.best_estimator_ "
   ]
  },
  {
   "cell_type": "code",
   "execution_count": null,
   "id": "fe408574",
   "metadata": {
    "id": "fe408574",
    "outputId": "6eb2842c-c784-4842-cd79-c674bcd52502"
   },
   "outputs": [
    {
     "data": {
      "text/plain": [
       "0.03591297075892711"
      ]
     },
     "execution_count": 253,
     "metadata": {},
     "output_type": "execute_result"
    }
   ],
   "source": [
    "grid.best_score_ "
   ]
  },
  {
   "cell_type": "code",
   "execution_count": null,
   "id": "6f37350b",
   "metadata": {
    "id": "6f37350b",
    "outputId": "8e3bbe26-9cfe-4ed6-a01b-ab1b006a1a74"
   },
   "outputs": [
    {
     "data": {
      "text/plain": [
       "0.4116534251966041"
      ]
     },
     "execution_count": 256,
     "metadata": {},
     "output_type": "execute_result"
    }
   ],
   "source": [
    "grid.score(x_train_stan,y_train)"
   ]
  },
  {
   "cell_type": "code",
   "execution_count": null,
   "id": "3f3e8563",
   "metadata": {
    "id": "3f3e8563",
    "outputId": "be75d7f0-2a15-4d7a-fc4a-a6719becd961"
   },
   "outputs": [
    {
     "data": {
      "text/plain": [
       "0.2685873617279849"
      ]
     },
     "execution_count": 254,
     "metadata": {},
     "output_type": "execute_result"
    }
   ],
   "source": [
    "grid.score(x_test_stan,y_test)"
   ]
  },
  {
   "cell_type": "markdown",
   "id": "8a31713c",
   "metadata": {
    "id": "a8f5a88d"
   },
   "source": [
    "#### KFold = 7"
   ]
  },
  {
   "cell_type": "code",
   "execution_count": null,
   "id": "731e4541",
   "metadata": {
    "id": "731e4541"
   },
   "outputs": [],
   "source": [
    "cv = KFold(7, shuffle=True, random_state=42)\n",
    "params = { \n",
    "    'n_estimators': [100,200,300,400],\n",
    "    'max_depth' : [None, 2, 4,6,8],\n",
    "    'min_samples_split': [2, 4,6]}"
   ]
  },
  {
   "cell_type": "code",
   "execution_count": null,
   "id": "ae0a5b0a",
   "metadata": {
    "id": "ae0a5b0a"
   },
   "outputs": [],
   "source": [
    "grid=GridSearchCV(RandomForestRegressor(random_state=42),param_grid=params,cv=cv, refit=True, verbose=True, n_jobs=-1) "
   ]
  },
  {
   "cell_type": "code",
   "execution_count": null,
   "id": "bbcd5b35",
   "metadata": {
    "id": "bbcd5b35",
    "outputId": "58f953ee-3f1a-46cd-dc4a-b24747aa22c1"
   },
   "outputs": [
    {
     "name": "stdout",
     "output_type": "stream",
     "text": [
      "Fitting 7 folds for each of 60 candidates, totalling 420 fits\n"
     ]
    },
    {
     "data": {
      "text/plain": [
       "GridSearchCV(cv=KFold(n_splits=7, random_state=42, shuffle=True),\n",
       "             estimator=RandomForestRegressor(random_state=42), n_jobs=-1,\n",
       "             param_grid={'max_depth': [None, 2, 4, 6, 8],\n",
       "                         'min_samples_split': [2, 4, 6],\n",
       "                         'n_estimators': [100, 200, 300, 400]},\n",
       "             verbose=True)"
      ]
     },
     "execution_count": 259,
     "metadata": {},
     "output_type": "execute_result"
    }
   ],
   "source": [
    "grid.fit(x_train_stan,y_train)"
   ]
  },
  {
   "cell_type": "code",
   "execution_count": null,
   "id": "d766286b",
   "metadata": {
    "id": "d766286b",
    "outputId": "f352e388-b9a4-4d9b-eab5-4d1a8e485b1c"
   },
   "outputs": [
    {
     "data": {
      "text/plain": [
       "RandomForestRegressor(max_depth=2, min_samples_split=6, n_estimators=400,\n",
       "                      random_state=42)"
      ]
     },
     "execution_count": 260,
     "metadata": {},
     "output_type": "execute_result"
    }
   ],
   "source": [
    "grid.best_estimator_ "
   ]
  },
  {
   "cell_type": "code",
   "execution_count": null,
   "id": "0ecf1279",
   "metadata": {
    "id": "0ecf1279",
    "outputId": "2d904d4d-3682-4ab9-92f4-ca4181c75c05"
   },
   "outputs": [
    {
     "data": {
      "text/plain": [
       "0.07403671822896381"
      ]
     },
     "execution_count": 261,
     "metadata": {},
     "output_type": "execute_result"
    }
   ],
   "source": [
    "grid.best_score_ "
   ]
  },
  {
   "cell_type": "code",
   "execution_count": null,
   "id": "6dd3b3bc",
   "metadata": {
    "id": "6dd3b3bc",
    "outputId": "d7929ad7-3285-4d8e-ce14-7603cff9a130"
   },
   "outputs": [
    {
     "data": {
      "text/plain": [
       "0.4116534251966041"
      ]
     },
     "execution_count": 262,
     "metadata": {},
     "output_type": "execute_result"
    }
   ],
   "source": [
    "grid.score(x_train_stan,y_train)"
   ]
  },
  {
   "cell_type": "code",
   "execution_count": null,
   "id": "8f0cc85a",
   "metadata": {
    "id": "8f0cc85a",
    "outputId": "5d129884-bd13-455b-9fd7-e4b9c4a93cc4"
   },
   "outputs": [
    {
     "data": {
      "text/plain": [
       "0.2685873617279849"
      ]
     },
     "execution_count": 263,
     "metadata": {},
     "output_type": "execute_result"
    }
   ],
   "source": [
    "grid.score(x_test_stan,y_test)"
   ]
  },
  {
   "cell_type": "code",
   "execution_count": null,
   "id": "d6583e18",
   "metadata": {
    "id": "d6583e18"
   },
   "outputs": [],
   "source": []
  },
  {
   "cell_type": "code",
   "execution_count": null,
   "id": "e54253cf",
   "metadata": {
    "id": "e54253cf"
   },
   "outputs": [],
   "source": []
  },
  {
   "cell_type": "markdown",
   "id": "ab93231c",
   "metadata": {
    "id": "ab93231c"
   },
   "source": [
    "### Gridsearch  -  KFold = 5고정, param_tuning"
   ]
  },
  {
   "cell_type": "code",
   "execution_count": null,
   "id": "e9fdfb72",
   "metadata": {
    "id": "e9fdfb72"
   },
   "outputs": [],
   "source": [
    "cv = KFold(5, shuffle=True, random_state=42)\n",
    "params = { \n",
    "    'n_estimators': [20,40,60,80,100],\n",
    "    'max_depth' : [None, 4,8,10,20,30],\n",
    "    'min_samples_split': [2,4, 5]}"
   ]
  },
  {
   "cell_type": "code",
   "execution_count": null,
   "id": "5de7326c",
   "metadata": {
    "id": "5de7326c"
   },
   "outputs": [],
   "source": [
    "grid=GridSearchCV(RandomForestRegressor(random_state=42),param_grid=params,cv=cv, refit=True, verbose=True, n_jobs=-1) "
   ]
  },
  {
   "cell_type": "code",
   "execution_count": null,
   "id": "7dd43c25",
   "metadata": {
    "id": "7dd43c25",
    "outputId": "0246a61a-b8fa-4e95-dd8d-8f8f6dbb4dd0"
   },
   "outputs": [
    {
     "name": "stdout",
     "output_type": "stream",
     "text": [
      "Fitting 5 folds for each of 90 candidates, totalling 450 fits\n"
     ]
    },
    {
     "data": {
      "text/plain": [
       "GridSearchCV(cv=KFold(n_splits=5, random_state=42, shuffle=True),\n",
       "             estimator=RandomForestRegressor(random_state=42), n_jobs=-1,\n",
       "             param_grid={'max_depth': [None, 4, 8, 10, 20, 30],\n",
       "                         'min_samples_split': [2, 4, 5],\n",
       "                         'n_estimators': [20, 40, 60, 80, 100]},\n",
       "             verbose=True)"
      ]
     },
     "execution_count": 289,
     "metadata": {},
     "output_type": "execute_result"
    }
   ],
   "source": [
    "grid.fit(x_train_stan,y_train)"
   ]
  },
  {
   "cell_type": "code",
   "execution_count": null,
   "id": "cccad7ab",
   "metadata": {
    "id": "cccad7ab",
    "outputId": "49d52a49-a4d5-43d0-edb1-3dfc4ed52cf9"
   },
   "outputs": [
    {
     "data": {
      "text/plain": [
       "RandomForestRegressor(max_depth=4, random_state=42)"
      ]
     },
     "execution_count": 290,
     "metadata": {},
     "output_type": "execute_result"
    }
   ],
   "source": [
    "grid.best_estimator_ "
   ]
  },
  {
   "cell_type": "code",
   "execution_count": null,
   "id": "3f18ec46",
   "metadata": {
    "id": "3f18ec46",
    "outputId": "d3a88a18-2742-4e6d-88c3-40eea0bf72d2"
   },
   "outputs": [
    {
     "data": {
      "text/plain": [
       "0.030092949474665544"
      ]
     },
     "execution_count": 291,
     "metadata": {},
     "output_type": "execute_result"
    }
   ],
   "source": [
    "grid.best_score_ "
   ]
  },
  {
   "cell_type": "code",
   "execution_count": null,
   "id": "c8c229c8",
   "metadata": {
    "id": "c8c229c8",
    "outputId": "e2b90abd-0037-44cf-8b2c-a7b6ad168118"
   },
   "outputs": [
    {
     "data": {
      "text/plain": [
       "0.5856201033549269"
      ]
     },
     "execution_count": 292,
     "metadata": {},
     "output_type": "execute_result"
    }
   ],
   "source": [
    "grid.score(x_train_stan,y_train)"
   ]
  },
  {
   "cell_type": "code",
   "execution_count": null,
   "id": "78495586",
   "metadata": {
    "id": "78495586",
    "outputId": "f5b36ffa-907a-4031-d0ec-694f964e4d66"
   },
   "outputs": [
    {
     "data": {
      "text/plain": [
       "0.3339663920622944"
      ]
     },
     "execution_count": 293,
     "metadata": {},
     "output_type": "execute_result"
    }
   ],
   "source": [
    "grid.score(x_test_stan,y_test)"
   ]
  },
  {
   "cell_type": "code",
   "execution_count": null,
   "id": "24917062",
   "metadata": {
    "id": "24917062"
   },
   "outputs": [],
   "source": []
  },
  {
   "cell_type": "code",
   "execution_count": null,
   "id": "4a41a3b0",
   "metadata": {
    "id": "4a41a3b0"
   },
   "outputs": [],
   "source": [
    "cv = KFold(5, shuffle=True, random_state=42)\n",
    "params = { \n",
    "    'n_estimators': [35,40,45,50,55,65],\n",
    "    'max_depth' : [None,8,10,12,14,16],\n",
    "    'min_samples_split': [2,4,6]}"
   ]
  },
  {
   "cell_type": "code",
   "execution_count": null,
   "id": "05f5a760",
   "metadata": {
    "id": "05f5a760"
   },
   "outputs": [],
   "source": [
    "grid=GridSearchCV(RandomForestRegressor(random_state=42),param_grid=params,cv=cv, refit=True, verbose=True, n_jobs=-1) "
   ]
  },
  {
   "cell_type": "code",
   "execution_count": null,
   "id": "0c0339fd",
   "metadata": {
    "id": "0c0339fd",
    "outputId": "42a1b283-91a7-45ff-d328-a6960e0e291e"
   },
   "outputs": [
    {
     "name": "stdout",
     "output_type": "stream",
     "text": [
      "Fitting 5 folds for each of 108 candidates, totalling 540 fits\n"
     ]
    },
    {
     "data": {
      "text/plain": [
       "GridSearchCV(cv=KFold(n_splits=5, random_state=42, shuffle=True),\n",
       "             estimator=RandomForestRegressor(random_state=42), n_jobs=-1,\n",
       "             param_grid={'max_depth': [None, 8, 10, 12, 14, 16],\n",
       "                         'min_samples_split': [2, 4, 6],\n",
       "                         'n_estimators': [35, 40, 45, 50, 55, 65]},\n",
       "             verbose=True)"
      ]
     },
     "execution_count": 320,
     "metadata": {},
     "output_type": "execute_result"
    }
   ],
   "source": [
    "grid.fit(x_train_stan,y_train)"
   ]
  },
  {
   "cell_type": "code",
   "execution_count": null,
   "id": "25bdab22",
   "metadata": {
    "id": "25bdab22",
    "outputId": "758ae5ef-cff5-472d-a42d-308b2c21934b"
   },
   "outputs": [
    {
     "data": {
      "text/plain": [
       "RandomForestRegressor(max_depth=8, min_samples_split=6, n_estimators=50,\n",
       "                      random_state=42)"
      ]
     },
     "execution_count": 321,
     "metadata": {},
     "output_type": "execute_result"
    }
   ],
   "source": [
    "grid.best_estimator_ "
   ]
  },
  {
   "cell_type": "code",
   "execution_count": null,
   "id": "9633936c",
   "metadata": {
    "id": "9633936c",
    "outputId": "c95f4e46-fab9-48e6-e01d-341d398d9418"
   },
   "outputs": [
    {
     "data": {
      "text/plain": [
       "0.0005408480737325138"
      ]
     },
     "execution_count": 322,
     "metadata": {},
     "output_type": "execute_result"
    }
   ],
   "source": [
    "grid.best_score_ "
   ]
  },
  {
   "cell_type": "code",
   "execution_count": null,
   "id": "bfb03652",
   "metadata": {
    "id": "bfb03652",
    "outputId": "be1a4b0f-3343-4ea7-f2c4-3ce81954ec97"
   },
   "outputs": [
    {
     "data": {
      "text/plain": [
       "0.6903664375779386"
      ]
     },
     "execution_count": 323,
     "metadata": {},
     "output_type": "execute_result"
    }
   ],
   "source": [
    "grid.score(x_train_stan,y_train)"
   ]
  },
  {
   "cell_type": "code",
   "execution_count": null,
   "id": "e43ed067",
   "metadata": {
    "id": "e43ed067",
    "outputId": "1d60b81c-e69d-4343-d621-85ecde80c277"
   },
   "outputs": [
    {
     "data": {
      "text/plain": [
       "0.3583314295331921"
      ]
     },
     "execution_count": 324,
     "metadata": {},
     "output_type": "execute_result"
    }
   ],
   "source": [
    "grid.score(x_test_stan,y_test)"
   ]
  },
  {
   "cell_type": "code",
   "execution_count": null,
   "id": "f1d69e34",
   "metadata": {
    "id": "f1d69e34"
   },
   "outputs": [],
   "source": []
  },
  {
   "cell_type": "code",
   "execution_count": null,
   "id": "97dbd747",
   "metadata": {},
   "outputs": [],
   "source": []
  },
  {
   "cell_type": "markdown",
   "id": "2e0d643b",
   "metadata": {
    "id": "9e50638b"
   },
   "source": [
    "### best_score_model의 feature_importance >0 인 column으로 구성된 DataFrame만들기\n",
    " - various_trial for optimization에 쓰일 df"
   ]
  },
  {
   "cell_type": "code",
   "execution_count": 133,
   "id": "588f98d1",
   "metadata": {
    "collapsed": true,
    "id": "588f98d1",
    "outputId": "14627823-0f55-4a47-e0cb-ab9e804f2136"
   },
   "outputs": [
    {
     "data": {
      "text/html": [
       "<div>\n",
       "<style scoped>\n",
       "    .dataframe tbody tr th:only-of-type {\n",
       "        vertical-align: middle;\n",
       "    }\n",
       "\n",
       "    .dataframe tbody tr th {\n",
       "        vertical-align: top;\n",
       "    }\n",
       "\n",
       "    .dataframe thead th {\n",
       "        text-align: right;\n",
       "    }\n",
       "</style>\n",
       "<table border=\"1\" class=\"dataframe\">\n",
       "  <thead>\n",
       "    <tr style=\"text-align: right;\">\n",
       "      <th></th>\n",
       "      <th>features_name</th>\n",
       "      <th>importance</th>\n",
       "    </tr>\n",
       "  </thead>\n",
       "  <tbody>\n",
       "    <tr>\n",
       "      <th>488</th>\n",
       "      <td>matching_상권_코드_명_용산구청</td>\n",
       "      <td>0.059039</td>\n",
       "    </tr>\n",
       "    <tr>\n",
       "      <th>472</th>\n",
       "      <td>matching_상권_코드_명_공항대로59다길</td>\n",
       "      <td>0.036254</td>\n",
       "    </tr>\n",
       "    <tr>\n",
       "      <th>477</th>\n",
       "      <td>matching_상권_코드_명_디지털미디어시티</td>\n",
       "      <td>0.036039</td>\n",
       "    </tr>\n",
       "    <tr>\n",
       "      <th>490</th>\n",
       "      <td>matching_상권_코드_명_학동로56길</td>\n",
       "      <td>0.023843</td>\n",
       "    </tr>\n",
       "    <tr>\n",
       "      <th>474</th>\n",
       "      <td>matching_상권_코드_명_구로중앙로28길</td>\n",
       "      <td>0.022609</td>\n",
       "    </tr>\n",
       "    <tr>\n",
       "      <th>482</th>\n",
       "      <td>matching_상권_코드_명_서울 관악구 서울대입구역_1</td>\n",
       "      <td>0.022103</td>\n",
       "    </tr>\n",
       "    <tr>\n",
       "      <th>246</th>\n",
       "      <td>여성연령대_30_금요일시간대_5_생활인구_수</td>\n",
       "      <td>0.020652</td>\n",
       "    </tr>\n",
       "    <tr>\n",
       "      <th>67</th>\n",
       "      <td>남성연령대_20_토요일시간대_3_생활인구_수</td>\n",
       "      <td>0.020353</td>\n",
       "    </tr>\n",
       "    <tr>\n",
       "      <th>483</th>\n",
       "      <td>matching_상권_코드_명_서울 마포구 홍대입구역_3</td>\n",
       "      <td>0.018284</td>\n",
       "    </tr>\n",
       "    <tr>\n",
       "      <th>439</th>\n",
       "      <td>연령대_30_매출_건수</td>\n",
       "      <td>0.018129</td>\n",
       "    </tr>\n",
       "    <tr>\n",
       "      <th>343</th>\n",
       "      <td>아파트_가격_4_억_세대_수</td>\n",
       "      <td>0.016810</td>\n",
       "    </tr>\n",
       "    <tr>\n",
       "      <th>397</th>\n",
       "      <td>연령대_50_매출_비율</td>\n",
       "      <td>0.014110</td>\n",
       "    </tr>\n",
       "    <tr>\n",
       "      <th>400</th>\n",
       "      <td>주말_매출_금액</td>\n",
       "      <td>0.013509</td>\n",
       "    </tr>\n",
       "    <tr>\n",
       "      <th>218</th>\n",
       "      <td>여성연령대_20_목요일시간대_4_생활인구_수</td>\n",
       "      <td>0.013204</td>\n",
       "    </tr>\n",
       "    <tr>\n",
       "      <th>428</th>\n",
       "      <td>일요일_매출_건수</td>\n",
       "      <td>0.012257</td>\n",
       "    </tr>\n",
       "    <tr>\n",
       "      <th>374</th>\n",
       "      <td>버스_정거장_수</td>\n",
       "      <td>0.011681</td>\n",
       "    </tr>\n",
       "    <tr>\n",
       "      <th>54</th>\n",
       "      <td>남성연령대_20_수요일시간대_4_생활인구_수</td>\n",
       "      <td>0.011299</td>\n",
       "    </tr>\n",
       "    <tr>\n",
       "      <th>72</th>\n",
       "      <td>남성연령대_20_일요일시간대_3_생활인구_수</td>\n",
       "      <td>0.011182</td>\n",
       "    </tr>\n",
       "    <tr>\n",
       "      <th>106</th>\n",
       "      <td>남성연령대_30_일요일시간대_4_생활인구_수</td>\n",
       "      <td>0.010842</td>\n",
       "    </tr>\n",
       "    <tr>\n",
       "      <th>438</th>\n",
       "      <td>연령대_20_매출_건수</td>\n",
       "      <td>0.010492</td>\n",
       "    </tr>\n",
       "    <tr>\n",
       "      <th>444</th>\n",
       "      <td>승하차총승객수</td>\n",
       "      <td>0.010284</td>\n",
       "    </tr>\n",
       "    <tr>\n",
       "      <th>466</th>\n",
       "      <td>선별진료소 수</td>\n",
       "      <td>0.010252</td>\n",
       "    </tr>\n",
       "    <tr>\n",
       "      <th>206</th>\n",
       "      <td>여성연령대_20_월요일시간대_2_생활인구_수</td>\n",
       "      <td>0.010246</td>\n",
       "    </tr>\n",
       "    <tr>\n",
       "      <th>441</th>\n",
       "      <td>연령대_50_매출_건수</td>\n",
       "      <td>0.009746</td>\n",
       "    </tr>\n",
       "    <tr>\n",
       "      <th>434</th>\n",
       "      <td>시간대_건수~24_매출_건수</td>\n",
       "      <td>0.009550</td>\n",
       "    </tr>\n",
       "    <tr>\n",
       "      <th>23</th>\n",
       "      <td>남성연령대_10_수요일시간대_5_생활인구_수</td>\n",
       "      <td>0.009250</td>\n",
       "    </tr>\n",
       "    <tr>\n",
       "      <th>255</th>\n",
       "      <td>여성연령대_30_일요일시간대_5_생활인구_수</td>\n",
       "      <td>0.009106</td>\n",
       "    </tr>\n",
       "  </tbody>\n",
       "</table>\n",
       "</div>"
      ],
      "text/plain": [
       "                        features_name  importance\n",
       "488             matching_상권_코드_명_용산구청    0.059039\n",
       "472         matching_상권_코드_명_공항대로59다길    0.036254\n",
       "477         matching_상권_코드_명_디지털미디어시티    0.036039\n",
       "490           matching_상권_코드_명_학동로56길    0.023843\n",
       "474         matching_상권_코드_명_구로중앙로28길    0.022609\n",
       "482  matching_상권_코드_명_서울 관악구 서울대입구역_1    0.022103\n",
       "246          여성연령대_30_금요일시간대_5_생활인구_수    0.020652\n",
       "67           남성연령대_20_토요일시간대_3_생활인구_수    0.020353\n",
       "483   matching_상권_코드_명_서울 마포구 홍대입구역_3    0.018284\n",
       "439                      연령대_30_매출_건수    0.018129\n",
       "343                   아파트_가격_4_억_세대_수    0.016810\n",
       "397                      연령대_50_매출_비율    0.014110\n",
       "400                          주말_매출_금액    0.013509\n",
       "218          여성연령대_20_목요일시간대_4_생활인구_수    0.013204\n",
       "428                         일요일_매출_건수    0.012257\n",
       "374                          버스_정거장_수    0.011681\n",
       "54           남성연령대_20_수요일시간대_4_생활인구_수    0.011299\n",
       "72           남성연령대_20_일요일시간대_3_생활인구_수    0.011182\n",
       "106          남성연령대_30_일요일시간대_4_생활인구_수    0.010842\n",
       "438                      연령대_20_매출_건수    0.010492\n",
       "444                           승하차총승객수    0.010284\n",
       "466                           선별진료소 수    0.010252\n",
       "206          여성연령대_20_월요일시간대_2_생활인구_수    0.010246\n",
       "441                      연령대_50_매출_건수    0.009746\n",
       "434                   시간대_건수~24_매출_건수    0.009550\n",
       "23           남성연령대_10_수요일시간대_5_생활인구_수    0.009250\n",
       "255          여성연령대_30_일요일시간대_5_생활인구_수    0.009106"
      ]
     },
     "execution_count": 133,
     "metadata": {},
     "output_type": "execute_result"
    }
   ],
   "source": [
    "rfr_model = RandomForestRegressor(random_state=42,n_estimators=35,min_samples_split=2,max_depth=10)\n",
    "rfr_model.fit(x_train_stan,y_train)\n",
    "\n",
    "\n",
    "feature_list = pd.concat([pd.Series(x.columns), pd.Series(rfr_model.feature_importances_)], axis=1)\n",
    "feature_list.columns = ['features_name', 'importance']\n",
    "feature_list.sort_values(\"importance\", ascending =False)[:27]"
   ]
  },
  {
   "cell_type": "code",
   "execution_count": 121,
   "id": "13cf4ed8",
   "metadata": {
    "collapsed": true
   },
   "outputs": [
    {
     "data": {
      "text/html": [
       "<div>\n",
       "<style scoped>\n",
       "    .dataframe tbody tr th:only-of-type {\n",
       "        vertical-align: middle;\n",
       "    }\n",
       "\n",
       "    .dataframe tbody tr th {\n",
       "        vertical-align: top;\n",
       "    }\n",
       "\n",
       "    .dataframe thead th {\n",
       "        text-align: right;\n",
       "    }\n",
       "</style>\n",
       "<table border=\"1\" class=\"dataframe\">\n",
       "  <thead>\n",
       "    <tr style=\"text-align: right;\">\n",
       "      <th></th>\n",
       "      <th>총_생활인구_수</th>\n",
       "      <th>여성_생활인구_수</th>\n",
       "      <th>연령대_20_생활인구_수</th>\n",
       "      <th>연령대_30_생활인구_수</th>\n",
       "      <th>연령대_40_생활인구_수</th>\n",
       "      <th>연령대_50_생활인구_수</th>\n",
       "      <th>연령대_60_이상_생활인구_수</th>\n",
       "      <th>시간대_1_생활인구_수</th>\n",
       "      <th>시간대_2_생활인구_수</th>\n",
       "      <th>시간대_3_생활인구_수</th>\n",
       "      <th>...</th>\n",
       "      <th>matching_상권_코드_명_오금로46길</th>\n",
       "      <th>matching_상권_코드_명_오패산로4길</th>\n",
       "      <th>matching_상권_코드_명_용산 전자상가_1</th>\n",
       "      <th>matching_상권_코드_명_용산구청</th>\n",
       "      <th>matching_상권_코드_명_풍납시장</th>\n",
       "      <th>matching_상권_코드_명_학동로56길</th>\n",
       "      <th>matching_상권_코드_명_홍익대학교 주변</th>\n",
       "      <th>상권_구분_코드_명_x_골목상권</th>\n",
       "      <th>상권_구분_코드_명_x_전통시장</th>\n",
       "      <th>확진자수</th>\n",
       "    </tr>\n",
       "  </thead>\n",
       "  <tbody>\n",
       "    <tr>\n",
       "      <th>0</th>\n",
       "      <td>90544.0</td>\n",
       "      <td>44522.0</td>\n",
       "      <td>20323.0</td>\n",
       "      <td>26443.0</td>\n",
       "      <td>19121.0</td>\n",
       "      <td>10720.0</td>\n",
       "      <td>9376.0</td>\n",
       "      <td>5320.0</td>\n",
       "      <td>18099.0</td>\n",
       "      <td>20800.0</td>\n",
       "      <td>...</td>\n",
       "      <td>0</td>\n",
       "      <td>0</td>\n",
       "      <td>0</td>\n",
       "      <td>0</td>\n",
       "      <td>0</td>\n",
       "      <td>0</td>\n",
       "      <td>0</td>\n",
       "      <td>0</td>\n",
       "      <td>0</td>\n",
       "      <td>0.0</td>\n",
       "    </tr>\n",
       "    <tr>\n",
       "      <th>1</th>\n",
       "      <td>48906.0</td>\n",
       "      <td>24214.0</td>\n",
       "      <td>11272.5</td>\n",
       "      <td>13689.5</td>\n",
       "      <td>10139.5</td>\n",
       "      <td>5693.5</td>\n",
       "      <td>5141.5</td>\n",
       "      <td>2790.0</td>\n",
       "      <td>9265.0</td>\n",
       "      <td>11210.0</td>\n",
       "      <td>...</td>\n",
       "      <td>0</td>\n",
       "      <td>0</td>\n",
       "      <td>0</td>\n",
       "      <td>0</td>\n",
       "      <td>0</td>\n",
       "      <td>0</td>\n",
       "      <td>0</td>\n",
       "      <td>0</td>\n",
       "      <td>0</td>\n",
       "      <td>6.0</td>\n",
       "    </tr>\n",
       "    <tr>\n",
       "      <th>2</th>\n",
       "      <td>3026454.0</td>\n",
       "      <td>1546665.0</td>\n",
       "      <td>681334.0</td>\n",
       "      <td>701941.0</td>\n",
       "      <td>495230.0</td>\n",
       "      <td>391058.0</td>\n",
       "      <td>501575.0</td>\n",
       "      <td>578627.0</td>\n",
       "      <td>572865.0</td>\n",
       "      <td>438326.0</td>\n",
       "      <td>...</td>\n",
       "      <td>0</td>\n",
       "      <td>0</td>\n",
       "      <td>0</td>\n",
       "      <td>0</td>\n",
       "      <td>0</td>\n",
       "      <td>0</td>\n",
       "      <td>0</td>\n",
       "      <td>0</td>\n",
       "      <td>0</td>\n",
       "      <td>131.0</td>\n",
       "    </tr>\n",
       "    <tr>\n",
       "      <th>3</th>\n",
       "      <td>1533259.5</td>\n",
       "      <td>782895.0</td>\n",
       "      <td>340689.5</td>\n",
       "      <td>343638.5</td>\n",
       "      <td>249110.5</td>\n",
       "      <td>199107.5</td>\n",
       "      <td>256914.5</td>\n",
       "      <td>290635.5</td>\n",
       "      <td>287121.0</td>\n",
       "      <td>223978.5</td>\n",
       "      <td>...</td>\n",
       "      <td>0</td>\n",
       "      <td>0</td>\n",
       "      <td>0</td>\n",
       "      <td>0</td>\n",
       "      <td>0</td>\n",
       "      <td>0</td>\n",
       "      <td>0</td>\n",
       "      <td>0</td>\n",
       "      <td>0</td>\n",
       "      <td>140.0</td>\n",
       "    </tr>\n",
       "    <tr>\n",
       "      <th>4</th>\n",
       "      <td>3262023.0</td>\n",
       "      <td>1673049.0</td>\n",
       "      <td>612378.0</td>\n",
       "      <td>845244.0</td>\n",
       "      <td>657147.0</td>\n",
       "      <td>488176.0</td>\n",
       "      <td>552620.0</td>\n",
       "      <td>760989.0</td>\n",
       "      <td>660302.0</td>\n",
       "      <td>466658.0</td>\n",
       "      <td>...</td>\n",
       "      <td>0</td>\n",
       "      <td>0</td>\n",
       "      <td>0</td>\n",
       "      <td>0</td>\n",
       "      <td>0</td>\n",
       "      <td>0</td>\n",
       "      <td>0</td>\n",
       "      <td>0</td>\n",
       "      <td>0</td>\n",
       "      <td>114.0</td>\n",
       "    </tr>\n",
       "  </tbody>\n",
       "</table>\n",
       "<p>5 rows × 495 columns</p>\n",
       "</div>"
      ],
      "text/plain": [
       "    총_생활인구_수  여성_생활인구_수  연령대_20_생활인구_수  연령대_30_생활인구_수  연령대_40_생활인구_수  \\\n",
       "0    90544.0    44522.0        20323.0        26443.0        19121.0   \n",
       "1    48906.0    24214.0        11272.5        13689.5        10139.5   \n",
       "2  3026454.0  1546665.0       681334.0       701941.0       495230.0   \n",
       "3  1533259.5   782895.0       340689.5       343638.5       249110.5   \n",
       "4  3262023.0  1673049.0       612378.0       845244.0       657147.0   \n",
       "\n",
       "   연령대_50_생활인구_수  연령대_60_이상_생활인구_수  시간대_1_생활인구_수  시간대_2_생활인구_수  시간대_3_생활인구_수  \\\n",
       "0        10720.0            9376.0        5320.0       18099.0       20800.0   \n",
       "1         5693.5            5141.5        2790.0        9265.0       11210.0   \n",
       "2       391058.0          501575.0      578627.0      572865.0      438326.0   \n",
       "3       199107.5          256914.5      290635.5      287121.0      223978.5   \n",
       "4       488176.0          552620.0      760989.0      660302.0      466658.0   \n",
       "\n",
       "   ...  matching_상권_코드_명_오금로46길  matching_상권_코드_명_오패산로4길  \\\n",
       "0  ...                        0                        0   \n",
       "1  ...                        0                        0   \n",
       "2  ...                        0                        0   \n",
       "3  ...                        0                        0   \n",
       "4  ...                        0                        0   \n",
       "\n",
       "   matching_상권_코드_명_용산 전자상가_1  matching_상권_코드_명_용산구청  matching_상권_코드_명_풍납시장  \\\n",
       "0                           0                      0                      0   \n",
       "1                           0                      0                      0   \n",
       "2                           0                      0                      0   \n",
       "3                           0                      0                      0   \n",
       "4                           0                      0                      0   \n",
       "\n",
       "   matching_상권_코드_명_학동로56길  matching_상권_코드_명_홍익대학교 주변  상권_구분_코드_명_x_골목상권  \\\n",
       "0                        0                          0                  0   \n",
       "1                        0                          0                  0   \n",
       "2                        0                          0                  0   \n",
       "3                        0                          0                  0   \n",
       "4                        0                          0                  0   \n",
       "\n",
       "   상권_구분_코드_명_x_전통시장   확진자수  \n",
       "0                  0    0.0  \n",
       "1                  0    6.0  \n",
       "2                  0  131.0  \n",
       "3                  0  140.0  \n",
       "4                  0  114.0  \n",
       "\n",
       "[5 rows x 495 columns]"
      ]
     },
     "execution_count": 121,
     "metadata": {},
     "output_type": "execute_result"
    }
   ],
   "source": [
    "rfr_list =feature_list[feature_list.importance.sort_values() >0 ].features_name.tolist()\n",
    "rfr_list.append('확진자수')\n",
    "df = pd.read_csv('./data/final_result.csv', index_col=0)\n",
    "df['기준_분기_코드'] = df['기준_분기_코드'].apply(lambda x : str(x)+'분기')\n",
    "df = pd.get_dummies(df)\n",
    "rfr_df = df[rfr_list]\n",
    "rfr_df.head()"
   ]
  },
  {
   "cell_type": "code",
   "execution_count": 122,
   "id": "340efa01",
   "metadata": {},
   "outputs": [],
   "source": [
    "rfr_df.to_csv('rfr_df.csv')"
   ]
  },
  {
   "cell_type": "code",
   "execution_count": null,
   "id": "61944996",
   "metadata": {},
   "outputs": [],
   "source": []
  },
  {
   "cell_type": "markdown",
   "id": "db4fd884",
   "metadata": {},
   "source": [
    "### best_score_model의 feature_importance 상위 20개로 DataFrame만들기\n",
    "- 결론에 쓰일 상관분석을 위해"
   ]
  },
  {
   "cell_type": "code",
   "execution_count": 176,
   "id": "9da52979",
   "metadata": {
    "scrolled": true
   },
   "outputs": [
    {
     "data": {
      "text/plain": [
       "<AxesSubplot:title={'center':'Correlation of Features'}>"
      ]
     },
     "execution_count": 176,
     "metadata": {},
     "output_type": "execute_result"
    },
    {
     "data": {
      "image/png": "[encoded data removed]",
      "text/plain": [
       "<Figure size 720x576 with 2 Axes>"
      ]
     },
     "metadata": {
      "needs_background": "light"
     },
     "output_type": "display_data"
    }
   ],
   "source": [
    "rfr_model = RandomForestRegressor(random_state=42,n_estimators=35,min_samples_split=2,max_depth=10)\n",
    "rfr_model.fit(x_train_stan,y_train)\n",
    "\n",
    "feature_list = pd.concat([pd.Series(x.columns), pd.Series(rfr_model.feature_importances_)], axis=1)\n",
    "feature_list.columns = ['features_name', 'importance']\n",
    "result_index =feature_list.sort_values(\"importance\", ascending =False)[:27].features_name.tolist()\n",
    "result_index.append('확진자수')\n",
    "\n",
    "df = pd.read_csv('./data/final_result.csv', index_col=0)\n",
    "df['기준_분기_코드'] = df['기준_분기_코드'].apply(lambda x : str(x)+'분기')\n",
    "df = pd.get_dummies(df)\n",
    "\n",
    "result_df = df[result_index]\n",
    "result_columns = result_df.columns[~result_df.columns.str.contains('mat')]\n",
    "result_df =result_df[result_columns]\n",
    "result_df = pd.read_csv('./data/result_df.csv')\n",
    "result_df .drop('Unnamed: 0', axis=1, inplace=True)\n",
    "colormap = plt.cm.PuBu \n",
    "plt.figure(figsize=(10, 8)) \n",
    "plt.title(\"Correlation of Features\", y = 1.05, size = 15) \n",
    "sns.heatmap(result_df .astype(float).corr(), linewidths = 0.1, vmax = 1.0, square = True, cmap = colormap, linecolor = \"white\", annot_kws = {\"size\" : 16})"
   ]
  },
  {
   "cell_type": "code",
   "execution_count": 179,
   "id": "9f46a8aa",
   "metadata": {},
   "outputs": [
    {
     "data": {
      "text/html": [
       "<div>\n",
       "<style scoped>\n",
       "    .dataframe tbody tr th:only-of-type {\n",
       "        vertical-align: middle;\n",
       "    }\n",
       "\n",
       "    .dataframe tbody tr th {\n",
       "        vertical-align: top;\n",
       "    }\n",
       "\n",
       "    .dataframe thead th {\n",
       "        text-align: right;\n",
       "    }\n",
       "</style>\n",
       "<table border=\"1\" class=\"dataframe\">\n",
       "  <thead>\n",
       "    <tr style=\"text-align: right;\">\n",
       "      <th></th>\n",
       "      <th>여성연령대_30_금요일시간대_5_생활인구_수</th>\n",
       "      <th>남성연령대_20_토요일시간대_3_생활인구_수</th>\n",
       "      <th>연령대_30_매출_건수</th>\n",
       "      <th>아파트_가격_4_억_세대_수</th>\n",
       "      <th>연령대_50_매출_비율</th>\n",
       "      <th>주말_매출_금액</th>\n",
       "      <th>여성연령대_20_목요일시간대_4_생활인구_수</th>\n",
       "      <th>일요일_매출_건수</th>\n",
       "      <th>버스_정거장_수</th>\n",
       "      <th>남성연령대_20_수요일시간대_4_생활인구_수</th>\n",
       "      <th>...</th>\n",
       "      <th>남성연령대_30_일요일시간대_4_생활인구_수</th>\n",
       "      <th>연령대_20_매출_건수</th>\n",
       "      <th>승하차총승객수</th>\n",
       "      <th>선별진료소 수</th>\n",
       "      <th>여성연령대_20_월요일시간대_2_생활인구_수</th>\n",
       "      <th>연령대_50_매출_건수</th>\n",
       "      <th>시간대_건수~24_매출_건수</th>\n",
       "      <th>남성연령대_10_수요일시간대_5_생활인구_수</th>\n",
       "      <th>여성연령대_30_일요일시간대_5_생활인구_수</th>\n",
       "      <th>확진자수</th>\n",
       "    </tr>\n",
       "  </thead>\n",
       "  <tbody>\n",
       "    <tr>\n",
       "      <th>0</th>\n",
       "      <td>445.0</td>\n",
       "      <td>180.0</td>\n",
       "      <td>36621.235290</td>\n",
       "      <td>0.0</td>\n",
       "      <td>14.029412</td>\n",
       "      <td>1.485212e+09</td>\n",
       "      <td>512.0</td>\n",
       "      <td>14811.088240</td>\n",
       "      <td>14.0</td>\n",
       "      <td>280.0</td>\n",
       "      <td>...</td>\n",
       "      <td>236.0</td>\n",
       "      <td>32472.264710</td>\n",
       "      <td>9457337.0</td>\n",
       "      <td>0.0</td>\n",
       "      <td>387.0</td>\n",
       "      <td>12713.235290</td>\n",
       "      <td>3972.264706</td>\n",
       "      <td>74.0</td>\n",
       "      <td>231.0</td>\n",
       "      <td>0.0</td>\n",
       "    </tr>\n",
       "    <tr>\n",
       "      <th>1</th>\n",
       "      <td>238.0</td>\n",
       "      <td>96.5</td>\n",
       "      <td>18070.060605</td>\n",
       "      <td>0.0</td>\n",
       "      <td>13.454545</td>\n",
       "      <td>6.577505e+08</td>\n",
       "      <td>291.0</td>\n",
       "      <td>7238.636365</td>\n",
       "      <td>14.0</td>\n",
       "      <td>153.5</td>\n",
       "      <td>...</td>\n",
       "      <td>131.5</td>\n",
       "      <td>17030.272725</td>\n",
       "      <td>3067976.0</td>\n",
       "      <td>0.0</td>\n",
       "      <td>198.5</td>\n",
       "      <td>6289.318180</td>\n",
       "      <td>2546.606060</td>\n",
       "      <td>50.5</td>\n",
       "      <td>137.5</td>\n",
       "      <td>6.0</td>\n",
       "    </tr>\n",
       "    <tr>\n",
       "      <th>2</th>\n",
       "      <td>10026.0</td>\n",
       "      <td>5577.0</td>\n",
       "      <td>38274.069770</td>\n",
       "      <td>70.0</td>\n",
       "      <td>15.372093</td>\n",
       "      <td>1.187771e+09</td>\n",
       "      <td>7518.0</td>\n",
       "      <td>20760.627910</td>\n",
       "      <td>31.0</td>\n",
       "      <td>5907.0</td>\n",
       "      <td>...</td>\n",
       "      <td>6825.0</td>\n",
       "      <td>49550.930230</td>\n",
       "      <td>14499529.0</td>\n",
       "      <td>1.0</td>\n",
       "      <td>9512.0</td>\n",
       "      <td>15785.953490</td>\n",
       "      <td>18868.813950</td>\n",
       "      <td>3715.0</td>\n",
       "      <td>9403.0</td>\n",
       "      <td>131.0</td>\n",
       "    </tr>\n",
       "    <tr>\n",
       "      <th>3</th>\n",
       "      <td>4774.5</td>\n",
       "      <td>2672.0</td>\n",
       "      <td>17237.300000</td>\n",
       "      <td>70.0</td>\n",
       "      <td>17.444444</td>\n",
       "      <td>4.746946e+08</td>\n",
       "      <td>3769.0</td>\n",
       "      <td>9516.888890</td>\n",
       "      <td>31.0</td>\n",
       "      <td>3047.5</td>\n",
       "      <td>...</td>\n",
       "      <td>3372.5</td>\n",
       "      <td>23435.388890</td>\n",
       "      <td>4719596.0</td>\n",
       "      <td>1.0</td>\n",
       "      <td>4671.5</td>\n",
       "      <td>7014.077780</td>\n",
       "      <td>8607.688890</td>\n",
       "      <td>2081.0</td>\n",
       "      <td>4524.5</td>\n",
       "      <td>140.0</td>\n",
       "    </tr>\n",
       "    <tr>\n",
       "      <th>4</th>\n",
       "      <td>9342.0</td>\n",
       "      <td>4009.0</td>\n",
       "      <td>54575.978260</td>\n",
       "      <td>0.0</td>\n",
       "      <td>16.456522</td>\n",
       "      <td>1.611771e+09</td>\n",
       "      <td>6217.0</td>\n",
       "      <td>19042.304350</td>\n",
       "      <td>21.0</td>\n",
       "      <td>5262.0</td>\n",
       "      <td>...</td>\n",
       "      <td>5253.0</td>\n",
       "      <td>55262.760870</td>\n",
       "      <td>4515825.0</td>\n",
       "      <td>1.0</td>\n",
       "      <td>8872.0</td>\n",
       "      <td>25944.978260</td>\n",
       "      <td>24331.934780</td>\n",
       "      <td>1032.0</td>\n",
       "      <td>7094.0</td>\n",
       "      <td>114.0</td>\n",
       "    </tr>\n",
       "    <tr>\n",
       "      <th>...</th>\n",
       "      <td>...</td>\n",
       "      <td>...</td>\n",
       "      <td>...</td>\n",
       "      <td>...</td>\n",
       "      <td>...</td>\n",
       "      <td>...</td>\n",
       "      <td>...</td>\n",
       "      <td>...</td>\n",
       "      <td>...</td>\n",
       "      <td>...</td>\n",
       "      <td>...</td>\n",
       "      <td>...</td>\n",
       "      <td>...</td>\n",
       "      <td>...</td>\n",
       "      <td>...</td>\n",
       "      <td>...</td>\n",
       "      <td>...</td>\n",
       "      <td>...</td>\n",
       "      <td>...</td>\n",
       "      <td>...</td>\n",
       "      <td>...</td>\n",
       "    </tr>\n",
       "    <tr>\n",
       "      <th>545</th>\n",
       "      <td>582.5</td>\n",
       "      <td>395.0</td>\n",
       "      <td>4654.500000</td>\n",
       "      <td>14.0</td>\n",
       "      <td>8.437500</td>\n",
       "      <td>2.484750e+08</td>\n",
       "      <td>416.5</td>\n",
       "      <td>3331.031250</td>\n",
       "      <td>2.0</td>\n",
       "      <td>358.0</td>\n",
       "      <td>...</td>\n",
       "      <td>468.5</td>\n",
       "      <td>8530.281250</td>\n",
       "      <td>649084.0</td>\n",
       "      <td>0.0</td>\n",
       "      <td>375.5</td>\n",
       "      <td>794.625000</td>\n",
       "      <td>4768.687500</td>\n",
       "      <td>134.5</td>\n",
       "      <td>527.0</td>\n",
       "      <td>0.0</td>\n",
       "    </tr>\n",
       "    <tr>\n",
       "      <th>546</th>\n",
       "      <td>2837.0</td>\n",
       "      <td>1301.0</td>\n",
       "      <td>2920.500000</td>\n",
       "      <td>20.0</td>\n",
       "      <td>22.000000</td>\n",
       "      <td>4.350391e+07</td>\n",
       "      <td>1656.0</td>\n",
       "      <td>1341.416667</td>\n",
       "      <td>2.0</td>\n",
       "      <td>1116.0</td>\n",
       "      <td>...</td>\n",
       "      <td>1753.0</td>\n",
       "      <td>2384.750000</td>\n",
       "      <td>1391054.0</td>\n",
       "      <td>0.0</td>\n",
       "      <td>3521.0</td>\n",
       "      <td>2826.041667</td>\n",
       "      <td>811.166667</td>\n",
       "      <td>2145.0</td>\n",
       "      <td>2938.0</td>\n",
       "      <td>42.0</td>\n",
       "    </tr>\n",
       "    <tr>\n",
       "      <th>547</th>\n",
       "      <td>1357.5</td>\n",
       "      <td>644.0</td>\n",
       "      <td>1362.250000</td>\n",
       "      <td>20.0</td>\n",
       "      <td>19.833333</td>\n",
       "      <td>2.072612e+07</td>\n",
       "      <td>786.5</td>\n",
       "      <td>639.062500</td>\n",
       "      <td>2.0</td>\n",
       "      <td>585.5</td>\n",
       "      <td>...</td>\n",
       "      <td>916.5</td>\n",
       "      <td>1149.000000</td>\n",
       "      <td>441558.5</td>\n",
       "      <td>0.0</td>\n",
       "      <td>1690.5</td>\n",
       "      <td>1223.000000</td>\n",
       "      <td>368.416667</td>\n",
       "      <td>876.5</td>\n",
       "      <td>1428.5</td>\n",
       "      <td>0.0</td>\n",
       "    </tr>\n",
       "    <tr>\n",
       "      <th>548</th>\n",
       "      <td>162.0</td>\n",
       "      <td>114.0</td>\n",
       "      <td>1668.304348</td>\n",
       "      <td>0.0</td>\n",
       "      <td>34.565217</td>\n",
       "      <td>9.659461e+07</td>\n",
       "      <td>183.0</td>\n",
       "      <td>470.521739</td>\n",
       "      <td>2.0</td>\n",
       "      <td>169.0</td>\n",
       "      <td>...</td>\n",
       "      <td>100.0</td>\n",
       "      <td>1140.739130</td>\n",
       "      <td>7297798.0</td>\n",
       "      <td>0.0</td>\n",
       "      <td>123.0</td>\n",
       "      <td>2576.782609</td>\n",
       "      <td>407.652174</td>\n",
       "      <td>30.0</td>\n",
       "      <td>77.0</td>\n",
       "      <td>40.0</td>\n",
       "    </tr>\n",
       "    <tr>\n",
       "      <th>549</th>\n",
       "      <td>82.5</td>\n",
       "      <td>59.5</td>\n",
       "      <td>746.250000</td>\n",
       "      <td>0.0</td>\n",
       "      <td>31.958333</td>\n",
       "      <td>6.530267e+07</td>\n",
       "      <td>102.0</td>\n",
       "      <td>147.958333</td>\n",
       "      <td>2.0</td>\n",
       "      <td>92.0</td>\n",
       "      <td>...</td>\n",
       "      <td>50.5</td>\n",
       "      <td>639.083333</td>\n",
       "      <td>2351033.0</td>\n",
       "      <td>0.0</td>\n",
       "      <td>69.0</td>\n",
       "      <td>1084.708333</td>\n",
       "      <td>137.708333</td>\n",
       "      <td>22.0</td>\n",
       "      <td>36.5</td>\n",
       "      <td>6.0</td>\n",
       "    </tr>\n",
       "  </tbody>\n",
       "</table>\n",
       "<p>550 rows × 21 columns</p>\n",
       "</div>"
      ],
      "text/plain": [
       "     여성연령대_30_금요일시간대_5_생활인구_수  남성연령대_20_토요일시간대_3_생활인구_수  연령대_30_매출_건수  \\\n",
       "0                       445.0                     180.0  36621.235290   \n",
       "1                       238.0                      96.5  18070.060605   \n",
       "2                     10026.0                    5577.0  38274.069770   \n",
       "3                      4774.5                    2672.0  17237.300000   \n",
       "4                      9342.0                    4009.0  54575.978260   \n",
       "..                        ...                       ...           ...   \n",
       "545                     582.5                     395.0   4654.500000   \n",
       "546                    2837.0                    1301.0   2920.500000   \n",
       "547                    1357.5                     644.0   1362.250000   \n",
       "548                     162.0                     114.0   1668.304348   \n",
       "549                      82.5                      59.5    746.250000   \n",
       "\n",
       "     아파트_가격_4_억_세대_수  연령대_50_매출_비율      주말_매출_금액  여성연령대_20_목요일시간대_4_생활인구_수  \\\n",
       "0                0.0     14.029412  1.485212e+09                     512.0   \n",
       "1                0.0     13.454545  6.577505e+08                     291.0   \n",
       "2               70.0     15.372093  1.187771e+09                    7518.0   \n",
       "3               70.0     17.444444  4.746946e+08                    3769.0   \n",
       "4                0.0     16.456522  1.611771e+09                    6217.0   \n",
       "..               ...           ...           ...                       ...   \n",
       "545             14.0      8.437500  2.484750e+08                     416.5   \n",
       "546             20.0     22.000000  4.350391e+07                    1656.0   \n",
       "547             20.0     19.833333  2.072612e+07                     786.5   \n",
       "548              0.0     34.565217  9.659461e+07                     183.0   \n",
       "549              0.0     31.958333  6.530267e+07                     102.0   \n",
       "\n",
       "        일요일_매출_건수  버스_정거장_수  남성연령대_20_수요일시간대_4_생활인구_수  ...  \\\n",
       "0    14811.088240      14.0                     280.0  ...   \n",
       "1     7238.636365      14.0                     153.5  ...   \n",
       "2    20760.627910      31.0                    5907.0  ...   \n",
       "3     9516.888890      31.0                    3047.5  ...   \n",
       "4    19042.304350      21.0                    5262.0  ...   \n",
       "..            ...       ...                       ...  ...   \n",
       "545   3331.031250       2.0                     358.0  ...   \n",
       "546   1341.416667       2.0                    1116.0  ...   \n",
       "547    639.062500       2.0                     585.5  ...   \n",
       "548    470.521739       2.0                     169.0  ...   \n",
       "549    147.958333       2.0                      92.0  ...   \n",
       "\n",
       "     남성연령대_30_일요일시간대_4_생활인구_수  연령대_20_매출_건수     승하차총승객수  선별진료소 수  \\\n",
       "0                       236.0  32472.264710   9457337.0      0.0   \n",
       "1                       131.5  17030.272725   3067976.0      0.0   \n",
       "2                      6825.0  49550.930230  14499529.0      1.0   \n",
       "3                      3372.5  23435.388890   4719596.0      1.0   \n",
       "4                      5253.0  55262.760870   4515825.0      1.0   \n",
       "..                        ...           ...         ...      ...   \n",
       "545                     468.5   8530.281250    649084.0      0.0   \n",
       "546                    1753.0   2384.750000   1391054.0      0.0   \n",
       "547                     916.5   1149.000000    441558.5      0.0   \n",
       "548                     100.0   1140.739130   7297798.0      0.0   \n",
       "549                      50.5    639.083333   2351033.0      0.0   \n",
       "\n",
       "     여성연령대_20_월요일시간대_2_생활인구_수  연령대_50_매출_건수  시간대_건수~24_매출_건수  \\\n",
       "0                       387.0  12713.235290      3972.264706   \n",
       "1                       198.5   6289.318180      2546.606060   \n",
       "2                      9512.0  15785.953490     18868.813950   \n",
       "3                      4671.5   7014.077780      8607.688890   \n",
       "4                      8872.0  25944.978260     24331.934780   \n",
       "..                        ...           ...              ...   \n",
       "545                     375.5    794.625000      4768.687500   \n",
       "546                    3521.0   2826.041667       811.166667   \n",
       "547                    1690.5   1223.000000       368.416667   \n",
       "548                     123.0   2576.782609       407.652174   \n",
       "549                      69.0   1084.708333       137.708333   \n",
       "\n",
       "     남성연령대_10_수요일시간대_5_생활인구_수  여성연령대_30_일요일시간대_5_생활인구_수   확진자수  \n",
       "0                        74.0                     231.0    0.0  \n",
       "1                        50.5                     137.5    6.0  \n",
       "2                      3715.0                    9403.0  131.0  \n",
       "3                      2081.0                    4524.5  140.0  \n",
       "4                      1032.0                    7094.0  114.0  \n",
       "..                        ...                       ...    ...  \n",
       "545                     134.5                     527.0    0.0  \n",
       "546                    2145.0                    2938.0   42.0  \n",
       "547                     876.5                    1428.5    0.0  \n",
       "548                      30.0                      77.0   40.0  \n",
       "549                      22.0                      36.5    6.0  \n",
       "\n",
       "[550 rows x 21 columns]"
      ]
     },
     "execution_count": 179,
     "metadata": {},
     "output_type": "execute_result"
    }
   ],
   "source": [
    "result_df"
   ]
  },
  {
   "cell_type": "code",
   "execution_count": null,
   "id": "d65b26eb",
   "metadata": {},
   "outputs": [],
   "source": []
  },
  {
   "cell_type": "code",
   "execution_count": null,
   "id": "e8b84d75",
   "metadata": {},
   "outputs": [],
   "source": []
  },
  {
   "cell_type": "code",
   "execution_count": null,
   "id": "487eeba5",
   "metadata": {},
   "outputs": [],
   "source": []
  },
  {
   "cell_type": "markdown",
   "id": "bc76b1a5",
   "metadata": {
    "id": "bc76b1a5"
   },
   "source": [
    "## XGBRegressor"
   ]
  },
  {
   "cell_type": "code",
   "execution_count": null,
   "id": "065435b6",
   "metadata": {
    "id": "065435b6"
   },
   "outputs": [],
   "source": [
    "df = pd.read_csv('./data/final_result.csv', index_col=0)\n",
    "df['기준_분기_코드'] = df['기준_분기_코드'].apply(lambda x : str(x)+'분기')\n",
    "df = pd.get_dummies(df)\n",
    "y = df['확진자수']\n",
    "x = df.drop('확진자수', axis=1)\n",
    "x_train, x_test, y_train, y_test = train_test_split(x,y, random_state=42)\n",
    "\n",
    "scaler = StandardScaler()\n",
    "scaler.fit(x_train)\n",
    "\n",
    "x_train_stan = scaler.transform(x_train)\n",
    "x_test_stan = scaler.transform(x_test)"
   ]
  },
  {
   "cell_type": "code",
   "execution_count": null,
   "id": "bb298b56",
   "metadata": {
    "id": "bb298b56"
   },
   "outputs": [],
   "source": [
    "from xgboost import XGBRegressor\n",
    "xgb = XGBRegressor(random_state=42)"
   ]
  },
  {
   "cell_type": "markdown",
   "id": "85744208",
   "metadata": {
    "id": "b1b887f2"
   },
   "source": [
    "### 임의 실행"
   ]
  },
  {
   "cell_type": "code",
   "execution_count": null,
   "id": "32ef0273",
   "metadata": {
    "id": "32ef0273",
    "outputId": "4edb60f5-1b56-47a0-bf4f-baf44821b424"
   },
   "outputs": [
    {
     "name": "stdout",
     "output_type": "stream",
     "text": [
      "0.9999999443241604\n",
      "0.08743975527881409\n"
     ]
    }
   ],
   "source": [
    "xgb = XGBRegressor(random_state=42)\n",
    "xgb.fit(x_train_stan,y_train)\n",
    "print(xgb.score(x_train_stan, y_train))\n",
    "print(xgb.score(x_test_stan, y_test))"
   ]
  },
  {
   "cell_type": "code",
   "execution_count": null,
   "id": "1dbc72b4",
   "metadata": {
    "id": "1dbc72b4",
    "outputId": "f5934dc6-d60a-4718-b5f5-2423c5ac605f"
   },
   "outputs": [
    {
     "name": "stdout",
     "output_type": "stream",
     "text": [
      "0.9828303631392956\n",
      "0.23327082045360514\n"
     ]
    }
   ],
   "source": [
    "xgb = XGBRegressor(random_state=42, learning_rate = 0.05)\n",
    "xgb.fit(x_train_stan,y_train)\n",
    "print(xgb.score(x_train_stan, y_train))\n",
    "print(xgb.score(x_test_stan, y_test))"
   ]
  },
  {
   "cell_type": "code",
   "execution_count": null,
   "id": "2171d65c",
   "metadata": {
    "id": "2171d65c",
    "outputId": "e125fe91-72e7-4117-936a-dff3c9d22c56"
   },
   "outputs": [
    {
     "name": "stdout",
     "output_type": "stream",
     "text": [
      "0.9262913666369094\n",
      "0.24949249162649179\n"
     ]
    }
   ],
   "source": [
    "xgb = XGBRegressor(random_state=42, learning_rate = 0.05, colsample_bytree =0.9,subsample =0.6)\n",
    "xgb.fit(x_train_stan,y_train)\n",
    "print(xgb.score(x_train_stan, y_train))\n",
    "print(xgb.score(x_test_stan, y_test))"
   ]
  },
  {
   "cell_type": "code",
   "execution_count": null,
   "id": "b9e8e48e",
   "metadata": {
    "id": "b9e8e48e",
    "outputId": "79b9dea3-70d8-44e5-82ca-3891dc0afae1"
   },
   "outputs": [
    {
     "name": "stdout",
     "output_type": "stream",
     "text": [
      "0.6982836038771671\n",
      "0.2780064072359304\n"
     ]
    }
   ],
   "source": [
    "xgb = XGBRegressor(random_state=42, learning_rate = 0.05, colsample_bytree =0.9,subsample =0.2)\n",
    "xgb.fit(x_train_stan,y_train)\n",
    "print(xgb.score(x_train_stan, y_train))\n",
    "print(xgb.score(x_test_stan, y_test))"
   ]
  },
  {
   "cell_type": "code",
   "execution_count": null,
   "id": "59dab7da",
   "metadata": {
    "id": "59dab7da"
   },
   "outputs": [],
   "source": []
  },
  {
   "cell_type": "markdown",
   "id": "9606839e",
   "metadata": {
    "id": "a9178674"
   },
   "source": [
    "### GridSearchCV"
   ]
  },
  {
   "cell_type": "code",
   "execution_count": null,
   "id": "180ac1b2",
   "metadata": {
    "id": "180ac1b2"
   },
   "outputs": [],
   "source": [
    "cv = KFold(5, shuffle=True, random_state=42)\n",
    "params = { \n",
    "    'learning_rate': np.arange(0.01,0.25,0.01),\n",
    "    'subsample' : np.arange(0.1,1,0.1),\n",
    "    'colsample_bytree': np.arange(0.1,1,0.1)}\n",
    "grid_x=GridSearchCV(XGBRegressor(random_state=42),param_grid=params,cv=cv, refit=True, verbose=True, n_jobs=-1) "
   ]
  },
  {
   "cell_type": "code",
   "execution_count": null,
   "id": "14b00538",
   "metadata": {
    "collapsed": true,
    "id": "14b00538",
    "outputId": "0ed02fba-3b5f-43ec-d894-c4aa05f59995"
   },
   "outputs": [
    {
     "name": "stdout",
     "output_type": "stream",
     "text": [
      "Fitting 5 folds for each of 1944 candidates, totalling 9720 fits\n"
     ]
    },
    {
     "data": {
      "text/plain": [
       "GridSearchCV(cv=KFold(n_splits=5, random_state=42, shuffle=True),\n",
       "             estimator=XGBRegressor(base_score=None, booster=None,\n",
       "                                    colsample_bylevel=None,\n",
       "                                    colsample_bynode=None,\n",
       "                                    colsample_bytree=None, gamma=None,\n",
       "                                    gpu_id=None, importance_type='gain',\n",
       "                                    interaction_constraints=None,\n",
       "                                    learning_rate=None, max_delta_step=None,\n",
       "                                    max_depth=None, min_child_weight=None,\n",
       "                                    missing=nan, monot...\n",
       "                                    tree_method=None, validate_parameters=None,\n",
       "                                    verbosity=None),\n",
       "             n_jobs=-1,\n",
       "             param_grid={'colsample_bytree': array([0.1, 0.2, 0.3, 0.4, 0.5, 0.6, 0.7, 0.8, 0.9]),\n",
       "                         'learning_rate': array([0.01, 0.02, 0.03, 0.04, 0.05, 0.06, 0.07, 0.08, 0.09, 0.1 , 0.11,\n",
       "       0.12, 0.13, 0.14, 0.15, 0.16, 0.17, 0.18, 0.19, 0.2 , 0.21, 0.22,\n",
       "       0.23, 0.24]),\n",
       "                         'subsample': array([0.1, 0.2, 0.3, 0.4, 0.5, 0.6, 0.7, 0.8, 0.9])},\n",
       "             verbose=True)"
      ]
     },
     "execution_count": 64,
     "metadata": {},
     "output_type": "execute_result"
    }
   ],
   "source": [
    "grid_x.fit(x_train_stan,y_train)"
   ]
  },
  {
   "cell_type": "code",
   "execution_count": null,
   "id": "e0545b20",
   "metadata": {
    "collapsed": true,
    "id": "e0545b20",
    "outputId": "405efa60-a285-462d-98a5-b7fbca9effbf"
   },
   "outputs": [
    {
     "data": {
      "text/plain": [
       "XGBRegressor(base_score=0.5, booster='gbtree', colsample_bylevel=1,\n",
       "             colsample_bynode=1, colsample_bytree=0.7000000000000001, gamma=0,\n",
       "             gpu_id=-1, importance_type='gain', interaction_constraints='',\n",
       "             learning_rate=0.02, max_delta_step=0, max_depth=6,\n",
       "             min_child_weight=1, missing=nan, monotone_constraints='()',\n",
       "             n_estimators=100, n_jobs=8, num_parallel_tree=1, random_state=42,\n",
       "             reg_alpha=0, reg_lambda=1, scale_pos_weight=1, subsample=0.1,\n",
       "             tree_method='exact', validate_parameters=1, verbosity=None)"
      ]
     },
     "execution_count": 65,
     "metadata": {},
     "output_type": "execute_result"
    }
   ],
   "source": [
    "grid_x.best_estimator_ "
   ]
  },
  {
   "cell_type": "code",
   "execution_count": null,
   "id": "d51e3dec",
   "metadata": {
    "id": "d51e3dec",
    "outputId": "b58865d0-dac7-4e6c-9d36-054938928e35"
   },
   "outputs": [
    {
     "data": {
      "text/plain": [
       "0.10354497816081827"
      ]
     },
     "execution_count": 66,
     "metadata": {},
     "output_type": "execute_result"
    }
   ],
   "source": [
    "grid_x.best_score_ "
   ]
  },
  {
   "cell_type": "code",
   "execution_count": null,
   "id": "e32662cb",
   "metadata": {
    "id": "e32662cb",
    "outputId": "0c6daeed-885a-45b4-ee14-b4e39587c620"
   },
   "outputs": [
    {
     "data": {
      "text/plain": [
       "0.32496927138225595"
      ]
     },
     "execution_count": 67,
     "metadata": {},
     "output_type": "execute_result"
    }
   ],
   "source": [
    "grid_x.score(x_train_stan,y_train)"
   ]
  },
  {
   "cell_type": "code",
   "execution_count": null,
   "id": "3aa6bd1f",
   "metadata": {
    "id": "3aa6bd1f",
    "outputId": "2dbf09b8-792c-4a1f-9f72-7b77a2bc9596"
   },
   "outputs": [
    {
     "data": {
      "text/plain": [
       "0.205114507421012"
      ]
     },
     "execution_count": 68,
     "metadata": {},
     "output_type": "execute_result"
    }
   ],
   "source": [
    "grid_x.score(x_test_stan,y_test)"
   ]
  },
  {
   "cell_type": "code",
   "execution_count": null,
   "id": "1d08eabc",
   "metadata": {
    "id": "1d08eabc"
   },
   "outputs": [],
   "source": []
  },
  {
   "cell_type": "code",
   "execution_count": null,
   "id": "983dd7e3",
   "metadata": {
    "id": "983dd7e3"
   },
   "outputs": [],
   "source": []
  },
  {
   "cell_type": "code",
   "execution_count": null,
   "id": "9d2b49a5",
   "metadata": {
    "id": "9d2b49a5"
   },
   "outputs": [],
   "source": []
  }
 ],
 "metadata": {
  "colab": {
   "name": "ML_model1.ipynb",
   "provenance": []
  },
  "kernelspec": {
   "display_name": "Python 3",
   "language": "python",
   "name": "python3"
  },
  "language_info": {
   "codemirror_mode": {
    "name": "ipython",
    "version": 3
   },
   "file_extension": ".py",
   "mimetype": "text/x-python",
   "name": "python",
   "nbconvert_exporter": "python",
   "pygments_lexer": "ipython3",
   "version": "3.8.8"
  }
 },
 "nbformat": 4,
 "nbformat_minor": 5
}
