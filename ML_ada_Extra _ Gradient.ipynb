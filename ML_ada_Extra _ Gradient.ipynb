{
 "cells": [
  {
   "cell_type": "code",
   "execution_count": 1,
   "id": "eb5d2d6d",
   "metadata": {},
   "outputs": [],
   "source": [
    "import pandas as pd\n",
    "import numpy as np\n",
    "import matplotlib.pyplot as plt\n",
    "import seaborn as sns\n",
    "import warnings\n",
    "\n",
    "warnings.filterwarnings(action='ignore')\n",
    "from sklearn.model_selection import train_test_split\n",
    "from sklearn.preprocessing import MinMaxScaler, StandardScaler\n",
    "\n",
    "from sklearn.ensemble import ExtraTreesRegressor\n",
    "from sklearn.ensemble import GradientBoostingRegressor\n",
    "\n",
    "from sklearn.model_selection import GridSearchCV\n",
    "from sklearn.model_selection import KFold ,StratifiedKFold"
   ]
  },
  {
   "cell_type": "code",
   "execution_count": 2,
   "id": "ce7bfe9b",
   "metadata": {},
   "outputs": [],
   "source": [
    "etr = ExtraTreesRegressor(random_state=42)\n",
    "gbr = GradientBoostingRegressor(random_state=42)"
   ]
  },
  {
   "cell_type": "code",
   "execution_count": null,
   "id": "448e616c",
   "metadata": {},
   "outputs": [],
   "source": []
  },
  {
   "cell_type": "code",
   "execution_count": 3,
   "id": "3d7cac16",
   "metadata": {},
   "outputs": [],
   "source": [
    "df = pd.read_csv('./data/df_ada_opt.csv', index_col=0)\n",
    "df['기준_분기_코드'] = df['기준_분기_코드'].apply(lambda x : str(x)+'분기')\n",
    "df = pd.get_dummies(df)\n",
    "y = df['확진자수']\n",
    "x = df.drop('확진자수', axis=1)\n",
    "x_train, x_test, y_train, y_test = train_test_split(x,y, random_state=42)"
   ]
  },
  {
   "cell_type": "code",
   "execution_count": null,
   "id": "fdf88ab1",
   "metadata": {},
   "outputs": [],
   "source": []
  },
  {
   "cell_type": "code",
   "execution_count": 4,
   "id": "b63f07e2",
   "metadata": {},
   "outputs": [],
   "source": [
    "scaler = StandardScaler()\n",
    "scaler.fit(x_train)\n",
    "\n",
    "x_train_stan = scaler.transform(x_train)\n",
    "x_test_stan = scaler.transform(x_test)"
   ]
  },
  {
   "cell_type": "markdown",
   "id": "8f2400a5",
   "metadata": {},
   "source": [
    "### ExtraTreesRegressor"
   ]
  },
  {
   "cell_type": "code",
   "execution_count": 5,
   "id": "9cc94086",
   "metadata": {},
   "outputs": [
    {
     "name": "stdout",
     "output_type": "stream",
     "text": [
      "1.0\n",
      "0.3146167889645214\n"
     ]
    }
   ],
   "source": [
    "# 0.18 -> 0.31 상승\n",
    "etr = ExtraTreesRegressor(random_state=42)\n",
    "etr.fit(x_train_stan,y_train)\n",
    "print(etr.score(x_train_stan, y_train))\n",
    "print(etr.score(x_test_stan, y_test))"
   ]
  },
  {
   "cell_type": "code",
   "execution_count": null,
   "id": "09242a47",
   "metadata": {},
   "outputs": [],
   "source": []
  },
  {
   "cell_type": "code",
   "execution_count": 9,
   "id": "07aedd2b",
   "metadata": {},
   "outputs": [
    {
     "name": "stdout",
     "output_type": "stream",
     "text": [
      "0.9576126859988109\n",
      "0.3023589750426976\n"
     ]
    }
   ],
   "source": [
    "etr = ExtraTreesRegressor(random_state=42,n_estimators=700,min_samples_split=3,max_depth=15)\n",
    "etr.fit(x_train_stan,y_train)\n",
    "print(etr.score(x_train_stan, y_train))\n",
    "print(etr.score(x_test_stan, y_test))"
   ]
  },
  {
   "cell_type": "code",
   "execution_count": 10,
   "id": "c22ea64c",
   "metadata": {
    "scrolled": true
   },
   "outputs": [
    {
     "name": "stdout",
     "output_type": "stream",
     "text": [
      "0.9576126859988109\n",
      "0.3023589750426976\n"
     ]
    }
   ],
   "source": [
    "rfr = ExtraTreesRegressor(random_state=42,n_estimators=700,min_samples_split=10,max_depth=15)\n",
    "rfr.fit(x_train_stan,y_train)\n",
    "print(etr.score(x_train_stan, y_train))\n",
    "print(etr.score(x_test_stan, y_test))"
   ]
  },
  {
   "cell_type": "code",
   "execution_count": 10,
   "id": "747cd93e",
   "metadata": {
    "scrolled": true
   },
   "outputs": [
    {
     "name": "stdout",
     "output_type": "stream",
     "text": [
      "0.9576126859988109\n",
      "0.3023589750426976\n"
     ]
    }
   ],
   "source": [
    "rfr = ExtraTreesRegressor(random_state=42,n_estimators=700,min_samples_split=10,max_depth=15)\n",
    "rfr.fit(x_train_stan,y_train)\n",
    "print(etr.score(x_train_stan, y_train))\n",
    "print(etr.score(x_test_stan, y_test))"
   ]
  },
  {
   "cell_type": "code",
   "execution_count": 16,
   "id": "40fcf088",
   "metadata": {},
   "outputs": [
    {
     "name": "stdout",
     "output_type": "stream",
     "text": [
      "0.9999997912565589\n",
      "0.3112289928915565\n"
     ]
    }
   ],
   "source": [
    "etr = ExtraTreesRegressor(random_state=42,n_estimators=30, max_depth=30)\n",
    "etr.fit(x_train_stan,y_train)\n",
    "print(etr.score(x_train_stan, y_train))\n",
    "print(etr.score(x_test_stan, y_test))"
   ]
  },
  {
   "cell_type": "code",
   "execution_count": 18,
   "id": "2d5807f9",
   "metadata": {},
   "outputs": [
    {
     "name": "stdout",
     "output_type": "stream",
     "text": [
      "0.9999964008539024\n",
      "0.3263571577800346\n"
     ]
    }
   ],
   "source": [
    "etr = ExtraTreesRegressor(random_state=42,n_estimators=100, max_depth=30)\n",
    "etr.fit(x_train_stan,y_train)\n",
    "print(etr.score(x_train_stan, y_train))\n",
    "print(etr.score(x_test_stan, y_test))"
   ]
  },
  {
   "cell_type": "code",
   "execution_count": 43,
   "id": "569e7f9a",
   "metadata": {},
   "outputs": [
    {
     "name": "stdout",
     "output_type": "stream",
     "text": [
      "0.9999959446905871\n",
      "0.32962969569547274\n"
     ]
    }
   ],
   "source": [
    "etr = ExtraTreesRegressor(random_state=42,n_estimators=94, max_depth=30)\n",
    "etr.fit(x_train_stan,y_train)\n",
    "print(etr.score(x_train_stan, y_train))\n",
    "print(etr.score(x_test_stan, y_test))"
   ]
  },
  {
   "cell_type": "code",
   "execution_count": 56,
   "id": "eb1e6f6e",
   "metadata": {},
   "outputs": [
    {
     "name": "stdout",
     "output_type": "stream",
     "text": [
      "0.9999943574028314\n",
      "0.3311159705686815\n"
     ]
    }
   ],
   "source": [
    "etr = ExtraTreesRegressor(random_state=42,n_estimators=94, max_depth=29,min_samples_split=2)\n",
    "etr.fit(x_train_stan,y_train)\n",
    "print(etr.score(x_train_stan, y_train))\n",
    "print(etr.score(x_test_stan, y_test))"
   ]
  },
  {
   "cell_type": "code",
   "execution_count": null,
   "id": "5024c3ed",
   "metadata": {},
   "outputs": [],
   "source": []
  },
  {
   "cell_type": "code",
   "execution_count": null,
   "id": "deb826ce",
   "metadata": {},
   "outputs": [],
   "source": []
  },
  {
   "cell_type": "code",
   "execution_count": null,
   "id": "a367631a",
   "metadata": {},
   "outputs": [],
   "source": []
  },
  {
   "cell_type": "code",
   "execution_count": null,
   "id": "8e1e7032",
   "metadata": {},
   "outputs": [],
   "source": []
  },
  {
   "cell_type": "code",
   "execution_count": 11,
   "id": "6494b80c",
   "metadata": {},
   "outputs": [],
   "source": [
    "cv = KFold(5, shuffle=True, random_state=42)\n",
    "params = { \n",
    "    'n_estimators': [20,40,60,80,100],\n",
    "    'max_depth' : [None, 4,8,10,20,30],\n",
    "    'min_samples_split': [2,4,6]}"
   ]
  },
  {
   "cell_type": "code",
   "execution_count": 12,
   "id": "788f8fe0",
   "metadata": {},
   "outputs": [],
   "source": [
    "grid_e=GridSearchCV(ExtraTreesRegressor(random_state=42),param_grid=params,cv=cv, refit=True, verbose=True, n_jobs=-1) "
   ]
  },
  {
   "cell_type": "code",
   "execution_count": 13,
   "id": "c1af9fd6",
   "metadata": {},
   "outputs": [
    {
     "name": "stdout",
     "output_type": "stream",
     "text": [
      "Fitting 5 folds for each of 90 candidates, totalling 450 fits\n"
     ]
    },
    {
     "data": {
      "text/plain": [
       "GridSearchCV(cv=KFold(n_splits=5, random_state=42, shuffle=True),\n",
       "             estimator=ExtraTreesRegressor(random_state=42), n_jobs=-1,\n",
       "             param_grid={'max_depth': [None, 4, 8, 10, 20, 30],\n",
       "                         'min_samples_split': [2, 4, 6],\n",
       "                         'n_estimators': [20, 40, 60, 80, 100]},\n",
       "             verbose=True)"
      ]
     },
     "execution_count": 13,
     "metadata": {},
     "output_type": "execute_result"
    }
   ],
   "source": [
    "grid_e.fit(x_train_stan,y_train)"
   ]
  },
  {
   "cell_type": "code",
   "execution_count": 14,
   "id": "536bcacd",
   "metadata": {},
   "outputs": [
    {
     "data": {
      "text/plain": [
       "ExtraTreesRegressor(max_depth=4, n_estimators=40, random_state=42)"
      ]
     },
     "execution_count": 14,
     "metadata": {},
     "output_type": "execute_result"
    }
   ],
   "source": [
    "grid_e.best_estimator_ "
   ]
  },
  {
   "cell_type": "code",
   "execution_count": 15,
   "id": "5cd6ab64",
   "metadata": {},
   "outputs": [
    {
     "data": {
      "text/plain": [
       "-0.01179162399662812"
      ]
     },
     "execution_count": 15,
     "metadata": {},
     "output_type": "execute_result"
    }
   ],
   "source": [
    "grid_e.best_score_ "
   ]
  },
  {
   "cell_type": "code",
   "execution_count": 16,
   "id": "9ea2e2ad",
   "metadata": {},
   "outputs": [
    {
     "data": {
      "text/plain": [
       "0.5369838113004057"
      ]
     },
     "execution_count": 16,
     "metadata": {},
     "output_type": "execute_result"
    }
   ],
   "source": [
    "grid_e.score(x_train_stan,y_train)"
   ]
  },
  {
   "cell_type": "code",
   "execution_count": 17,
   "id": "2d8c4391",
   "metadata": {},
   "outputs": [
    {
     "data": {
      "text/plain": [
       "0.28250079431073005"
      ]
     },
     "execution_count": 17,
     "metadata": {},
     "output_type": "execute_result"
    }
   ],
   "source": [
    "# 0.23 -> 0.28 상승\n",
    "grid_e.score(x_test_stan,y_test)"
   ]
  },
  {
   "cell_type": "code",
   "execution_count": null,
   "id": "efc53ad8",
   "metadata": {},
   "outputs": [],
   "source": []
  },
  {
   "cell_type": "code",
   "execution_count": null,
   "id": "14860ac9",
   "metadata": {},
   "outputs": [],
   "source": []
  },
  {
   "cell_type": "code",
   "execution_count": 18,
   "id": "745b4bf0",
   "metadata": {},
   "outputs": [],
   "source": [
    "cv = KFold(5, shuffle=True, random_state=42)\n",
    "params = { \n",
    "    'n_estimators': [350,500,600,700,750],\n",
    "    'max_depth' : [10,12,15,17,19],\n",
    "    'min_samples_split': [2,4,6,8]}\n",
    "grid_e=GridSearchCV(ExtraTreesRegressor(random_state=42),param_grid=params,cv=cv, refit=True, verbose=True, n_jobs=-1) "
   ]
  },
  {
   "cell_type": "code",
   "execution_count": 19,
   "id": "10b248a3",
   "metadata": {},
   "outputs": [
    {
     "name": "stdout",
     "output_type": "stream",
     "text": [
      "Fitting 5 folds for each of 100 candidates, totalling 500 fits\n"
     ]
    },
    {
     "data": {
      "text/plain": [
       "GridSearchCV(cv=KFold(n_splits=5, random_state=42, shuffle=True),\n",
       "             estimator=ExtraTreesRegressor(random_state=42), n_jobs=-1,\n",
       "             param_grid={'max_depth': [10, 12, 15, 17, 19],\n",
       "                         'min_samples_split': [2, 4, 6, 8],\n",
       "                         'n_estimators': [350, 500, 600, 700, 750]},\n",
       "             verbose=True)"
      ]
     },
     "execution_count": 19,
     "metadata": {},
     "output_type": "execute_result"
    }
   ],
   "source": [
    "grid_e.fit(x_train_stan,y_train)"
   ]
  },
  {
   "cell_type": "code",
   "execution_count": 20,
   "id": "86de7e3b",
   "metadata": {},
   "outputs": [
    {
     "data": {
      "text/plain": [
       "ExtraTreesRegressor(max_depth=10, min_samples_split=8, n_estimators=500,\n",
       "                    random_state=42)"
      ]
     },
     "execution_count": 20,
     "metadata": {},
     "output_type": "execute_result"
    }
   ],
   "source": [
    "grid_e.best_estimator_ "
   ]
  },
  {
   "cell_type": "code",
   "execution_count": 21,
   "id": "836b8487",
   "metadata": {},
   "outputs": [
    {
     "data": {
      "text/plain": [
       "-0.06524618089146612"
      ]
     },
     "execution_count": 21,
     "metadata": {},
     "output_type": "execute_result"
    }
   ],
   "source": [
    "grid_e.best_score_ "
   ]
  },
  {
   "cell_type": "code",
   "execution_count": 22,
   "id": "efe68e57",
   "metadata": {},
   "outputs": [
    {
     "data": {
      "text/plain": [
       "0.7821845092199221"
      ]
     },
     "execution_count": 22,
     "metadata": {},
     "output_type": "execute_result"
    }
   ],
   "source": [
    "grid_e.score(x_train_stan,y_train)"
   ]
  },
  {
   "cell_type": "code",
   "execution_count": 23,
   "id": "bc49e09f",
   "metadata": {},
   "outputs": [
    {
     "data": {
      "text/plain": [
       "0.269554609335506"
      ]
     },
     "execution_count": 23,
     "metadata": {},
     "output_type": "execute_result"
    }
   ],
   "source": [
    "grid_e.score(x_test_stan,y_test)"
   ]
  },
  {
   "cell_type": "code",
   "execution_count": null,
   "id": "88a7ba77",
   "metadata": {},
   "outputs": [],
   "source": []
  },
  {
   "cell_type": "code",
   "execution_count": 218,
   "id": "35e70306",
   "metadata": {
    "collapsed": true
   },
   "outputs": [
    {
     "name": "stdout",
     "output_type": "stream",
     "text": [
      "[1.72463698e-02 3.93863840e-03 6.95663865e-03 2.59117871e-03\n",
      " 3.43437636e-03 3.05555607e-03 1.92734383e-03 1.29481585e-02\n",
      " 9.56440574e-03 1.28577175e-02 1.08782798e-02 1.38983322e-02\n",
      " 1.91172152e-03 5.31600858e-03 1.24650884e-02 1.54995031e-02\n",
      " 1.12019736e-02 1.28884342e-02 4.94439122e-03 1.34244373e-03\n",
      " 1.62434092e-03 2.70136225e-03 2.15510652e-03 3.92434460e-03\n",
      " 6.21756925e-03 1.83610152e-03 3.30579547e-02 2.77510466e-03\n",
      " 2.46898908e-02 1.48232672e-03 1.01870292e-03 1.74015653e-03\n",
      " 1.82826389e-03 2.35369177e-03 1.42918953e-03 1.96663053e-03\n",
      " 2.16919768e-03 1.24710693e-03 1.85350710e-03 1.80255389e-03\n",
      " 1.81000426e-03 1.69249621e-03 1.62259876e-03 4.10993460e-03\n",
      " 1.90134058e-03 1.32558171e-03 1.76922322e-03 2.53248569e-03\n",
      " 2.79600801e-03 2.38736350e-03 1.82959212e-03 2.71807124e-03\n",
      " 4.42362026e-03 2.92994846e-03 3.57531163e-03 2.36710275e-03\n",
      " 2.16829594e-03 3.19790798e-03 2.63005600e-03 1.33479989e-03\n",
      " 1.76783046e-03 3.02543262e-03 1.13180565e-02 1.86562278e-03\n",
      " 1.79020380e-02 1.47008002e-03 7.21249983e-03 2.37975941e-02\n",
      " 2.26449557e-02 2.29104303e-03 2.92253565e-03 1.18095686e-03\n",
      " 1.56530351e-03 8.12693880e-03 1.50543673e-03 8.56500235e-03\n",
      " 1.41495360e-03 1.40271867e-03 2.60787194e-03 1.34959159e-03\n",
      " 5.74172205e-03 1.77171483e-03 1.29186626e-03 1.82378153e-03\n",
      " 1.87635529e-03 2.09899967e-03 2.06603922e-03 1.73648883e-03\n",
      " 1.75491299e-03 1.65344791e-03 1.83383827e-03 1.66249309e-03\n",
      " 3.30326212e-03 2.61528786e-03 1.94298498e-03 1.71718271e-03\n",
      " 1.58117040e-03 1.04638328e-03 1.56210848e-03 8.83370357e-04\n",
      " 1.52955894e-03 2.16190302e-03 1.24550010e-03 1.42472209e-02\n",
      " 1.37099860e-02 1.72580779e-02 6.11742630e-03 1.16206790e-02\n",
      " 1.00032406e-02 2.48766162e-02 1.29777077e-02 8.21438307e-03\n",
      " 1.25826687e-02 1.78887684e-03 1.59210911e-03 3.42007262e-03\n",
      " 1.63055323e-03 3.08056194e-03 2.87798158e-03 2.80892511e-03\n",
      " 3.10637396e-03 4.52060071e-03 7.48937045e-03 2.22368875e-03\n",
      " 1.76812164e-03 2.51296253e-03 3.62258537e-03 5.30025392e-03\n",
      " 8.51556322e-03 4.26044473e-03 9.71771049e-03 4.79622717e-03\n",
      " 5.86159649e-03 4.95453317e-03 3.43649161e-03 4.32171395e-03\n",
      " 7.88522110e-03 8.47788166e-03 5.66176141e-03 6.54034002e-03\n",
      " 2.27652525e-03 5.12470753e-03 2.74349016e-03 3.68495925e-03\n",
      " 2.61199285e-03 4.55775930e-03 5.90090143e-03 7.55949591e-03\n",
      " 5.06673220e-03 1.31711600e-02 8.36633802e-03 5.70726250e-03\n",
      " 4.47080368e-03 1.43350293e-03 1.61722412e-03 2.40011275e-03\n",
      " 7.56293295e-03 4.75822677e-03 2.89798027e-03 2.19853250e-03\n",
      " 2.31949700e-03 3.40487535e-03 2.04998521e-03 2.14076829e-03\n",
      " 2.67730588e-03 3.00720792e-03 5.60806286e-03 3.61987149e-03\n",
      " 3.16000695e-03 4.42394463e-03 5.11028261e-03 4.86574625e-03\n",
      " 5.86666038e-03 5.07900121e-03 1.24840862e-02 9.15280495e-03\n",
      " 3.86549642e-03 3.33179658e-03 5.16328348e-03 1.03037686e-02\n",
      " 2.86255780e-03 1.23239563e-02 2.97796463e-03 3.11103057e-03\n",
      " 4.64507665e-03 3.09364896e-03 3.24942552e-03 2.22828092e-03\n",
      " 3.80539110e-03 3.66968344e-03 1.81963465e-02 2.32240019e-03\n",
      " 0.00000000e+00 0.00000000e+00 1.20775961e-07 1.09683421e-06\n",
      " 5.22743264e-03 6.06172499e-03]\n"
     ]
    },
    {
     "data": {
      "text/html": [
       "<div>\n",
       "<style scoped>\n",
       "    .dataframe tbody tr th:only-of-type {\n",
       "        vertical-align: middle;\n",
       "    }\n",
       "\n",
       "    .dataframe tbody tr th {\n",
       "        vertical-align: top;\n",
       "    }\n",
       "\n",
       "    .dataframe thead th {\n",
       "        text-align: right;\n",
       "    }\n",
       "</style>\n",
       "<table border=\"1\" class=\"dataframe\">\n",
       "  <thead>\n",
       "    <tr style=\"text-align: right;\">\n",
       "      <th></th>\n",
       "      <th>features_name</th>\n",
       "      <th>importance</th>\n",
       "    </tr>\n",
       "  </thead>\n",
       "  <tbody>\n",
       "    <tr>\n",
       "      <th>26</th>\n",
       "      <td>남성연령대_30_토요일시간대_5_생활인구_수</td>\n",
       "      <td>0.033058</td>\n",
       "    </tr>\n",
       "    <tr>\n",
       "      <th>109</th>\n",
       "      <td>아파트_가격_4_억_세대_수</td>\n",
       "      <td>0.024877</td>\n",
       "    </tr>\n",
       "    <tr>\n",
       "      <th>28</th>\n",
       "      <td>남성연령대_30_일요일시간대_4_생활인구_수</td>\n",
       "      <td>0.024690</td>\n",
       "    </tr>\n",
       "    <tr>\n",
       "      <th>67</th>\n",
       "      <td>여성연령대_20_토요일시간대_3_생활인구_수</td>\n",
       "      <td>0.023798</td>\n",
       "    </tr>\n",
       "    <tr>\n",
       "      <th>68</th>\n",
       "      <td>여성연령대_20_토요일시간대_4_생활인구_수</td>\n",
       "      <td>0.022645</td>\n",
       "    </tr>\n",
       "    <tr>\n",
       "      <th>190</th>\n",
       "      <td>버스정류장 수</td>\n",
       "      <td>0.018196</td>\n",
       "    </tr>\n",
       "    <tr>\n",
       "      <th>64</th>\n",
       "      <td>여성연령대_20_수요일시간대_5_생활인구_수</td>\n",
       "      <td>0.017902</td>\n",
       "    </tr>\n",
       "    <tr>\n",
       "      <th>105</th>\n",
       "      <td>아파트_면적_132_제곱미터_세대_수</td>\n",
       "      <td>0.017258</td>\n",
       "    </tr>\n",
       "    <tr>\n",
       "      <th>0</th>\n",
       "      <td>시간대_5_생활인구_수</td>\n",
       "      <td>0.017246</td>\n",
       "    </tr>\n",
       "    <tr>\n",
       "      <th>15</th>\n",
       "      <td>남성연령대_20_토요일시간대_5_생활인구_수</td>\n",
       "      <td>0.015500</td>\n",
       "    </tr>\n",
       "    <tr>\n",
       "      <th>103</th>\n",
       "      <td>아파트_단지_수</td>\n",
       "      <td>0.014247</td>\n",
       "    </tr>\n",
       "    <tr>\n",
       "      <th>11</th>\n",
       "      <td>남성연령대_20_금요일시간대_2_생활인구_수</td>\n",
       "      <td>0.013898</td>\n",
       "    </tr>\n",
       "    <tr>\n",
       "      <th>104</th>\n",
       "      <td>아파트_면적_66_제곱미터_세대_수</td>\n",
       "      <td>0.013710</td>\n",
       "    </tr>\n",
       "    <tr>\n",
       "      <th>149</th>\n",
       "      <td>연령대_30_매출_비율</td>\n",
       "      <td>0.013171</td>\n",
       "    </tr>\n",
       "    <tr>\n",
       "      <th>110</th>\n",
       "      <td>아파트_가격_5_억_세대_수</td>\n",
       "      <td>0.012978</td>\n",
       "    </tr>\n",
       "  </tbody>\n",
       "</table>\n",
       "</div>"
      ],
      "text/plain": [
       "                features_name  importance\n",
       "26   남성연령대_30_토요일시간대_5_생활인구_수    0.033058\n",
       "109           아파트_가격_4_억_세대_수    0.024877\n",
       "28   남성연령대_30_일요일시간대_4_생활인구_수    0.024690\n",
       "67   여성연령대_20_토요일시간대_3_생활인구_수    0.023798\n",
       "68   여성연령대_20_토요일시간대_4_생활인구_수    0.022645\n",
       "190                   버스정류장 수    0.018196\n",
       "64   여성연령대_20_수요일시간대_5_생활인구_수    0.017902\n",
       "105      아파트_면적_132_제곱미터_세대_수    0.017258\n",
       "0                시간대_5_생활인구_수    0.017246\n",
       "15   남성연령대_20_토요일시간대_5_생활인구_수    0.015500\n",
       "103                  아파트_단지_수    0.014247\n",
       "11   남성연령대_20_금요일시간대_2_생활인구_수    0.013898\n",
       "104       아파트_면적_66_제곱미터_세대_수    0.013710\n",
       "149              연령대_30_매출_비율    0.013171\n",
       "110           아파트_가격_5_억_세대_수    0.012978"
      ]
     },
     "execution_count": 218,
     "metadata": {},
     "output_type": "execute_result"
    }
   ],
   "source": [
    "etc_model = ExtraTreesRegressor(max_depth=15, min_samples_split=6, n_estimators=700,\n",
    "                    random_state=42)\n",
    "etc_model.fit(x_train_stan, y_train)\n",
    "\n",
    "print(etc_model.feature_importances_)\n",
    "feature_list = pd.concat([pd.Series(x.columns), pd.Series(etc_model.feature_importances_)], axis=1)\n",
    "feature_list.columns = ['features_name', 'importance']\n",
    "feature_list.sort_values(\"importance\", ascending =False)[:15]"
   ]
  },
  {
   "cell_type": "code",
   "execution_count": null,
   "id": "7036b504",
   "metadata": {},
   "outputs": [],
   "source": []
  },
  {
   "cell_type": "code",
   "execution_count": null,
   "id": "ff66de15",
   "metadata": {},
   "outputs": [],
   "source": []
  },
  {
   "cell_type": "code",
   "execution_count": null,
   "id": "c70e05bb",
   "metadata": {},
   "outputs": [],
   "source": []
  },
  {
   "cell_type": "markdown",
   "id": "712de81d",
   "metadata": {},
   "source": [
    "### GradientBoostingRegressor"
   ]
  },
  {
   "cell_type": "code",
   "execution_count": null,
   "id": "822360b1",
   "metadata": {},
   "outputs": [],
   "source": []
  },
  {
   "cell_type": "code",
   "execution_count": 92,
   "id": "b0ced32d",
   "metadata": {},
   "outputs": [
    {
     "name": "stdout",
     "output_type": "stream",
     "text": [
      "0.9407835182101775\n",
      "0.09202296663912457\n"
     ]
    }
   ],
   "source": [
    "gbr = GradientBoostingRegressor(random_state=42)\n",
    "gbr.fit(x_train_stan,y_train)\n",
    "print(gbr.score(x_train_stan, y_train))\n",
    "print(gbr.score(x_test_stan, y_test))"
   ]
  },
  {
   "cell_type": "code",
   "execution_count": 86,
   "id": "35baabb5",
   "metadata": {},
   "outputs": [
    {
     "name": "stdout",
     "output_type": "stream",
     "text": [
      "0.6077913395342838\n",
      "0.2146240672775045\n"
     ]
    }
   ],
   "source": [
    "gbr = GradientBoostingRegressor(random_state=42,learning_rate=0.02)\n",
    "gbr.fit(x_train_stan,y_train)\n",
    "print(gbr.score(x_train_stan, y_train))\n",
    "print(gbr.score(x_test_stan, y_test))"
   ]
  },
  {
   "cell_type": "code",
   "execution_count": 109,
   "id": "c9894095",
   "metadata": {},
   "outputs": [
    {
     "name": "stdout",
     "output_type": "stream",
     "text": [
      "0.8168630147509401\n",
      "0.20170792759496947\n"
     ]
    }
   ],
   "source": [
    "gbr = GradientBoostingRegressor(random_state=42,learning_rate=0.12,subsample=0.8, n_estimators=45)\n",
    "gbr.fit(x_train_stan,y_train)\n",
    "print(gbr.score(x_train_stan, y_train))\n",
    "print(gbr.score(x_test_stan, y_test))"
   ]
  },
  {
   "cell_type": "code",
   "execution_count": 71,
   "id": "d9fff76a",
   "metadata": {},
   "outputs": [
    {
     "name": "stdout",
     "output_type": "stream",
     "text": [
      "0.6279217424103798\n",
      "0.23255988282127005\n"
     ]
    }
   ],
   "source": [
    "gbr = GradientBoostingRegressor(random_state=42,learning_rate=0.02,subsample=0.9, n_estimators=100)\n",
    "gbr.fit(x_train_stan,y_train)\n",
    "print(gbr.score(x_train_stan, y_train))\n",
    "print(gbr.score(x_test_stan, y_test))"
   ]
  },
  {
   "cell_type": "code",
   "execution_count": 96,
   "id": "eee0a550",
   "metadata": {},
   "outputs": [
    {
     "name": "stdout",
     "output_type": "stream",
     "text": [
      "0.8263390199841927\n",
      "0.21999243435155968\n"
     ]
    }
   ],
   "source": [
    "gbr = GradientBoostingRegressor(random_state=42,learning_rate=0.1,subsample=0.7,n_estimators=60)\n",
    "gbr.fit(x_train_stan,y_train)\n",
    "print(gbr.score(x_train_stan, y_train))\n",
    "print(gbr.score(x_test_stan, y_test))\n"
   ]
  },
  {
   "cell_type": "code",
   "execution_count": 213,
   "id": "7824afa7",
   "metadata": {
    "scrolled": true
   },
   "outputs": [
    {
     "name": "stdout",
     "output_type": "stream",
     "text": [
      "0.6389027613881709\n",
      "0.30079069800417646\n"
     ]
    }
   ],
   "source": [
    "gbr = GradientBoostingRegressor(random_state=42,learning_rate=0.1,subsample=0.69 ,n_estimators=23)\n",
    "gbr.fit(x_train_stan,y_train)\n",
    "print(gbr.score(x_train_stan, y_train))\n",
    "print(gbr.score(x_test_stan, y_test))"
   ]
  },
  {
   "cell_type": "code",
   "execution_count": null,
   "id": "0e8d60f3",
   "metadata": {},
   "outputs": [],
   "source": []
  },
  {
   "cell_type": "code",
   "execution_count": null,
   "id": "a079f405",
   "metadata": {},
   "outputs": [],
   "source": []
  },
  {
   "cell_type": "code",
   "execution_count": 97,
   "id": "bc86a6cf",
   "metadata": {},
   "outputs": [],
   "source": [
    "cv = KFold(5, shuffle=True, random_state=42)\n",
    "params = { \n",
    "    'learning_rate': np.arange(0.01,0.25,0.01),\n",
    "    'subsample' : np.arange(0.1,1,0.1),\n",
    "    'n_estimators': np.arange(5,100,5)}\n",
    "grid_b=GridSearchCV(GradientBoostingRegressor(random_state=42),param_grid=params,cv=cv, refit=True, verbose=True, n_jobs=-1) "
   ]
  },
  {
   "cell_type": "code",
   "execution_count": 98,
   "id": "23bc8b92",
   "metadata": {
    "collapsed": true
   },
   "outputs": [
    {
     "name": "stdout",
     "output_type": "stream",
     "text": [
      "Fitting 5 folds for each of 4104 candidates, totalling 20520 fits\n"
     ]
    },
    {
     "data": {
      "text/plain": [
       "GridSearchCV(cv=KFold(n_splits=5, random_state=42, shuffle=True),\n",
       "             estimator=GradientBoostingRegressor(random_state=42), n_jobs=-1,\n",
       "             param_grid={'learning_rate': array([0.01, 0.02, 0.03, 0.04, 0.05, 0.06, 0.07, 0.08, 0.09, 0.1 , 0.11,\n",
       "       0.12, 0.13, 0.14, 0.15, 0.16, 0.17, 0.18, 0.19, 0.2 , 0.21, 0.22,\n",
       "       0.23, 0.24]),\n",
       "                         'n_estimators': array([ 5, 10, 15, 20, 25, 30, 35, 40, 45, 50, 55, 60, 65, 70, 75, 80, 85,\n",
       "       90, 95]),\n",
       "                         'subsample': array([0.1, 0.2, 0.3, 0.4, 0.5, 0.6, 0.7, 0.8, 0.9])},\n",
       "             verbose=True)"
      ]
     },
     "execution_count": 98,
     "metadata": {},
     "output_type": "execute_result"
    }
   ],
   "source": [
    "grid_b.fit(x_train_stan,y_train)"
   ]
  },
  {
   "cell_type": "code",
   "execution_count": 99,
   "id": "52dfeb90",
   "metadata": {},
   "outputs": [
    {
     "data": {
      "text/plain": [
       "GradientBoostingRegressor(learning_rate=0.08, n_estimators=10, random_state=42,\n",
       "                          subsample=0.8)"
      ]
     },
     "execution_count": 99,
     "metadata": {},
     "output_type": "execute_result"
    }
   ],
   "source": [
    "grid_b.best_estimator_ "
   ]
  },
  {
   "cell_type": "code",
   "execution_count": 110,
   "id": "3e919366",
   "metadata": {},
   "outputs": [
    {
     "data": {
      "text/plain": [
       "0.10215465207928398"
      ]
     },
     "execution_count": 110,
     "metadata": {},
     "output_type": "execute_result"
    }
   ],
   "source": [
    "grid_b.best_score_ "
   ]
  },
  {
   "cell_type": "code",
   "execution_count": 111,
   "id": "d6d3d11a",
   "metadata": {},
   "outputs": [
    {
     "data": {
      "text/plain": [
       "0.38350688839991975"
      ]
     },
     "execution_count": 111,
     "metadata": {},
     "output_type": "execute_result"
    }
   ],
   "source": [
    "grid_b.score(x_train_stan,y_train)"
   ]
  },
  {
   "cell_type": "code",
   "execution_count": 112,
   "id": "031f567d",
   "metadata": {},
   "outputs": [
    {
     "data": {
      "text/plain": [
       "0.1882366663909122"
      ]
     },
     "execution_count": 112,
     "metadata": {},
     "output_type": "execute_result"
    }
   ],
   "source": [
    "grid_b.score(x_test_stan,y_test)"
   ]
  },
  {
   "cell_type": "markdown",
   "id": "de57aca0",
   "metadata": {},
   "source": []
  },
  {
   "cell_type": "code",
   "execution_count": 216,
   "id": "ef920cf4",
   "metadata": {
    "collapsed": true
   },
   "outputs": [
    {
     "name": "stdout",
     "output_type": "stream",
     "text": [
      "[6.65725706e-02 0.00000000e+00 0.00000000e+00 0.00000000e+00\n",
      " 0.00000000e+00 0.00000000e+00 1.10074016e-02 7.01406582e-03\n",
      " 8.14691232e-03 0.00000000e+00 7.37017661e-03 2.58900517e-02\n",
      " 0.00000000e+00 7.96097974e-03 0.00000000e+00 3.90605401e-02\n",
      " 0.00000000e+00 1.88747546e-02 3.21705890e-03 0.00000000e+00\n",
      " 0.00000000e+00 0.00000000e+00 0.00000000e+00 2.91119429e-04\n",
      " 1.85077073e-03 3.95841543e-04 8.50167893e-05 0.00000000e+00\n",
      " 7.69034880e-02 4.26840162e-04 0.00000000e+00 0.00000000e+00\n",
      " 0.00000000e+00 0.00000000e+00 0.00000000e+00 1.13454661e-03\n",
      " 1.59864323e-02 0.00000000e+00 0.00000000e+00 0.00000000e+00\n",
      " 9.61234209e-04 6.15175719e-03 5.70081337e-03 0.00000000e+00\n",
      " 0.00000000e+00 0.00000000e+00 0.00000000e+00 0.00000000e+00\n",
      " 0.00000000e+00 0.00000000e+00 1.02864885e-03 0.00000000e+00\n",
      " 0.00000000e+00 0.00000000e+00 0.00000000e+00 0.00000000e+00\n",
      " 0.00000000e+00 0.00000000e+00 0.00000000e+00 0.00000000e+00\n",
      " 0.00000000e+00 1.48372252e-02 0.00000000e+00 0.00000000e+00\n",
      " 0.00000000e+00 0.00000000e+00 0.00000000e+00 2.96430601e-04\n",
      " 1.87601829e-02 0.00000000e+00 0.00000000e+00 0.00000000e+00\n",
      " 0.00000000e+00 0.00000000e+00 0.00000000e+00 0.00000000e+00\n",
      " 0.00000000e+00 0.00000000e+00 5.98323232e-04 0.00000000e+00\n",
      " 3.49171213e-03 0.00000000e+00 0.00000000e+00 0.00000000e+00\n",
      " 0.00000000e+00 0.00000000e+00 4.00831252e-04 0.00000000e+00\n",
      " 0.00000000e+00 0.00000000e+00 0.00000000e+00 7.64625707e-03\n",
      " 1.96019236e-04 0.00000000e+00 0.00000000e+00 0.00000000e+00\n",
      " 3.27858948e-03 0.00000000e+00 0.00000000e+00 0.00000000e+00\n",
      " 0.00000000e+00 0.00000000e+00 0.00000000e+00 0.00000000e+00\n",
      " 2.11004996e-02 1.89807775e-02 0.00000000e+00 3.25645466e-02\n",
      " 9.86041824e-03 6.13038346e-02 8.08546644e-03 1.03966774e-02\n",
      " 6.87481362e-03 5.89081722e-03 6.12112335e-03 3.80190839e-03\n",
      " 0.00000000e+00 1.30657987e-02 0.00000000e+00 0.00000000e+00\n",
      " 3.22482163e-03 0.00000000e+00 2.07751465e-02 0.00000000e+00\n",
      " 0.00000000e+00 0.00000000e+00 0.00000000e+00 0.00000000e+00\n",
      " 6.14435412e-03 1.04613351e-02 7.42515981e-03 0.00000000e+00\n",
      " 0.00000000e+00 1.26903042e-02 8.25003953e-03 0.00000000e+00\n",
      " 1.32308304e-02 3.24260218e-02 6.56607631e-03 3.43965977e-03\n",
      " 2.00932264e-03 8.77256608e-03 3.00815031e-03 0.00000000e+00\n",
      " 2.02016604e-03 4.28170339e-03 1.28375994e-02 2.18917026e-03\n",
      " 2.54365650e-02 1.96738169e-02 3.33551921e-03 1.61581945e-05\n",
      " 6.81668227e-04 0.00000000e+00 0.00000000e+00 0.00000000e+00\n",
      " 9.70248276e-03 1.67597198e-02 2.63290815e-03 2.94835409e-03\n",
      " 0.00000000e+00 0.00000000e+00 0.00000000e+00 0.00000000e+00\n",
      " 0.00000000e+00 2.94297641e-03 7.48574253e-03 3.42142894e-03\n",
      " 7.64918988e-03 0.00000000e+00 2.68179792e-02 2.90329401e-03\n",
      " 2.02307097e-02 0.00000000e+00 2.29786091e-02 2.41259797e-02\n",
      " 0.00000000e+00 1.22792924e-02 0.00000000e+00 0.00000000e+00\n",
      " 0.00000000e+00 1.85926222e-02 0.00000000e+00 9.28044246e-03\n",
      " 1.29732785e-02 0.00000000e+00 2.54393786e-03 0.00000000e+00\n",
      " 0.00000000e+00 7.23133346e-03 2.40202899e-02 0.00000000e+00\n",
      " 0.00000000e+00 0.00000000e+00 0.00000000e+00 0.00000000e+00\n",
      " 0.00000000e+00 0.00000000e+00]\n"
     ]
    },
    {
     "data": {
      "text/html": [
       "<div>\n",
       "<style scoped>\n",
       "    .dataframe tbody tr th:only-of-type {\n",
       "        vertical-align: middle;\n",
       "    }\n",
       "\n",
       "    .dataframe tbody tr th {\n",
       "        vertical-align: top;\n",
       "    }\n",
       "\n",
       "    .dataframe thead th {\n",
       "        text-align: right;\n",
       "    }\n",
       "</style>\n",
       "<table border=\"1\" class=\"dataframe\">\n",
       "  <thead>\n",
       "    <tr style=\"text-align: right;\">\n",
       "      <th></th>\n",
       "      <th>features_name</th>\n",
       "      <th>importance</th>\n",
       "    </tr>\n",
       "  </thead>\n",
       "  <tbody>\n",
       "    <tr>\n",
       "      <th>28</th>\n",
       "      <td>남성연령대_30_일요일시간대_4_생활인구_수</td>\n",
       "      <td>0.076903</td>\n",
       "    </tr>\n",
       "    <tr>\n",
       "      <th>0</th>\n",
       "      <td>시간대_5_생활인구_수</td>\n",
       "      <td>0.066573</td>\n",
       "    </tr>\n",
       "    <tr>\n",
       "      <th>109</th>\n",
       "      <td>아파트_가격_4_억_세대_수</td>\n",
       "      <td>0.061304</td>\n",
       "    </tr>\n",
       "    <tr>\n",
       "      <th>15</th>\n",
       "      <td>남성연령대_20_토요일시간대_5_생활인구_수</td>\n",
       "      <td>0.039061</td>\n",
       "    </tr>\n",
       "    <tr>\n",
       "      <th>107</th>\n",
       "      <td>아파트_가격_1_억_세대_수</td>\n",
       "      <td>0.032565</td>\n",
       "    </tr>\n",
       "    <tr>\n",
       "      <th>137</th>\n",
       "      <td>목요일_매출_비율</td>\n",
       "      <td>0.032426</td>\n",
       "    </tr>\n",
       "    <tr>\n",
       "      <th>170</th>\n",
       "      <td>시간대_건수~24_매출_건수</td>\n",
       "      <td>0.026818</td>\n",
       "    </tr>\n",
       "    <tr>\n",
       "      <th>11</th>\n",
       "      <td>남성연령대_20_금요일시간대_2_생활인구_수</td>\n",
       "      <td>0.025890</td>\n",
       "    </tr>\n",
       "    <tr>\n",
       "      <th>148</th>\n",
       "      <td>연령대_20_매출_비율</td>\n",
       "      <td>0.025437</td>\n",
       "    </tr>\n",
       "    <tr>\n",
       "      <th>175</th>\n",
       "      <td>연령대_30_매출_건수</td>\n",
       "      <td>0.024126</td>\n",
       "    </tr>\n",
       "    <tr>\n",
       "      <th>190</th>\n",
       "      <td>버스정류장 수</td>\n",
       "      <td>0.024020</td>\n",
       "    </tr>\n",
       "    <tr>\n",
       "      <th>174</th>\n",
       "      <td>연령대_20_매출_건수</td>\n",
       "      <td>0.022979</td>\n",
       "    </tr>\n",
       "    <tr>\n",
       "      <th>104</th>\n",
       "      <td>아파트_면적_66_제곱미터_세대_수</td>\n",
       "      <td>0.021100</td>\n",
       "    </tr>\n",
       "    <tr>\n",
       "      <th>122</th>\n",
       "      <td>남성연령대_60_이상_직장_인구_수</td>\n",
       "      <td>0.020775</td>\n",
       "    </tr>\n",
       "    <tr>\n",
       "      <th>172</th>\n",
       "      <td>여성_매출_건수</td>\n",
       "      <td>0.020231</td>\n",
       "    </tr>\n",
       "  </tbody>\n",
       "</table>\n",
       "</div>"
      ],
      "text/plain": [
       "                features_name  importance\n",
       "28   남성연령대_30_일요일시간대_4_생활인구_수    0.076903\n",
       "0                시간대_5_생활인구_수    0.066573\n",
       "109           아파트_가격_4_억_세대_수    0.061304\n",
       "15   남성연령대_20_토요일시간대_5_생활인구_수    0.039061\n",
       "107           아파트_가격_1_억_세대_수    0.032565\n",
       "137                 목요일_매출_비율    0.032426\n",
       "170           시간대_건수~24_매출_건수    0.026818\n",
       "11   남성연령대_20_금요일시간대_2_생활인구_수    0.025890\n",
       "148              연령대_20_매출_비율    0.025437\n",
       "175              연령대_30_매출_건수    0.024126\n",
       "190                   버스정류장 수    0.024020\n",
       "174              연령대_20_매출_건수    0.022979\n",
       "104       아파트_면적_66_제곱미터_세대_수    0.021100\n",
       "122       남성연령대_60_이상_직장_인구_수    0.020775\n",
       "172                  여성_매출_건수    0.020231"
      ]
     },
     "execution_count": 216,
     "metadata": {},
     "output_type": "execute_result"
    }
   ],
   "source": [
    "gbr_model = GradientBoostingRegressor(random_state=42,learning_rate=0.1,subsample=0.69,n_estimators=23)\n",
    "gbr_model.fit(x_train_stan, y_train)\n",
    "\n",
    "print(gbr_model.feature_importances_)\n",
    "feature_list = pd.concat([pd.Series(x.columns), pd.Series(gbr_model.feature_importances_)], axis=1)\n",
    "feature_list.columns = ['features_name', 'importance']\n",
    "feature_list.sort_values(\"importance\", ascending =False)[:15]"
   ]
  },
  {
   "cell_type": "code",
   "execution_count": null,
   "id": "4e6457db",
   "metadata": {},
   "outputs": [],
   "source": []
  },
  {
   "cell_type": "markdown",
   "id": "526a22a6",
   "metadata": {},
   "source": [
    "### 최종결론"
   ]
  },
  {
   "cell_type": "markdown",
   "id": "a8c754b0",
   "metadata": {},
   "source": [
    "### Extratree model에 한해서는  df_ada_opt.csv를 적용했을 때 프로젝트 기간 동안의 총 score 중 가장 높았음"
   ]
  },
  {
   "cell_type": "markdown",
   "id": "ca9d8673",
   "metadata": {},
   "source": [
    "### 모든 경우의 수와 모델을 조합한 결과 획득한 best_score와 model은raw_df를 사용한 raw_ML_model_RandomForest에서의 RandomForest_test_param_tuning의 score"
   ]
  },
  {
   "cell_type": "code",
   "execution_count": null,
   "id": "4fa343d1",
   "metadata": {},
   "outputs": [],
   "source": []
  },
  {
   "cell_type": "code",
   "execution_count": null,
   "id": "a3bfdaef",
   "metadata": {},
   "outputs": [],
   "source": []
  }
 ],
 "metadata": {
  "kernelspec": {
   "display_name": "Python 3",
   "language": "python",
   "name": "python3"
  },
  "language_info": {
   "codemirror_mode": {
    "name": "ipython",
    "version": 3
   },
   "file_extension": ".py",
   "mimetype": "text/x-python",
   "name": "python",
   "nbconvert_exporter": "python",
   "pygments_lexer": "ipython3",
   "version": "3.8.8"
  }
 },
 "nbformat": 4,
 "nbformat_minor": 5
}
