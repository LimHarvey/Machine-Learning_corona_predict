{
 "cells": [
  {
   "cell_type": "markdown",
   "id": "401cdf84",
   "metadata": {},
   "source": [
    "### geo3_save_load\n",
    "- GeoDataFrame의 지속적인 활용을 위해 csv가 아닌 Geojson형태로 저장해야 함을 강조\n",
    "    - csv file을 load하면 형태만 GeoDataFrame이고 실질적으로 일반 DataFrame이기 때문"
   ]
  },
  {
   "cell_type": "code",
   "execution_count": null,
   "id": "46fb3f94",
   "metadata": {},
   "outputs": [],
   "source": []
  },
  {
   "cell_type": "code",
   "execution_count": 2,
   "id": "90fb1133",
   "metadata": {},
   "outputs": [],
   "source": [
    "import json\n",
    "from geopandas import GeoSeries, GeoDataFrame, read_file\n",
    "from shapely.geometry import Point, Polygon\n",
    "import geopandas as gpd\n",
    "import pandas as pd\n"
   ]
  },
  {
   "cell_type": "code",
   "execution_count": 3,
   "id": "54c042d7",
   "metadata": {},
   "outputs": [
    {
     "data": {
      "text/html": [
       "<div>\n",
       "<style scoped>\n",
       "    .dataframe tbody tr th:only-of-type {\n",
       "        vertical-align: middle;\n",
       "    }\n",
       "\n",
       "    .dataframe tbody tr th {\n",
       "        vertical-align: top;\n",
       "    }\n",
       "\n",
       "    .dataframe thead th {\n",
       "        text-align: right;\n",
       "    }\n",
       "</style>\n",
       "<table border=\"1\" class=\"dataframe\">\n",
       "  <thead>\n",
       "    <tr style=\"text-align: right;\">\n",
       "      <th></th>\n",
       "      <th>시</th>\n",
       "      <th>지명</th>\n",
       "      <th>좌표</th>\n",
       "      <th>lat</th>\n",
       "      <th>lon</th>\n",
       "      <th>point</th>\n",
       "      <th>geometry</th>\n",
       "    </tr>\n",
       "  </thead>\n",
       "  <tbody>\n",
       "    <tr>\n",
       "      <th>0</th>\n",
       "      <td>서울특별시</td>\n",
       "      <td>피자몰회기역점</td>\n",
       "      <td>37.5900925507337,127.05638644492198</td>\n",
       "      <td>37.590093</td>\n",
       "      <td>127.056386</td>\n",
       "      <td>POINT (126.998190621218 37.49771392155949)</td>\n",
       "      <td>POINT (127.056386444922 37.5900925507337)</td>\n",
       "    </tr>\n",
       "    <tr>\n",
       "      <th>1</th>\n",
       "      <td>서울특별시</td>\n",
       "      <td>코로나19경희대학교병원선별진료소</td>\n",
       "      <td>37.5938752004487,127.051832862704</td>\n",
       "      <td>37.593875</td>\n",
       "      <td>127.051833</td>\n",
       "      <td>POINT (126.998190621218 37.49771392155949)</td>\n",
       "      <td>POINT (127.051832862704 37.5938752004487)</td>\n",
       "    </tr>\n",
       "    <tr>\n",
       "      <th>2</th>\n",
       "      <td>서울특별시</td>\n",
       "      <td>긱스타PC방</td>\n",
       "      <td>37.4798642759744,126.952112617476</td>\n",
       "      <td>37.479864</td>\n",
       "      <td>126.952113</td>\n",
       "      <td>POINT (126.998190621218 37.49771392155949)</td>\n",
       "      <td>POINT (126.952112617476 37.4798642759744)</td>\n",
       "    </tr>\n",
       "    <tr>\n",
       "      <th>3</th>\n",
       "      <td>서울특별시</td>\n",
       "      <td>엄마밥상</td>\n",
       "      <td>37.47155151403081,126.94015305484399</td>\n",
       "      <td>37.471552</td>\n",
       "      <td>126.940153</td>\n",
       "      <td>POINT (126.998190621218 37.49771392155949)</td>\n",
       "      <td>POINT (126.940153054844 37.47155151403081)</td>\n",
       "    </tr>\n",
       "    <tr>\n",
       "      <th>4</th>\n",
       "      <td>서울특별시</td>\n",
       "      <td>언제나열린이비인후과의원</td>\n",
       "      <td>37.48476920038009,126.930088627422</td>\n",
       "      <td>37.484769</td>\n",
       "      <td>126.930089</td>\n",
       "      <td>POINT (126.998190621218 37.49771392155949)</td>\n",
       "      <td>POINT (126.930088627422 37.48476920038009)</td>\n",
       "    </tr>\n",
       "  </tbody>\n",
       "</table>\n",
       "</div>"
      ],
      "text/plain": [
       "       시                 지명                                    좌표        lat  \\\n",
       "0  서울특별시            피자몰회기역점   37.5900925507337,127.05638644492198  37.590093   \n",
       "1  서울특별시  코로나19경희대학교병원선별진료소     37.5938752004487,127.051832862704  37.593875   \n",
       "2  서울특별시             긱스타PC방     37.4798642759744,126.952112617476  37.479864   \n",
       "3  서울특별시               엄마밥상  37.47155151403081,126.94015305484399  37.471552   \n",
       "4  서울특별시       언제나열린이비인후과의원    37.48476920038009,126.930088627422  37.484769   \n",
       "\n",
       "          lon                                       point  \\\n",
       "0  127.056386  POINT (126.998190621218 37.49771392155949)   \n",
       "1  127.051833  POINT (126.998190621218 37.49771392155949)   \n",
       "2  126.952113  POINT (126.998190621218 37.49771392155949)   \n",
       "3  126.940153  POINT (126.998190621218 37.49771392155949)   \n",
       "4  126.930089  POINT (126.998190621218 37.49771392155949)   \n",
       "\n",
       "                                     geometry  \n",
       "0   POINT (127.056386444922 37.5900925507337)  \n",
       "1   POINT (127.051832862704 37.5938752004487)  \n",
       "2   POINT (126.952112617476 37.4798642759744)  \n",
       "3  POINT (126.940153054844 37.47155151403081)  \n",
       "4  POINT (126.930088627422 37.48476920038009)  "
      ]
     },
     "execution_count": 3,
     "metadata": {},
     "output_type": "execute_result"
    }
   ],
   "source": [
    "df_seoul2 = pd.read_csv('./data/seoul_inf.csv',index_col=0)\n",
    "df_seoul2.head()"
   ]
  },
  {
   "cell_type": "code",
   "execution_count": 10,
   "id": "5faaf000",
   "metadata": {},
   "outputs": [
    {
     "name": "stdout",
     "output_type": "stream",
     "text": [
      "<class 'pandas.core.frame.DataFrame'>\n",
      "Int64Index: 26115 entries, 0 to 26114\n",
      "Data columns (total 7 columns):\n",
      " #   Column    Non-Null Count  Dtype  \n",
      "---  ------    --------------  -----  \n",
      " 0   시         26115 non-null  object \n",
      " 1   지명        26115 non-null  object \n",
      " 2   좌표        26115 non-null  object \n",
      " 3   lat       26115 non-null  float64\n",
      " 4   lon       26115 non-null  float64\n",
      " 5   point     26115 non-null  object \n",
      " 6   geometry  26115 non-null  object \n",
      "dtypes: float64(2), object(5)\n",
      "memory usage: 1.6+ MB\n"
     ]
    }
   ],
   "source": [
    "df_seoul2.info() # 여전히 dataframe"
   ]
  },
  {
   "cell_type": "code",
   "execution_count": 12,
   "id": "f866c9c3",
   "metadata": {},
   "outputs": [
    {
     "data": {
      "text/html": [
       "<div>\n",
       "<style scoped>\n",
       "    .dataframe tbody tr th:only-of-type {\n",
       "        vertical-align: middle;\n",
       "    }\n",
       "\n",
       "    .dataframe tbody tr th {\n",
       "        vertical-align: top;\n",
       "    }\n",
       "\n",
       "    .dataframe thead th {\n",
       "        text-align: right;\n",
       "    }\n",
       "</style>\n",
       "<table border=\"1\" class=\"dataframe\">\n",
       "  <thead>\n",
       "    <tr style=\"text-align: right;\">\n",
       "      <th></th>\n",
       "      <th>시</th>\n",
       "      <th>지명</th>\n",
       "      <th>좌표</th>\n",
       "      <th>lat</th>\n",
       "      <th>lon</th>\n",
       "      <th>point</th>\n",
       "      <th>geometry</th>\n",
       "    </tr>\n",
       "  </thead>\n",
       "  <tbody>\n",
       "    <tr>\n",
       "      <th>0</th>\n",
       "      <td>서울특별시</td>\n",
       "      <td>피자몰회기역점</td>\n",
       "      <td>37.5900925507337,127.05638644492198</td>\n",
       "      <td>37.590093</td>\n",
       "      <td>127.056386</td>\n",
       "      <td>POINT (126.998190621218 37.49771392155949)</td>\n",
       "      <td>POINT (127.05639 37.59009)</td>\n",
       "    </tr>\n",
       "    <tr>\n",
       "      <th>1</th>\n",
       "      <td>서울특별시</td>\n",
       "      <td>코로나19경희대학교병원선별진료소</td>\n",
       "      <td>37.5938752004487,127.051832862704</td>\n",
       "      <td>37.593875</td>\n",
       "      <td>127.051833</td>\n",
       "      <td>POINT (126.998190621218 37.49771392155949)</td>\n",
       "      <td>POINT (127.05183 37.59388)</td>\n",
       "    </tr>\n",
       "  </tbody>\n",
       "</table>\n",
       "</div>"
      ],
      "text/plain": [
       "       시                 지명                                   좌표        lat  \\\n",
       "0  서울특별시            피자몰회기역점  37.5900925507337,127.05638644492198  37.590093   \n",
       "1  서울특별시  코로나19경희대학교병원선별진료소    37.5938752004487,127.051832862704  37.593875   \n",
       "\n",
       "          lon                                       point  \\\n",
       "0  127.056386  POINT (126.998190621218 37.49771392155949)   \n",
       "1  127.051833  POINT (126.998190621218 37.49771392155949)   \n",
       "\n",
       "                     geometry  \n",
       "0  POINT (127.05639 37.59009)  \n",
       "1  POINT (127.05183 37.59388)  "
      ]
     },
     "execution_count": 12,
     "metadata": {},
     "output_type": "execute_result"
    }
   ],
   "source": [
    "# 다시 이 작업을 거쳐야 geo_dataframe이 됨.\n",
    "df= gpd.GeoDataFrame(df_seoul2, geometry=gpd.points_from_xy(df_seoul2['lon'],df_seoul2['lat']))\n",
    "df.head(2)"
   ]
  },
  {
   "cell_type": "code",
   "execution_count": 14,
   "id": "135952fd",
   "metadata": {},
   "outputs": [],
   "source": [
    "df1=df[['지명','geometry']]"
   ]
  },
  {
   "cell_type": "code",
   "execution_count": 15,
   "id": "69d5aa37",
   "metadata": {},
   "outputs": [
    {
     "name": "stdout",
     "output_type": "stream",
     "text": [
      "<class 'geopandas.geodataframe.GeoDataFrame'>\n",
      "Int64Index: 26115 entries, 0 to 26114\n",
      "Data columns (total 2 columns):\n",
      " #   Column    Non-Null Count  Dtype   \n",
      "---  ------    --------------  -----   \n",
      " 0   지명        26115 non-null  object  \n",
      " 1   geometry  26115 non-null  geometry\n",
      "dtypes: geometry(1), object(1)\n",
      "memory usage: 612.1+ KB\n"
     ]
    }
   ],
   "source": [
    "df1.info()"
   ]
  },
  {
   "cell_type": "code",
   "execution_count": null,
   "id": "4243705f",
   "metadata": {},
   "outputs": [],
   "source": []
  },
  {
   "cell_type": "code",
   "execution_count": null,
   "id": "a47c0a49",
   "metadata": {},
   "outputs": [],
   "source": [
    "# 저장시 csv와 geojson 형태 모두 저장해 놓는게 좋다."
   ]
  },
  {
   "cell_type": "code",
   "execution_count": 16,
   "id": "296187ee",
   "metadata": {},
   "outputs": [],
   "source": [
    "df1.to_file(driver='GeoJSON', filename='df_seoul_inf.geojson')"
   ]
  },
  {
   "cell_type": "code",
   "execution_count": 17,
   "id": "1a8cb085",
   "metadata": {},
   "outputs": [
    {
     "name": "stdout",
     "output_type": "stream",
     "text": [
      "<class 'geopandas.geodataframe.GeoDataFrame'>\n",
      "RangeIndex: 26115 entries, 0 to 26114\n",
      "Data columns (total 2 columns):\n",
      " #   Column    Non-Null Count  Dtype   \n",
      "---  ------    --------------  -----   \n",
      " 0   지명        26115 non-null  object  \n",
      " 1   geometry  26115 non-null  geometry\n",
      "dtypes: geometry(1), object(1)\n",
      "memory usage: 408.2+ KB\n"
     ]
    }
   ],
   "source": [
    "df_geo = gpd.GeoDataFrame.from_file('./data/df_seoul_inf.geojson')\n",
    "# df_geo = gpd.read_file('df_geo.geojson')로 해도 같다.\n",
    "df_geo.info()"
   ]
  },
  {
   "cell_type": "code",
   "execution_count": 18,
   "id": "8362a8a0",
   "metadata": {},
   "outputs": [],
   "source": [
    "df_geo.to_csv('df_seoul_inf.csv')"
   ]
  },
  {
   "cell_type": "code",
   "execution_count": null,
   "id": "ef0e9083",
   "metadata": {},
   "outputs": [],
   "source": [
    "# 불러들일 때 좌표계 선택 가능\n",
    "# gdf = gpd.GeoDataFrame(df, geometry=gpd.points_from_xy(df['latitude'], df['longitude']),\n",
    "#                                 crs={'init' :'epsg:3763'})"
   ]
  },
  {
   "cell_type": "code",
   "execution_count": null,
   "id": "96a2396f",
   "metadata": {},
   "outputs": [],
   "source": []
  }
 ],
 "metadata": {
  "kernelspec": {
   "display_name": "Python 3",
   "language": "python",
   "name": "python3"
  },
  "language_info": {
   "codemirror_mode": {
    "name": "ipython",
    "version": 3
   },
   "file_extension": ".py",
   "mimetype": "text/x-python",
   "name": "python",
   "nbconvert_exporter": "python",
   "pygments_lexer": "ipython3",
   "version": "3.8.8"
  }
 },
 "nbformat": 4,
 "nbformat_minor": 5
}
