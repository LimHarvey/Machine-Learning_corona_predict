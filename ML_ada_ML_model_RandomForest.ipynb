{
 "cells": [
  {
   "cell_type": "markdown",
   "id": "486a742f",
   "metadata": {},
   "source": [
    "### ada_ML_model_RandomForest\n",
    "\n",
    "- raw_df 전체를 adaboost 방식으로 feature_importance 기준으로 축소  ==> df_ada_opt\n",
    "- df_ada_opt사용 / 분석 방식은 raw와 동일"
   ]
  },
  {
   "cell_type": "code",
   "execution_count": null,
   "id": "1b44843c",
   "metadata": {},
   "outputs": [],
   "source": []
  },
  {
   "cell_type": "code",
   "execution_count": 2,
   "id": "9d7e39ba",
   "metadata": {},
   "outputs": [],
   "source": [
    "import pandas as pd\n",
    "import numpy as np\n",
    "import matplotlib.pyplot as plt\n",
    "import seaborn as sns"
   ]
  },
  {
   "cell_type": "code",
   "execution_count": 3,
   "id": "60e63b8b",
   "metadata": {},
   "outputs": [],
   "source": [
    "import warnings\n",
    "\n",
    "warnings.filterwarnings(action='ignore')"
   ]
  },
  {
   "cell_type": "code",
   "execution_count": 4,
   "id": "2a92bf0a",
   "metadata": {},
   "outputs": [],
   "source": [
    "\n",
    "import matplotlib as mpl\n",
    "import matplotlib.font_manager as fm\n",
    "\n",
    "mpl.rcParams['axes.unicode_minus']= False\n",
    "\n",
    "path = 'C:/Windows/Fonts/malgun.ttf'\n",
    "font_name = fm.FontProperties(fname = path, size = 50).get_name()\n",
    "plt.rc('font', family=font_name)"
   ]
  },
  {
   "cell_type": "code",
   "execution_count": null,
   "id": "47c28de2",
   "metadata": {},
   "outputs": [],
   "source": []
  },
  {
   "cell_type": "code",
   "execution_count": 5,
   "id": "286172de",
   "metadata": {},
   "outputs": [
    {
     "data": {
      "text/html": [
       "<div>\n",
       "<style scoped>\n",
       "    .dataframe tbody tr th:only-of-type {\n",
       "        vertical-align: middle;\n",
       "    }\n",
       "\n",
       "    .dataframe tbody tr th {\n",
       "        vertical-align: top;\n",
       "    }\n",
       "\n",
       "    .dataframe thead th {\n",
       "        text-align: right;\n",
       "    }\n",
       "</style>\n",
       "<table border=\"1\" class=\"dataframe\">\n",
       "  <thead>\n",
       "    <tr style=\"text-align: right;\">\n",
       "      <th></th>\n",
       "      <th>기준_분기_코드</th>\n",
       "      <th>시간대_5_생활인구_수</th>\n",
       "      <th>금요일_생활인구_수</th>\n",
       "      <th>남성연령대_10_월요일시간대_4_생활인구_수</th>\n",
       "      <th>남성연령대_10_월요일시간대_6_생활인구_수</th>\n",
       "      <th>남성연령대_10_금요일시간대_1_생활인구_수</th>\n",
       "      <th>남성연령대_10_토요일시간대_1_생활인구_수</th>\n",
       "      <th>남성연령대_10_일요일시간대_1_생활인구_수</th>\n",
       "      <th>남성연령대_20_화요일시간대_2_생활인구_수</th>\n",
       "      <th>남성연령대_20_화요일시간대_5_생활인구_수</th>\n",
       "      <th>...</th>\n",
       "      <th>15시총승객수</th>\n",
       "      <th>16시총승객수</th>\n",
       "      <th>18시총승객수</th>\n",
       "      <th>버스정류장 수</th>\n",
       "      <th>확진자수</th>\n",
       "      <th>matching_상권_코드_명_구로디지탈1단지</th>\n",
       "      <th>matching_상권_코드_명_등나무근린공원 주변</th>\n",
       "      <th>matching_상권_코드_명_면목로21길</th>\n",
       "      <th>matching_상권_코드_명_사평대로22길</th>\n",
       "      <th>matching_상권_코드_명_서울 금천구 시흥1동_4</th>\n",
       "    </tr>\n",
       "  </thead>\n",
       "  <tbody>\n",
       "    <tr>\n",
       "      <th>0</th>\n",
       "      <td>2.0</td>\n",
       "      <td>19681.0</td>\n",
       "      <td>14524.0</td>\n",
       "      <td>52.0</td>\n",
       "      <td>26.0</td>\n",
       "      <td>20.0</td>\n",
       "      <td>19.0</td>\n",
       "      <td>31.0</td>\n",
       "      <td>232.0</td>\n",
       "      <td>276.0</td>\n",
       "      <td>...</td>\n",
       "      <td>75324.0</td>\n",
       "      <td>79770.0</td>\n",
       "      <td>124375.0</td>\n",
       "      <td>10.0</td>\n",
       "      <td>0.0</td>\n",
       "      <td>0</td>\n",
       "      <td>0</td>\n",
       "      <td>0</td>\n",
       "      <td>0</td>\n",
       "      <td>0</td>\n",
       "    </tr>\n",
       "    <tr>\n",
       "      <th>1</th>\n",
       "      <td>1.0</td>\n",
       "      <td>10957.5</td>\n",
       "      <td>7716.5</td>\n",
       "      <td>41.0</td>\n",
       "      <td>17.5</td>\n",
       "      <td>15.0</td>\n",
       "      <td>16.5</td>\n",
       "      <td>17.0</td>\n",
       "      <td>128.0</td>\n",
       "      <td>160.0</td>\n",
       "      <td>...</td>\n",
       "      <td>26121.5</td>\n",
       "      <td>27995.0</td>\n",
       "      <td>46746.0</td>\n",
       "      <td>10.0</td>\n",
       "      <td>6.0</td>\n",
       "      <td>0</td>\n",
       "      <td>0</td>\n",
       "      <td>0</td>\n",
       "      <td>0</td>\n",
       "      <td>0</td>\n",
       "    </tr>\n",
       "    <tr>\n",
       "      <th>2</th>\n",
       "      <td>2.0</td>\n",
       "      <td>616400.0</td>\n",
       "      <td>447232.0</td>\n",
       "      <td>2515.0</td>\n",
       "      <td>2129.0</td>\n",
       "      <td>3425.0</td>\n",
       "      <td>3601.0</td>\n",
       "      <td>3530.0</td>\n",
       "      <td>7350.0</td>\n",
       "      <td>8700.0</td>\n",
       "      <td>...</td>\n",
       "      <td>158290.0</td>\n",
       "      <td>182107.0</td>\n",
       "      <td>278260.0</td>\n",
       "      <td>24.0</td>\n",
       "      <td>131.0</td>\n",
       "      <td>0</td>\n",
       "      <td>0</td>\n",
       "      <td>0</td>\n",
       "      <td>0</td>\n",
       "      <td>0</td>\n",
       "    </tr>\n",
       "    <tr>\n",
       "      <th>3</th>\n",
       "      <td>1.0</td>\n",
       "      <td>312754.5</td>\n",
       "      <td>225113.5</td>\n",
       "      <td>1562.0</td>\n",
       "      <td>1117.5</td>\n",
       "      <td>1778.5</td>\n",
       "      <td>1943.0</td>\n",
       "      <td>1796.0</td>\n",
       "      <td>3671.5</td>\n",
       "      <td>4413.0</td>\n",
       "      <td>...</td>\n",
       "      <td>52638.5</td>\n",
       "      <td>59534.0</td>\n",
       "      <td>98559.0</td>\n",
       "      <td>24.0</td>\n",
       "      <td>140.0</td>\n",
       "      <td>0</td>\n",
       "      <td>0</td>\n",
       "      <td>0</td>\n",
       "      <td>0</td>\n",
       "      <td>0</td>\n",
       "    </tr>\n",
       "    <tr>\n",
       "      <th>4</th>\n",
       "      <td>2.0</td>\n",
       "      <td>510557.0</td>\n",
       "      <td>511510.0</td>\n",
       "      <td>1185.0</td>\n",
       "      <td>775.0</td>\n",
       "      <td>1299.0</td>\n",
       "      <td>1324.0</td>\n",
       "      <td>1145.0</td>\n",
       "      <td>9076.0</td>\n",
       "      <td>7308.0</td>\n",
       "      <td>...</td>\n",
       "      <td>123161.0</td>\n",
       "      <td>124490.0</td>\n",
       "      <td>131072.0</td>\n",
       "      <td>19.0</td>\n",
       "      <td>114.0</td>\n",
       "      <td>0</td>\n",
       "      <td>0</td>\n",
       "      <td>0</td>\n",
       "      <td>0</td>\n",
       "      <td>0</td>\n",
       "    </tr>\n",
       "  </tbody>\n",
       "</table>\n",
       "<p>5 rows × 198 columns</p>\n",
       "</div>"
      ],
      "text/plain": [
       "   기준_분기_코드  시간대_5_생활인구_수  금요일_생활인구_수  남성연령대_10_월요일시간대_4_생활인구_수  \\\n",
       "0       2.0       19681.0     14524.0                      52.0   \n",
       "1       1.0       10957.5      7716.5                      41.0   \n",
       "2       2.0      616400.0    447232.0                    2515.0   \n",
       "3       1.0      312754.5    225113.5                    1562.0   \n",
       "4       2.0      510557.0    511510.0                    1185.0   \n",
       "\n",
       "   남성연령대_10_월요일시간대_6_생활인구_수  남성연령대_10_금요일시간대_1_생활인구_수  \\\n",
       "0                      26.0                      20.0   \n",
       "1                      17.5                      15.0   \n",
       "2                    2129.0                    3425.0   \n",
       "3                    1117.5                    1778.5   \n",
       "4                     775.0                    1299.0   \n",
       "\n",
       "   남성연령대_10_토요일시간대_1_생활인구_수  남성연령대_10_일요일시간대_1_생활인구_수  \\\n",
       "0                      19.0                      31.0   \n",
       "1                      16.5                      17.0   \n",
       "2                    3601.0                    3530.0   \n",
       "3                    1943.0                    1796.0   \n",
       "4                    1324.0                    1145.0   \n",
       "\n",
       "   남성연령대_20_화요일시간대_2_생활인구_수  남성연령대_20_화요일시간대_5_생활인구_수  ...   15시총승객수  \\\n",
       "0                     232.0                     276.0  ...   75324.0   \n",
       "1                     128.0                     160.0  ...   26121.5   \n",
       "2                    7350.0                    8700.0  ...  158290.0   \n",
       "3                    3671.5                    4413.0  ...   52638.5   \n",
       "4                    9076.0                    7308.0  ...  123161.0   \n",
       "\n",
       "    16시총승객수   18시총승객수  버스정류장 수   확진자수  matching_상권_코드_명_구로디지탈1단지  \\\n",
       "0   79770.0  124375.0     10.0    0.0                          0   \n",
       "1   27995.0   46746.0     10.0    6.0                          0   \n",
       "2  182107.0  278260.0     24.0  131.0                          0   \n",
       "3   59534.0   98559.0     24.0  140.0                          0   \n",
       "4  124490.0  131072.0     19.0  114.0                          0   \n",
       "\n",
       "   matching_상권_코드_명_등나무근린공원 주변  matching_상권_코드_명_면목로21길  \\\n",
       "0                            0                        0   \n",
       "1                            0                        0   \n",
       "2                            0                        0   \n",
       "3                            0                        0   \n",
       "4                            0                        0   \n",
       "\n",
       "   matching_상권_코드_명_사평대로22길  matching_상권_코드_명_서울 금천구 시흥1동_4  \n",
       "0                         0                               0  \n",
       "1                         0                               0  \n",
       "2                         0                               0  \n",
       "3                         0                               0  \n",
       "4                         0                               0  \n",
       "\n",
       "[5 rows x 198 columns]"
      ]
     },
     "execution_count": 5,
     "metadata": {},
     "output_type": "execute_result"
    }
   ],
   "source": [
    "df = pd.read_csv('./data/df_ada_opt.csv', index_col=0)\n",
    "df.head()"
   ]
  },
  {
   "cell_type": "code",
   "execution_count": 5,
   "id": "4b51ab43",
   "metadata": {},
   "outputs": [
    {
     "name": "stdout",
     "output_type": "stream",
     "text": [
      "<class 'pandas.core.frame.DataFrame'>\n",
      "Int64Index: 550 entries, 0 to 549\n",
      "Columns: 198 entries, 기준_분기_코드 to matching_상권_코드_명_서울 금천구 시흥1동_4\n",
      "dtypes: float64(193), int64(5)\n",
      "memory usage: 855.1 KB\n"
     ]
    }
   ],
   "source": [
    "df.info()"
   ]
  },
  {
   "cell_type": "code",
   "execution_count": 6,
   "id": "55bb2b80",
   "metadata": {},
   "outputs": [
    {
     "data": {
      "text/plain": [
       "0"
      ]
     },
     "execution_count": 6,
     "metadata": {},
     "output_type": "execute_result"
    }
   ],
   "source": [
    "df.isnull().sum().sum()"
   ]
  },
  {
   "cell_type": "code",
   "execution_count": 9,
   "id": "7a0ba0ca",
   "metadata": {},
   "outputs": [
    {
     "data": {
      "text/plain": [
       "(550, 198)"
      ]
     },
     "execution_count": 9,
     "metadata": {},
     "output_type": "execute_result"
    }
   ],
   "source": [
    "# 기존 685개의 컬럼에서 AdaBoostRegressor 기준 Feature Importances를 통해 주요 컬럼들을 선택\n",
    "# 685개 컬럼 -> 198개 컬럼\n",
    "df.shape"
   ]
  },
  {
   "cell_type": "code",
   "execution_count": 12,
   "id": "9b7737c7",
   "metadata": {},
   "outputs": [],
   "source": [
    "y = df['확진자수']"
   ]
  },
  {
   "cell_type": "code",
   "execution_count": 13,
   "id": "922f0992",
   "metadata": {},
   "outputs": [],
   "source": [
    "# y = np.log1p(df['확진자수'])"
   ]
  },
  {
   "cell_type": "code",
   "execution_count": 14,
   "id": "87501fb0",
   "metadata": {},
   "outputs": [],
   "source": [
    "x = df.drop('확진자수', axis=1)"
   ]
  },
  {
   "cell_type": "code",
   "execution_count": null,
   "id": "51ae6e27",
   "metadata": {},
   "outputs": [],
   "source": []
  },
  {
   "cell_type": "code",
   "execution_count": 15,
   "id": "eb024308",
   "metadata": {},
   "outputs": [],
   "source": [
    "from sklearn.model_selection import train_test_split"
   ]
  },
  {
   "cell_type": "code",
   "execution_count": 16,
   "id": "3323a302",
   "metadata": {},
   "outputs": [],
   "source": [
    "x_train, x_test, y_train, y_test = train_test_split(x,y, random_state=42)"
   ]
  },
  {
   "cell_type": "code",
   "execution_count": 18,
   "id": "adc2c4e6",
   "metadata": {},
   "outputs": [],
   "source": [
    "from sklearn.preprocessing import MinMaxScaler, StandardScaler"
   ]
  },
  {
   "cell_type": "code",
   "execution_count": 19,
   "id": "73e89273",
   "metadata": {},
   "outputs": [],
   "source": [
    "# scaler = StandardScaler()\n",
    "# scaler.fit(x_train)\n",
    "\n",
    "# x_train_stan = scaler.transform(x_train)\n",
    "# x_test_stan = scaler.transform(x_test)"
   ]
  },
  {
   "cell_type": "code",
   "execution_count": 20,
   "id": "3efc1be5",
   "metadata": {},
   "outputs": [],
   "source": [
    "# scaler = MinMaxScaler()\n",
    "# scaler.fit(x_train)\n",
    "\n",
    "# x_train_min = scaler.transform(x_train)\n",
    "# x_test_min = scaler.transform(x_test)\n"
   ]
  },
  {
   "cell_type": "code",
   "execution_count": null,
   "id": "12143292",
   "metadata": {},
   "outputs": [],
   "source": []
  },
  {
   "cell_type": "code",
   "execution_count": 22,
   "id": "ce1ea0e0",
   "metadata": {},
   "outputs": [],
   "source": [
    "from sklearn.linear_model import LinearRegression\n",
    "from sklearn.linear_model import Ridge\n",
    "from sklearn.linear_model import Lasso\n",
    "# from sklearn.linear_model import ElasticNet\n",
    "from sklearn.neighbors import KNeighborsRegressor\n",
    "from sklearn.tree import DecisionTreeRegressor\n",
    "from sklearn.svm import LinearSVR, SVR"
   ]
  },
  {
   "cell_type": "code",
   "execution_count": 23,
   "id": "ff12ff07",
   "metadata": {},
   "outputs": [],
   "source": [
    "from sklearn.ensemble import ExtraTreesRegressor\n",
    "from sklearn.ensemble import RandomForestRegressor\n",
    "from sklearn.ensemble import GradientBoostingRegressor\n",
    "from sklearn.ensemble import AdaBoostRegressor\n",
    "from xgboost import XGBRegressor\n",
    "from lightgbm import LGBMRegressor"
   ]
  },
  {
   "cell_type": "code",
   "execution_count": 24,
   "id": "2acdb428",
   "metadata": {},
   "outputs": [],
   "source": [
    "sv = SVR()\n",
    "lsv=LinearSVR()\n",
    "lr = LinearRegression()\n",
    "ridge = Ridge(random_state=42)\n",
    "lasso =  Lasso(random_state=42)\n",
    "kn = KNeighborsRegressor()\n",
    "dtr = DecisionTreeRegressor(random_state=42)\n",
    "etr = ExtraTreesRegressor(random_state=42)\n",
    "rfr = RandomForestRegressor(random_state=42)\n",
    "gbr = GradientBoostingRegressor(random_state=42)\n",
    "abr = AdaBoostRegressor(random_state=42)\n",
    "xgb = XGBRegressor(random_state=42)\n",
    "lgb = LGBMRegressor(random_state=42)"
   ]
  },
  {
   "cell_type": "code",
   "execution_count": null,
   "id": "05a9f6fc",
   "metadata": {},
   "outputs": [],
   "source": []
  },
  {
   "cell_type": "markdown",
   "id": "c683e62b",
   "metadata": {},
   "source": [
    "### y = np.log1p(df['확진자수'])"
   ]
  },
  {
   "cell_type": "code",
   "execution_count": 25,
   "id": "c2fc36fb",
   "metadata": {},
   "outputs": [],
   "source": [
    "df = pd.read_csv('./data/df_ada_opt.csv', index_col=0)\n",
    "df = pd.get_dummies(df)\n",
    "y = np.log1p(df['확진자수'])\n",
    "x = df.drop('확진자수', axis=1)\n",
    "x_train, x_test, y_train, y_test = train_test_split(x,y, random_state=42)"
   ]
  },
  {
   "cell_type": "markdown",
   "id": "cbbde1ad",
   "metadata": {},
   "source": [
    "#### raw값"
   ]
  },
  {
   "cell_type": "code",
   "execution_count": 26,
   "id": "ca92b21b",
   "metadata": {
    "collapsed": true
   },
   "outputs": [
    {
     "name": "stdout",
     "output_type": "stream",
     "text": [
      "SVR\n",
      "0.055655752147135584\n",
      "-0.08992101702489075\n",
      "\n",
      "LinearSVR\n",
      "-1.2601982671528695\n",
      "-0.9878241272950372\n",
      "\n",
      "LinearRegression\n",
      "0.46352998827938385\n",
      "-1.6665596574960793\n",
      "\n",
      "Ridge\n",
      "0.4551758862387274\n",
      "-1.4544440857208718\n",
      "\n",
      "Lasso\n",
      "0.2843162180504567\n",
      "-0.6296158242224197\n",
      "\n",
      "KNeighborsRegressor\n",
      "0.198203781398552\n",
      "-0.07401209045911727\n",
      "\n",
      "DecisionTreeRegressor\n",
      "1.0\n",
      "-1.0812261016493556\n",
      "\n",
      "RandomForestRegressor\n",
      "0.8530018135276998\n",
      "-0.004527022639502221\n",
      "\n",
      "GradientBoostingRegressor\n",
      "0.8723675479588446\n",
      "-0.16353504550351183\n",
      "\n",
      "AdaBoostRegressor\n",
      "0.3011804762920195\n",
      "-0.01823867922665756\n",
      "\n",
      "XGBRegressor\n",
      "0.9999999257282678\n",
      "-0.19049641654544658\n",
      "\n",
      "LGBMRegressor\n",
      "0.9855496438083347\n",
      "-0.10725211776332322\n",
      "\n"
     ]
    }
   ],
   "source": [
    "models = [sv,lsv,lr, ridge, lasso, kn, dtr, rfr, gbr, abr, xgb, lgb ]\n",
    "\n",
    "for m in models :\n",
    "    m.fit(x_train,y_train)\n",
    "    print(m.__class__.__name__)\n",
    "    print(m.score(x_train, y_train))\n",
    "#     print(m.score(x_valid, y_valid))\n",
    "    print(m.score(x_test,y_test))\n",
    "    print()"
   ]
  },
  {
   "cell_type": "markdown",
   "id": "1ea76964",
   "metadata": {},
   "source": [
    "#### StandardScaler"
   ]
  },
  {
   "cell_type": "code",
   "execution_count": 27,
   "id": "cf222447",
   "metadata": {
    "collapsed": true
   },
   "outputs": [
    {
     "name": "stdout",
     "output_type": "stream",
     "text": [
      "SVR\n",
      "0.21776986133516363\n",
      "-0.17379085391967353\n",
      "\n",
      "LinearSVR\n",
      "0.16697342135834636\n",
      "-1.5945477895903553\n",
      "\n",
      "LinearRegression\n",
      "0.4635299882793845\n",
      "-1.666559656789206\n",
      "\n",
      "Ridge\n",
      "0.3298373063733663\n",
      "-0.6427314780361222\n",
      "\n",
      "Lasso\n",
      "0.0\n",
      "-0.03962675265502158\n",
      "\n",
      "KNeighborsRegressor\n",
      "0.18924887522740663\n",
      "-0.1614414255012404\n",
      "\n",
      "DecisionTreeRegressor\n",
      "1.0\n",
      "-1.0812261016493556\n",
      "\n",
      "RandomForestRegressor\n",
      "0.852963102707116\n",
      "-0.004044744263597577\n",
      "\n",
      "GradientBoostingRegressor\n",
      "0.8723675479588446\n",
      "-0.16415351306436543\n",
      "\n",
      "AdaBoostRegressor\n",
      "0.3011804762920195\n",
      "-0.01823867922665756\n",
      "\n",
      "XGBRegressor\n",
      "0.9999999257282678\n",
      "-0.1905990648188336\n",
      "\n",
      "LGBMRegressor\n",
      "0.9875369739672942\n",
      "-0.09730624465777615\n",
      "\n"
     ]
    }
   ],
   "source": [
    "scaler = StandardScaler()\n",
    "scaler.fit(x_train)\n",
    "\n",
    "x_train_stan = scaler.transform(x_train)\n",
    "x_test_stan = scaler.transform(x_test)\n",
    "\n",
    "models = [sv,lsv,lr, ridge, lasso, kn, dtr, rfr, gbr, abr, xgb, lgb ]\n",
    "\n",
    "for m in models :\n",
    "    m.fit(x_train_stan,y_train)\n",
    "    print(m.__class__.__name__)\n",
    "    print(m.score(x_train_stan, y_train))\n",
    "#     print(m.score(x_valid, y_valid))\n",
    "    print(m.score(x_test_stan,y_test))\n",
    "    print()"
   ]
  },
  {
   "cell_type": "markdown",
   "id": "49eb600b",
   "metadata": {},
   "source": [
    "#### MinMaxScaler"
   ]
  },
  {
   "cell_type": "code",
   "execution_count": 28,
   "id": "15714f8d",
   "metadata": {
    "collapsed": true
   },
   "outputs": [
    {
     "name": "stdout",
     "output_type": "stream",
     "text": [
      "SVR\n",
      "0.166321978640957\n",
      "-0.15219929567991297\n",
      "\n",
      "LinearSVR\n",
      "0.14506412390430812\n",
      "-0.3926884180730661\n",
      "\n",
      "LinearRegression\n",
      "0.46352998827938363\n",
      "-1.6665596567892877\n",
      "\n",
      "Ridge\n",
      "0.20859792316565995\n",
      "-0.23644495552577438\n",
      "\n",
      "Lasso\n",
      "0.0\n",
      "-0.03962675265502158\n",
      "\n",
      "KNeighborsRegressor\n",
      "0.21271994924682647\n",
      "-0.03924223866921195\n",
      "\n",
      "DecisionTreeRegressor\n",
      "1.0\n",
      "-1.0934995214628231\n",
      "\n",
      "RandomForestRegressor\n",
      "0.8529422353698657\n",
      "-0.005530718384428868\n",
      "\n",
      "GradientBoostingRegressor\n",
      "0.8723675479588446\n",
      "-0.16415351306436543\n",
      "\n",
      "AdaBoostRegressor\n",
      "0.2815535092457\n",
      "0.004596208425259096\n",
      "\n",
      "XGBRegressor\n",
      "0.9999999257282678\n",
      "-0.19065209466806055\n",
      "\n",
      "LGBMRegressor\n",
      "0.9867666788742191\n",
      "-0.0914805400985137\n",
      "\n"
     ]
    }
   ],
   "source": [
    "scaler = MinMaxScaler()\n",
    "scaler.fit(x_train)\n",
    "\n",
    "x_train_min = scaler.transform(x_train)\n",
    "x_test_min = scaler.transform(x_test)\n",
    "\n",
    "models = [sv,lsv,lr, ridge, lasso, kn, dtr, rfr, gbr, abr, xgb, lgb ]\n",
    "\n",
    "\n",
    "for m in models :\n",
    "    m.fit(x_train_min,y_train)\n",
    "    print(m.__class__.__name__)\n",
    "    print(m.score(x_train_min, y_train))\n",
    "#     print(m.score(x_valid, y_valid))\n",
    "    print(m.score(x_test_min,y_test))\n",
    "    print()"
   ]
  },
  {
   "cell_type": "code",
   "execution_count": null,
   "id": "adbcc089",
   "metadata": {},
   "outputs": [],
   "source": []
  },
  {
   "cell_type": "code",
   "execution_count": null,
   "id": "15476b9e",
   "metadata": {},
   "outputs": [],
   "source": []
  },
  {
   "cell_type": "markdown",
   "id": "5ae19bfd",
   "metadata": {},
   "source": [
    "### y = df['확진자수']"
   ]
  },
  {
   "cell_type": "code",
   "execution_count": 29,
   "id": "54312d36",
   "metadata": {},
   "outputs": [],
   "source": [
    "df = pd.read_csv('./data/df_ada_opt.csv', index_col=0)\n",
    "df = pd.get_dummies(df)\n",
    "y = df['확진자수']\n",
    "x = df.drop('확진자수', axis=1)\n",
    "x_train, x_test, y_train, y_test = train_test_split(x,y, random_state=42)\n"
   ]
  },
  {
   "cell_type": "markdown",
   "id": "ea195d13",
   "metadata": {},
   "source": [
    "#### raw값"
   ]
  },
  {
   "cell_type": "code",
   "execution_count": 30,
   "id": "523606bf",
   "metadata": {
    "collapsed": true
   },
   "outputs": [
    {
     "name": "stdout",
     "output_type": "stream",
     "text": [
      "SVR\n",
      "-0.11270240523518682\n",
      "-0.03923994485761284\n",
      "\n",
      "LinearSVR\n",
      "-0.3391107405972069\n",
      "-0.19827004280249305\n",
      "\n",
      "LinearRegression\n",
      "0.6841759057917709\n",
      "-0.7490086874634139\n",
      "\n",
      "Ridge\n",
      "0.6743665399524654\n",
      "-0.5436450550570728\n",
      "\n",
      "Lasso\n",
      "0.5726036337905562\n",
      "-0.09572265959801896\n",
      "\n",
      "KNeighborsRegressor\n",
      "0.27135063143119875\n",
      "0.17909069492215335\n",
      "\n",
      "DecisionTreeRegressor\n",
      "1.0\n",
      "-0.11915120404887847\n",
      "\n",
      "RandomForestRegressor\n",
      "0.8616353846418012\n",
      "0.21459760459658184\n",
      "\n",
      "GradientBoostingRegressor\n",
      "0.9407835182101775\n",
      "0.10701233188268866\n",
      "\n",
      "AdaBoostRegressor\n",
      "0.5092122931494272\n",
      "-0.08519739113629199\n",
      "\n",
      "XGBRegressor\n",
      "0.9999999986072089\n",
      "-0.016720505843743627\n",
      "\n",
      "LGBMRegressor\n",
      "0.9433952403192061\n",
      "0.06876945314990524\n",
      "\n"
     ]
    }
   ],
   "source": [
    "# 의미있는 변화 없음\n",
    "models = [sv,lsv,lr, ridge, lasso, kn, dtr, rfr, gbr, abr, xgb, lgb ]\n",
    "\n",
    "for m in models :\n",
    "    m.fit(x_train,y_train)\n",
    "    print(m.__class__.__name__)\n",
    "    print(m.score(x_train, y_train))\n",
    "#     print(m.score(x_valid, y_valid))\n",
    "    print(m.score(x_test,y_test))\n",
    "    print()"
   ]
  },
  {
   "cell_type": "markdown",
   "id": "9fbf82cf",
   "metadata": {},
   "source": [
    "#### StandardScaler()"
   ]
  },
  {
   "cell_type": "code",
   "execution_count": 31,
   "id": "f0c479bf",
   "metadata": {
    "collapsed": true
   },
   "outputs": [
    {
     "name": "stdout",
     "output_type": "stream",
     "text": [
      "SVR\n",
      "-0.10508115433920229\n",
      "-0.04187993497601039\n",
      "\n",
      "LinearSVR\n",
      "0.22355200692497446\n",
      "0.2790424037166689\n",
      "\n",
      "LinearRegression\n",
      "0.6841759057917742\n",
      "-0.7490086871819863\n",
      "\n",
      "Ridge\n",
      "0.5452383743469926\n",
      "-0.09202814588487107\n",
      "\n",
      "Lasso\n",
      "0.3065373015741739\n",
      "0.21315245151758466\n",
      "\n",
      "KNeighborsRegressor\n",
      "0.27293239720710805\n",
      "0.2838168532459019\n",
      "\n",
      "DecisionTreeRegressor\n",
      "1.0\n",
      "-0.11915120404887847\n",
      "\n",
      "RandomForestRegressor\n",
      "0.8613229180454788\n",
      "0.21305873859090063\n",
      "\n",
      "GradientBoostingRegressor\n",
      "0.9407835182101775\n",
      "0.10701233188268866\n",
      "\n",
      "AdaBoostRegressor\n",
      "0.5326980623943552\n",
      "0.011581951008591385\n",
      "\n",
      "XGBRegressor\n",
      "0.9999999986072089\n",
      "-0.01671895759066455\n",
      "\n",
      "LGBMRegressor\n",
      "0.9422785893090859\n",
      "0.03789037435892584\n",
      "\n"
     ]
    }
   ],
   "source": [
    "# LinearSVR : 0.7 향상\n",
    "# 의미있는 변화 없음\n",
    "scaler = StandardScaler()\n",
    "scaler.fit(x_train)\n",
    "\n",
    "x_train_stan = scaler.transform(x_train)\n",
    "x_test_stan = scaler.transform(x_test)\n",
    "models = [sv,lsv,lr, ridge, lasso, kn, dtr, rfr, gbr, abr, xgb, lgb ]\n",
    "\n",
    "for m in models :\n",
    "    m.fit(x_train_stan,y_train)\n",
    "    print(m.__class__.__name__)\n",
    "    print(m.score(x_train_stan, y_train))\n",
    "#     print(m.score(x_valid, y_valid))\n",
    "    print(m.score(x_test_stan,y_test))\n",
    "    print()"
   ]
  },
  {
   "cell_type": "markdown",
   "id": "a595bfb6",
   "metadata": {},
   "source": [
    "#### MinMaxScaler"
   ]
  },
  {
   "cell_type": "code",
   "execution_count": 32,
   "id": "c0444d02",
   "metadata": {
    "collapsed": true
   },
   "outputs": [
    {
     "name": "stdout",
     "output_type": "stream",
     "text": [
      "SVR\n",
      "-0.09966191538914493\n",
      "-0.035643912050957294\n",
      "\n",
      "LinearSVR\n",
      "0.07883016128959608\n",
      "0.19843151054826313\n",
      "\n",
      "LinearRegression\n",
      "0.6841759057917749\n",
      "-0.7490086871820307\n",
      "\n",
      "Ridge\n",
      "0.36901809067554514\n",
      "0.09361321618981033\n",
      "\n",
      "Lasso\n",
      "0.1685509798781597\n",
      "0.23305224225253107\n",
      "\n",
      "KNeighborsRegressor\n",
      "0.29185911646578155\n",
      "0.29099433551874876\n",
      "\n",
      "DecisionTreeRegressor\n",
      "1.0\n",
      "-0.11915120404887847\n",
      "\n",
      "RandomForestRegressor\n",
      "0.8613594466182877\n",
      "0.2147039347902524\n",
      "\n",
      "GradientBoostingRegressor\n",
      "0.9407835182101775\n",
      "0.10706227409955094\n",
      "\n",
      "AdaBoostRegressor\n",
      "0.5092122931494272\n",
      "-0.08516063702601939\n",
      "\n",
      "XGBRegressor\n",
      "0.9999999986072089\n",
      "-0.016730216061827896\n",
      "\n",
      "LGBMRegressor\n",
      "0.9447526994905354\n",
      "0.05227287204511\n",
      "\n"
     ]
    }
   ],
   "source": [
    "# 대부분 하락\n",
    "scaler = MinMaxScaler()\n",
    "scaler.fit(x_train)\n",
    "\n",
    "x_train_min = scaler.transform(x_train)\n",
    "x_test_min = scaler.transform(x_test)\n",
    "\n",
    "\n",
    "models = [sv,lsv,lr, ridge, lasso, kn, dtr, rfr, gbr, abr, xgb, lgb ]\n",
    "\n",
    "\n",
    "for m in models :\n",
    "    m.fit(x_train_min,y_train)\n",
    "    print(m.__class__.__name__)\n",
    "    print(m.score(x_train_min, y_train))\n",
    "#     print(m.score(x_valid, y_valid))\n",
    "    print(m.score(x_test_min,y_test))\n",
    "    print()\n",
    "# ridge lasso"
   ]
  },
  {
   "cell_type": "code",
   "execution_count": null,
   "id": "43c02fdc",
   "metadata": {},
   "outputs": [],
   "source": []
  },
  {
   "cell_type": "markdown",
   "id": "4c710aab",
   "metadata": {},
   "source": [
    "### 분기를 dummy로\n",
    "- 스케일 두개가 더 낫긴함\n"
   ]
  },
  {
   "cell_type": "code",
   "execution_count": 33,
   "id": "17ae81d6",
   "metadata": {},
   "outputs": [],
   "source": [
    "df = pd.read_csv('./data/df_ada_opt.csv', index_col=0)\n",
    "df['기준_분기_코드'] = df['기준_분기_코드'].apply(lambda x : str(x)+'분기')\n",
    "df = pd.get_dummies(df)\n",
    "y = df['확진자수']\n",
    "x = df.drop('확진자수', axis=1)\n",
    "x_train, x_test, y_train, y_test = train_test_split(x,y, random_state=42)"
   ]
  },
  {
   "cell_type": "markdown",
   "id": "8a1e8758",
   "metadata": {},
   "source": [
    "#### raw"
   ]
  },
  {
   "cell_type": "code",
   "execution_count": 34,
   "id": "a8db8f9a",
   "metadata": {
    "collapsed": true
   },
   "outputs": [
    {
     "name": "stdout",
     "output_type": "stream",
     "text": [
      "SVR\n",
      "-0.11270273918130824\n",
      "-0.03923978708218345\n",
      "\n",
      "LinearSVR\n",
      "-0.3391107405972069\n",
      "-0.19827004280249305\n",
      "\n",
      "LinearRegression\n",
      "0.6841759057917725\n",
      "-0.7490086871665691\n",
      "\n",
      "Ridge\n",
      "0.6743654218231696\n",
      "-0.5436320381143285\n",
      "\n",
      "Lasso\n",
      "0.5726036475633437\n",
      "-0.09572482751638334\n",
      "\n",
      "KNeighborsRegressor\n",
      "0.27135063143119875\n",
      "0.17909069492215335\n",
      "\n",
      "DecisionTreeRegressor\n",
      "1.0\n",
      "-0.4107268548763674\n",
      "\n",
      "RandomForestRegressor\n",
      "0.8614589595527784\n",
      "0.20584617746785372\n",
      "\n",
      "ExtraTreesRegressor\n",
      "1.0\n",
      "0.3146167889645214\n",
      "\n",
      "GradientBoostingRegressor\n",
      "0.9407835182101775\n",
      "0.09202296663912457\n",
      "\n",
      "AdaBoostRegressor\n",
      "0.5624623340054593\n",
      "0.054441012618733686\n",
      "\n",
      "XGBRegressor\n",
      "0.9999999986072089\n",
      "-0.01129986095529567\n",
      "\n",
      "LGBMRegressor\n",
      "0.9433952403192061\n",
      "0.06876945314990524\n",
      "\n"
     ]
    }
   ],
   "source": [
    "# ExtraTreesRegressor 0.18 -> 0.31\n",
    "x_train, x_test, y_train, y_test = train_test_split(x,y, random_state=42)\n",
    "models = [sv,lsv,lr, ridge, lasso, kn, dtr, rfr,etr, gbr, abr, xgb, lgb ]\n",
    "\n",
    "for m in models :\n",
    "    m.fit(x_train,y_train)\n",
    "    print(m.__class__.__name__)\n",
    "    print(m.score(x_train, y_train))\n",
    "#     print(m.score(x_valid, y_valid))\n",
    "    print(m.score(x_test,y_test))\n",
    "    print()"
   ]
  },
  {
   "cell_type": "markdown",
   "id": "b9ba205b",
   "metadata": {},
   "source": [
    "#### StandardScaler"
   ]
  },
  {
   "cell_type": "code",
   "execution_count": 35,
   "id": "5599a21f",
   "metadata": {
    "collapsed": true
   },
   "outputs": [
    {
     "name": "stdout",
     "output_type": "stream",
     "text": [
      "SVR\n",
      "-0.10516955216254464\n",
      "-0.0415738988226364\n",
      "\n",
      "LinearSVR\n",
      "0.2233911255449441\n",
      "0.2795112134217549\n",
      "\n",
      "LinearRegression\n",
      "0.6841759057917743\n",
      "-0.7490086871820103\n",
      "\n",
      "Ridge\n",
      "0.5452378944571278\n",
      "-0.09203757698801174\n",
      "\n",
      "Lasso\n",
      "0.30653746768742873\n",
      "0.21315222049641291\n",
      "\n",
      "KNeighborsRegressor\n",
      "0.26853999529447925\n",
      "0.32231676284934385\n",
      "\n",
      "DecisionTreeRegressor\n",
      "1.0\n",
      "-0.4107268548763674\n",
      "\n",
      "RandomForestRegressor\n",
      "0.8611863558480929\n",
      "0.2059832708691267\n",
      "\n",
      "ExtraTreesRegressor\n",
      "1.0\n",
      "0.3146167889645214\n",
      "\n",
      "GradientBoostingRegressor\n",
      "0.9407835182101775\n",
      "0.09202296663912457\n",
      "\n",
      "AdaBoostRegressor\n",
      "0.5259947863614074\n",
      "-0.011403264409927116\n",
      "\n",
      "XGBRegressor\n",
      "0.9999999986072089\n",
      "-0.011298312702216595\n",
      "\n",
      "LGBMRegressor\n",
      "0.9422785893090859\n",
      "0.03789037435892584\n",
      "\n"
     ]
    }
   ],
   "source": [
    "# LinearSVR : -0.43 -> 0.28 상승\n",
    "# KNeighborsRegressor : 0.24 -> 0.32 상승\n",
    "# ExtraTreesRegressor : 0.18 -> 0.31 상승\n",
    "# RandomForestRegressor 0.37-> 0.20 하락\n",
    "scaler = StandardScaler()\n",
    "scaler.fit(x_train)\n",
    "\n",
    "x_train_stan = scaler.transform(x_train)\n",
    "x_test_stan = scaler.transform(x_test)\n",
    "\n",
    "models = [sv,lsv,lr, ridge, lasso, kn, dtr, rfr,etr, gbr, abr, xgb, lgb ]\n",
    "\n",
    "for m in models :\n",
    "    m.fit(x_train_stan,y_train)\n",
    "    print(m.__class__.__name__)\n",
    "    print(m.score(x_train_stan, y_train))\n",
    "#     print(m.score(x_valid, y_valid))\n",
    "    print(m.score(x_test_stan,y_test))\n",
    "    print()"
   ]
  },
  {
   "cell_type": "markdown",
   "id": "73d0ae11",
   "metadata": {},
   "source": [
    "#### MinMaxScaler"
   ]
  },
  {
   "cell_type": "code",
   "execution_count": 36,
   "id": "cd6b3d78",
   "metadata": {
    "collapsed": true
   },
   "outputs": [
    {
     "name": "stdout",
     "output_type": "stream",
     "text": [
      "SVR\n",
      "-0.09529086749960536\n",
      "-0.030206967760429748\n",
      "\n",
      "LinearSVR\n",
      "0.07817562198765304\n",
      "0.19750130980954705\n",
      "\n",
      "LinearRegression\n",
      "0.6841759057917758\n",
      "-0.7490086871820079\n",
      "\n",
      "Ridge\n",
      "0.36901985484288635\n",
      "0.09362519873978215\n",
      "\n",
      "Lasso\n",
      "0.16855100018984115\n",
      "0.23305221870942439\n",
      "\n",
      "KNeighborsRegressor\n",
      "0.2941763671378459\n",
      "0.273743551065182\n",
      "\n",
      "DecisionTreeRegressor\n",
      "1.0\n",
      "-0.4107268548763674\n",
      "\n",
      "RandomForestRegressor\n",
      "0.8612022449571982\n",
      "0.20581208396786532\n",
      "\n",
      "ExtraTreesRegressor\n",
      "1.0\n",
      "0.3146167889645214\n",
      "\n",
      "GradientBoostingRegressor\n",
      "0.9407835182101775\n",
      "0.09207290885598685\n",
      "\n",
      "AdaBoostRegressor\n",
      "0.5624623340054593\n",
      "0.055346212551013574\n",
      "\n",
      "XGBRegressor\n",
      "0.9999999986072089\n",
      "-0.011309571173380162\n",
      "\n",
      "LGBMRegressor\n",
      "0.9447526994905354\n",
      "0.05227287204511\n",
      "\n"
     ]
    }
   ],
   "source": [
    "# RandomForestRegressor : 0.37 -> 0.20 하락\n",
    "# ExtraTreesRegressor : 0.18 -> 0.31 상승\n",
    "# GradientBoostingRegressor : 0.28 -> 0.09 하락\n",
    "scaler = MinMaxScaler()\n",
    "scaler.fit(x_train)\n",
    "\n",
    "x_train_min = scaler.transform(x_train)\n",
    "x_test_min = scaler.transform(x_test)\n",
    "\n",
    "\n",
    "models = [sv,lsv,lr, ridge, lasso, kn, dtr, rfr,etr, gbr, abr, xgb, lgb ]\n",
    "\n",
    "\n",
    "for m in models :\n",
    "    m.fit(x_train_min,y_train)\n",
    "    print(m.__class__.__name__)\n",
    "    print(m.score(x_train_min, y_train))\n",
    "#     print(m.score(x_valid, y_valid))\n",
    "    print(m.score(x_test_min,y_test))\n",
    "    print()"
   ]
  },
  {
   "cell_type": "code",
   "execution_count": null,
   "id": "3d95dbe2",
   "metadata": {},
   "outputs": [],
   "source": []
  },
  {
   "cell_type": "markdown",
   "id": "737f5ade",
   "metadata": {},
   "source": [
    "## GridSearchCV"
   ]
  },
  {
   "cell_type": "code",
   "execution_count": null,
   "id": "0b36363b",
   "metadata": {},
   "outputs": [],
   "source": []
  },
  {
   "cell_type": "markdown",
   "id": "bb2ef067",
   "metadata": {},
   "source": [
    "### RandomForest"
   ]
  },
  {
   "cell_type": "code",
   "execution_count": 44,
   "id": "05fb08a2",
   "metadata": {},
   "outputs": [],
   "source": [
    "from sklearn.model_selection import GridSearchCV\n",
    "from sklearn.model_selection import KFold ,StratifiedKFold"
   ]
  },
  {
   "cell_type": "code",
   "execution_count": 45,
   "id": "eef039ea",
   "metadata": {},
   "outputs": [],
   "source": [
    "df = pd.read_csv('df_ada_opt.csv', index_col=0)\n",
    "df['기준_분기_코드'] = df['기준_분기_코드'].apply(lambda x : str(x)+'분기')\n",
    "df = pd.get_dummies(df)\n",
    "y = df['확진자수']\n",
    "x = df.drop('확진자수', axis=1)\n",
    "x_train, x_test, y_train, y_test = train_test_split(x,y, random_state=42)"
   ]
  },
  {
   "cell_type": "code",
   "execution_count": 46,
   "id": "117f3639",
   "metadata": {},
   "outputs": [],
   "source": [
    "x_train, x_test, y_train, y_test = train_test_split(x,y, random_state=42)\n",
    "scaler = StandardScaler()\n",
    "scaler.fit(x_train)\n",
    "\n",
    "x_train_stan = scaler.transform(x_train)\n",
    "x_test_stan = scaler.transform(x_test)\n"
   ]
  },
  {
   "cell_type": "code",
   "execution_count": 47,
   "id": "5b1914ea",
   "metadata": {},
   "outputs": [
    {
     "name": "stdout",
     "output_type": "stream",
     "text": [
      "0.8611863558480929\n",
      "0.2059832708691267\n"
     ]
    }
   ],
   "source": [
    "# 0.37 -> 0.20 하락\n",
    "rfr = RandomForestRegressor(random_state=42)\n",
    "rfr.fit(x_train_stan,y_train)\n",
    "print(rfr.score(x_train_stan, y_train))\n",
    "print(rfr.score(x_test_stan, y_test))"
   ]
  },
  {
   "cell_type": "code",
   "execution_count": 48,
   "id": "6ed6af38",
   "metadata": {},
   "outputs": [
    {
     "name": "stdout",
     "output_type": "stream",
     "text": [
      "0.8592389340962092\n",
      "0.2007199762196047\n"
     ]
    }
   ],
   "source": [
    "# 0.39 -> 0.20 하락\n",
    "rfr = RandomForestRegressor(random_state=42,n_estimators=50,min_samples_split=2,max_depth=None)\n",
    "rfr.fit(x_train_stan,y_train)\n",
    "print(rfr.score(x_train_stan, y_train))\n",
    "print(rfr.score(x_test_stan, y_test))"
   ]
  },
  {
   "cell_type": "code",
   "execution_count": 51,
   "id": "78f544cc",
   "metadata": {},
   "outputs": [
    {
     "name": "stdout",
     "output_type": "stream",
     "text": [
      "0.7754276810669453\n",
      "0.19300158192795536\n"
     ]
    }
   ],
   "source": [
    "# 0.42 -> 0.19 하락\n",
    "rfr = RandomForestRegressor(random_state=42,n_estimators=40,min_samples_split=2,max_depth=10)\n",
    "rfr.fit(x_train_stan,y_train)\n",
    "print(rfr.score(x_train_stan, y_train))\n",
    "print(rfr.score(x_test_stan, y_test))"
   ]
  },
  {
   "cell_type": "code",
   "execution_count": 52,
   "id": "1e13b92d",
   "metadata": {},
   "outputs": [
    {
     "name": "stdout",
     "output_type": "stream",
     "text": [
      "0.7714261288144421\n",
      "0.19915321978286138\n"
     ]
    }
   ],
   "source": [
    "# 0.42 -> 0.19 하락\n",
    "rfr = RandomForestRegressor(random_state=42,n_estimators=35,min_samples_split=2,max_depth=10)\n",
    "rfr.fit(x_train_stan,y_train)\n",
    "print(rfr.score(x_train_stan, y_train))\n",
    "print(rfr.score(x_test_stan, y_test))"
   ]
  },
  {
   "cell_type": "code",
   "execution_count": null,
   "id": "c97bbe1e",
   "metadata": {},
   "outputs": [],
   "source": []
  },
  {
   "cell_type": "markdown",
   "id": "d1a325d1",
   "metadata": {},
   "source": [
    "### GridSearch"
   ]
  },
  {
   "cell_type": "code",
   "execution_count": 54,
   "id": "8a677c62",
   "metadata": {},
   "outputs": [],
   "source": [
    "cv = KFold(5, shuffle=True, random_state=42)\n",
    "params = { \n",
    "    'n_estimators': [100,200,300,400],\n",
    "    'max_depth' : [None, 2, 4,6,8],\n",
    "    'min_samples_split': [2, 3]}"
   ]
  },
  {
   "cell_type": "code",
   "execution_count": null,
   "id": "700641cf",
   "metadata": {},
   "outputs": [],
   "source": []
  },
  {
   "cell_type": "code",
   "execution_count": 55,
   "id": "0bfd9b02",
   "metadata": {},
   "outputs": [],
   "source": [
    "grid=GridSearchCV(RandomForestRegressor(random_state=42),param_grid=params,cv=cv, refit=True, verbose=True, n_jobs=-1) "
   ]
  },
  {
   "cell_type": "code",
   "execution_count": 56,
   "id": "3b18a3f4",
   "metadata": {},
   "outputs": [
    {
     "name": "stdout",
     "output_type": "stream",
     "text": [
      "Fitting 5 folds for each of 40 candidates, totalling 200 fits\n"
     ]
    },
    {
     "data": {
      "text/plain": [
       "GridSearchCV(cv=KFold(n_splits=5, random_state=42, shuffle=True),\n",
       "             estimator=RandomForestRegressor(random_state=42), n_jobs=-1,\n",
       "             param_grid={'max_depth': [None, 2, 4, 6, 8],\n",
       "                         'min_samples_split': [2, 3],\n",
       "                         'n_estimators': [100, 200, 300, 400]},\n",
       "             verbose=True)"
      ]
     },
     "execution_count": 56,
     "metadata": {},
     "output_type": "execute_result"
    }
   ],
   "source": [
    "grid.fit(x_train_stan,y_train)"
   ]
  },
  {
   "cell_type": "code",
   "execution_count": 57,
   "id": "55d99282",
   "metadata": {},
   "outputs": [
    {
     "data": {
      "text/plain": [
       "RandomForestRegressor(max_depth=2, min_samples_split=3, random_state=42)"
      ]
     },
     "execution_count": 57,
     "metadata": {},
     "output_type": "execute_result"
    }
   ],
   "source": [
    "grid.best_estimator_ "
   ]
  },
  {
   "cell_type": "code",
   "execution_count": 58,
   "id": "54e9bd99",
   "metadata": {},
   "outputs": [
    {
     "data": {
      "text/plain": [
       "0.0607292540085284"
      ]
     },
     "execution_count": 58,
     "metadata": {},
     "output_type": "execute_result"
    }
   ],
   "source": [
    "grid.best_score_ "
   ]
  },
  {
   "cell_type": "code",
   "execution_count": 59,
   "id": "9dc27b88",
   "metadata": {},
   "outputs": [
    {
     "data": {
      "text/plain": [
       "0.2648094839667162"
      ]
     },
     "execution_count": 59,
     "metadata": {},
     "output_type": "execute_result"
    }
   ],
   "source": [
    "grid.score(x_test_stan,y_test)"
   ]
  },
  {
   "cell_type": "code",
   "execution_count": null,
   "id": "e54253cf",
   "metadata": {},
   "outputs": [],
   "source": []
  },
  {
   "cell_type": "code",
   "execution_count": 74,
   "id": "e9fdfb72",
   "metadata": {},
   "outputs": [],
   "source": [
    "cv = KFold(5, shuffle=True, random_state=42)\n",
    "params = { \n",
    "    'n_estimators': [20,40,60,80,100],\n",
    "    'max_depth' : [None, 4,8,10,20,30],\n",
    "    'min_samples_split': [2,4, 5]}"
   ]
  },
  {
   "cell_type": "code",
   "execution_count": 75,
   "id": "5de7326c",
   "metadata": {},
   "outputs": [],
   "source": [
    "grid=GridSearchCV(RandomForestRegressor(random_state=42),param_grid=params,cv=cv, refit=True, verbose=True, n_jobs=-1) "
   ]
  },
  {
   "cell_type": "code",
   "execution_count": 76,
   "id": "7dd43c25",
   "metadata": {},
   "outputs": [
    {
     "name": "stdout",
     "output_type": "stream",
     "text": [
      "Fitting 5 folds for each of 90 candidates, totalling 450 fits\n"
     ]
    },
    {
     "data": {
      "text/plain": [
       "GridSearchCV(cv=KFold(n_splits=5, random_state=42, shuffle=True),\n",
       "             estimator=RandomForestRegressor(random_state=42), n_jobs=-1,\n",
       "             param_grid={'max_depth': [None, 4, 8, 10, 20, 30],\n",
       "                         'min_samples_split': [2, 4, 5],\n",
       "                         'n_estimators': [20, 40, 60, 80, 100]},\n",
       "             verbose=True)"
      ]
     },
     "execution_count": 76,
     "metadata": {},
     "output_type": "execute_result"
    }
   ],
   "source": [
    "grid.fit(x_train_stan,y_train)"
   ]
  },
  {
   "cell_type": "code",
   "execution_count": 77,
   "id": "cccad7ab",
   "metadata": {},
   "outputs": [
    {
     "data": {
      "text/plain": [
       "RandomForestRegressor(max_depth=4, n_estimators=60, random_state=42)"
      ]
     },
     "execution_count": 77,
     "metadata": {},
     "output_type": "execute_result"
    }
   ],
   "source": [
    "grid.best_estimator_ "
   ]
  },
  {
   "cell_type": "code",
   "execution_count": 78,
   "id": "3f18ec46",
   "metadata": {},
   "outputs": [
    {
     "data": {
      "text/plain": [
       "0.028405755967384438"
      ]
     },
     "execution_count": 78,
     "metadata": {},
     "output_type": "execute_result"
    }
   ],
   "source": [
    "grid.best_score_ "
   ]
  },
  {
   "cell_type": "code",
   "execution_count": 79,
   "id": "c8c229c8",
   "metadata": {},
   "outputs": [
    {
     "data": {
      "text/plain": [
       "0.5725312270134522"
      ]
     },
     "execution_count": 79,
     "metadata": {},
     "output_type": "execute_result"
    }
   ],
   "source": [
    "grid.score(x_train_stan,y_train)"
   ]
  },
  {
   "cell_type": "code",
   "execution_count": 80,
   "id": "78495586",
   "metadata": {},
   "outputs": [
    {
     "data": {
      "text/plain": [
       "0.25339125684895003"
      ]
     },
     "execution_count": 80,
     "metadata": {},
     "output_type": "execute_result"
    }
   ],
   "source": [
    "grid.score(x_test_stan,y_test)"
   ]
  },
  {
   "cell_type": "code",
   "execution_count": null,
   "id": "24917062",
   "metadata": {},
   "outputs": [],
   "source": []
  },
  {
   "cell_type": "code",
   "execution_count": null,
   "id": "1badb2d7",
   "metadata": {},
   "outputs": [],
   "source": []
  },
  {
   "cell_type": "code",
   "execution_count": 81,
   "id": "4a41a3b0",
   "metadata": {},
   "outputs": [],
   "source": [
    "cv = KFold(5, shuffle=True, random_state=42)\n",
    "params = { \n",
    "    'n_estimators': [35,40,45,50,55,65],\n",
    "    'max_depth' : [None,8,10,12,14,16],\n",
    "    'min_samples_split': [2,4,6]}"
   ]
  },
  {
   "cell_type": "code",
   "execution_count": 82,
   "id": "05f5a760",
   "metadata": {},
   "outputs": [],
   "source": [
    "grid=GridSearchCV(RandomForestRegressor(random_state=42),param_grid=params,cv=cv, refit=True, verbose=True, n_jobs=-1) "
   ]
  },
  {
   "cell_type": "code",
   "execution_count": 83,
   "id": "0c0339fd",
   "metadata": {},
   "outputs": [
    {
     "name": "stdout",
     "output_type": "stream",
     "text": [
      "Fitting 5 folds for each of 108 candidates, totalling 540 fits\n"
     ]
    },
    {
     "data": {
      "text/plain": [
       "GridSearchCV(cv=KFold(n_splits=5, random_state=42, shuffle=True),\n",
       "             estimator=RandomForestRegressor(random_state=42), n_jobs=-1,\n",
       "             param_grid={'max_depth': [None, 8, 10, 12, 14, 16],\n",
       "                         'min_samples_split': [2, 4, 6],\n",
       "                         'n_estimators': [35, 40, 45, 50, 55, 65]},\n",
       "             verbose=True)"
      ]
     },
     "execution_count": 83,
     "metadata": {},
     "output_type": "execute_result"
    }
   ],
   "source": [
    "grid.fit(x_train_stan,y_train)"
   ]
  },
  {
   "cell_type": "code",
   "execution_count": 84,
   "id": "25bdab22",
   "metadata": {},
   "outputs": [
    {
     "data": {
      "text/plain": [
       "RandomForestRegressor(max_depth=8, n_estimators=55, random_state=42)"
      ]
     },
     "execution_count": 84,
     "metadata": {},
     "output_type": "execute_result"
    }
   ],
   "source": [
    "grid.best_estimator_ "
   ]
  },
  {
   "cell_type": "code",
   "execution_count": 85,
   "id": "9633936c",
   "metadata": {},
   "outputs": [
    {
     "data": {
      "text/plain": [
       "-0.03354089296392313"
      ]
     },
     "execution_count": 85,
     "metadata": {},
     "output_type": "execute_result"
    }
   ],
   "source": [
    "grid.best_score_ "
   ]
  },
  {
   "cell_type": "code",
   "execution_count": 86,
   "id": "bfb03652",
   "metadata": {},
   "outputs": [
    {
     "data": {
      "text/plain": [
       "0.7438286903269951"
      ]
     },
     "execution_count": 86,
     "metadata": {},
     "output_type": "execute_result"
    }
   ],
   "source": [
    "grid.score(x_train_stan,y_train)"
   ]
  },
  {
   "cell_type": "code",
   "execution_count": 87,
   "id": "e43ed067",
   "metadata": {},
   "outputs": [
    {
     "data": {
      "text/plain": [
       "0.2333019011728107"
      ]
     },
     "execution_count": 87,
     "metadata": {},
     "output_type": "execute_result"
    }
   ],
   "source": [
    "# 0.20 -> 0.23상승\n",
    "grid.score(x_test_stan,y_test)"
   ]
  },
  {
   "cell_type": "code",
   "execution_count": null,
   "id": "f1d69e34",
   "metadata": {},
   "outputs": [],
   "source": []
  },
  {
   "cell_type": "markdown",
   "id": "28974d9c",
   "metadata": {},
   "source": [
    "### feature_importances"
   ]
  },
  {
   "cell_type": "code",
   "execution_count": 8,
   "id": "588f98d1",
   "metadata": {
    "collapsed": true
   },
   "outputs": [
    {
     "ename": "NameError",
     "evalue": "name 'RandomForestRegressor' is not defined",
     "output_type": "error",
     "traceback": [
      "\u001b[1;31m---------------------------------------------------------------------------\u001b[0m",
      "\u001b[1;31mNameError\u001b[0m                                 Traceback (most recent call last)",
      "\u001b[1;32m<ipython-input-8-f3970937bab4>\u001b[0m in \u001b[0;36m<module>\u001b[1;34m\u001b[0m\n\u001b[1;32m----> 1\u001b[1;33m \u001b[0mrfr_model\u001b[0m \u001b[1;33m=\u001b[0m \u001b[0mRandomForestRegressor\u001b[0m\u001b[1;33m(\u001b[0m\u001b[0mrandom_state\u001b[0m\u001b[1;33m=\u001b[0m\u001b[1;36m42\u001b[0m\u001b[1;33m,\u001b[0m\u001b[0mn_estimators\u001b[0m\u001b[1;33m=\u001b[0m\u001b[1;36m35\u001b[0m\u001b[1;33m,\u001b[0m\u001b[0mmin_samples_split\u001b[0m\u001b[1;33m=\u001b[0m\u001b[1;36m2\u001b[0m\u001b[1;33m,\u001b[0m\u001b[0mmax_depth\u001b[0m\u001b[1;33m=\u001b[0m\u001b[1;36m10\u001b[0m\u001b[1;33m)\u001b[0m\u001b[1;33m\u001b[0m\u001b[1;33m\u001b[0m\u001b[0m\n\u001b[0m\u001b[0;32m      2\u001b[0m \u001b[0mrfr_model\u001b[0m\u001b[1;33m.\u001b[0m\u001b[0mfit\u001b[0m\u001b[1;33m(\u001b[0m\u001b[0mx_train_stan\u001b[0m\u001b[1;33m,\u001b[0m\u001b[0my_train\u001b[0m\u001b[1;33m)\u001b[0m\u001b[1;33m\u001b[0m\u001b[1;33m\u001b[0m\u001b[0m\n\u001b[0;32m      3\u001b[0m \u001b[1;33m\u001b[0m\u001b[0m\n\u001b[0;32m      4\u001b[0m \u001b[0mfeature_list\u001b[0m \u001b[1;33m=\u001b[0m \u001b[0mpd\u001b[0m\u001b[1;33m.\u001b[0m\u001b[0mconcat\u001b[0m\u001b[1;33m(\u001b[0m\u001b[1;33m[\u001b[0m\u001b[0mpd\u001b[0m\u001b[1;33m.\u001b[0m\u001b[0mSeries\u001b[0m\u001b[1;33m(\u001b[0m\u001b[0mx\u001b[0m\u001b[1;33m.\u001b[0m\u001b[0mcolumns\u001b[0m\u001b[1;33m)\u001b[0m\u001b[1;33m,\u001b[0m \u001b[0mpd\u001b[0m\u001b[1;33m.\u001b[0m\u001b[0mSeries\u001b[0m\u001b[1;33m(\u001b[0m\u001b[0mrfr_model\u001b[0m\u001b[1;33m.\u001b[0m\u001b[0mfeature_importances_\u001b[0m\u001b[1;33m)\u001b[0m\u001b[1;33m]\u001b[0m\u001b[1;33m,\u001b[0m \u001b[0maxis\u001b[0m\u001b[1;33m=\u001b[0m\u001b[1;36m1\u001b[0m\u001b[1;33m)\u001b[0m\u001b[1;33m\u001b[0m\u001b[1;33m\u001b[0m\u001b[0m\n\u001b[0;32m      5\u001b[0m \u001b[0mfeature_list\u001b[0m\u001b[1;33m.\u001b[0m\u001b[0mcolumns\u001b[0m \u001b[1;33m=\u001b[0m \u001b[1;33m[\u001b[0m\u001b[1;34m'features_name'\u001b[0m\u001b[1;33m,\u001b[0m \u001b[1;34m'importance'\u001b[0m\u001b[1;33m]\u001b[0m\u001b[1;33m\u001b[0m\u001b[1;33m\u001b[0m\u001b[0m\n",
      "\u001b[1;31mNameError\u001b[0m: name 'RandomForestRegressor' is not defined"
     ]
    }
   ],
   "source": [
    "rfr_model = RandomForestRegressor(random_state=42,n_estimators=35,min_samples_split=2,max_depth=10)\n",
    "rfr_model.fit(x_train_stan,y_train)\n",
    "\n",
    "feature_list = pd.concat([pd.Series(x.columns), pd.Series(rfr_model.feature_importances_)], axis=1)\n",
    "feature_list.columns = ['features_name', 'importance']\n",
    "feature_list.sort_values(\"importance\", ascending =False)[:30]"
   ]
  },
  {
   "cell_type": "code",
   "execution_count": null,
   "id": "cf7465eb",
   "metadata": {},
   "outputs": [],
   "source": []
  }
 ],
 "metadata": {
  "kernelspec": {
   "display_name": "Python 3",
   "language": "python",
   "name": "python3"
  },
  "language_info": {
   "codemirror_mode": {
    "name": "ipython",
    "version": 3
   },
   "file_extension": ".py",
   "mimetype": "text/x-python",
   "name": "python",
   "nbconvert_exporter": "python",
   "pygments_lexer": "ipython3",
   "version": "3.8.8"
  }
 },
 "nbformat": 4,
 "nbformat_minor": 5
}
