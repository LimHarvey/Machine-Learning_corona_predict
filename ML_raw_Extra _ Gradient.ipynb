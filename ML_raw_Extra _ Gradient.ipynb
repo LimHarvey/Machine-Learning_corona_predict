{
 "cells": [
  {
   "cell_type": "markdown",
   "id": "b84af5ed",
   "metadata": {},
   "source": [
    "### raw_Extra & Gradient\n",
    "\n",
    "- raw_DataFrame을 사용 ExtraTree/GradientBoost model로 최적화 작업 진행\n"
   ]
  },
  {
   "cell_type": "code",
   "execution_count": null,
   "id": "c8df3b25",
   "metadata": {},
   "outputs": [],
   "source": []
  },
  {
   "cell_type": "code",
   "execution_count": 2,
   "id": "68367c1e",
   "metadata": {
    "id": "68367c1e"
   },
   "outputs": [],
   "source": [
    "import pandas as pd\n",
    "import numpy as np\n",
    "import matplotlib.pyplot as plt\n",
    "import seaborn as sns\n",
    "import warnings\n",
    "\n",
    "warnings.filterwarnings(action='ignore')\n",
    "from sklearn.model_selection import train_test_split\n",
    "from sklearn.preprocessing import MinMaxScaler, StandardScaler\n",
    "\n",
    "from sklearn.ensemble import ExtraTreesRegressor\n",
    "from sklearn.ensemble import GradientBoostingRegressor\n",
    "\n",
    "from sklearn.model_selection import GridSearchCV\n",
    "from sklearn.model_selection import KFold ,StratifiedKFold"
   ]
  },
  {
   "cell_type": "code",
   "execution_count": 3,
   "id": "294d4ebb",
   "metadata": {
    "id": "294d4ebb"
   },
   "outputs": [],
   "source": [
    "etr = ExtraTreesRegressor(random_state=42)\n",
    "gbr = GradientBoostingRegressor(random_state=42)"
   ]
  },
  {
   "cell_type": "code",
   "execution_count": null,
   "id": "d3c220e7",
   "metadata": {
    "id": "d3c220e7"
   },
   "outputs": [],
   "source": []
  },
  {
   "cell_type": "code",
   "execution_count": 4,
   "id": "ddea773d",
   "metadata": {
    "id": "ddea773d"
   },
   "outputs": [],
   "source": [
    "df = pd.read_csv('./data/final_result.csv', index_col=0)\n",
    "df['기준_분기_코드'] = df['기준_분기_코드'].apply(lambda x : str(x)+'분기')\n",
    "df = pd.get_dummies(df)\n",
    "y = df['확진자수']\n",
    "x = df.drop('확진자수', axis=1)\n",
    "x_train, x_test, y_train, y_test = train_test_split(x,y, random_state=42)"
   ]
  },
  {
   "cell_type": "code",
   "execution_count": 5,
   "id": "beef09c5",
   "metadata": {
    "id": "beef09c5"
   },
   "outputs": [],
   "source": [
    "scaler = StandardScaler()\n",
    "scaler.fit(x_train)\n",
    "\n",
    "x_train_stan = scaler.transform(x_train)\n",
    "x_test_stan = scaler.transform(x_test)"
   ]
  },
  {
   "cell_type": "code",
   "execution_count": null,
   "id": "8454de81",
   "metadata": {
    "id": "8454de81"
   },
   "outputs": [],
   "source": []
  },
  {
   "cell_type": "markdown",
   "id": "8f2400a5",
   "metadata": {
    "id": "8f2400a5"
   },
   "source": [
    "### ExtraTreesRegressor"
   ]
  },
  {
   "cell_type": "markdown",
   "id": "71127092",
   "metadata": {
    "id": "71127092"
   },
   "source": [
    "### test_param_tuning"
   ]
  },
  {
   "cell_type": "code",
   "execution_count": null,
   "id": "9cc94086",
   "metadata": {
    "id": "9cc94086",
    "outputId": "bc8e8831-a7c0-43b3-8a7d-2f966ef124d2"
   },
   "outputs": [
    {
     "name": "stdout",
     "output_type": "stream",
     "text": [
      "1.0\n",
      "0.18584435721392267\n"
     ]
    }
   ],
   "source": [
    "etr = ExtraTreesRegressor(random_state=42)\n",
    "etr.fit(x_train_stan,y_train)\n",
    "print(etr.score(x_train_stan, y_train))\n",
    "print(etr.score(x_test_stan, y_test))"
   ]
  },
  {
   "cell_type": "code",
   "execution_count": null,
   "id": "6fa5e43e",
   "metadata": {
    "id": "6fa5e43e",
    "outputId": "56d1825d-1030-4749-edff-86ed3082532c"
   },
   "outputs": [
    {
     "name": "stdout",
     "output_type": "stream",
     "text": [
      "0.7838385430549585\n",
      "0.2868247148822042\n"
     ]
    }
   ],
   "source": [
    "etr = ExtraTreesRegressor(random_state=42,n_estimators=50,min_samples_split=2,max_depth=10)\n",
    "etr.fit(x_train_stan,y_train)\n",
    "print(etr.score(x_train_stan, y_train))\n",
    "print(etr.score(x_test_stan, y_test))"
   ]
  },
  {
   "cell_type": "code",
   "execution_count": null,
   "id": "5994c464",
   "metadata": {
    "id": "5994c464",
    "outputId": "a61a1768-b323-455a-ceed-f14994971c7f"
   },
   "outputs": [
    {
     "name": "stdout",
     "output_type": "stream",
     "text": [
      "0.7815732084622651\n",
      "0.2878807078108092\n"
     ]
    }
   ],
   "source": [
    "etr = ExtraTreesRegressor(random_state=42,n_estimators=200,min_samples_split=2,max_depth=10)\n",
    "etr.fit(x_train_stan,y_train)\n",
    "print(etr.score(x_train_stan, y_train))\n",
    "print(etr.score(x_test_stan, y_test))"
   ]
  },
  {
   "cell_type": "code",
   "execution_count": null,
   "id": "07aedd2b",
   "metadata": {
    "id": "07aedd2b",
    "outputId": "fc9349b7-7b76-4d1a-90a2-821734b4401f"
   },
   "outputs": [
    {
     "name": "stdout",
     "output_type": "stream",
     "text": [
      "0.8191963681485704\n",
      "0.29119701288096567\n"
     ]
    }
   ],
   "source": [
    "etr = ExtraTreesRegressor(random_state=42,n_estimators=700,min_samples_split=3,max_depth=15)\n",
    "etr.fit(x_train_stan,y_train)\n",
    "print(etr.score(x_train_stan, y_train))\n",
    "print(etr.score(x_test_stan, y_test))"
   ]
  },
  {
   "cell_type": "code",
   "execution_count": null,
   "id": "22e722a2",
   "metadata": {
    "id": "22e722a2",
    "outputId": "bd817487-b27f-493b-fad8-6ad43bad0af7",
    "scrolled": true
   },
   "outputs": [
    {
     "name": "stdout",
     "output_type": "stream",
     "text": [
      "0.8191963681485704\n",
      "0.29119701288096567\n"
     ]
    }
   ],
   "source": [
    "rfr = ExtraTreesRegressor(random_state=42,n_estimators=700,min_samples_split=6,max_depth=15)\n",
    "rfr.fit(x_train_stan,y_train)\n",
    "print(etr.score(x_train_stan, y_train))\n",
    "print(etr.score(x_test_stan, y_test))"
   ]
  },
  {
   "cell_type": "code",
   "execution_count": null,
   "id": "146f3f3f",
   "metadata": {
    "id": "146f3f3f",
    "outputId": "1f004c5d-aa69-477f-d078-87160e097e53"
   },
   "outputs": [
    {
     "name": "stdout",
     "output_type": "stream",
     "text": [
      "0.8007457548056383\n",
      "0.29446730961649437\n"
     ]
    }
   ],
   "source": [
    "etr = ExtraTreesRegressor(random_state=42,n_estimators=50,min_samples_split=3,max_depth=13)\n",
    "etr.fit(x_train_stan,y_train)\n",
    "print(etr.score(x_train_stan, y_train))\n",
    "print(etr.score(x_test_stan, y_test))"
   ]
  },
  {
   "cell_type": "code",
   "execution_count": null,
   "id": "efafeb30",
   "metadata": {
    "id": "efafeb30"
   },
   "outputs": [],
   "source": []
  },
  {
   "cell_type": "markdown",
   "id": "c43d1f96",
   "metadata": {
    "id": "c43d1f96"
   },
   "source": [
    "### Gridsearch  -  KFold = 5고정, param_tuning"
   ]
  },
  {
   "cell_type": "code",
   "execution_count": null,
   "id": "6494b80c",
   "metadata": {
    "id": "6494b80c"
   },
   "outputs": [],
   "source": [
    "cv = KFold(5, shuffle=True, random_state=42)\n",
    "params = { \n",
    "    'n_estimators': [20,40,60,80,100],\n",
    "    'max_depth' : [None, 4,8,10,20,30],\n",
    "    'min_samples_split': [2,4,6]}"
   ]
  },
  {
   "cell_type": "code",
   "execution_count": null,
   "id": "788f8fe0",
   "metadata": {
    "id": "788f8fe0"
   },
   "outputs": [],
   "source": [
    "grid_e=GridSearchCV(ExtraTreesRegressor(random_state=42),param_grid=params,cv=cv, refit=True, verbose=True, n_jobs=-1) "
   ]
  },
  {
   "cell_type": "code",
   "execution_count": null,
   "id": "c1af9fd6",
   "metadata": {
    "id": "c1af9fd6",
    "outputId": "8ea15bfc-5372-46a2-ed87-2d9c07622927"
   },
   "outputs": [
    {
     "name": "stdout",
     "output_type": "stream",
     "text": [
      "Fitting 5 folds for each of 90 candidates, totalling 450 fits\n"
     ]
    },
    {
     "data": {
      "text/plain": [
       "GridSearchCV(cv=KFold(n_splits=5, random_state=42, shuffle=True),\n",
       "             estimator=ExtraTreesRegressor(random_state=42), n_jobs=-1,\n",
       "             param_grid={'max_depth': [None, 4, 8, 10, 20, 30],\n",
       "                         'min_samples_split': [2, 4, 6],\n",
       "                         'n_estimators': [20, 40, 60, 80, 100]},\n",
       "             verbose=True)"
      ]
     },
     "execution_count": 18,
     "metadata": {},
     "output_type": "execute_result"
    }
   ],
   "source": [
    "grid_e.fit(x_train_stan,y_train)"
   ]
  },
  {
   "cell_type": "code",
   "execution_count": null,
   "id": "d5247ce7",
   "metadata": {
    "id": "d5247ce7",
    "outputId": "c91cfe93-5f94-4cf0-fb23-7bfa9d818960"
   },
   "outputs": [
    {
     "data": {
      "text/plain": [
       "ExtraTreesRegressor(max_depth=4, min_samples_split=6, n_estimators=60,\n",
       "                    random_state=42)"
      ]
     },
     "execution_count": 19,
     "metadata": {},
     "output_type": "execute_result"
    }
   ],
   "source": [
    "grid_e.best_estimator_ "
   ]
  },
  {
   "cell_type": "code",
   "execution_count": null,
   "id": "356391f7",
   "metadata": {
    "id": "356391f7",
    "outputId": "bf2aed49-2aa9-42df-e12d-1aaa10a19879"
   },
   "outputs": [
    {
     "data": {
      "text/plain": [
       "-0.05207003120580571"
      ]
     },
     "execution_count": 20,
     "metadata": {},
     "output_type": "execute_result"
    }
   ],
   "source": [
    "grid_e.best_score_ "
   ]
  },
  {
   "cell_type": "code",
   "execution_count": null,
   "id": "beca9a76",
   "metadata": {
    "id": "beca9a76",
    "outputId": "a04095e6-7926-4dd0-fd1a-28d48cda0fe1"
   },
   "outputs": [
    {
     "data": {
      "text/plain": [
       "0.5277203342002765"
      ]
     },
     "execution_count": 21,
     "metadata": {},
     "output_type": "execute_result"
    }
   ],
   "source": [
    "grid_e.score(x_train_stan,y_train)"
   ]
  },
  {
   "cell_type": "code",
   "execution_count": null,
   "id": "2d8c4391",
   "metadata": {
    "id": "2d8c4391",
    "outputId": "8d92d154-aa33-4215-c237-b4cd4145a51b"
   },
   "outputs": [
    {
     "data": {
      "text/plain": [
       "0.23575952528285316"
      ]
     },
     "execution_count": 22,
     "metadata": {},
     "output_type": "execute_result"
    }
   ],
   "source": [
    "grid_e.score(x_test_stan,y_test)"
   ]
  },
  {
   "cell_type": "code",
   "execution_count": null,
   "id": "54a153ca",
   "metadata": {
    "id": "54a153ca"
   },
   "outputs": [],
   "source": []
  },
  {
   "cell_type": "code",
   "execution_count": null,
   "id": "745b4bf0",
   "metadata": {
    "id": "745b4bf0"
   },
   "outputs": [],
   "source": [
    "cv = KFold(5, shuffle=True, random_state=42)\n",
    "params = { \n",
    "    'n_estimators': [350,500,600,700,750],\n",
    "    'max_depth' : [10,12,15,17,19],\n",
    "    'min_samples_split': [2,4,6,8]}\n",
    "grid_e=GridSearchCV(ExtraTreesRegressor(random_state=42),param_grid=params,cv=cv, refit=True, verbose=True, n_jobs=-1) "
   ]
  },
  {
   "cell_type": "code",
   "execution_count": null,
   "id": "10b248a3",
   "metadata": {
    "id": "10b248a3",
    "outputId": "bad1d5b7-7c67-4d0d-bfc7-a8c3b71e8a9c"
   },
   "outputs": [
    {
     "name": "stdout",
     "output_type": "stream",
     "text": [
      "Fitting 5 folds for each of 100 candidates, totalling 500 fits\n"
     ]
    },
    {
     "data": {
      "text/plain": [
       "GridSearchCV(cv=KFold(n_splits=5, random_state=42, shuffle=True),\n",
       "             estimator=ExtraTreesRegressor(random_state=42), n_jobs=-1,\n",
       "             param_grid={'max_depth': [10, 12, 15, 17, 19],\n",
       "                         'min_samples_split': [2, 4, 6, 8],\n",
       "                         'n_estimators': [350, 500, 600, 700, 750]},\n",
       "             verbose=True)"
      ]
     },
     "execution_count": 78,
     "metadata": {},
     "output_type": "execute_result"
    }
   ],
   "source": [
    "grid_e.fit(x_train_stan,y_train)"
   ]
  },
  {
   "cell_type": "code",
   "execution_count": null,
   "id": "86de7e3b",
   "metadata": {
    "id": "86de7e3b",
    "outputId": "86c90181-b85c-4402-c4d1-27f14f2c6c0e"
   },
   "outputs": [
    {
     "data": {
      "text/plain": [
       "ExtraTreesRegressor(max_depth=12, min_samples_split=8, n_estimators=750,\n",
       "                    random_state=42)"
      ]
     },
     "execution_count": 79,
     "metadata": {},
     "output_type": "execute_result"
    }
   ],
   "source": [
    "grid_e.best_estimator_ "
   ]
  },
  {
   "cell_type": "code",
   "execution_count": null,
   "id": "836b8487",
   "metadata": {
    "id": "836b8487",
    "outputId": "31aabc40-5ff6-46ad-eac8-b1d39f5c8bd1"
   },
   "outputs": [
    {
     "data": {
      "text/plain": [
       "-0.0751257064132372"
      ]
     },
     "execution_count": 80,
     "metadata": {},
     "output_type": "execute_result"
    }
   ],
   "source": [
    "grid_e.best_score_ "
   ]
  },
  {
   "cell_type": "code",
   "execution_count": null,
   "id": "efe68e57",
   "metadata": {
    "id": "efe68e57",
    "outputId": "680f8a51-1047-49d4-b156-9f8cb2874865"
   },
   "outputs": [
    {
     "data": {
      "text/plain": [
       "0.7486015389474503"
      ]
     },
     "execution_count": 81,
     "metadata": {},
     "output_type": "execute_result"
    }
   ],
   "source": [
    "grid_e.score(x_train_stan,y_train)"
   ]
  },
  {
   "cell_type": "code",
   "execution_count": null,
   "id": "bc49e09f",
   "metadata": {
    "id": "bc49e09f",
    "outputId": "9aa5411a-dcf0-42d0-87ed-b72038f74ab6"
   },
   "outputs": [
    {
     "data": {
      "text/plain": [
       "0.2929364437080988"
      ]
     },
     "execution_count": 82,
     "metadata": {},
     "output_type": "execute_result"
    }
   ],
   "source": [
    "grid_e.score(x_test_stan,y_test)"
   ]
  },
  {
   "cell_type": "markdown",
   "id": "80cf7028",
   "metadata": {
    "id": "88a7ba77"
   },
   "source": [
    "### feature_importances_"
   ]
  },
  {
   "cell_type": "code",
   "execution_count": null,
   "id": "0cac1dc6",
   "metadata": {
    "id": "0cac1dc6",
    "outputId": "66397eb9-6043-4e7d-ddb2-2ec98dc4f735"
   },
   "outputs": [
    {
     "data": {
      "text/html": [
       "<div>\n",
       "<style scoped>\n",
       "    .dataframe tbody tr th:only-of-type {\n",
       "        vertical-align: middle;\n",
       "    }\n",
       "\n",
       "    .dataframe tbody tr th {\n",
       "        vertical-align: top;\n",
       "    }\n",
       "\n",
       "    .dataframe thead th {\n",
       "        text-align: right;\n",
       "    }\n",
       "</style>\n",
       "<table border=\"1\" class=\"dataframe\">\n",
       "  <thead>\n",
       "    <tr style=\"text-align: right;\">\n",
       "      <th></th>\n",
       "      <th>features_name</th>\n",
       "      <th>importance</th>\n",
       "    </tr>\n",
       "  </thead>\n",
       "  <tbody>\n",
       "    <tr>\n",
       "      <th>904</th>\n",
       "      <td>matching_상권_코드_명_용산구청</td>\n",
       "      <td>0.073374</td>\n",
       "    </tr>\n",
       "    <tr>\n",
       "      <th>392</th>\n",
       "      <td>여성연령대_30_토요일시간대_5_생활인구_수</td>\n",
       "      <td>0.056385</td>\n",
       "    </tr>\n",
       "    <tr>\n",
       "      <th>760</th>\n",
       "      <td>matching_상권_코드_명_디지털미디어시티</td>\n",
       "      <td>0.037634</td>\n",
       "    </tr>\n",
       "    <tr>\n",
       "      <th>397</th>\n",
       "      <td>여성연령대_30_일요일시간대_4_생활인구_수</td>\n",
       "      <td>0.036952</td>\n",
       "    </tr>\n",
       "    <tr>\n",
       "      <th>706</th>\n",
       "      <td>matching_상권_코드_명_공항대로59다길</td>\n",
       "      <td>0.036689</td>\n",
       "    </tr>\n",
       "    <tr>\n",
       "      <th>715</th>\n",
       "      <td>matching_상권_코드_명_구로중앙로28길</td>\n",
       "      <td>0.035362</td>\n",
       "    </tr>\n",
       "    <tr>\n",
       "      <th>834</th>\n",
       "      <td>matching_상권_코드_명_서울 용산구 이태원역</td>\n",
       "      <td>0.032733</td>\n",
       "    </tr>\n",
       "    <tr>\n",
       "      <th>824</th>\n",
       "      <td>matching_상권_코드_명_서울 마포구 홍대입구역_3</td>\n",
       "      <td>0.031109</td>\n",
       "    </tr>\n",
       "    <tr>\n",
       "      <th>145</th>\n",
       "      <td>남성연령대_30_일요일시간대_4_생활인구_수</td>\n",
       "      <td>0.024863</td>\n",
       "    </tr>\n",
       "    <tr>\n",
       "      <th>941</th>\n",
       "      <td>matching_상권_코드_명_학동로56길</td>\n",
       "      <td>0.024682</td>\n",
       "    </tr>\n",
       "    <tr>\n",
       "      <th>806</th>\n",
       "      <td>matching_상권_코드_명_서울 강동구 천호역_2</td>\n",
       "      <td>0.022215</td>\n",
       "    </tr>\n",
       "    <tr>\n",
       "      <th>98</th>\n",
       "      <td>남성연령대_20_토요일시간대_5_생활인구_수</td>\n",
       "      <td>0.020159</td>\n",
       "    </tr>\n",
       "    <tr>\n",
       "      <th>390</th>\n",
       "      <td>여성연령대_30_토요일시간대_3_생활인구_수</td>\n",
       "      <td>0.015067</td>\n",
       "    </tr>\n",
       "    <tr>\n",
       "      <th>332</th>\n",
       "      <td>여성연령대_20_수요일시간대_5_생활인구_수</td>\n",
       "      <td>0.013891</td>\n",
       "    </tr>\n",
       "    <tr>\n",
       "      <th>96</th>\n",
       "      <td>남성연령대_20_토요일시간대_3_생활인구_수</td>\n",
       "      <td>0.011961</td>\n",
       "    </tr>\n",
       "  </tbody>\n",
       "</table>\n",
       "</div>"
      ],
      "text/plain": [
       "                       features_name  importance\n",
       "904            matching_상권_코드_명_용산구청    0.073374\n",
       "392         여성연령대_30_토요일시간대_5_생활인구_수    0.056385\n",
       "760        matching_상권_코드_명_디지털미디어시티    0.037634\n",
       "397         여성연령대_30_일요일시간대_4_생활인구_수    0.036952\n",
       "706        matching_상권_코드_명_공항대로59다길    0.036689\n",
       "715        matching_상권_코드_명_구로중앙로28길    0.035362\n",
       "834     matching_상권_코드_명_서울 용산구 이태원역    0.032733\n",
       "824  matching_상권_코드_명_서울 마포구 홍대입구역_3    0.031109\n",
       "145         남성연령대_30_일요일시간대_4_생활인구_수    0.024863\n",
       "941          matching_상권_코드_명_학동로56길    0.024682\n",
       "806    matching_상권_코드_명_서울 강동구 천호역_2    0.022215\n",
       "98          남성연령대_20_토요일시간대_5_생활인구_수    0.020159\n",
       "390         여성연령대_30_토요일시간대_3_생활인구_수    0.015067\n",
       "332         여성연령대_20_수요일시간대_5_생활인구_수    0.013891\n",
       "96          남성연령대_20_토요일시간대_3_생활인구_수    0.011961"
      ]
     },
     "execution_count": 150,
     "metadata": {},
     "output_type": "execute_result"
    }
   ],
   "source": [
    "etc_model = ExtraTreesRegressor(random_state=42,n_estimators=50,min_samples_split=3,max_depth=13)\n",
    "etc_model.fit(x_train_stan, y_train)\n",
    "\n",
    "feature_list = pd.concat([pd.Series(x.columns), pd.Series(etc_model.feature_importances_)], axis=1)\n",
    "feature_list.columns = ['features_name', 'importance']\n",
    "feature_list.sort_values(\"importance\", ascending =False)[:15]"
   ]
  },
  {
   "cell_type": "code",
   "execution_count": null,
   "id": "62af8b22",
   "metadata": {
    "id": "62af8b22"
   },
   "outputs": [],
   "source": []
  },
  {
   "cell_type": "code",
   "execution_count": null,
   "id": "c86e0053",
   "metadata": {
    "id": "c86e0053"
   },
   "outputs": [],
   "source": []
  },
  {
   "cell_type": "code",
   "execution_count": null,
   "id": "c70e05bb",
   "metadata": {
    "id": "c70e05bb"
   },
   "outputs": [],
   "source": []
  },
  {
   "cell_type": "markdown",
   "id": "2adfb94f",
   "metadata": {
    "id": "2adfb94f"
   },
   "source": [
    "## GradientBoostingRegressor"
   ]
  },
  {
   "cell_type": "code",
   "execution_count": null,
   "id": "c2880a64",
   "metadata": {
    "id": "c2880a64"
   },
   "outputs": [],
   "source": [
    "# loss='ls',\n",
    "#     learning_rate=0.1,\n",
    "#     n_estimators=100,\n",
    "#     subsample=1.0,\n",
    "#     criterion='friedman_mse',\n",
    "#     min_samples_split=2,\n",
    "#     min_samples_leaf=1,\n",
    "#     min_weight_fraction_leaf=0.0,\n",
    "#     max_depth=3,\n",
    "#     min_impurity_decrease=0.0,\n",
    "#     min_impurity_split=None,\n",
    "#     init=None,\n",
    "#     random_state=None,\n",
    "#     max_features=None,\n",
    "#     alpha=0.9,\n",
    "#     verbose=0,\n",
    "#     max_leaf_nodes=None,\n",
    "#     warm_start=False,\n",
    "#     validation_fraction=0.1,\n",
    "#     n_iter_no_change=None,\n",
    "#     tol=0.0001,\n",
    "#     ccp_alpha=0.0,\n"
   ]
  },
  {
   "cell_type": "markdown",
   "id": "d9e4d8f0",
   "metadata": {
    "id": "d9e4d8f0"
   },
   "source": [
    "### test_param_tuning"
   ]
  },
  {
   "cell_type": "code",
   "execution_count": null,
   "id": "88c9b6d9",
   "metadata": {
    "id": "88c9b6d9",
    "outputId": "8670e216-757e-431b-99e5-aa20cf25012a"
   },
   "outputs": [
    {
     "name": "stdout",
     "output_type": "stream",
     "text": [
      "0.9098341034617643\n",
      "0.28883890601728757\n"
     ]
    }
   ],
   "source": [
    "gbr = GradientBoostingRegressor(random_state=42)\n",
    "gbr.fit(x_train_stan,y_train)\n",
    "print(gbr.score(x_train_stan, y_train))\n",
    "print(gbr.score(x_test_stan, y_test))"
   ]
  },
  {
   "cell_type": "code",
   "execution_count": null,
   "id": "fdbb4eb1",
   "metadata": {
    "id": "fdbb4eb1",
    "outputId": "6552aead-3a0b-4417-8102-53e3565a3190"
   },
   "outputs": [
    {
     "name": "stdout",
     "output_type": "stream",
     "text": [
      "0.8951545090946867\n",
      "0.31409749010863364\n"
     ]
    }
   ],
   "source": [
    "gbr = GradientBoostingRegressor(random_state=42,learning_rate=0.1,subsample=0.7)\n",
    "gbr.fit(x_train_stan,y_train)\n",
    "print(gbr.score(x_train_stan, y_train))\n",
    "print(gbr.score(x_test_stan, y_test))"
   ]
  },
  {
   "cell_type": "code",
   "execution_count": null,
   "id": "3439a24d",
   "metadata": {
    "id": "3439a24d",
    "outputId": "3eb322dd-ee11-4f25-d686-dd6a9004bfac"
   },
   "outputs": [
    {
     "name": "stdout",
     "output_type": "stream",
     "text": [
      "0.8226970993149983\n",
      "0.29630575601562725\n"
     ]
    }
   ],
   "source": [
    "# gbr = GradientBoostingRegressor(random_state=42,learning_rate=0.1,subsample=0.3)\n",
    "# gbr.fit(x_train_stan,y_train)\n",
    "# print(gbr.score(x_train_stan, y_train))\n",
    "# print(gbr.score(x_test_stan, y_test))"
   ]
  },
  {
   "cell_type": "code",
   "execution_count": null,
   "id": "f5398040",
   "metadata": {
    "id": "f5398040",
    "outputId": "30054b48-3311-41dc-e34a-7582f8422539"
   },
   "outputs": [
    {
     "name": "stdout",
     "output_type": "stream",
     "text": [
      "0.991044737382711\n",
      "0.3663167572311079\n"
     ]
    }
   ],
   "source": [
    "gbr = GradientBoostingRegressor(random_state=42,learning_rate=0.1,subsample=0.7)\n",
    "gbr.fit(x_train_stan,y_train)\n",
    "print(gbr.score(x_train_stan, y_train))\n",
    "print(gbr.score(x_test_stan, y_test))"
   ]
  },
  {
   "cell_type": "code",
   "execution_count": null,
   "id": "f59feef9",
   "metadata": {
    "id": "f59feef9",
    "outputId": "90401c4b-6e8c-4063-f7a9-8d69db72d52c"
   },
   "outputs": [
    {
     "name": "stdout",
     "output_type": "stream",
     "text": [
      "0.8560720396376961\n",
      "0.39521563505662627\n"
     ]
    }
   ],
   "source": [
    "gbr = GradientBoostingRegressor(random_state=42,learning_rate=0.25,subsample=0.7,n_estimators=30)\n",
    "gbr.fit(x_train_stan,y_train)\n",
    "print(gbr.score(x_train_stan, y_train))\n",
    "print(gbr.score(x_test_stan, y_test))\n"
   ]
  },
  {
   "cell_type": "code",
   "execution_count": null,
   "id": "2cc86061",
   "metadata": {
    "id": "2cc86061",
    "outputId": "13b12faa-599f-48f7-d4e1-af608858efaa"
   },
   "outputs": [
    {
     "name": "stdout",
     "output_type": "stream",
     "text": [
      "0.7923572256293517\n",
      "0.4142803699078096\n"
     ]
    }
   ],
   "source": [
    "gbr = GradientBoostingRegressor(random_state=42,learning_rate=0.25,subsample=0.7,n_estimators=21)\n",
    "gbr.fit(x_train_stan,y_train)\n",
    "print(gbr.score(x_train_stan, y_train))\n",
    "print(gbr.score(x_test_stan, y_test))"
   ]
  },
  {
   "cell_type": "code",
   "execution_count": null,
   "id": "08e73cb6",
   "metadata": {
    "id": "08e73cb6"
   },
   "outputs": [],
   "source": []
  },
  {
   "cell_type": "markdown",
   "id": "586bb6d4",
   "metadata": {
    "id": "586bb6d4"
   },
   "source": [
    "### Gridsearch  -  KFold = 5고정, param_tuning"
   ]
  },
  {
   "cell_type": "code",
   "execution_count": null,
   "id": "bc86a6cf",
   "metadata": {
    "id": "bc86a6cf"
   },
   "outputs": [],
   "source": [
    "cv = KFold(5, shuffle=True, random_state=42)\n",
    "params = { \n",
    "    'learning_rate': np.arange(0.01,0.25,0.01),\n",
    "    'subsample' : np.arange(0.1,1,0.1),\n",
    "    'n_estimators': np.arange(5,100,5)}\n",
    "grid_b=GridSearchCV(GradientBoostingRegressor(random_state=42),param_grid=params,cv=cv, refit=True, verbose=True, n_jobs=-1) "
   ]
  },
  {
   "cell_type": "code",
   "execution_count": null,
   "id": "23bc8b92",
   "metadata": {
    "id": "23bc8b92",
    "outputId": "f8c95fa0-150d-4907-89ee-3555769489cc"
   },
   "outputs": [
    {
     "name": "stdout",
     "output_type": "stream",
     "text": [
      "Fitting 5 folds for each of 4104 candidates, totalling 20520 fits\n"
     ]
    },
    {
     "data": {
      "text/plain": [
       "GridSearchCV(cv=KFold(n_splits=5, random_state=42, shuffle=True),\n",
       "             estimator=GradientBoostingRegressor(random_state=42), n_jobs=-1,\n",
       "             param_grid={'learning_rate': array([0.01, 0.02, 0.03, 0.04, 0.05, 0.06, 0.07, 0.08, 0.09, 0.1 , 0.11,\n",
       "       0.12, 0.13, 0.14, 0.15, 0.16, 0.17, 0.18, 0.19, 0.2 , 0.21, 0.22,\n",
       "       0.23, 0.24]),\n",
       "                         'n_estimators': array([ 5, 10, 15, 20, 25, 30, 35, 40, 45, 50, 55, 60, 65, 70, 75, 80, 85,\n",
       "       90, 95]),\n",
       "                         'subsample': array([0.1, 0.2, 0.3, 0.4, 0.5, 0.6, 0.7, 0.8, 0.9])},\n",
       "             verbose=True)"
      ]
     },
     "execution_count": 96,
     "metadata": {},
     "output_type": "execute_result"
    }
   ],
   "source": [
    "grid_b.fit(x_train_stan,y_train)"
   ]
  },
  {
   "cell_type": "code",
   "execution_count": null,
   "id": "c9983234",
   "metadata": {
    "id": "c9983234",
    "outputId": "5d7cac9d-17b1-47bf-ff60-b3ed08f536ca"
   },
   "outputs": [
    {
     "data": {
      "text/plain": [
       "GradientBoostingRegressor(learning_rate=0.01, n_estimators=90, random_state=42,\n",
       "                          subsample=0.4)"
      ]
     },
     "execution_count": 97,
     "metadata": {},
     "output_type": "execute_result"
    }
   ],
   "source": [
    "grid_b.best_estimator_ "
   ]
  },
  {
   "cell_type": "code",
   "execution_count": null,
   "id": "3cff6d98",
   "metadata": {
    "id": "3cff6d98",
    "outputId": "408bc358-049c-4c3f-f419-020b182b3aa8"
   },
   "outputs": [
    {
     "data": {
      "text/plain": [
       "0.11084907030224903"
      ]
     },
     "execution_count": 98,
     "metadata": {},
     "output_type": "execute_result"
    }
   ],
   "source": [
    "grid_b.best_score_ "
   ]
  },
  {
   "cell_type": "code",
   "execution_count": null,
   "id": "90f79951",
   "metadata": {
    "id": "90f79951",
    "outputId": "049d88b3-ae11-4e7c-faad-c8e2d0e78aff"
   },
   "outputs": [
    {
     "data": {
      "text/plain": [
       "0.3814796340104245"
      ]
     },
     "execution_count": 99,
     "metadata": {},
     "output_type": "execute_result"
    }
   ],
   "source": [
    "grid_b.score(x_train_stan,y_train)"
   ]
  },
  {
   "cell_type": "code",
   "execution_count": null,
   "id": "379036cf",
   "metadata": {
    "id": "379036cf",
    "outputId": "ca813363-3ef3-4bea-b246-ee8fba346955"
   },
   "outputs": [
    {
     "data": {
      "text/plain": [
       "0.2345830216304131"
      ]
     },
     "execution_count": 100,
     "metadata": {},
     "output_type": "execute_result"
    }
   ],
   "source": [
    "grid_b.score(x_test_stan,y_test)"
   ]
  },
  {
   "cell_type": "markdown",
   "id": "895a748b",
   "metadata": {
    "id": "a0ab525e"
   },
   "source": [
    "### feature_importances_"
   ]
  },
  {
   "cell_type": "code",
   "execution_count": 6,
   "id": "37b0881f",
   "metadata": {
    "id": "37b0881f",
    "outputId": "cc37e68f-a5c5-4d6a-a855-3b791470c28b"
   },
   "outputs": [
    {
     "data": {
      "text/html": [
       "<div>\n",
       "<style scoped>\n",
       "    .dataframe tbody tr th:only-of-type {\n",
       "        vertical-align: middle;\n",
       "    }\n",
       "\n",
       "    .dataframe tbody tr th {\n",
       "        vertical-align: top;\n",
       "    }\n",
       "\n",
       "    .dataframe thead th {\n",
       "        text-align: right;\n",
       "    }\n",
       "</style>\n",
       "<table border=\"1\" class=\"dataframe\">\n",
       "  <thead>\n",
       "    <tr style=\"text-align: right;\">\n",
       "      <th></th>\n",
       "      <th>features_name</th>\n",
       "      <th>importance</th>\n",
       "    </tr>\n",
       "  </thead>\n",
       "  <tbody>\n",
       "    <tr>\n",
       "      <th>760</th>\n",
       "      <td>matching_상권_코드_명_디지털미디어시티</td>\n",
       "      <td>0.087761</td>\n",
       "    </tr>\n",
       "    <tr>\n",
       "      <th>138</th>\n",
       "      <td>남성연령대_30_토요일시간대_3_생활인구_수</td>\n",
       "      <td>0.069000</td>\n",
       "    </tr>\n",
       "    <tr>\n",
       "      <th>904</th>\n",
       "      <td>matching_상권_코드_명_용산구청</td>\n",
       "      <td>0.061606</td>\n",
       "    </tr>\n",
       "    <tr>\n",
       "      <th>13</th>\n",
       "      <td>시간대_5_생활인구_수</td>\n",
       "      <td>0.054327</td>\n",
       "    </tr>\n",
       "    <tr>\n",
       "      <th>535</th>\n",
       "      <td>아파트_가격_3_억_세대_수</td>\n",
       "      <td>0.048688</td>\n",
       "    </tr>\n",
       "    <tr>\n",
       "      <th>98</th>\n",
       "      <td>남성연령대_20_토요일시간대_5_생활인구_수</td>\n",
       "      <td>0.039192</td>\n",
       "    </tr>\n",
       "    <tr>\n",
       "      <th>647</th>\n",
       "      <td>연령대_30_매출_건수</td>\n",
       "      <td>0.028671</td>\n",
       "    </tr>\n",
       "    <tr>\n",
       "      <th>706</th>\n",
       "      <td>matching_상권_코드_명_공항대로59다길</td>\n",
       "      <td>0.026366</td>\n",
       "    </tr>\n",
       "    <tr>\n",
       "      <th>600</th>\n",
       "      <td>연령대_20_매출_비율</td>\n",
       "      <td>0.024382</td>\n",
       "    </tr>\n",
       "    <tr>\n",
       "      <th>71</th>\n",
       "      <td>남성연령대_20_화요일시간대_2_생활인구_수</td>\n",
       "      <td>0.023270</td>\n",
       "    </tr>\n",
       "    <tr>\n",
       "      <th>715</th>\n",
       "      <td>matching_상권_코드_명_구로중앙로28길</td>\n",
       "      <td>0.022023</td>\n",
       "    </tr>\n",
       "    <tr>\n",
       "      <th>641</th>\n",
       "      <td>시간대_건수~21_매출_건수</td>\n",
       "      <td>0.021181</td>\n",
       "    </tr>\n",
       "    <tr>\n",
       "      <th>679</th>\n",
       "      <td>선별진료소 수</td>\n",
       "      <td>0.018096</td>\n",
       "    </tr>\n",
       "    <tr>\n",
       "      <th>77</th>\n",
       "      <td>남성연령대_20_수요일시간대_2_생활인구_수</td>\n",
       "      <td>0.017490</td>\n",
       "    </tr>\n",
       "    <tr>\n",
       "      <th>941</th>\n",
       "      <td>matching_상권_코드_명_학동로56길</td>\n",
       "      <td>0.017289</td>\n",
       "    </tr>\n",
       "    <tr>\n",
       "      <th>654</th>\n",
       "      <td>00시총승객수</td>\n",
       "      <td>0.017281</td>\n",
       "    </tr>\n",
       "    <tr>\n",
       "      <th>537</th>\n",
       "      <td>아파트_가격_5_억_세대_수</td>\n",
       "      <td>0.017223</td>\n",
       "    </tr>\n",
       "    <tr>\n",
       "      <th>652</th>\n",
       "      <td>승하차총승객수</td>\n",
       "      <td>0.016313</td>\n",
       "    </tr>\n",
       "    <tr>\n",
       "      <th>618</th>\n",
       "      <td>시간대_17~21_매출_금액</td>\n",
       "      <td>0.016248</td>\n",
       "    </tr>\n",
       "    <tr>\n",
       "      <th>561</th>\n",
       "      <td>여성연령대_60_이상_직장_인구_수</td>\n",
       "      <td>0.015753</td>\n",
       "    </tr>\n",
       "    <tr>\n",
       "      <th>834</th>\n",
       "      <td>matching_상권_코드_명_서울 용산구 이태원역</td>\n",
       "      <td>0.015743</td>\n",
       "    </tr>\n",
       "    <tr>\n",
       "      <th>582</th>\n",
       "      <td>주중_매출_비율</td>\n",
       "      <td>0.015481</td>\n",
       "    </tr>\n",
       "    <tr>\n",
       "      <th>585</th>\n",
       "      <td>화요일_매출_비율</td>\n",
       "      <td>0.014371</td>\n",
       "    </tr>\n",
       "    <tr>\n",
       "      <th>824</th>\n",
       "      <td>matching_상권_코드_명_서울 마포구 홍대입구역_3</td>\n",
       "      <td>0.014270</td>\n",
       "    </tr>\n",
       "    <tr>\n",
       "      <th>526</th>\n",
       "      <td>아파트_단지_수</td>\n",
       "      <td>0.013255</td>\n",
       "    </tr>\n",
       "    <tr>\n",
       "      <th>678</th>\n",
       "      <td>버스정류장 수</td>\n",
       "      <td>0.013237</td>\n",
       "    </tr>\n",
       "    <tr>\n",
       "      <th>603</th>\n",
       "      <td>연령대_50_매출_비율</td>\n",
       "      <td>0.012368</td>\n",
       "    </tr>\n",
       "  </tbody>\n",
       "</table>\n",
       "</div>"
      ],
      "text/plain": [
       "                       features_name  importance\n",
       "760        matching_상권_코드_명_디지털미디어시티    0.087761\n",
       "138         남성연령대_30_토요일시간대_3_생활인구_수    0.069000\n",
       "904            matching_상권_코드_명_용산구청    0.061606\n",
       "13                      시간대_5_생활인구_수    0.054327\n",
       "535                  아파트_가격_3_억_세대_수    0.048688\n",
       "98          남성연령대_20_토요일시간대_5_생활인구_수    0.039192\n",
       "647                     연령대_30_매출_건수    0.028671\n",
       "706        matching_상권_코드_명_공항대로59다길    0.026366\n",
       "600                     연령대_20_매출_비율    0.024382\n",
       "71          남성연령대_20_화요일시간대_2_생활인구_수    0.023270\n",
       "715        matching_상권_코드_명_구로중앙로28길    0.022023\n",
       "641                  시간대_건수~21_매출_건수    0.021181\n",
       "679                          선별진료소 수    0.018096\n",
       "77          남성연령대_20_수요일시간대_2_생활인구_수    0.017490\n",
       "941          matching_상권_코드_명_학동로56길    0.017289\n",
       "654                          00시총승객수    0.017281\n",
       "537                  아파트_가격_5_억_세대_수    0.017223\n",
       "652                          승하차총승객수    0.016313\n",
       "618                  시간대_17~21_매출_금액    0.016248\n",
       "561              여성연령대_60_이상_직장_인구_수    0.015753\n",
       "834     matching_상권_코드_명_서울 용산구 이태원역    0.015743\n",
       "582                         주중_매출_비율    0.015481\n",
       "585                        화요일_매출_비율    0.014371\n",
       "824  matching_상권_코드_명_서울 마포구 홍대입구역_3    0.014270\n",
       "526                         아파트_단지_수    0.013255\n",
       "678                          버스정류장 수    0.013237\n",
       "603                     연령대_50_매출_비율    0.012368"
      ]
     },
     "execution_count": 6,
     "metadata": {},
     "output_type": "execute_result"
    }
   ],
   "source": [
    "gbr_model = GradientBoostingRegressor(random_state=42,learning_rate=0.25,subsample=0.7,n_estimators=21)\n",
    "gbr_model.fit(x_train_stan, y_train)\n",
    "\n",
    "\n",
    "feature_list = pd.concat([pd.Series(x.columns), pd.Series(gbr_model.feature_importances_)], axis=1)\n",
    "feature_list.columns = ['features_name', 'importance']\n",
    "feature_list.sort_values(\"importance\", ascending =False)[:27]"
   ]
  },
  {
   "cell_type": "code",
   "execution_count": null,
   "id": "93fe0d6f",
   "metadata": {
    "id": "93fe0d6f"
   },
   "outputs": [],
   "source": []
  },
  {
   "cell_type": "code",
   "execution_count": null,
   "id": "ac980725",
   "metadata": {
    "id": "ac980725"
   },
   "outputs": [],
   "source": []
  },
  {
   "cell_type": "code",
   "execution_count": null,
   "id": "acdfa440",
   "metadata": {
    "id": "acdfa440"
   },
   "outputs": [],
   "source": []
  },
  {
   "cell_type": "code",
   "execution_count": null,
   "id": "d2a383da",
   "metadata": {
    "id": "d2a383da"
   },
   "outputs": [],
   "source": []
  },
  {
   "cell_type": "code",
   "execution_count": null,
   "id": "37a82a77",
   "metadata": {
    "id": "37a82a77"
   },
   "outputs": [],
   "source": []
  },
  {
   "cell_type": "code",
   "execution_count": null,
   "id": "7c8ee878",
   "metadata": {},
   "outputs": [],
   "source": []
  },
  {
   "cell_type": "code",
   "execution_count": null,
   "id": "107df764",
   "metadata": {},
   "outputs": [],
   "source": []
  },
  {
   "cell_type": "code",
   "execution_count": null,
   "id": "6df0187e",
   "metadata": {},
   "outputs": [],
   "source": []
  },
  {
   "cell_type": "code",
   "execution_count": null,
   "id": "64bec024",
   "metadata": {},
   "outputs": [],
   "source": []
  },
  {
   "cell_type": "code",
   "execution_count": null,
   "id": "07f2c136",
   "metadata": {
    "id": "07f2c136"
   },
   "outputs": [],
   "source": []
  },
  {
   "cell_type": "code",
   "execution_count": null,
   "id": "5107088b",
   "metadata": {
    "id": "5107088b"
   },
   "outputs": [],
   "source": []
  },
  {
   "cell_type": "code",
   "execution_count": null,
   "id": "a08b2a21",
   "metadata": {
    "id": "a08b2a21"
   },
   "outputs": [],
   "source": []
  },
  {
   "cell_type": "code",
   "execution_count": null,
   "id": "c47346f0",
   "metadata": {
    "id": "c47346f0"
   },
   "outputs": [],
   "source": []
  }
 ],
 "metadata": {
  "colab": {
   "name": "Extra & Gradient.ipynb",
   "provenance": []
  },
  "kernelspec": {
   "display_name": "Python 3",
   "language": "python",
   "name": "python3"
  },
  "language_info": {
   "codemirror_mode": {
    "name": "ipython",
    "version": 3
   },
   "file_extension": ".py",
   "mimetype": "text/x-python",
   "name": "python",
   "nbconvert_exporter": "python",
   "pygments_lexer": "ipython3",
   "version": "3.8.8"
  }
 },
 "nbformat": 4,
 "nbformat_minor": 5
}
