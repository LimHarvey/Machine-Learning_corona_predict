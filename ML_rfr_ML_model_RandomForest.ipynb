{
 "cells": [
  {
   "cell_type": "markdown",
   "id": "c183c729",
   "metadata": {},
   "source": [
    "### rfr_ML_model_RandomForest\n",
    "\n",
    "-  RandomForest_best_model_Feature_romoved과 달리 raw_dataFrame 전체를 RandomForest기준으로 \\\n",
    "Feature값 축소한 df_rfr_opt사용\n",
    "- 분석 과정은 raw와 동일"
   ]
  },
  {
   "cell_type": "code",
   "execution_count": null,
   "id": "23fc96a1",
   "metadata": {},
   "outputs": [],
   "source": []
  },
  {
   "cell_type": "code",
   "execution_count": 2,
   "id": "9d7e39ba",
   "metadata": {},
   "outputs": [],
   "source": [
    "import pandas as pd\n",
    "import numpy as np\n",
    "import matplotlib.pyplot as plt\n",
    "import seaborn as sns"
   ]
  },
  {
   "cell_type": "code",
   "execution_count": 3,
   "id": "60e63b8b",
   "metadata": {},
   "outputs": [],
   "source": [
    "import warnings\n",
    "\n",
    "warnings.filterwarnings(action='ignore')"
   ]
  },
  {
   "cell_type": "code",
   "execution_count": 4,
   "id": "2a92bf0a",
   "metadata": {},
   "outputs": [],
   "source": [
    "import matplotlib as mpl\n",
    "import matplotlib.font_manager as fm\n",
    "\n",
    "mpl.rcParams['axes.unicode_minus']= False\n",
    "\n",
    "path = 'C:/Windows/Fonts/malgun.ttf'\n",
    "font_name = fm.FontProperties(fname = path, size = 50).get_name()\n",
    "plt.rc('font', family=font_name)"
   ]
  },
  {
   "cell_type": "code",
   "execution_count": 11,
   "id": "47c28de2",
   "metadata": {},
   "outputs": [],
   "source": [
    "pd.set_option('display.max_columns', None)"
   ]
  },
  {
   "cell_type": "code",
   "execution_count": 5,
   "id": "286172de",
   "metadata": {
    "scrolled": false
   },
   "outputs": [
    {
     "data": {
      "text/html": [
       "<div>\n",
       "<style scoped>\n",
       "    .dataframe tbody tr th:only-of-type {\n",
       "        vertical-align: middle;\n",
       "    }\n",
       "\n",
       "    .dataframe tbody tr th {\n",
       "        vertical-align: top;\n",
       "    }\n",
       "\n",
       "    .dataframe thead th {\n",
       "        text-align: right;\n",
       "    }\n",
       "</style>\n",
       "<table border=\"1\" class=\"dataframe\">\n",
       "  <thead>\n",
       "    <tr style=\"text-align: right;\">\n",
       "      <th></th>\n",
       "      <th>기준_분기_코드</th>\n",
       "      <th>총_생활인구_수</th>\n",
       "      <th>남성_생활인구_수</th>\n",
       "      <th>여성_생활인구_수</th>\n",
       "      <th>연령대_10_생활인구_수</th>\n",
       "      <th>연령대_20_생활인구_수</th>\n",
       "      <th>연령대_30_생활인구_수</th>\n",
       "      <th>연령대_40_생활인구_수</th>\n",
       "      <th>연령대_50_생활인구_수</th>\n",
       "      <th>연령대_60_이상_생활인구_수</th>\n",
       "      <th>...</th>\n",
       "      <th>matching_상권_코드_명_태능시장</th>\n",
       "      <th>matching_상권_코드_명_포이사거리_2</th>\n",
       "      <th>matching_상권_코드_명_풍성로25길</th>\n",
       "      <th>matching_상권_코드_명_한아름시장</th>\n",
       "      <th>matching_상권_코드_명_한천로14길</th>\n",
       "      <th>matching_상권_코드_명_행운길</th>\n",
       "      <th>matching_상권_코드_명_흑석로9길</th>\n",
       "      <th>matching_상권_코드_명_흑석시장</th>\n",
       "      <th>상권_구분_코드_명_x_관광특구</th>\n",
       "      <th>상권_구분_코드_명_x_발달상권</th>\n",
       "    </tr>\n",
       "  </thead>\n",
       "  <tbody>\n",
       "    <tr>\n",
       "      <th>0</th>\n",
       "      <td>2.0</td>\n",
       "      <td>90544.0</td>\n",
       "      <td>46022.0</td>\n",
       "      <td>44522.0</td>\n",
       "      <td>4560.0</td>\n",
       "      <td>20323.0</td>\n",
       "      <td>26443.0</td>\n",
       "      <td>19121.0</td>\n",
       "      <td>10720.0</td>\n",
       "      <td>9376.0</td>\n",
       "      <td>...</td>\n",
       "      <td>0</td>\n",
       "      <td>0</td>\n",
       "      <td>0</td>\n",
       "      <td>0</td>\n",
       "      <td>0</td>\n",
       "      <td>0</td>\n",
       "      <td>0</td>\n",
       "      <td>0</td>\n",
       "      <td>0</td>\n",
       "      <td>1</td>\n",
       "    </tr>\n",
       "    <tr>\n",
       "      <th>1</th>\n",
       "      <td>1.0</td>\n",
       "      <td>48906.0</td>\n",
       "      <td>24692.0</td>\n",
       "      <td>24214.0</td>\n",
       "      <td>2970.0</td>\n",
       "      <td>11272.5</td>\n",
       "      <td>13689.5</td>\n",
       "      <td>10139.5</td>\n",
       "      <td>5693.5</td>\n",
       "      <td>5141.5</td>\n",
       "      <td>...</td>\n",
       "      <td>0</td>\n",
       "      <td>0</td>\n",
       "      <td>0</td>\n",
       "      <td>0</td>\n",
       "      <td>0</td>\n",
       "      <td>0</td>\n",
       "      <td>0</td>\n",
       "      <td>0</td>\n",
       "      <td>0</td>\n",
       "      <td>1</td>\n",
       "    </tr>\n",
       "    <tr>\n",
       "      <th>2</th>\n",
       "      <td>2.0</td>\n",
       "      <td>3026454.0</td>\n",
       "      <td>1479790.0</td>\n",
       "      <td>1546665.0</td>\n",
       "      <td>255317.0</td>\n",
       "      <td>681334.0</td>\n",
       "      <td>701941.0</td>\n",
       "      <td>495230.0</td>\n",
       "      <td>391058.0</td>\n",
       "      <td>501575.0</td>\n",
       "      <td>...</td>\n",
       "      <td>0</td>\n",
       "      <td>0</td>\n",
       "      <td>0</td>\n",
       "      <td>0</td>\n",
       "      <td>0</td>\n",
       "      <td>0</td>\n",
       "      <td>0</td>\n",
       "      <td>0</td>\n",
       "      <td>1</td>\n",
       "      <td>0</td>\n",
       "    </tr>\n",
       "    <tr>\n",
       "      <th>3</th>\n",
       "      <td>1.0</td>\n",
       "      <td>1533259.5</td>\n",
       "      <td>750364.5</td>\n",
       "      <td>782895.0</td>\n",
       "      <td>143798.5</td>\n",
       "      <td>340689.5</td>\n",
       "      <td>343638.5</td>\n",
       "      <td>249110.5</td>\n",
       "      <td>199107.5</td>\n",
       "      <td>256914.5</td>\n",
       "      <td>...</td>\n",
       "      <td>0</td>\n",
       "      <td>0</td>\n",
       "      <td>0</td>\n",
       "      <td>0</td>\n",
       "      <td>0</td>\n",
       "      <td>0</td>\n",
       "      <td>0</td>\n",
       "      <td>0</td>\n",
       "      <td>1</td>\n",
       "      <td>0</td>\n",
       "    </tr>\n",
       "    <tr>\n",
       "      <th>4</th>\n",
       "      <td>2.0</td>\n",
       "      <td>3262023.0</td>\n",
       "      <td>1588974.0</td>\n",
       "      <td>1673049.0</td>\n",
       "      <td>106459.0</td>\n",
       "      <td>612378.0</td>\n",
       "      <td>845244.0</td>\n",
       "      <td>657147.0</td>\n",
       "      <td>488176.0</td>\n",
       "      <td>552620.0</td>\n",
       "      <td>...</td>\n",
       "      <td>0</td>\n",
       "      <td>0</td>\n",
       "      <td>0</td>\n",
       "      <td>0</td>\n",
       "      <td>0</td>\n",
       "      <td>0</td>\n",
       "      <td>0</td>\n",
       "      <td>0</td>\n",
       "      <td>1</td>\n",
       "      <td>0</td>\n",
       "    </tr>\n",
       "  </tbody>\n",
       "</table>\n",
       "<p>5 rows × 799 columns</p>\n",
       "</div>"
      ],
      "text/plain": [
       "   기준_분기_코드   총_생활인구_수  남성_생활인구_수  여성_생활인구_수  연령대_10_생활인구_수  연령대_20_생활인구_수  \\\n",
       "0       2.0    90544.0    46022.0    44522.0         4560.0        20323.0   \n",
       "1       1.0    48906.0    24692.0    24214.0         2970.0        11272.5   \n",
       "2       2.0  3026454.0  1479790.0  1546665.0       255317.0       681334.0   \n",
       "3       1.0  1533259.5   750364.5   782895.0       143798.5       340689.5   \n",
       "4       2.0  3262023.0  1588974.0  1673049.0       106459.0       612378.0   \n",
       "\n",
       "   연령대_30_생활인구_수  연령대_40_생활인구_수  연령대_50_생활인구_수  연령대_60_이상_생활인구_수  ...  \\\n",
       "0        26443.0        19121.0        10720.0            9376.0  ...   \n",
       "1        13689.5        10139.5         5693.5            5141.5  ...   \n",
       "2       701941.0       495230.0       391058.0          501575.0  ...   \n",
       "3       343638.5       249110.5       199107.5          256914.5  ...   \n",
       "4       845244.0       657147.0       488176.0          552620.0  ...   \n",
       "\n",
       "   matching_상권_코드_명_태능시장  matching_상권_코드_명_포이사거리_2  matching_상권_코드_명_풍성로25길  \\\n",
       "0                      0                         0                        0   \n",
       "1                      0                         0                        0   \n",
       "2                      0                         0                        0   \n",
       "3                      0                         0                        0   \n",
       "4                      0                         0                        0   \n",
       "\n",
       "   matching_상권_코드_명_한아름시장  matching_상권_코드_명_한천로14길  matching_상권_코드_명_행운길  \\\n",
       "0                       0                        0                     0   \n",
       "1                       0                        0                     0   \n",
       "2                       0                        0                     0   \n",
       "3                       0                        0                     0   \n",
       "4                       0                        0                     0   \n",
       "\n",
       "   matching_상권_코드_명_흑석로9길  matching_상권_코드_명_흑석시장  상권_구분_코드_명_x_관광특구  \\\n",
       "0                       0                      0                  0   \n",
       "1                       0                      0                  0   \n",
       "2                       0                      0                  1   \n",
       "3                       0                      0                  1   \n",
       "4                       0                      0                  1   \n",
       "\n",
       "   상권_구분_코드_명_x_발달상권  \n",
       "0                  1  \n",
       "1                  1  \n",
       "2                  0  \n",
       "3                  0  \n",
       "4                  0  \n",
       "\n",
       "[5 rows x 799 columns]"
      ]
     },
     "execution_count": 5,
     "metadata": {},
     "output_type": "execute_result"
    }
   ],
   "source": [
    "df = pd.read_csv('./data/df_rfr_opt.csv', index_col=0)\n",
    "df.head()"
   ]
  },
  {
   "cell_type": "code",
   "execution_count": 6,
   "id": "19c107b7",
   "metadata": {
    "collapsed": true
   },
   "outputs": [
    {
     "data": {
      "text/html": [
       "<div>\n",
       "<style scoped>\n",
       "    .dataframe tbody tr th:only-of-type {\n",
       "        vertical-align: middle;\n",
       "    }\n",
       "\n",
       "    .dataframe tbody tr th {\n",
       "        vertical-align: top;\n",
       "    }\n",
       "\n",
       "    .dataframe thead th {\n",
       "        text-align: right;\n",
       "    }\n",
       "</style>\n",
       "<table border=\"1\" class=\"dataframe\">\n",
       "  <thead>\n",
       "    <tr style=\"text-align: right;\">\n",
       "      <th></th>\n",
       "      <th>matching_상권_코드_명_가산디지털단지역_2</th>\n",
       "      <th>matching_상권_코드_명_가산디지털단지역_3</th>\n",
       "      <th>matching_상권_코드_명_가재울로6길</th>\n",
       "      <th>matching_상권_코드_명_강남구 논현역_1</th>\n",
       "      <th>matching_상권_코드_명_강남구 논현역_2</th>\n",
       "      <th>matching_상권_코드_명_강남구 논현역_4</th>\n",
       "      <th>matching_상권_코드_명_강남구 신사역_2</th>\n",
       "      <th>matching_상권_코드_명_개봉동 현대아파트 인근</th>\n",
       "      <th>matching_상권_코드_명_경인로31길</th>\n",
       "      <th>matching_상권_코드_명_고산자로6길</th>\n",
       "      <th>...</th>\n",
       "      <th>matching_상권_코드_명_천호대로17길</th>\n",
       "      <th>matching_상권_코드_명_코엑스</th>\n",
       "      <th>matching_상권_코드_명_태능시장</th>\n",
       "      <th>matching_상권_코드_명_포이사거리_2</th>\n",
       "      <th>matching_상권_코드_명_풍성로25길</th>\n",
       "      <th>matching_상권_코드_명_한아름시장</th>\n",
       "      <th>matching_상권_코드_명_한천로14길</th>\n",
       "      <th>matching_상권_코드_명_행운길</th>\n",
       "      <th>matching_상권_코드_명_흑석로9길</th>\n",
       "      <th>matching_상권_코드_명_흑석시장</th>\n",
       "    </tr>\n",
       "  </thead>\n",
       "  <tbody>\n",
       "    <tr>\n",
       "      <th>0</th>\n",
       "      <td>0</td>\n",
       "      <td>0</td>\n",
       "      <td>0</td>\n",
       "      <td>0</td>\n",
       "      <td>0</td>\n",
       "      <td>0</td>\n",
       "      <td>0</td>\n",
       "      <td>0</td>\n",
       "      <td>0</td>\n",
       "      <td>0</td>\n",
       "      <td>...</td>\n",
       "      <td>0</td>\n",
       "      <td>1</td>\n",
       "      <td>0</td>\n",
       "      <td>0</td>\n",
       "      <td>0</td>\n",
       "      <td>0</td>\n",
       "      <td>0</td>\n",
       "      <td>0</td>\n",
       "      <td>0</td>\n",
       "      <td>0</td>\n",
       "    </tr>\n",
       "    <tr>\n",
       "      <th>1</th>\n",
       "      <td>0</td>\n",
       "      <td>0</td>\n",
       "      <td>0</td>\n",
       "      <td>0</td>\n",
       "      <td>0</td>\n",
       "      <td>0</td>\n",
       "      <td>0</td>\n",
       "      <td>0</td>\n",
       "      <td>0</td>\n",
       "      <td>0</td>\n",
       "      <td>...</td>\n",
       "      <td>0</td>\n",
       "      <td>1</td>\n",
       "      <td>0</td>\n",
       "      <td>0</td>\n",
       "      <td>0</td>\n",
       "      <td>0</td>\n",
       "      <td>0</td>\n",
       "      <td>0</td>\n",
       "      <td>0</td>\n",
       "      <td>0</td>\n",
       "    </tr>\n",
       "    <tr>\n",
       "      <th>2</th>\n",
       "      <td>0</td>\n",
       "      <td>0</td>\n",
       "      <td>0</td>\n",
       "      <td>0</td>\n",
       "      <td>0</td>\n",
       "      <td>0</td>\n",
       "      <td>0</td>\n",
       "      <td>0</td>\n",
       "      <td>0</td>\n",
       "      <td>0</td>\n",
       "      <td>...</td>\n",
       "      <td>0</td>\n",
       "      <td>0</td>\n",
       "      <td>0</td>\n",
       "      <td>0</td>\n",
       "      <td>0</td>\n",
       "      <td>0</td>\n",
       "      <td>0</td>\n",
       "      <td>0</td>\n",
       "      <td>0</td>\n",
       "      <td>0</td>\n",
       "    </tr>\n",
       "    <tr>\n",
       "      <th>3</th>\n",
       "      <td>0</td>\n",
       "      <td>0</td>\n",
       "      <td>0</td>\n",
       "      <td>0</td>\n",
       "      <td>0</td>\n",
       "      <td>0</td>\n",
       "      <td>0</td>\n",
       "      <td>0</td>\n",
       "      <td>0</td>\n",
       "      <td>0</td>\n",
       "      <td>...</td>\n",
       "      <td>0</td>\n",
       "      <td>0</td>\n",
       "      <td>0</td>\n",
       "      <td>0</td>\n",
       "      <td>0</td>\n",
       "      <td>0</td>\n",
       "      <td>0</td>\n",
       "      <td>0</td>\n",
       "      <td>0</td>\n",
       "      <td>0</td>\n",
       "    </tr>\n",
       "    <tr>\n",
       "      <th>4</th>\n",
       "      <td>0</td>\n",
       "      <td>0</td>\n",
       "      <td>0</td>\n",
       "      <td>0</td>\n",
       "      <td>0</td>\n",
       "      <td>0</td>\n",
       "      <td>0</td>\n",
       "      <td>0</td>\n",
       "      <td>0</td>\n",
       "      <td>0</td>\n",
       "      <td>...</td>\n",
       "      <td>0</td>\n",
       "      <td>0</td>\n",
       "      <td>0</td>\n",
       "      <td>0</td>\n",
       "      <td>0</td>\n",
       "      <td>0</td>\n",
       "      <td>0</td>\n",
       "      <td>0</td>\n",
       "      <td>0</td>\n",
       "      <td>0</td>\n",
       "    </tr>\n",
       "    <tr>\n",
       "      <th>...</th>\n",
       "      <td>...</td>\n",
       "      <td>...</td>\n",
       "      <td>...</td>\n",
       "      <td>...</td>\n",
       "      <td>...</td>\n",
       "      <td>...</td>\n",
       "      <td>...</td>\n",
       "      <td>...</td>\n",
       "      <td>...</td>\n",
       "      <td>...</td>\n",
       "      <td>...</td>\n",
       "      <td>...</td>\n",
       "      <td>...</td>\n",
       "      <td>...</td>\n",
       "      <td>...</td>\n",
       "      <td>...</td>\n",
       "      <td>...</td>\n",
       "      <td>...</td>\n",
       "      <td>...</td>\n",
       "      <td>...</td>\n",
       "      <td>...</td>\n",
       "    </tr>\n",
       "    <tr>\n",
       "      <th>545</th>\n",
       "      <td>0</td>\n",
       "      <td>0</td>\n",
       "      <td>0</td>\n",
       "      <td>0</td>\n",
       "      <td>0</td>\n",
       "      <td>0</td>\n",
       "      <td>0</td>\n",
       "      <td>0</td>\n",
       "      <td>0</td>\n",
       "      <td>0</td>\n",
       "      <td>...</td>\n",
       "      <td>0</td>\n",
       "      <td>0</td>\n",
       "      <td>0</td>\n",
       "      <td>0</td>\n",
       "      <td>0</td>\n",
       "      <td>0</td>\n",
       "      <td>0</td>\n",
       "      <td>0</td>\n",
       "      <td>0</td>\n",
       "      <td>0</td>\n",
       "    </tr>\n",
       "    <tr>\n",
       "      <th>546</th>\n",
       "      <td>0</td>\n",
       "      <td>0</td>\n",
       "      <td>0</td>\n",
       "      <td>0</td>\n",
       "      <td>0</td>\n",
       "      <td>0</td>\n",
       "      <td>0</td>\n",
       "      <td>0</td>\n",
       "      <td>0</td>\n",
       "      <td>0</td>\n",
       "      <td>...</td>\n",
       "      <td>0</td>\n",
       "      <td>0</td>\n",
       "      <td>0</td>\n",
       "      <td>0</td>\n",
       "      <td>0</td>\n",
       "      <td>0</td>\n",
       "      <td>0</td>\n",
       "      <td>0</td>\n",
       "      <td>0</td>\n",
       "      <td>0</td>\n",
       "    </tr>\n",
       "    <tr>\n",
       "      <th>547</th>\n",
       "      <td>0</td>\n",
       "      <td>0</td>\n",
       "      <td>0</td>\n",
       "      <td>0</td>\n",
       "      <td>0</td>\n",
       "      <td>0</td>\n",
       "      <td>0</td>\n",
       "      <td>0</td>\n",
       "      <td>0</td>\n",
       "      <td>0</td>\n",
       "      <td>...</td>\n",
       "      <td>0</td>\n",
       "      <td>0</td>\n",
       "      <td>0</td>\n",
       "      <td>0</td>\n",
       "      <td>0</td>\n",
       "      <td>0</td>\n",
       "      <td>0</td>\n",
       "      <td>0</td>\n",
       "      <td>0</td>\n",
       "      <td>0</td>\n",
       "    </tr>\n",
       "    <tr>\n",
       "      <th>548</th>\n",
       "      <td>0</td>\n",
       "      <td>0</td>\n",
       "      <td>0</td>\n",
       "      <td>0</td>\n",
       "      <td>0</td>\n",
       "      <td>0</td>\n",
       "      <td>0</td>\n",
       "      <td>0</td>\n",
       "      <td>0</td>\n",
       "      <td>0</td>\n",
       "      <td>...</td>\n",
       "      <td>0</td>\n",
       "      <td>0</td>\n",
       "      <td>0</td>\n",
       "      <td>0</td>\n",
       "      <td>0</td>\n",
       "      <td>0</td>\n",
       "      <td>0</td>\n",
       "      <td>0</td>\n",
       "      <td>0</td>\n",
       "      <td>0</td>\n",
       "    </tr>\n",
       "    <tr>\n",
       "      <th>549</th>\n",
       "      <td>0</td>\n",
       "      <td>0</td>\n",
       "      <td>0</td>\n",
       "      <td>0</td>\n",
       "      <td>0</td>\n",
       "      <td>0</td>\n",
       "      <td>0</td>\n",
       "      <td>0</td>\n",
       "      <td>0</td>\n",
       "      <td>0</td>\n",
       "      <td>...</td>\n",
       "      <td>0</td>\n",
       "      <td>0</td>\n",
       "      <td>0</td>\n",
       "      <td>0</td>\n",
       "      <td>0</td>\n",
       "      <td>0</td>\n",
       "      <td>0</td>\n",
       "      <td>0</td>\n",
       "      <td>0</td>\n",
       "      <td>0</td>\n",
       "    </tr>\n",
       "  </tbody>\n",
       "</table>\n",
       "<p>550 rows × 119 columns</p>\n",
       "</div>"
      ],
      "text/plain": [
       "     matching_상권_코드_명_가산디지털단지역_2  matching_상권_코드_명_가산디지털단지역_3  \\\n",
       "0                              0                            0   \n",
       "1                              0                            0   \n",
       "2                              0                            0   \n",
       "3                              0                            0   \n",
       "4                              0                            0   \n",
       "..                           ...                          ...   \n",
       "545                            0                            0   \n",
       "546                            0                            0   \n",
       "547                            0                            0   \n",
       "548                            0                            0   \n",
       "549                            0                            0   \n",
       "\n",
       "     matching_상권_코드_명_가재울로6길  matching_상권_코드_명_강남구 논현역_1  \\\n",
       "0                          0                           0   \n",
       "1                          0                           0   \n",
       "2                          0                           0   \n",
       "3                          0                           0   \n",
       "4                          0                           0   \n",
       "..                       ...                         ...   \n",
       "545                        0                           0   \n",
       "546                        0                           0   \n",
       "547                        0                           0   \n",
       "548                        0                           0   \n",
       "549                        0                           0   \n",
       "\n",
       "     matching_상권_코드_명_강남구 논현역_2  matching_상권_코드_명_강남구 논현역_4  \\\n",
       "0                             0                           0   \n",
       "1                             0                           0   \n",
       "2                             0                           0   \n",
       "3                             0                           0   \n",
       "4                             0                           0   \n",
       "..                          ...                         ...   \n",
       "545                           0                           0   \n",
       "546                           0                           0   \n",
       "547                           0                           0   \n",
       "548                           0                           0   \n",
       "549                           0                           0   \n",
       "\n",
       "     matching_상권_코드_명_강남구 신사역_2  matching_상권_코드_명_개봉동 현대아파트 인근  \\\n",
       "0                             0                              0   \n",
       "1                             0                              0   \n",
       "2                             0                              0   \n",
       "3                             0                              0   \n",
       "4                             0                              0   \n",
       "..                          ...                            ...   \n",
       "545                           0                              0   \n",
       "546                           0                              0   \n",
       "547                           0                              0   \n",
       "548                           0                              0   \n",
       "549                           0                              0   \n",
       "\n",
       "     matching_상권_코드_명_경인로31길  matching_상권_코드_명_고산자로6길  ...  \\\n",
       "0                          0                        0  ...   \n",
       "1                          0                        0  ...   \n",
       "2                          0                        0  ...   \n",
       "3                          0                        0  ...   \n",
       "4                          0                        0  ...   \n",
       "..                       ...                      ...  ...   \n",
       "545                        0                        0  ...   \n",
       "546                        0                        0  ...   \n",
       "547                        0                        0  ...   \n",
       "548                        0                        0  ...   \n",
       "549                        0                        0  ...   \n",
       "\n",
       "     matching_상권_코드_명_천호대로17길  matching_상권_코드_명_코엑스  matching_상권_코드_명_태능시장  \\\n",
       "0                           0                     1                      0   \n",
       "1                           0                     1                      0   \n",
       "2                           0                     0                      0   \n",
       "3                           0                     0                      0   \n",
       "4                           0                     0                      0   \n",
       "..                        ...                   ...                    ...   \n",
       "545                         0                     0                      0   \n",
       "546                         0                     0                      0   \n",
       "547                         0                     0                      0   \n",
       "548                         0                     0                      0   \n",
       "549                         0                     0                      0   \n",
       "\n",
       "     matching_상권_코드_명_포이사거리_2  matching_상권_코드_명_풍성로25길  \\\n",
       "0                           0                        0   \n",
       "1                           0                        0   \n",
       "2                           0                        0   \n",
       "3                           0                        0   \n",
       "4                           0                        0   \n",
       "..                        ...                      ...   \n",
       "545                         0                        0   \n",
       "546                         0                        0   \n",
       "547                         0                        0   \n",
       "548                         0                        0   \n",
       "549                         0                        0   \n",
       "\n",
       "     matching_상권_코드_명_한아름시장  matching_상권_코드_명_한천로14길  matching_상권_코드_명_행운길  \\\n",
       "0                         0                        0                     0   \n",
       "1                         0                        0                     0   \n",
       "2                         0                        0                     0   \n",
       "3                         0                        0                     0   \n",
       "4                         0                        0                     0   \n",
       "..                      ...                      ...                   ...   \n",
       "545                       0                        0                     0   \n",
       "546                       0                        0                     0   \n",
       "547                       0                        0                     0   \n",
       "548                       0                        0                     0   \n",
       "549                       0                        0                     0   \n",
       "\n",
       "     matching_상권_코드_명_흑석로9길  matching_상권_코드_명_흑석시장  \n",
       "0                         0                      0  \n",
       "1                         0                      0  \n",
       "2                         0                      0  \n",
       "3                         0                      0  \n",
       "4                         0                      0  \n",
       "..                      ...                    ...  \n",
       "545                       0                      0  \n",
       "546                       0                      0  \n",
       "547                       0                      0  \n",
       "548                       0                      0  \n",
       "549                       0                      0  \n",
       "\n",
       "[550 rows x 119 columns]"
      ]
     },
     "execution_count": 6,
     "metadata": {},
     "output_type": "execute_result"
    }
   ],
   "source": [
    "df.filter(like='matching')"
   ]
  },
  {
   "cell_type": "code",
   "execution_count": null,
   "id": "58cc114b",
   "metadata": {},
   "outputs": [],
   "source": []
  },
  {
   "cell_type": "code",
   "execution_count": 14,
   "id": "4b51ab43",
   "metadata": {},
   "outputs": [
    {
     "name": "stdout",
     "output_type": "stream",
     "text": [
      "<class 'pandas.core.frame.DataFrame'>\n",
      "Int64Index: 550 entries, 0 to 549\n",
      "Columns: 799 entries, 기준_분기_코드 to 상권_구분_코드_명_x_발달상권\n",
      "dtypes: float64(678), int64(121)\n",
      "memory usage: 3.4 MB\n"
     ]
    }
   ],
   "source": [
    "df.info()  # raw_df와 비교했을 때 컬럼수의 감소(962 --> 799)"
   ]
  },
  {
   "cell_type": "code",
   "execution_count": 10,
   "id": "7a0ba0ca",
   "metadata": {},
   "outputs": [
    {
     "data": {
      "text/plain": [
       "(550, 799)"
      ]
     },
     "execution_count": 10,
     "metadata": {},
     "output_type": "execute_result"
    }
   ],
   "source": [
    "df.shape"
   ]
  },
  {
   "cell_type": "code",
   "execution_count": 13,
   "id": "9b7737c7",
   "metadata": {},
   "outputs": [],
   "source": [
    "y = df['확진자수']"
   ]
  },
  {
   "cell_type": "code",
   "execution_count": 14,
   "id": "922f0992",
   "metadata": {},
   "outputs": [],
   "source": [
    "# y = np.log1p(df['확진자수'])"
   ]
  },
  {
   "cell_type": "code",
   "execution_count": 15,
   "id": "87501fb0",
   "metadata": {},
   "outputs": [],
   "source": [
    "x = df.drop('확진자수', axis=1)"
   ]
  },
  {
   "cell_type": "code",
   "execution_count": null,
   "id": "51ae6e27",
   "metadata": {},
   "outputs": [],
   "source": []
  },
  {
   "cell_type": "code",
   "execution_count": 16,
   "id": "eb024308",
   "metadata": {},
   "outputs": [],
   "source": [
    "from sklearn.model_selection import train_test_split"
   ]
  },
  {
   "cell_type": "code",
   "execution_count": 17,
   "id": "3323a302",
   "metadata": {},
   "outputs": [],
   "source": [
    "x_train, x_test, y_train, y_test = train_test_split(x,y, random_state=42)"
   ]
  },
  {
   "cell_type": "code",
   "execution_count": null,
   "id": "9b96f1e3",
   "metadata": {},
   "outputs": [],
   "source": []
  },
  {
   "cell_type": "code",
   "execution_count": 19,
   "id": "adc2c4e6",
   "metadata": {},
   "outputs": [],
   "source": [
    "from sklearn.preprocessing import MinMaxScaler, StandardScaler"
   ]
  },
  {
   "cell_type": "code",
   "execution_count": 20,
   "id": "73e89273",
   "metadata": {},
   "outputs": [],
   "source": [
    "# scaler = StandardScaler()\n",
    "# scaler.fit(x_train)\n",
    "\n",
    "# x_train_stan = scaler.transform(x_train)\n",
    "# x_test_stan = scaler.transform(x_test)"
   ]
  },
  {
   "cell_type": "code",
   "execution_count": 21,
   "id": "3efc1be5",
   "metadata": {},
   "outputs": [],
   "source": [
    "# scaler = MinMaxScaler()\n",
    "# scaler.fit(x_train)\n",
    "\n",
    "# x_train_min = scaler.transform(x_train)\n",
    "# x_test_min = scaler.transform(x_test)\n"
   ]
  },
  {
   "cell_type": "code",
   "execution_count": null,
   "id": "a5754e38",
   "metadata": {},
   "outputs": [],
   "source": []
  },
  {
   "cell_type": "code",
   "execution_count": 22,
   "id": "ce1ea0e0",
   "metadata": {},
   "outputs": [],
   "source": [
    "from sklearn.linear_model import LinearRegression\n",
    "from sklearn.linear_model import Ridge\n",
    "from sklearn.linear_model import Lasso\n",
    "# from sklearn.linear_model import ElasticNet\n",
    "from sklearn.neighbors import KNeighborsRegressor\n",
    "from sklearn.tree import DecisionTreeRegressor\n",
    "from sklearn.svm import LinearSVR, SVR"
   ]
  },
  {
   "cell_type": "code",
   "execution_count": 23,
   "id": "ff12ff07",
   "metadata": {},
   "outputs": [],
   "source": [
    "from sklearn.ensemble import ExtraTreesRegressor\n",
    "from sklearn.ensemble import RandomForestRegressor\n",
    "from sklearn.ensemble import GradientBoostingRegressor\n",
    "from sklearn.ensemble import AdaBoostRegressor\n",
    "from xgboost import XGBRegressor\n",
    "from lightgbm import LGBMRegressor"
   ]
  },
  {
   "cell_type": "code",
   "execution_count": 26,
   "id": "2acdb428",
   "metadata": {},
   "outputs": [],
   "source": [
    "sv = SVR()\n",
    "lsv=LinearSVR()\n",
    "lr = LinearRegression()\n",
    "ridge = Ridge(random_state=42)\n",
    "lasso =  Lasso(random_state=42)\n",
    "kn = KNeighborsRegressor()\n",
    "dtr = DecisionTreeRegressor(random_state=42)\n",
    "etr = ExtraTreesRegressor(random_state=42)\n",
    "rfr = RandomForestRegressor(random_state=42)\n",
    "gbr = GradientBoostingRegressor(random_state=42)\n",
    "abr = AdaBoostRegressor(random_state=42)\n",
    "xgb = XGBRegressor(random_state=42)\n",
    "lgb = LGBMRegressor(random_state=42)"
   ]
  },
  {
   "cell_type": "code",
   "execution_count": null,
   "id": "05a9f6fc",
   "metadata": {},
   "outputs": [],
   "source": []
  },
  {
   "cell_type": "markdown",
   "id": "c683e62b",
   "metadata": {},
   "source": [
    "### y = np.log1p(df['확진자수'])"
   ]
  },
  {
   "cell_type": "code",
   "execution_count": 24,
   "id": "c2fc36fb",
   "metadata": {},
   "outputs": [],
   "source": [
    "df = pd.read_csv('./data/df_rfr_opt.csv', index_col=0)\n",
    "df = pd.get_dummies(df)\n",
    "y = np.log1p(df['확진자수'])\n",
    "x = df.drop('확진자수', axis=1)\n",
    "x_train, x_test, y_train, y_test = train_test_split(x,y, random_state=42)"
   ]
  },
  {
   "cell_type": "markdown",
   "id": "cbbde1ad",
   "metadata": {},
   "source": [
    "#### raw값"
   ]
  },
  {
   "cell_type": "code",
   "execution_count": 27,
   "id": "ca92b21b",
   "metadata": {
    "collapsed": true
   },
   "outputs": [
    {
     "name": "stdout",
     "output_type": "stream",
     "text": [
      "SVR\n",
      "0.046857987264736556\n",
      "-0.10153218671891917\n",
      "\n",
      "LinearSVR\n",
      "-1.2601982671528695\n",
      "-0.9878241272950372\n",
      "\n",
      "LinearRegression\n",
      "1.0\n",
      "-21.988183826710536\n",
      "\n",
      "Ridge\n",
      "0.3484991511177933\n",
      "-1.2027813555305773\n",
      "\n",
      "Lasso\n",
      "0.4655073014147959\n",
      "-1.0112975516102733\n",
      "\n",
      "KNeighborsRegressor\n",
      "0.22824008944539576\n",
      "-0.1335217977410923\n",
      "\n",
      "DecisionTreeRegressor\n",
      "1.0\n",
      "-0.9156322276543774\n",
      "\n",
      "RandomForestRegressor\n",
      "0.8503510035077667\n",
      "0.040828722798330386\n",
      "\n",
      "ExtraTreesRegressor\n",
      "1.0\n",
      "0.03104722416119654\n",
      "\n",
      "GradientBoostingRegressor\n",
      "0.884305786295189\n",
      "-0.11569543659561621\n",
      "\n",
      "AdaBoostRegressor\n",
      "0.2730418936343527\n",
      "0.054361340646642664\n",
      "\n",
      "XGBRegressor\n",
      "0.9999999149925286\n",
      "-0.09010504717728174\n",
      "\n",
      "LGBMRegressor\n",
      "0.9909469380269706\n",
      "-0.10396819548033442\n",
      "\n"
     ]
    }
   ],
   "source": [
    "models = [sv,lsv,lr, ridge, lasso, kn, dtr, rfr,etr, gbr, abr, xgb, lgb ]\n",
    "\n",
    "for m in models :\n",
    "    m.fit(x_train,y_train)\n",
    "    print(m.__class__.__name__)\n",
    "    print(m.score(x_train, y_train))\n",
    "#     print(m.score(x_valid, y_valid))\n",
    "    print(m.score(x_test,y_test))\n",
    "    print()"
   ]
  },
  {
   "cell_type": "markdown",
   "id": "1ea76964",
   "metadata": {},
   "source": [
    "#### StandardScaler"
   ]
  },
  {
   "cell_type": "code",
   "execution_count": 28,
   "id": "cf222447",
   "metadata": {
    "collapsed": true
   },
   "outputs": [
    {
     "name": "stdout",
     "output_type": "stream",
     "text": [
      "SVR\n",
      "0.24875194638974563\n",
      "-0.24544449759416942\n",
      "\n",
      "LinearSVR\n",
      "0.46454325866871315\n",
      "-2.9670742186909718\n",
      "\n",
      "LinearRegression\n",
      "1.0\n",
      "-28.168038357089202\n",
      "\n",
      "Ridge\n",
      "0.6689757978867494\n",
      "-2.505416672739936\n",
      "\n",
      "Lasso\n",
      "0.0\n",
      "-0.03962675265502158\n",
      "\n",
      "KNeighborsRegressor\n",
      "0.17007838670362985\n",
      "-0.2712724398717201\n",
      "\n",
      "DecisionTreeRegressor\n",
      "1.0\n",
      "-0.9156322276543774\n",
      "\n",
      "RandomForestRegressor\n",
      "0.8503708516642905\n",
      "0.04066532725642735\n",
      "\n",
      "GradientBoostingRegressor\n",
      "0.884305786295189\n",
      "-0.11603750580713634\n",
      "\n",
      "AdaBoostRegressor\n",
      "0.27145070932627635\n",
      "0.03332003869094946\n",
      "\n",
      "XGBRegressor\n",
      "0.9999999149925286\n",
      "-0.09010504717728174\n",
      "\n",
      "LGBMRegressor\n",
      "0.9904275578208057\n",
      "-0.1008870155402466\n",
      "\n"
     ]
    }
   ],
   "source": [
    "scaler = StandardScaler()\n",
    "scaler.fit(x_train)\n",
    "\n",
    "x_train_stan = scaler.transform(x_train)\n",
    "x_test_stan = scaler.transform(x_test)\n",
    "\n",
    "models = [sv,lsv,lr, ridge, lasso, kn, dtr, rfr, gbr, abr, xgb, lgb ]\n",
    "\n",
    "for m in models :\n",
    "    m.fit(x_train_stan,y_train)\n",
    "    print(m.__class__.__name__)\n",
    "    print(m.score(x_train_stan, y_train))\n",
    "#     print(m.score(x_valid, y_valid))\n",
    "    print(m.score(x_test_stan,y_test))\n",
    "    print()"
   ]
  },
  {
   "cell_type": "markdown",
   "id": "49eb600b",
   "metadata": {},
   "source": [
    "#### MinMaxScaler"
   ]
  },
  {
   "cell_type": "code",
   "execution_count": 29,
   "id": "15714f8d",
   "metadata": {
    "collapsed": true
   },
   "outputs": [
    {
     "name": "stdout",
     "output_type": "stream",
     "text": [
      "SVR\n",
      "0.17242656782705557\n",
      "-0.1531588696104098\n",
      "\n",
      "LinearSVR\n",
      "0.24726894378088826\n",
      "-0.7024562029155721\n",
      "\n",
      "LinearRegression\n",
      "1.0\n",
      "-30.425215206263086\n",
      "\n",
      "Ridge\n",
      "0.36292774580005405\n",
      "-0.4899187722231637\n",
      "\n",
      "Lasso\n",
      "0.0\n",
      "-0.03962675265502158\n",
      "\n",
      "KNeighborsRegressor\n",
      "0.2365951214689147\n",
      "-0.11128906757188317\n",
      "\n",
      "DecisionTreeRegressor\n",
      "1.0\n",
      "-0.9366790380490366\n",
      "\n",
      "RandomForestRegressor\n",
      "0.85018368576024\n",
      "0.03817372620844173\n",
      "\n",
      "GradientBoostingRegressor\n",
      "0.884305786295189\n",
      "-0.115825358474265\n",
      "\n",
      "AdaBoostRegressor\n",
      "0.2763912332542524\n",
      "0.053584936099725256\n",
      "\n",
      "XGBRegressor\n",
      "0.9999999149925286\n",
      "-0.09048751052518589\n",
      "\n",
      "LGBMRegressor\n",
      "0.990397349670915\n",
      "-0.07932623254392213\n",
      "\n"
     ]
    }
   ],
   "source": [
    "scaler = MinMaxScaler()\n",
    "scaler.fit(x_train)\n",
    "\n",
    "x_train_min = scaler.transform(x_train)\n",
    "x_test_min = scaler.transform(x_test)\n",
    "\n",
    "models = [sv,lsv,lr, ridge, lasso, kn, dtr, rfr, gbr, abr, xgb, lgb ]\n",
    "\n",
    "\n",
    "for m in models :\n",
    "    m.fit(x_train_min,y_train)\n",
    "    print(m.__class__.__name__)\n",
    "    print(m.score(x_train_min, y_train))\n",
    "#     print(m.score(x_valid, y_valid))\n",
    "    print(m.score(x_test_min,y_test))\n",
    "    print()"
   ]
  },
  {
   "cell_type": "code",
   "execution_count": null,
   "id": "adbcc089",
   "metadata": {},
   "outputs": [],
   "source": []
  },
  {
   "cell_type": "code",
   "execution_count": null,
   "id": "15476b9e",
   "metadata": {},
   "outputs": [],
   "source": []
  },
  {
   "cell_type": "markdown",
   "id": "5ae19bfd",
   "metadata": {},
   "source": [
    "### y = df['확진자수']"
   ]
  },
  {
   "cell_type": "code",
   "execution_count": 30,
   "id": "54312d36",
   "metadata": {},
   "outputs": [],
   "source": [
    "df = pd.read_csv('./data/df_rfr_opt.csv', index_col=0)\n",
    "df = pd.get_dummies(df)\n",
    "y = df['확진자수']\n",
    "x = df.drop('확진자수', axis=1)\n",
    "x_train, x_test, y_train, y_test = train_test_split(x,y, random_state=42)\n"
   ]
  },
  {
   "cell_type": "markdown",
   "id": "ea195d13",
   "metadata": {},
   "source": [
    "#### raw값"
   ]
  },
  {
   "cell_type": "code",
   "execution_count": 31,
   "id": "523606bf",
   "metadata": {
    "collapsed": true
   },
   "outputs": [
    {
     "name": "stdout",
     "output_type": "stream",
     "text": [
      "SVR\n",
      "-0.11776440817584133\n",
      "-0.04685975524830033\n",
      "\n",
      "LinearSVR\n",
      "-0.3391107405972069\n",
      "-0.19827004280249305\n",
      "\n",
      "LinearRegression\n",
      "1.0\n",
      "-19.98359773466434\n",
      "\n",
      "Ridge\n",
      "0.6113168455139617\n",
      "-0.5983997561175913\n",
      "\n",
      "Lasso\n",
      "0.7350914127725774\n",
      "-0.42175506388630524\n",
      "\n",
      "KNeighborsRegressor\n",
      "0.3071114734442322\n",
      "0.03621101107718294\n",
      "\n",
      "DecisionTreeRegressor\n",
      "1.0\n",
      "-0.3541160935820662\n",
      "\n",
      "RandomForestRegressor\n",
      "0.8678879286310422\n",
      "0.2783914216106558\n",
      "\n",
      "GradientBoostingRegressor\n",
      "0.9510361154531684\n",
      "0.13156746771460837\n",
      "\n",
      "AdaBoostRegressor\n",
      "0.5452786368778341\n",
      "0.01616206877387394\n",
      "\n",
      "XGBRegressor\n",
      "0.9999999929868096\n",
      "0.05557334050522722\n",
      "\n",
      "LGBMRegressor\n",
      "0.9490198854387403\n",
      "0.12634527690756525\n",
      "\n"
     ]
    }
   ],
   "source": [
    "# RandomForestRegressor : 0.36 -> 0.27\n",
    "models = [sv,lsv,lr, ridge, lasso, kn, dtr, rfr, gbr, abr, xgb, lgb ]\n",
    "\n",
    "for m in models :\n",
    "    m.fit(x_train,y_train)\n",
    "    print(m.__class__.__name__)\n",
    "    print(m.score(x_train, y_train))\n",
    "#     print(m.score(x_valid, y_valid))\n",
    "    print(m.score(x_test,y_test))\n",
    "    print()"
   ]
  },
  {
   "cell_type": "markdown",
   "id": "9fbf82cf",
   "metadata": {},
   "source": [
    "#### StandardScaler()"
   ]
  },
  {
   "cell_type": "code",
   "execution_count": 32,
   "id": "f0c479bf",
   "metadata": {
    "collapsed": true
   },
   "outputs": [
    {
     "name": "stdout",
     "output_type": "stream",
     "text": [
      "SVR\n",
      "-0.09778709386865758\n",
      "-0.03758220778147536\n",
      "\n",
      "LinearSVR\n",
      "0.4929743136265352\n",
      "-0.020453227956770625\n",
      "\n",
      "LinearRegression\n",
      "1.0\n",
      "-9.702387261403402\n",
      "\n",
      "Ridge\n",
      "0.8442497177664355\n",
      "-1.043421960392883\n",
      "\n",
      "Lasso\n",
      "0.5439050203721009\n",
      "0.1438590091288039\n",
      "\n",
      "KNeighborsRegressor\n",
      "0.3020259470764143\n",
      "0.15423170578859635\n",
      "\n",
      "DecisionTreeRegressor\n",
      "1.0\n",
      "-0.3541160935820662\n",
      "\n",
      "RandomForestRegressor\n",
      "0.8679446412812152\n",
      "0.27822090436487823\n",
      "\n",
      "GradientBoostingRegressor\n",
      "0.9510361154531684\n",
      "0.13156746771460837\n",
      "\n",
      "AdaBoostRegressor\n",
      "0.5452786368778341\n",
      "0.01616206877387394\n",
      "\n",
      "XGBRegressor\n",
      "0.9999999929868096\n",
      "0.05557334050522722\n",
      "\n",
      "LGBMRegressor\n",
      "0.941670844835743\n",
      "0.12617622475490986\n",
      "\n"
     ]
    }
   ],
   "source": [
    "scaler = StandardScaler()\n",
    "scaler.fit(x_train)\n",
    "\n",
    "x_train_stan = scaler.transform(x_train)\n",
    "x_test_stan = scaler.transform(x_test)\n",
    "models = [sv,lsv,lr, ridge, lasso, kn, dtr, rfr, gbr, abr, xgb, lgb ]\n",
    "\n",
    "for m in models :\n",
    "    m.fit(x_train_stan,y_train)\n",
    "    print(m.__class__.__name__)\n",
    "    print(m.score(x_train_stan, y_train))\n",
    "#     print(m.score(x_valid, y_valid))\n",
    "    print(m.score(x_test_stan,y_test))\n",
    "    print()"
   ]
  },
  {
   "cell_type": "markdown",
   "id": "a595bfb6",
   "metadata": {},
   "source": [
    "#### MinMaxScaler"
   ]
  },
  {
   "cell_type": "code",
   "execution_count": 33,
   "id": "c0444d02",
   "metadata": {
    "collapsed": true
   },
   "outputs": [
    {
     "name": "stdout",
     "output_type": "stream",
     "text": [
      "SVR\n",
      "-0.09998270840986367\n",
      "-0.03472932168228793\n",
      "\n",
      "LinearSVR\n",
      "0.11919336423729576\n",
      "0.21735646689177657\n",
      "\n",
      "LinearRegression\n",
      "1.0\n",
      "-10.07560854894238\n",
      "\n",
      "Ridge\n",
      "0.6088452742544999\n",
      "0.069677239742438\n",
      "\n",
      "Lasso\n",
      "0.1911396288536601\n",
      "0.24756796474917075\n",
      "\n",
      "KNeighborsRegressor\n",
      "0.29698825599297274\n",
      "0.2793649835899744\n",
      "\n",
      "DecisionTreeRegressor\n",
      "1.0\n",
      "-0.3541160935820662\n",
      "\n",
      "RandomForestRegressor\n",
      "0.8679305628141785\n",
      "0.27868603481875764\n",
      "\n",
      "GradientBoostingRegressor\n",
      "0.9510361154531684\n",
      "0.13163908001024716\n",
      "\n",
      "AdaBoostRegressor\n",
      "0.5758738382759965\n",
      "0.029275305774076554\n",
      "\n",
      "XGBRegressor\n",
      "0.9999999929868096\n",
      "0.05567748660319505\n",
      "\n",
      "LGBMRegressor\n",
      "0.9508040316814171\n",
      "0.12160961764963141\n",
      "\n"
     ]
    }
   ],
   "source": [
    "scaler = MinMaxScaler()\n",
    "scaler.fit(x_train)\n",
    "\n",
    "x_train_min = scaler.transform(x_train)\n",
    "x_test_min = scaler.transform(x_test)\n",
    "\n",
    "\n",
    "models = [sv,lsv,lr, ridge, lasso, kn, dtr, rfr, gbr, abr, xgb, lgb ]\n",
    "\n",
    "\n",
    "for m in models :\n",
    "    m.fit(x_train_min,y_train)\n",
    "    print(m.__class__.__name__)\n",
    "    print(m.score(x_train_min, y_train))\n",
    "#     print(m.score(x_valid, y_valid))\n",
    "    print(m.score(x_test_min,y_test))\n",
    "    print()\n",
    "# ridge lasso"
   ]
  },
  {
   "cell_type": "code",
   "execution_count": null,
   "id": "43c02fdc",
   "metadata": {},
   "outputs": [],
   "source": []
  },
  {
   "cell_type": "markdown",
   "id": "4c710aab",
   "metadata": {},
   "source": [
    "### 분기를 dummy로\n",
    "- 스케일 두개가 더 낫긴함\n"
   ]
  },
  {
   "cell_type": "code",
   "execution_count": 34,
   "id": "17ae81d6",
   "metadata": {},
   "outputs": [],
   "source": [
    "df = pd.read_csv('./data/df_rfr_opt.csv', index_col=0)\n",
    "df['기준_분기_코드'] = df['기준_분기_코드'].apply(lambda x : str(x)+'분기')\n",
    "df = pd.get_dummies(df)\n",
    "y = df['확진자수']\n",
    "x = df.drop('확진자수', axis=1)\n",
    "x_train, x_test, y_train, y_test = train_test_split(x,y, random_state=42)"
   ]
  },
  {
   "cell_type": "markdown",
   "id": "8808bf1a",
   "metadata": {},
   "source": [
    "#### raw"
   ]
  },
  {
   "cell_type": "code",
   "execution_count": 35,
   "id": "a8db8f9a",
   "metadata": {
    "collapsed": true
   },
   "outputs": [
    {
     "name": "stdout",
     "output_type": "stream",
     "text": [
      "SVR\n",
      "-0.11776441818098826\n",
      "-0.04685974830608064\n",
      "\n",
      "LinearSVR\n",
      "-0.3391107405972069\n",
      "-0.19827004280249305\n",
      "\n",
      "LinearRegression\n",
      "1.0\n",
      "-19.978903873407944\n",
      "\n",
      "Ridge\n",
      "0.5993390218688375\n",
      "-0.733357759927211\n",
      "\n",
      "Lasso\n",
      "0.735091506044431\n",
      "-0.42175353009465044\n",
      "\n",
      "KNeighborsRegressor\n",
      "0.3071114734442322\n",
      "0.03621101107718294\n",
      "\n",
      "DecisionTreeRegressor\n",
      "1.0\n",
      "-0.2596487511410486\n",
      "\n",
      "RandomForestRegressor\n",
      "0.8676033104288889\n",
      "0.26700884423286597\n",
      "\n",
      "ExtraTreesRegressor\n",
      "1.0\n",
      "0.28084014928741996\n",
      "\n",
      "GradientBoostingRegressor\n",
      "0.9510361154531684\n",
      "0.13866109920740277\n",
      "\n",
      "AdaBoostRegressor\n",
      "0.48970177834623496\n",
      "-0.06906677561821994\n",
      "\n",
      "XGBRegressor\n",
      "0.9999999929868096\n",
      "0.05529125954951997\n",
      "\n",
      "LGBMRegressor\n",
      "0.9490198854387403\n",
      "0.12634527690756525\n",
      "\n"
     ]
    }
   ],
   "source": [
    "# ExtraTreesRegressor 0.18 -> 0.28 상승!\n",
    "# RandomForestRegressor 0.37 -> 0.26 하락\n",
    "# GradientBoostingRegressor 0.28 -> 0.13 하락\n",
    "x_train, x_test, y_train, y_test = train_test_split(x,y, random_state=42)\n",
    "models = [sv,lsv,lr, ridge, lasso, kn, dtr, rfr,etr, gbr, abr, xgb, lgb ]\n",
    "\n",
    "for m in models :\n",
    "    m.fit(x_train,y_train)\n",
    "    print(m.__class__.__name__)\n",
    "    print(m.score(x_train, y_train))\n",
    "#     print(m.score(x_valid, y_valid))\n",
    "    print(m.score(x_test,y_test))\n",
    "    print()"
   ]
  },
  {
   "cell_type": "markdown",
   "id": "4388c7fa",
   "metadata": {},
   "source": [
    "#### StandardScaler"
   ]
  },
  {
   "cell_type": "code",
   "execution_count": 44,
   "id": "5599a21f",
   "metadata": {
    "collapsed": true
   },
   "outputs": [
    {
     "name": "stdout",
     "output_type": "stream",
     "text": [
      "SVR\n",
      "-0.09793463210725006\n",
      "-0.03752551572021834\n",
      "\n",
      "LinearSVR\n",
      "0.4928375903864045\n",
      "-0.020166164776778572\n",
      "\n",
      "LinearRegression\n",
      "1.0\n",
      "-9.713875672576014\n",
      "\n",
      "Ridge\n",
      "0.8442523191704202\n",
      "-1.0435530428158155\n",
      "\n",
      "Lasso\n",
      "0.5439050322799763\n",
      "0.14385819877364237\n",
      "\n",
      "KNeighborsRegressor\n",
      "0.3057698120297664\n",
      "0.15887628315973112\n",
      "\n",
      "DecisionTreeRegressor\n",
      "1.0\n",
      "-0.2596487511410486\n",
      "\n",
      "RandomForestRegressor\n",
      "0.8673179128734967\n",
      "0.26703108100418926\n",
      "\n",
      "ExtraTreesRegressor\n",
      "1.0\n",
      "0.28084014928741996\n",
      "\n",
      "GradientBoostingRegressor\n",
      "0.9510361154531684\n",
      "0.13882241575736753\n",
      "\n",
      "AdaBoostRegressor\n",
      "0.5503369173346675\n",
      "0.03581845219693203\n",
      "\n",
      "XGBRegressor\n",
      "0.9999999929868096\n",
      "0.05529125954951997\n",
      "\n",
      "LGBMRegressor\n",
      "0.941670844835743\n",
      "0.12617622475490986\n",
      "\n"
     ]
    }
   ],
   "source": [
    "# ExtraTreesRegressor : 0.18 -> 0.28 상승!\n",
    "# RandomForestRegressor 0.37-> 0.26 하락\n",
    "scaler = StandardScaler()\n",
    "scaler.fit(x_train)\n",
    "\n",
    "x_train_stan = scaler.transform(x_train)\n",
    "x_test_stan = scaler.transform(x_test)\n",
    "\n",
    "models = [sv,lsv,lr, ridge, lasso, kn, dtr, rfr,etr, gbr, abr, xgb, lgb ]\n",
    "\n",
    "for m in models :\n",
    "    m.fit(x_train_stan,y_train)\n",
    "    print(m.__class__.__name__)\n",
    "    print(m.score(x_train_stan, y_train))\n",
    "#     print(m.score(x_valid, y_valid))\n",
    "    print(m.score(x_test_stan,y_test))\n",
    "    print()"
   ]
  },
  {
   "cell_type": "markdown",
   "id": "42f2a64a",
   "metadata": {},
   "source": [
    "#### MinMaxScaler"
   ]
  },
  {
   "cell_type": "code",
   "execution_count": 45,
   "id": "cd6b3d78",
   "metadata": {
    "collapsed": true
   },
   "outputs": [
    {
     "name": "stdout",
     "output_type": "stream",
     "text": [
      "SVR\n",
      "-0.10307843346758805\n",
      "-0.03506331076456948\n",
      "\n",
      "LinearSVR\n",
      "0.11916255090439998\n",
      "0.21730040963145314\n",
      "\n",
      "LinearRegression\n",
      "1.0\n",
      "-10.077407901792395\n",
      "\n",
      "Ridge\n",
      "0.6088457802259664\n",
      "0.0696084561205601\n",
      "\n",
      "Lasso\n",
      "0.19113935315339736\n",
      "0.2475683251338141\n",
      "\n",
      "KNeighborsRegressor\n",
      "0.32023560103922144\n",
      "0.23323651177983606\n",
      "\n",
      "DecisionTreeRegressor\n",
      "1.0\n",
      "-0.2596487511410486\n",
      "\n",
      "RandomForestRegressor\n",
      "0.8672920892434499\n",
      "0.2671807233665674\n",
      "\n",
      "ExtraTreesRegressor\n",
      "1.0\n",
      "0.28084014928741996\n",
      "\n",
      "GradientBoostingRegressor\n",
      "0.9510361154531684\n",
      "0.13871350181111564\n",
      "\n",
      "AdaBoostRegressor\n",
      "0.5273652083154206\n",
      "-0.06118259468237408\n",
      "\n",
      "XGBRegressor\n",
      "0.9999999929868096\n",
      "0.05539629321704531\n",
      "\n",
      "LGBMRegressor\n",
      "0.9508040316814171\n",
      "0.12160961764963141\n",
      "\n"
     ]
    }
   ],
   "source": [
    "# RandomForestRegressor : 0.37 -> 0.26 하락\n",
    "# ExtraTreesRegressor : 0.18 -> 0.28 상승!\n",
    "# GradientBoostingRegressor : 0.28 -> 0.13 하락\n",
    "\n",
    "scaler = MinMaxScaler()\n",
    "scaler.fit(x_train)\n",
    "\n",
    "x_train_min = scaler.transform(x_train)\n",
    "x_test_min = scaler.transform(x_test)\n",
    "\n",
    "\n",
    "models = [sv,lsv,lr, ridge, lasso, kn, dtr, rfr,etr, gbr, abr, xgb, lgb ]\n",
    "\n",
    "\n",
    "for m in models :\n",
    "    m.fit(x_train_min,y_train)\n",
    "    print(m.__class__.__name__)\n",
    "    print(m.score(x_train_min, y_train))\n",
    "#     print(m.score(x_valid, y_valid))\n",
    "    print(m.score(x_test_min,y_test))\n",
    "    print()"
   ]
  },
  {
   "cell_type": "markdown",
   "id": "6dfe008f",
   "metadata": {},
   "source": [
    "## 종합적으로 == > ExtraTree model이 눈에 띄게 개선됨."
   ]
  },
  {
   "cell_type": "code",
   "execution_count": null,
   "id": "9d6d8484",
   "metadata": {},
   "outputs": [],
   "source": []
  },
  {
   "cell_type": "code",
   "execution_count": null,
   "id": "f195f9af",
   "metadata": {},
   "outputs": [],
   "source": []
  },
  {
   "cell_type": "markdown",
   "id": "737f5ade",
   "metadata": {},
   "source": [
    "## GridSearchCV"
   ]
  },
  {
   "cell_type": "code",
   "execution_count": null,
   "id": "0b36363b",
   "metadata": {},
   "outputs": [],
   "source": []
  },
  {
   "cell_type": "markdown",
   "id": "bb2ef067",
   "metadata": {},
   "source": [
    "### RandomForest"
   ]
  },
  {
   "cell_type": "code",
   "execution_count": 53,
   "id": "05fb08a2",
   "metadata": {},
   "outputs": [],
   "source": [
    "from sklearn.model_selection import GridSearchCV\n",
    "from sklearn.model_selection import KFold ,StratifiedKFold"
   ]
  },
  {
   "cell_type": "code",
   "execution_count": 54,
   "id": "eef039ea",
   "metadata": {},
   "outputs": [],
   "source": [
    "df = pd.read_csv('./data/df_rfr_opt.csv', index_col=0)\n",
    "df['기준_분기_코드'] = df['기준_분기_코드'].apply(lambda x : str(x)+'분기')\n",
    "df = pd.get_dummies(df)\n",
    "y = df['확진자수']\n",
    "x = df.drop('확진자수', axis=1)\n",
    "x_train, x_test, y_train, y_test = train_test_split(x,y, random_state=42)"
   ]
  },
  {
   "cell_type": "code",
   "execution_count": 55,
   "id": "117f3639",
   "metadata": {},
   "outputs": [],
   "source": [
    "x_train, x_test, y_train, y_test = train_test_split(x,y, random_state=42)\n",
    "scaler = StandardScaler()\n",
    "scaler.fit(x_train)\n",
    "\n",
    "x_train_stan = scaler.transform(x_train)\n",
    "x_test_stan = scaler.transform(x_test)\n"
   ]
  },
  {
   "cell_type": "code",
   "execution_count": 56,
   "id": "5b1914ea",
   "metadata": {},
   "outputs": [
    {
     "name": "stdout",
     "output_type": "stream",
     "text": [
      "0.8673179128734967\n",
      "0.26703108100418926\n"
     ]
    }
   ],
   "source": [
    "rfr = RandomForestRegressor(random_state=42)\n",
    "rfr.fit(x_train_stan,y_train)\n",
    "print(rfr.score(x_train_stan, y_train))\n",
    "print(rfr.score(x_test_stan, y_test))"
   ]
  },
  {
   "cell_type": "code",
   "execution_count": 57,
   "id": "6ed6af38",
   "metadata": {},
   "outputs": [
    {
     "name": "stdout",
     "output_type": "stream",
     "text": [
      "0.8724504513273079\n",
      "0.2636801934597258\n"
     ]
    }
   ],
   "source": [
    "rfr = RandomForestRegressor(random_state=42,n_estimators=50,min_samples_split=2,max_depth=None)\n",
    "rfr.fit(x_train_stan,y_train)\n",
    "print(rfr.score(x_train_stan, y_train))\n",
    "print(rfr.score(x_test_stan, y_test))"
   ]
  },
  {
   "cell_type": "code",
   "execution_count": 126,
   "id": "78f544cc",
   "metadata": {},
   "outputs": [
    {
     "name": "stdout",
     "output_type": "stream",
     "text": [
      "0.7935929268084966\n",
      "0.3138987080392762\n"
     ]
    }
   ],
   "source": [
    "rfr = RandomForestRegressor(random_state=42,n_estimators=23,min_samples_split=5)\n",
    "rfr.fit(x_train_stan,y_train)\n",
    "print(rfr.score(x_train_stan, y_train))\n",
    "print(rfr.score(x_test_stan, y_test))"
   ]
  },
  {
   "cell_type": "code",
   "execution_count": 148,
   "id": "1e13b92d",
   "metadata": {},
   "outputs": [
    {
     "name": "stdout",
     "output_type": "stream",
     "text": [
      "0.7027231253868245\n",
      "0.3254576609178599\n"
     ]
    }
   ],
   "source": [
    "# 0.42 -> 0.32 하락\n",
    "rfr = RandomForestRegressor(random_state=42,n_estimators=23,min_samples_split=5,max_depth=9)                           \n",
    "rfr.fit(x_train_stan,y_train)\n",
    "print(rfr.score(x_train_stan, y_train))\n",
    "print(rfr.score(x_test_stan, y_test))"
   ]
  },
  {
   "cell_type": "code",
   "execution_count": null,
   "id": "c97bbe1e",
   "metadata": {},
   "outputs": [],
   "source": []
  },
  {
   "cell_type": "code",
   "execution_count": null,
   "id": "3983c7df",
   "metadata": {},
   "outputs": [],
   "source": []
  },
  {
   "cell_type": "code",
   "execution_count": null,
   "id": "b16a37fc",
   "metadata": {},
   "outputs": [],
   "source": []
  },
  {
   "cell_type": "markdown",
   "id": "d1a325d1",
   "metadata": {},
   "source": [
    "### GridSearch"
   ]
  },
  {
   "cell_type": "code",
   "execution_count": 63,
   "id": "8a677c62",
   "metadata": {},
   "outputs": [],
   "source": [
    "cv = KFold(5, shuffle=True, random_state=42)\n",
    "params = { \n",
    "    'n_estimators': [100,200,300,400],\n",
    "    'max_depth' : [None, 2, 4,6,8],\n",
    "    'min_samples_split': [2, 3]}"
   ]
  },
  {
   "cell_type": "code",
   "execution_count": null,
   "id": "700641cf",
   "metadata": {},
   "outputs": [],
   "source": []
  },
  {
   "cell_type": "code",
   "execution_count": 64,
   "id": "0bfd9b02",
   "metadata": {},
   "outputs": [],
   "source": [
    "grid=GridSearchCV(RandomForestRegressor(random_state=42),param_grid=params,cv=cv, refit=True, verbose=True, n_jobs=-1) "
   ]
  },
  {
   "cell_type": "code",
   "execution_count": 65,
   "id": "3b18a3f4",
   "metadata": {},
   "outputs": [
    {
     "name": "stdout",
     "output_type": "stream",
     "text": [
      "Fitting 5 folds for each of 40 candidates, totalling 200 fits\n"
     ]
    },
    {
     "data": {
      "text/plain": [
       "GridSearchCV(cv=KFold(n_splits=5, random_state=42, shuffle=True),\n",
       "             estimator=RandomForestRegressor(random_state=42), n_jobs=-1,\n",
       "             param_grid={'max_depth': [None, 2, 4, 6, 8],\n",
       "                         'min_samples_split': [2, 3],\n",
       "                         'n_estimators': [100, 200, 300, 400]},\n",
       "             verbose=True)"
      ]
     },
     "execution_count": 65,
     "metadata": {},
     "output_type": "execute_result"
    }
   ],
   "source": [
    "grid.fit(x_train_stan,y_train)"
   ]
  },
  {
   "cell_type": "code",
   "execution_count": 66,
   "id": "55d99282",
   "metadata": {},
   "outputs": [
    {
     "data": {
      "text/plain": [
       "RandomForestRegressor(max_depth=2, n_estimators=300, random_state=42)"
      ]
     },
     "execution_count": 66,
     "metadata": {},
     "output_type": "execute_result"
    }
   ],
   "source": [
    "grid.best_estimator_ "
   ]
  },
  {
   "cell_type": "code",
   "execution_count": 67,
   "id": "54e9bd99",
   "metadata": {},
   "outputs": [
    {
     "data": {
      "text/plain": [
       "0.07021146124867453"
      ]
     },
     "execution_count": 67,
     "metadata": {},
     "output_type": "execute_result"
    }
   ],
   "source": [
    "grid.best_score_ "
   ]
  },
  {
   "cell_type": "code",
   "execution_count": 68,
   "id": "9dc27b88",
   "metadata": {},
   "outputs": [
    {
     "data": {
      "text/plain": [
       "0.26475356914387804"
      ]
     },
     "execution_count": 68,
     "metadata": {},
     "output_type": "execute_result"
    }
   ],
   "source": [
    "grid.score(x_test_stan,y_test)"
   ]
  },
  {
   "cell_type": "code",
   "execution_count": null,
   "id": "e54253cf",
   "metadata": {},
   "outputs": [],
   "source": []
  },
  {
   "cell_type": "code",
   "execution_count": 227,
   "id": "e9fdfb72",
   "metadata": {},
   "outputs": [],
   "source": [
    "cv = KFold(5, shuffle=True, random_state=42)\n",
    "params = { \n",
    "    'n_estimators': [20,40,60,80,100],\n",
    "    'max_depth' : [None, 4,8,10,20,30],\n",
    "    'min_samples_split': [2,4, 6]}"
   ]
  },
  {
   "cell_type": "code",
   "execution_count": 228,
   "id": "5de7326c",
   "metadata": {},
   "outputs": [],
   "source": [
    "grid=GridSearchCV(RandomForestRegressor(random_state=42),param_grid=params,cv=cv, refit=True, verbose=True, n_jobs=-1) "
   ]
  },
  {
   "cell_type": "code",
   "execution_count": 229,
   "id": "7dd43c25",
   "metadata": {},
   "outputs": [
    {
     "name": "stdout",
     "output_type": "stream",
     "text": [
      "Fitting 5 folds for each of 90 candidates, totalling 450 fits\n"
     ]
    },
    {
     "data": {
      "text/plain": [
       "GridSearchCV(cv=KFold(n_splits=5, random_state=42, shuffle=True),\n",
       "             estimator=RandomForestRegressor(random_state=42), n_jobs=-1,\n",
       "             param_grid={'max_depth': [None, 4, 8, 10, 20, 30],\n",
       "                         'min_samples_split': [2, 4, 6],\n",
       "                         'n_estimators': [20, 40, 60, 80, 100]},\n",
       "             verbose=True)"
      ]
     },
     "execution_count": 229,
     "metadata": {},
     "output_type": "execute_result"
    }
   ],
   "source": [
    "grid.fit(x_train_stan,y_train)"
   ]
  },
  {
   "cell_type": "code",
   "execution_count": 230,
   "id": "cccad7ab",
   "metadata": {},
   "outputs": [
    {
     "data": {
      "text/plain": [
       "RandomForestRegressor(max_depth=4, min_samples_split=6, n_estimators=60,\n",
       "                      random_state=42)"
      ]
     },
     "execution_count": 230,
     "metadata": {},
     "output_type": "execute_result"
    }
   ],
   "source": [
    "grid.best_estimator_ "
   ]
  },
  {
   "cell_type": "code",
   "execution_count": 231,
   "id": "3f18ec46",
   "metadata": {},
   "outputs": [
    {
     "data": {
      "text/plain": [
       "0.021407115314950032"
      ]
     },
     "execution_count": 231,
     "metadata": {},
     "output_type": "execute_result"
    }
   ],
   "source": [
    "grid.best_score_ "
   ]
  },
  {
   "cell_type": "code",
   "execution_count": 232,
   "id": "c8c229c8",
   "metadata": {},
   "outputs": [
    {
     "data": {
      "text/plain": [
       "0.5696700342103729"
      ]
     },
     "execution_count": 232,
     "metadata": {},
     "output_type": "execute_result"
    }
   ],
   "source": [
    "grid.score(x_train_stan,y_train)"
   ]
  },
  {
   "cell_type": "code",
   "execution_count": 233,
   "id": "78495586",
   "metadata": {},
   "outputs": [
    {
     "data": {
      "text/plain": [
       "0.2893215642973994"
      ]
     },
     "execution_count": 233,
     "metadata": {},
     "output_type": "execute_result"
    }
   ],
   "source": [
    "grid.score(x_test_stan,y_test)"
   ]
  },
  {
   "cell_type": "code",
   "execution_count": null,
   "id": "24917062",
   "metadata": {},
   "outputs": [],
   "source": []
  },
  {
   "cell_type": "code",
   "execution_count": null,
   "id": "1badb2d7",
   "metadata": {},
   "outputs": [],
   "source": []
  },
  {
   "cell_type": "code",
   "execution_count": 90,
   "id": "4a41a3b0",
   "metadata": {},
   "outputs": [],
   "source": [
    "cv = KFold(5, shuffle=True, random_state=42)\n",
    "params = { \n",
    "    'n_estimators': [35,40,45,50,55,65],\n",
    "    'max_depth' : [None,8,10,12,14,16],\n",
    "    'min_samples_split': [2,4,6]}"
   ]
  },
  {
   "cell_type": "code",
   "execution_count": 91,
   "id": "05f5a760",
   "metadata": {},
   "outputs": [],
   "source": [
    "grid=GridSearchCV(RandomForestRegressor(random_state=42),param_grid=params,cv=cv, refit=True, verbose=True, n_jobs=-1) "
   ]
  },
  {
   "cell_type": "code",
   "execution_count": 92,
   "id": "0c0339fd",
   "metadata": {},
   "outputs": [
    {
     "name": "stdout",
     "output_type": "stream",
     "text": [
      "Fitting 5 folds for each of 108 candidates, totalling 540 fits\n"
     ]
    },
    {
     "data": {
      "text/plain": [
       "GridSearchCV(cv=KFold(n_splits=5, random_state=42, shuffle=True),\n",
       "             estimator=RandomForestRegressor(random_state=42), n_jobs=-1,\n",
       "             param_grid={'max_depth': [None, 8, 10, 12, 14, 16],\n",
       "                         'min_samples_split': [2, 4, 6],\n",
       "                         'n_estimators': [35, 40, 45, 50, 55, 65]},\n",
       "             verbose=True)"
      ]
     },
     "execution_count": 92,
     "metadata": {},
     "output_type": "execute_result"
    }
   ],
   "source": [
    "grid.fit(x_train_stan,y_train)"
   ]
  },
  {
   "cell_type": "code",
   "execution_count": 93,
   "id": "25bdab22",
   "metadata": {},
   "outputs": [
    {
     "data": {
      "text/plain": [
       "RandomForestRegressor(max_depth=8, n_estimators=65, random_state=42)"
      ]
     },
     "execution_count": 93,
     "metadata": {},
     "output_type": "execute_result"
    }
   ],
   "source": [
    "grid.best_estimator_ "
   ]
  },
  {
   "cell_type": "code",
   "execution_count": 94,
   "id": "9633936c",
   "metadata": {},
   "outputs": [
    {
     "data": {
      "text/plain": [
       "-0.01130358771984421"
      ]
     },
     "execution_count": 94,
     "metadata": {},
     "output_type": "execute_result"
    }
   ],
   "source": [
    "grid.best_score_ "
   ]
  },
  {
   "cell_type": "code",
   "execution_count": 95,
   "id": "bfb03652",
   "metadata": {},
   "outputs": [
    {
     "data": {
      "text/plain": [
       "0.7462092974205312"
      ]
     },
     "execution_count": 95,
     "metadata": {},
     "output_type": "execute_result"
    }
   ],
   "source": [
    "grid.score(x_train_stan,y_train)"
   ]
  },
  {
   "cell_type": "code",
   "execution_count": 96,
   "id": "e43ed067",
   "metadata": {},
   "outputs": [
    {
     "data": {
      "text/plain": [
       "0.29014378080062153"
      ]
     },
     "execution_count": 96,
     "metadata": {},
     "output_type": "execute_result"
    }
   ],
   "source": [
    "# 0.35 -> 0.29\n",
    "grid.score(x_test_stan,y_test)"
   ]
  },
  {
   "cell_type": "code",
   "execution_count": null,
   "id": "eb6c274e",
   "metadata": {},
   "outputs": [],
   "source": []
  },
  {
   "cell_type": "markdown",
   "id": "f044d23f",
   "metadata": {},
   "source": [
    "### feature_importances_"
   ]
  },
  {
   "cell_type": "code",
   "execution_count": 37,
   "id": "c62a6a3d",
   "metadata": {
    "collapsed": true
   },
   "outputs": [
    {
     "data": {
      "text/html": [
       "<div>\n",
       "<style scoped>\n",
       "    .dataframe tbody tr th:only-of-type {\n",
       "        vertical-align: middle;\n",
       "    }\n",
       "\n",
       "    .dataframe tbody tr th {\n",
       "        vertical-align: top;\n",
       "    }\n",
       "\n",
       "    .dataframe thead th {\n",
       "        text-align: right;\n",
       "    }\n",
       "</style>\n",
       "<table border=\"1\" class=\"dataframe\">\n",
       "  <thead>\n",
       "    <tr style=\"text-align: right;\">\n",
       "      <th></th>\n",
       "      <th>features_name</th>\n",
       "      <th>importance</th>\n",
       "    </tr>\n",
       "  </thead>\n",
       "  <tbody>\n",
       "    <tr>\n",
       "      <th>775</th>\n",
       "      <td>matching_상권_코드_명_월드컵로10길</td>\n",
       "      <td>0.059738</td>\n",
       "    </tr>\n",
       "    <tr>\n",
       "      <th>688</th>\n",
       "      <td>matching_상권_코드_명_관악구 사당역_1</td>\n",
       "      <td>0.032041</td>\n",
       "    </tr>\n",
       "    <tr>\n",
       "      <th>342</th>\n",
       "      <td>여성연령대_20_금요일시간대_3_생활인구_수</td>\n",
       "      <td>0.023516</td>\n",
       "    </tr>\n",
       "    <tr>\n",
       "      <th>648</th>\n",
       "      <td>지하철역 수</td>\n",
       "      <td>0.022061</td>\n",
       "    </tr>\n",
       "    <tr>\n",
       "      <th>387</th>\n",
       "      <td>여성연령대_30_금요일시간대_6_생활인구_수</td>\n",
       "      <td>0.020419</td>\n",
       "    </tr>\n",
       "    <tr>\n",
       "      <th>97</th>\n",
       "      <td>남성연령대_20_토요일시간대_4_생활인구_수</td>\n",
       "      <td>0.019955</td>\n",
       "    </tr>\n",
       "    <tr>\n",
       "      <th>398</th>\n",
       "      <td>여성연령대_30_일요일시간대_5_생활인구_수</td>\n",
       "      <td>0.017441</td>\n",
       "    </tr>\n",
       "    <tr>\n",
       "      <th>537</th>\n",
       "      <td>아파트_가격_5_억_세대_수</td>\n",
       "      <td>0.017422</td>\n",
       "    </tr>\n",
       "    <tr>\n",
       "      <th>643</th>\n",
       "      <td>연령대_40_매출_건수</td>\n",
       "      <td>0.016688</td>\n",
       "    </tr>\n",
       "    <tr>\n",
       "      <th>583</th>\n",
       "      <td>금요일_매출_비율</td>\n",
       "      <td>0.016019</td>\n",
       "    </tr>\n",
       "    <tr>\n",
       "      <th>599</th>\n",
       "      <td>연령대_60_이상_매출_비율</td>\n",
       "      <td>0.016006</td>\n",
       "    </tr>\n",
       "    <tr>\n",
       "      <th>675</th>\n",
       "      <td>임시선별소 수</td>\n",
       "      <td>0.015200</td>\n",
       "    </tr>\n",
       "    <tr>\n",
       "      <th>653</th>\n",
       "      <td>4시총승객수</td>\n",
       "      <td>0.012639</td>\n",
       "    </tr>\n",
       "    <tr>\n",
       "      <th>597</th>\n",
       "      <td>연령대_40_매출_비율</td>\n",
       "      <td>0.012088</td>\n",
       "    </tr>\n",
       "    <tr>\n",
       "      <th>575</th>\n",
       "      <td>분기당_매출_금액</td>\n",
       "      <td>0.012039</td>\n",
       "    </tr>\n",
       "    <tr>\n",
       "      <th>567</th>\n",
       "      <td>약국_수</td>\n",
       "      <td>0.011943</td>\n",
       "    </tr>\n",
       "    <tr>\n",
       "      <th>581</th>\n",
       "      <td>수요일_매출_비율</td>\n",
       "      <td>0.010787</td>\n",
       "    </tr>\n",
       "    <tr>\n",
       "      <th>146</th>\n",
       "      <td>남성연령대_30_일요일시간대_5_생활인구_수</td>\n",
       "      <td>0.010753</td>\n",
       "    </tr>\n",
       "    <tr>\n",
       "      <th>642</th>\n",
       "      <td>연령대_30_매출_건수</td>\n",
       "      <td>0.010510</td>\n",
       "    </tr>\n",
       "    <tr>\n",
       "      <th>399</th>\n",
       "      <td>여성연령대_30_일요일시간대_6_생활인구_수</td>\n",
       "      <td>0.010433</td>\n",
       "    </tr>\n",
       "    <tr>\n",
       "      <th>632</th>\n",
       "      <td>시간대_건수~06_매출_건수</td>\n",
       "      <td>0.010060</td>\n",
       "    </tr>\n",
       "    <tr>\n",
       "      <th>618</th>\n",
       "      <td>연령대_20_매출_금액</td>\n",
       "      <td>0.010044</td>\n",
       "    </tr>\n",
       "    <tr>\n",
       "      <th>80</th>\n",
       "      <td>남성연령대_20_수요일시간대_5_생활인구_수</td>\n",
       "      <td>0.009937</td>\n",
       "    </tr>\n",
       "    <tr>\n",
       "      <th>614</th>\n",
       "      <td>시간대_21~24_매출_금액</td>\n",
       "      <td>0.009818</td>\n",
       "    </tr>\n",
       "    <tr>\n",
       "      <th>103</th>\n",
       "      <td>남성연령대_20_일요일시간대_4_생활인구_수</td>\n",
       "      <td>0.009714</td>\n",
       "    </tr>\n",
       "    <tr>\n",
       "      <th>564</th>\n",
       "      <td>은행_수</td>\n",
       "      <td>0.009660</td>\n",
       "    </tr>\n",
       "    <tr>\n",
       "      <th>639</th>\n",
       "      <td>여성_매출_건수</td>\n",
       "      <td>0.009643</td>\n",
       "    </tr>\n",
       "    <tr>\n",
       "      <th>90</th>\n",
       "      <td>남성연령대_20_금요일시간대_3_생활인구_수</td>\n",
       "      <td>0.009634</td>\n",
       "    </tr>\n",
       "    <tr>\n",
       "      <th>95</th>\n",
       "      <td>남성연령대_20_토요일시간대_2_생활인구_수</td>\n",
       "      <td>0.009542</td>\n",
       "    </tr>\n",
       "    <tr>\n",
       "      <th>587</th>\n",
       "      <td>시간대_06~11_매출_비율</td>\n",
       "      <td>0.009300</td>\n",
       "    </tr>\n",
       "  </tbody>\n",
       "</table>\n",
       "</div>"
      ],
      "text/plain": [
       "                  features_name  importance\n",
       "775    matching_상권_코드_명_월드컵로10길    0.059738\n",
       "688  matching_상권_코드_명_관악구 사당역_1    0.032041\n",
       "342    여성연령대_20_금요일시간대_3_생활인구_수    0.023516\n",
       "648                      지하철역 수    0.022061\n",
       "387    여성연령대_30_금요일시간대_6_생활인구_수    0.020419\n",
       "97     남성연령대_20_토요일시간대_4_생활인구_수    0.019955\n",
       "398    여성연령대_30_일요일시간대_5_생활인구_수    0.017441\n",
       "537             아파트_가격_5_억_세대_수    0.017422\n",
       "643                연령대_40_매출_건수    0.016688\n",
       "583                   금요일_매출_비율    0.016019\n",
       "599             연령대_60_이상_매출_비율    0.016006\n",
       "675                     임시선별소 수    0.015200\n",
       "653                      4시총승객수    0.012639\n",
       "597                연령대_40_매출_비율    0.012088\n",
       "575                   분기당_매출_금액    0.012039\n",
       "567                        약국_수    0.011943\n",
       "581                   수요일_매출_비율    0.010787\n",
       "146    남성연령대_30_일요일시간대_5_생활인구_수    0.010753\n",
       "642                연령대_30_매출_건수    0.010510\n",
       "399    여성연령대_30_일요일시간대_6_생활인구_수    0.010433\n",
       "632             시간대_건수~06_매출_건수    0.010060\n",
       "618                연령대_20_매출_금액    0.010044\n",
       "80     남성연령대_20_수요일시간대_5_생활인구_수    0.009937\n",
       "614             시간대_21~24_매출_금액    0.009818\n",
       "103    남성연령대_20_일요일시간대_4_생활인구_수    0.009714\n",
       "564                        은행_수    0.009660\n",
       "639                    여성_매출_건수    0.009643\n",
       "90     남성연령대_20_금요일시간대_3_생활인구_수    0.009634\n",
       "95     남성연령대_20_토요일시간대_2_생활인구_수    0.009542\n",
       "587             시간대_06~11_매출_비율    0.009300"
      ]
     },
     "execution_count": 37,
     "metadata": {},
     "output_type": "execute_result"
    }
   ],
   "source": [
    "rfr_model = RandomForestRegressor(random_state=42,n_estimators=35,min_samples_split=2,max_depth=10)\n",
    "rfr_model.fit(x_train_stan,y_train)\n",
    "\n",
    "\n",
    "feature_list = pd.concat([pd.Series(x.columns), pd.Series(rfr_model.feature_importances_)], axis=1)\n",
    "feature_list.columns = ['features_name', 'importance']\n",
    "feature_list.sort_values(\"importance\", ascending =False)[:30]"
   ]
  },
  {
   "cell_type": "code",
   "execution_count": null,
   "id": "489eb3a1",
   "metadata": {},
   "outputs": [],
   "source": []
  },
  {
   "cell_type": "code",
   "execution_count": null,
   "id": "9d2b49a5",
   "metadata": {},
   "outputs": [],
   "source": []
  }
 ],
 "metadata": {
  "kernelspec": {
   "display_name": "Python 3",
   "language": "python",
   "name": "python3"
  },
  "language_info": {
   "codemirror_mode": {
    "name": "ipython",
    "version": 3
   },
   "file_extension": ".py",
   "mimetype": "text/x-python",
   "name": "python",
   "nbconvert_exporter": "python",
   "pygments_lexer": "ipython3",
   "version": "3.8.8"
  }
 },
 "nbformat": 4,
 "nbformat_minor": 5
}
