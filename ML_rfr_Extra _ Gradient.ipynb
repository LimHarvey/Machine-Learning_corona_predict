{
 "cells": [
  {
   "cell_type": "markdown",
   "id": "22ae5d3f",
   "metadata": {},
   "source": [
    "### rfr_Extra & Gradient\n",
    "\n",
    "- df_rfr_opt사용하여 ExtraTree/Gradient model optimizer 시행"
   ]
  },
  {
   "cell_type": "code",
   "execution_count": null,
   "id": "3f909815",
   "metadata": {},
   "outputs": [],
   "source": []
  },
  {
   "cell_type": "code",
   "execution_count": 2,
   "id": "eb5d2d6d",
   "metadata": {},
   "outputs": [],
   "source": [
    "import pandas as pd\n",
    "import numpy as np\n",
    "import matplotlib.pyplot as plt\n",
    "import seaborn as sns\n",
    "import warnings\n",
    "\n",
    "warnings.filterwarnings(action='ignore')\n",
    "from sklearn.model_selection import train_test_split\n",
    "from sklearn.preprocessing import MinMaxScaler, StandardScaler\n",
    "\n",
    "from sklearn.ensemble import ExtraTreesRegressor\n",
    "from sklearn.ensemble import GradientBoostingRegressor\n",
    "\n",
    "from sklearn.model_selection import GridSearchCV\n",
    "from sklearn.model_selection import KFold ,StratifiedKFold"
   ]
  },
  {
   "cell_type": "code",
   "execution_count": 3,
   "id": "ce7bfe9b",
   "metadata": {},
   "outputs": [],
   "source": [
    "etr = ExtraTreesRegressor(random_state=42)\n",
    "gbr = GradientBoostingRegressor(random_state=42)"
   ]
  },
  {
   "cell_type": "code",
   "execution_count": null,
   "id": "448e616c",
   "metadata": {},
   "outputs": [],
   "source": []
  },
  {
   "cell_type": "code",
   "execution_count": 4,
   "id": "3d7cac16",
   "metadata": {},
   "outputs": [],
   "source": [
    "df = pd.read_csv('./data/df_rfr_opt.csv', index_col=0)\n",
    "df['기준_분기_코드'] = df['기준_분기_코드'].apply(lambda x : str(x)+'분기')\n",
    "df = pd.get_dummies(df)\n",
    "y = df['확진자수']\n",
    "x = df.drop('확진자수', axis=1)\n",
    "x_train, x_test, y_train, y_test = train_test_split(x,y, random_state=42)"
   ]
  },
  {
   "cell_type": "code",
   "execution_count": null,
   "id": "fdf88ab1",
   "metadata": {},
   "outputs": [],
   "source": []
  },
  {
   "cell_type": "code",
   "execution_count": 5,
   "id": "b63f07e2",
   "metadata": {},
   "outputs": [],
   "source": [
    "scaler = StandardScaler()\n",
    "scaler.fit(x_train)\n",
    "\n",
    "x_train_stan = scaler.transform(x_train)\n",
    "x_test_stan = scaler.transform(x_test)"
   ]
  },
  {
   "cell_type": "markdown",
   "id": "8f2400a5",
   "metadata": {},
   "source": [
    "### ExtraTreesRegressor"
   ]
  },
  {
   "cell_type": "code",
   "execution_count": 10,
   "id": "9cc94086",
   "metadata": {},
   "outputs": [
    {
     "name": "stdout",
     "output_type": "stream",
     "text": [
      "1.0\n",
      "0.28084014928741996\n"
     ]
    }
   ],
   "source": [
    "# 0.18 -> 0.28\n",
    "etr = ExtraTreesRegressor(random_state=42)\n",
    "etr.fit(x_train_stan,y_train)\n",
    "print(etr.score(x_train_stan, y_train))\n",
    "print(etr.score(x_test_stan, y_test))"
   ]
  },
  {
   "cell_type": "code",
   "execution_count": 13,
   "id": "09242a47",
   "metadata": {},
   "outputs": [
    {
     "name": "stdout",
     "output_type": "stream",
     "text": [
      "1.0\n",
      "0.2909200556925191\n"
     ]
    }
   ],
   "source": [
    "etr = ExtraTreesRegressor(random_state=42,n_estimators=700)\n",
    "etr.fit(x_train_stan,y_train)\n",
    "print(etr.score(x_train_stan, y_train))\n",
    "print(etr.score(x_test_stan, y_test))"
   ]
  },
  {
   "cell_type": "code",
   "execution_count": 22,
   "id": "b2060fc2",
   "metadata": {},
   "outputs": [
    {
     "name": "stdout",
     "output_type": "stream",
     "text": [
      "1.0\n",
      "0.31179285693422953\n"
     ]
    }
   ],
   "source": [
    "etr = ExtraTreesRegressor(random_state=42,n_estimators=30)\n",
    "etr.fit(x_train_stan,y_train)\n",
    "print(etr.score(x_train_stan, y_train))\n",
    "print(etr.score(x_test_stan, y_test))"
   ]
  },
  {
   "cell_type": "code",
   "execution_count": 33,
   "id": "a2e03a02",
   "metadata": {},
   "outputs": [
    {
     "name": "stdout",
     "output_type": "stream",
     "text": [
      "0.8553767984320616\n",
      "0.25127530983422075\n"
     ]
    }
   ],
   "source": [
    "etr = ExtraTreesRegressor(random_state=42,n_estimators=30,min_samples_split=10)\n",
    "etr.fit(x_train_stan,y_train)\n",
    "print(etr.score(x_train_stan, y_train))\n",
    "print(etr.score(x_test_stan, y_test))"
   ]
  },
  {
   "cell_type": "code",
   "execution_count": 43,
   "id": "736074e6",
   "metadata": {},
   "outputs": [
    {
     "name": "stdout",
     "output_type": "stream",
     "text": [
      "0.8242329701343399\n",
      "0.29387986191055204\n"
     ]
    }
   ],
   "source": [
    "etr = ExtraTreesRegressor(random_state=42,n_estimators=30,min_samples_split=2,max_depth=9)\n",
    "etr.fit(x_train_stan,y_train)\n",
    "print(etr.score(x_train_stan, y_train))\n",
    "print(etr.score(x_test_stan, y_test))"
   ]
  },
  {
   "cell_type": "code",
   "execution_count": 56,
   "id": "edecd37d",
   "metadata": {},
   "outputs": [
    {
     "name": "stdout",
     "output_type": "stream",
     "text": [
      "0.8187238603078689\n",
      "0.2821854575487346\n"
     ]
    }
   ],
   "source": [
    "etr = ExtraTreesRegressor(random_state=42,n_estimators=50,min_samples_split=2,max_depth=9)\n",
    "etr.fit(x_train_stan,y_train)\n",
    "print(etr.score(x_train_stan, y_train))\n",
    "print(etr.score(x_test_stan, y_test))"
   ]
  },
  {
   "cell_type": "code",
   "execution_count": 9,
   "id": "07aedd2b",
   "metadata": {},
   "outputs": [
    {
     "name": "stdout",
     "output_type": "stream",
     "text": [
      "0.8963654320472862\n",
      "0.307740488140682\n"
     ]
    }
   ],
   "source": [
    "etr = ExtraTreesRegressor(random_state=42,n_estimators=700,min_samples_split=3,max_depth=15)\n",
    "etr.fit(x_train_stan,y_train)\n",
    "print(etr.score(x_train_stan, y_train))\n",
    "print(etr.score(x_test_stan, y_test))"
   ]
  },
  {
   "cell_type": "code",
   "execution_count": 58,
   "id": "c22ea64c",
   "metadata": {
    "scrolled": true
   },
   "outputs": [
    {
     "name": "stdout",
     "output_type": "stream",
     "text": [
      "0.8187238603078689\n",
      "0.2821854575487346\n"
     ]
    }
   ],
   "source": [
    "rfr = ExtraTreesRegressor(random_state=42,n_estimators=700,min_samples_split=5,max_depth=15)\n",
    "rfr.fit(x_train_stan,y_train)\n",
    "print(etr.score(x_train_stan, y_train))\n",
    "print(etr.score(x_test_stan, y_test))"
   ]
  },
  {
   "cell_type": "code",
   "execution_count": null,
   "id": "7281def3",
   "metadata": {},
   "outputs": [],
   "source": [
    "rfr = ExtraTreesRegressor(random_state=42,n_estimators=700,min_samples_split=6,max_depth=15)\n",
    "rfr.fit(x_train_stan,y_train)\n",
    "print(etr.score(x_train_stan, y_train))\n",
    "print(etr.score(x_test_stan, y_test))"
   ]
  },
  {
   "cell_type": "code",
   "execution_count": null,
   "id": "1d1b50af",
   "metadata": {},
   "outputs": [],
   "source": []
  },
  {
   "cell_type": "code",
   "execution_count": null,
   "id": "19d6a68b",
   "metadata": {},
   "outputs": [],
   "source": []
  },
  {
   "cell_type": "code",
   "execution_count": 11,
   "id": "6494b80c",
   "metadata": {},
   "outputs": [],
   "source": [
    "cv = KFold(5, shuffle=True, random_state=42)\n",
    "params = { \n",
    "    'n_estimators': [20,40,60,80,100],\n",
    "    'max_depth' : [None, 4,8,10,20,30],\n",
    "    'min_samples_split': [2,4,6]}"
   ]
  },
  {
   "cell_type": "code",
   "execution_count": 12,
   "id": "788f8fe0",
   "metadata": {},
   "outputs": [],
   "source": [
    "grid_e=GridSearchCV(ExtraTreesRegressor(random_state=42),param_grid=params,cv=cv, refit=True, verbose=True, n_jobs=-1) "
   ]
  },
  {
   "cell_type": "code",
   "execution_count": 13,
   "id": "c1af9fd6",
   "metadata": {},
   "outputs": [
    {
     "name": "stdout",
     "output_type": "stream",
     "text": [
      "Fitting 5 folds for each of 90 candidates, totalling 450 fits\n"
     ]
    },
    {
     "data": {
      "text/plain": [
       "GridSearchCV(cv=KFold(n_splits=5, random_state=42, shuffle=True),\n",
       "             estimator=ExtraTreesRegressor(random_state=42), n_jobs=-1,\n",
       "             param_grid={'max_depth': [None, 4, 8, 10, 20, 30],\n",
       "                         'min_samples_split': [2, 4, 6],\n",
       "                         'n_estimators': [20, 40, 60, 80, 100]},\n",
       "             verbose=True)"
      ]
     },
     "execution_count": 13,
     "metadata": {},
     "output_type": "execute_result"
    }
   ],
   "source": [
    "grid_e.fit(x_train_stan,y_train)"
   ]
  },
  {
   "cell_type": "code",
   "execution_count": 14,
   "id": "536bcacd",
   "metadata": {},
   "outputs": [
    {
     "data": {
      "text/plain": [
       "ExtraTreesRegressor(max_depth=4, n_estimators=20, random_state=42)"
      ]
     },
     "execution_count": 14,
     "metadata": {},
     "output_type": "execute_result"
    }
   ],
   "source": [
    "grid_e.best_estimator_ "
   ]
  },
  {
   "cell_type": "code",
   "execution_count": 15,
   "id": "5cd6ab64",
   "metadata": {},
   "outputs": [
    {
     "data": {
      "text/plain": [
       "-0.01320083464230688"
      ]
     },
     "execution_count": 15,
     "metadata": {},
     "output_type": "execute_result"
    }
   ],
   "source": [
    "grid_e.best_score_ "
   ]
  },
  {
   "cell_type": "code",
   "execution_count": 16,
   "id": "9ea2e2ad",
   "metadata": {},
   "outputs": [
    {
     "data": {
      "text/plain": [
       "0.5160894289816809"
      ]
     },
     "execution_count": 16,
     "metadata": {},
     "output_type": "execute_result"
    }
   ],
   "source": [
    "grid_e.score(x_train_stan,y_train)"
   ]
  },
  {
   "cell_type": "code",
   "execution_count": 17,
   "id": "2d8c4391",
   "metadata": {},
   "outputs": [
    {
     "data": {
      "text/plain": [
       "0.2826602654096114"
      ]
     },
     "execution_count": 17,
     "metadata": {},
     "output_type": "execute_result"
    }
   ],
   "source": [
    "# 0.23 -> 0.28 상승\n",
    "grid_e.score(x_test_stan,y_test)"
   ]
  },
  {
   "cell_type": "code",
   "execution_count": null,
   "id": "efc53ad8",
   "metadata": {},
   "outputs": [],
   "source": []
  },
  {
   "cell_type": "code",
   "execution_count": 18,
   "id": "745b4bf0",
   "metadata": {},
   "outputs": [],
   "source": [
    "cv = KFold(5, shuffle=True, random_state=42)\n",
    "params = { \n",
    "    'n_estimators': [350,500,600,700,750],\n",
    "    'max_depth' : [10,12,15,17,19],\n",
    "    'min_samples_split': [2,4,6,8]}\n",
    "grid_e=GridSearchCV(ExtraTreesRegressor(random_state=42),param_grid=params,cv=cv, refit=True, verbose=True, n_jobs=-1) "
   ]
  },
  {
   "cell_type": "code",
   "execution_count": 19,
   "id": "10b248a3",
   "metadata": {},
   "outputs": [
    {
     "name": "stdout",
     "output_type": "stream",
     "text": [
      "Fitting 5 folds for each of 100 candidates, totalling 500 fits\n"
     ]
    },
    {
     "data": {
      "text/plain": [
       "GridSearchCV(cv=KFold(n_splits=5, random_state=42, shuffle=True),\n",
       "             estimator=ExtraTreesRegressor(random_state=42), n_jobs=-1,\n",
       "             param_grid={'max_depth': [10, 12, 15, 17, 19],\n",
       "                         'min_samples_split': [2, 4, 6, 8],\n",
       "                         'n_estimators': [350, 500, 600, 700, 750]},\n",
       "             verbose=True)"
      ]
     },
     "execution_count": 19,
     "metadata": {},
     "output_type": "execute_result"
    }
   ],
   "source": [
    "grid_e.fit(x_train_stan,y_train)"
   ]
  },
  {
   "cell_type": "code",
   "execution_count": 20,
   "id": "86de7e3b",
   "metadata": {},
   "outputs": [
    {
     "data": {
      "text/plain": [
       "ExtraTreesRegressor(max_depth=10, min_samples_split=8, n_estimators=500,\n",
       "                    random_state=42)"
      ]
     },
     "execution_count": 20,
     "metadata": {},
     "output_type": "execute_result"
    }
   ],
   "source": [
    "grid_e.best_estimator_ "
   ]
  },
  {
   "cell_type": "code",
   "execution_count": 21,
   "id": "836b8487",
   "metadata": {},
   "outputs": [
    {
     "data": {
      "text/plain": [
       "-0.06120611049558544"
      ]
     },
     "execution_count": 21,
     "metadata": {},
     "output_type": "execute_result"
    }
   ],
   "source": [
    "grid_e.best_score_ "
   ]
  },
  {
   "cell_type": "code",
   "execution_count": 22,
   "id": "efe68e57",
   "metadata": {},
   "outputs": [
    {
     "data": {
      "text/plain": [
       "0.7577326053001262"
      ]
     },
     "execution_count": 22,
     "metadata": {},
     "output_type": "execute_result"
    }
   ],
   "source": [
    "grid_e.score(x_train_stan,y_train)"
   ]
  },
  {
   "cell_type": "code",
   "execution_count": 23,
   "id": "bc49e09f",
   "metadata": {},
   "outputs": [
    {
     "data": {
      "text/plain": [
       "0.25333264458847826"
      ]
     },
     "execution_count": 23,
     "metadata": {},
     "output_type": "execute_result"
    }
   ],
   "source": [
    "# 0.29 -> 0.25 하락\n",
    "grid_e.score(x_test_stan,y_test)"
   ]
  },
  {
   "cell_type": "markdown",
   "id": "99248e05",
   "metadata": {},
   "source": [
    "### feature_importances_"
   ]
  },
  {
   "cell_type": "code",
   "execution_count": 61,
   "id": "35e70306",
   "metadata": {
    "scrolled": true
   },
   "outputs": [
    {
     "data": {
      "text/html": [
       "<div>\n",
       "<style scoped>\n",
       "    .dataframe tbody tr th:only-of-type {\n",
       "        vertical-align: middle;\n",
       "    }\n",
       "\n",
       "    .dataframe tbody tr th {\n",
       "        vertical-align: top;\n",
       "    }\n",
       "\n",
       "    .dataframe thead th {\n",
       "        text-align: right;\n",
       "    }\n",
       "</style>\n",
       "<table border=\"1\" class=\"dataframe\">\n",
       "  <thead>\n",
       "    <tr style=\"text-align: right;\">\n",
       "      <th></th>\n",
       "      <th>features_name</th>\n",
       "      <th>importance</th>\n",
       "    </tr>\n",
       "  </thead>\n",
       "  <tbody>\n",
       "    <tr>\n",
       "      <th>774</th>\n",
       "      <td>matching_상권_코드_명_용산구청</td>\n",
       "      <td>0.055377</td>\n",
       "    </tr>\n",
       "    <tr>\n",
       "      <th>397</th>\n",
       "      <td>여성연령대_30_일요일시간대_4_생활인구_수</td>\n",
       "      <td>0.033900</td>\n",
       "    </tr>\n",
       "    <tr>\n",
       "      <th>687</th>\n",
       "      <td>matching_상권_코드_명_공항대로59다길</td>\n",
       "      <td>0.027786</td>\n",
       "    </tr>\n",
       "    <tr>\n",
       "      <th>145</th>\n",
       "      <td>남성연령대_30_일요일시간대_4_생활인구_수</td>\n",
       "      <td>0.020567</td>\n",
       "    </tr>\n",
       "    <tr>\n",
       "      <th>13</th>\n",
       "      <td>시간대_5_생활인구_수</td>\n",
       "      <td>0.018844</td>\n",
       "    </tr>\n",
       "    <tr>\n",
       "      <th>92</th>\n",
       "      <td>남성연령대_20_금요일시간대_5_생활인구_수</td>\n",
       "      <td>0.018439</td>\n",
       "    </tr>\n",
       "    <tr>\n",
       "      <th>535</th>\n",
       "      <td>아파트_가격_3_억_세대_수</td>\n",
       "      <td>0.018209</td>\n",
       "    </tr>\n",
       "    <tr>\n",
       "      <th>71</th>\n",
       "      <td>남성연령대_20_화요일시간대_2_생활인구_수</td>\n",
       "      <td>0.014721</td>\n",
       "    </tr>\n",
       "    <tr>\n",
       "      <th>139</th>\n",
       "      <td>남성연령대_30_토요일시간대_4_생활인구_수</td>\n",
       "      <td>0.012828</td>\n",
       "    </tr>\n",
       "    <tr>\n",
       "      <th>348</th>\n",
       "      <td>여성연령대_20_토요일시간대_3_생활인구_수</td>\n",
       "      <td>0.012575</td>\n",
       "    </tr>\n",
       "    <tr>\n",
       "      <th>673</th>\n",
       "      <td>버스정류장 수</td>\n",
       "      <td>0.011446</td>\n",
       "    </tr>\n",
       "    <tr>\n",
       "      <th>798</th>\n",
       "      <td>기준_분기_코드_2.0분기</td>\n",
       "      <td>0.010305</td>\n",
       "    </tr>\n",
       "    <tr>\n",
       "      <th>536</th>\n",
       "      <td>아파트_가격_4_억_세대_수</td>\n",
       "      <td>0.010151</td>\n",
       "    </tr>\n",
       "    <tr>\n",
       "      <th>89</th>\n",
       "      <td>남성연령대_20_금요일시간대_2_생활인구_수</td>\n",
       "      <td>0.008638</td>\n",
       "    </tr>\n",
       "    <tr>\n",
       "      <th>563</th>\n",
       "      <td>관공서_수</td>\n",
       "      <td>0.008160</td>\n",
       "    </tr>\n",
       "    <tr>\n",
       "      <th>392</th>\n",
       "      <td>여성연령대_30_토요일시간대_5_생활인구_수</td>\n",
       "      <td>0.007925</td>\n",
       "    </tr>\n",
       "    <tr>\n",
       "      <th>98</th>\n",
       "      <td>남성연령대_20_토요일시간대_5_생활인구_수</td>\n",
       "      <td>0.007852</td>\n",
       "    </tr>\n",
       "    <tr>\n",
       "      <th>574</th>\n",
       "      <td>버스_정거장_수</td>\n",
       "      <td>0.007824</td>\n",
       "    </tr>\n",
       "    <tr>\n",
       "      <th>138</th>\n",
       "      <td>남성연령대_30_토요일시간대_3_생활인구_수</td>\n",
       "      <td>0.007469</td>\n",
       "    </tr>\n",
       "    <tr>\n",
       "      <th>396</th>\n",
       "      <td>여성연령대_30_일요일시간대_3_생활인구_수</td>\n",
       "      <td>0.007362</td>\n",
       "    </tr>\n",
       "    <tr>\n",
       "      <th>631</th>\n",
       "      <td>일요일_매출_건수</td>\n",
       "      <td>0.007297</td>\n",
       "    </tr>\n",
       "    <tr>\n",
       "      <th>647</th>\n",
       "      <td>승하차총승객수</td>\n",
       "      <td>0.007180</td>\n",
       "    </tr>\n",
       "    <tr>\n",
       "      <th>386</th>\n",
       "      <td>여성연령대_30_금요일시간대_5_생활인구_수</td>\n",
       "      <td>0.007081</td>\n",
       "    </tr>\n",
       "    <tr>\n",
       "      <th>144</th>\n",
       "      <td>남성연령대_30_일요일시간대_3_생활인구_수</td>\n",
       "      <td>0.007065</td>\n",
       "    </tr>\n",
       "    <tr>\n",
       "      <th>718</th>\n",
       "      <td>matching_상권_코드_명_백제고분로22길</td>\n",
       "      <td>0.007053</td>\n",
       "    </tr>\n",
       "    <tr>\n",
       "      <th>349</th>\n",
       "      <td>여성연령대_20_토요일시간대_4_생활인구_수</td>\n",
       "      <td>0.006657</td>\n",
       "    </tr>\n",
       "    <tr>\n",
       "      <th>398</th>\n",
       "      <td>여성연령대_30_일요일시간대_5_생활인구_수</td>\n",
       "      <td>0.006608</td>\n",
       "    </tr>\n",
       "    <tr>\n",
       "      <th>576</th>\n",
       "      <td>분기당_매출_건수</td>\n",
       "      <td>0.006595</td>\n",
       "    </tr>\n",
       "    <tr>\n",
       "      <th>596</th>\n",
       "      <td>연령대_30_매출_비율</td>\n",
       "      <td>0.006224</td>\n",
       "    </tr>\n",
       "    <tr>\n",
       "      <th>655</th>\n",
       "      <td>6시총승객수</td>\n",
       "      <td>0.006110</td>\n",
       "    </tr>\n",
       "  </tbody>\n",
       "</table>\n",
       "</div>"
      ],
      "text/plain": [
       "                 features_name  importance\n",
       "774      matching_상권_코드_명_용산구청    0.055377\n",
       "397   여성연령대_30_일요일시간대_4_생활인구_수    0.033900\n",
       "687  matching_상권_코드_명_공항대로59다길    0.027786\n",
       "145   남성연령대_30_일요일시간대_4_생활인구_수    0.020567\n",
       "13                시간대_5_생활인구_수    0.018844\n",
       "92    남성연령대_20_금요일시간대_5_생활인구_수    0.018439\n",
       "535            아파트_가격_3_억_세대_수    0.018209\n",
       "71    남성연령대_20_화요일시간대_2_생활인구_수    0.014721\n",
       "139   남성연령대_30_토요일시간대_4_생활인구_수    0.012828\n",
       "348   여성연령대_20_토요일시간대_3_생활인구_수    0.012575\n",
       "673                    버스정류장 수    0.011446\n",
       "798             기준_분기_코드_2.0분기    0.010305\n",
       "536            아파트_가격_4_억_세대_수    0.010151\n",
       "89    남성연령대_20_금요일시간대_2_생활인구_수    0.008638\n",
       "563                      관공서_수    0.008160\n",
       "392   여성연령대_30_토요일시간대_5_생활인구_수    0.007925\n",
       "98    남성연령대_20_토요일시간대_5_생활인구_수    0.007852\n",
       "574                   버스_정거장_수    0.007824\n",
       "138   남성연령대_30_토요일시간대_3_생활인구_수    0.007469\n",
       "396   여성연령대_30_일요일시간대_3_생활인구_수    0.007362\n",
       "631                  일요일_매출_건수    0.007297\n",
       "647                    승하차총승객수    0.007180\n",
       "386   여성연령대_30_금요일시간대_5_생활인구_수    0.007081\n",
       "144   남성연령대_30_일요일시간대_3_생활인구_수    0.007065\n",
       "718  matching_상권_코드_명_백제고분로22길    0.007053\n",
       "349   여성연령대_20_토요일시간대_4_생활인구_수    0.006657\n",
       "398   여성연령대_30_일요일시간대_5_생활인구_수    0.006608\n",
       "576                  분기당_매출_건수    0.006595\n",
       "596               연령대_30_매출_비율    0.006224\n",
       "655                     6시총승객수    0.006110"
      ]
     },
     "execution_count": 61,
     "metadata": {},
     "output_type": "execute_result"
    }
   ],
   "source": [
    "etc_model = ExtraTreesRegressor(random_state=42,n_estimators=30)\n",
    "etc_model.fit(x_train_stan, y_train)\n",
    "\n",
    "feature_list = pd.concat([pd.Series(x.columns), pd.Series(etc_model.feature_importances_)], axis=1)\n",
    "feature_list.columns = ['features_name', 'importance']\n",
    "feature_list.sort_values(\"importance\", ascending =False)[:30]"
   ]
  },
  {
   "cell_type": "code",
   "execution_count": null,
   "id": "7036b504",
   "metadata": {},
   "outputs": [],
   "source": []
  },
  {
   "cell_type": "code",
   "execution_count": null,
   "id": "09acb5e7",
   "metadata": {},
   "outputs": [],
   "source": []
  },
  {
   "cell_type": "markdown",
   "id": "712de81d",
   "metadata": {},
   "source": [
    "## GradientBoostingRegressor"
   ]
  },
  {
   "cell_type": "markdown",
   "id": "cefe479a",
   "metadata": {},
   "source": [
    "### test_param_tuning"
   ]
  },
  {
   "cell_type": "code",
   "execution_count": 36,
   "id": "b0ced32d",
   "metadata": {},
   "outputs": [
    {
     "name": "stdout",
     "output_type": "stream",
     "text": [
      "0.9510361154531684\n",
      "0.13882241575736753\n"
     ]
    }
   ],
   "source": [
    "gbr = GradientBoostingRegressor(random_state=42)\n",
    "gbr.fit(x_train_stan,y_train)\n",
    "print(gbr.score(x_train_stan, y_train))\n",
    "print(gbr.score(x_test_stan, y_test))"
   ]
  },
  {
   "cell_type": "code",
   "execution_count": 37,
   "id": "35baabb5",
   "metadata": {},
   "outputs": [
    {
     "name": "stdout",
     "output_type": "stream",
     "text": [
      "0.9120958547713851\n",
      "0.22629728668970372\n"
     ]
    }
   ],
   "source": [
    "gbr = GradientBoostingRegressor(random_state=42,learning_rate=0.1,subsample=0.7)\n",
    "gbr.fit(x_train_stan,y_train)\n",
    "print(gbr.score(x_train_stan, y_train))\n",
    "print(gbr.score(x_test_stan, y_test))"
   ]
  },
  {
   "cell_type": "code",
   "execution_count": 65,
   "id": "c12a95df",
   "metadata": {},
   "outputs": [
    {
     "name": "stdout",
     "output_type": "stream",
     "text": [
      "0.7862355373554485\n",
      "0.2540660872505872\n"
     ]
    }
   ],
   "source": [
    "gbr = GradientBoostingRegressor(random_state=42,learning_rate=0.1,subsample=0.7,n_estimators=46)\n",
    "gbr.fit(x_train_stan,y_train)\n",
    "print(gbr.score(x_train_stan, y_train))\n",
    "print(gbr.score(x_test_stan, y_test))"
   ]
  },
  {
   "cell_type": "code",
   "execution_count": 38,
   "id": "c9894095",
   "metadata": {},
   "outputs": [],
   "source": [
    "# gbr = GradientBoostingRegressor(random_state=42,learning_rate=0.1,subsample=0.3)\n",
    "# gbr.fit(x_train_stan,y_train)\n",
    "# print(gbr.score(x_train_stan, y_train))\n",
    "# print(gbr.score(x_test_stan, y_test))"
   ]
  },
  {
   "cell_type": "code",
   "execution_count": 39,
   "id": "d9fff76a",
   "metadata": {},
   "outputs": [
    {
     "name": "stdout",
     "output_type": "stream",
     "text": [
      "0.9920659858389741\n",
      "0.12040839317818053\n"
     ]
    }
   ],
   "source": [
    "gbr = GradientBoostingRegressor(random_state=42,learning_rate=0.25,subsample=0.7)\n",
    "gbr.fit(x_train_stan,y_train)\n",
    "print(gbr.score(x_train_stan, y_train))\n",
    "print(gbr.score(x_test_stan, y_test))"
   ]
  },
  {
   "cell_type": "code",
   "execution_count": 40,
   "id": "eee0a550",
   "metadata": {},
   "outputs": [
    {
     "name": "stdout",
     "output_type": "stream",
     "text": [
      "0.8524013978520993\n",
      "0.13327027990256946\n"
     ]
    }
   ],
   "source": [
    "gbr = GradientBoostingRegressor(random_state=42,learning_rate=0.25,subsample=0.7,n_estimators=30)\n",
    "gbr.fit(x_train_stan,y_train)\n",
    "print(gbr.score(x_train_stan, y_train))\n",
    "print(gbr.score(x_test_stan, y_test))\n"
   ]
  },
  {
   "cell_type": "code",
   "execution_count": 41,
   "id": "7824afa7",
   "metadata": {},
   "outputs": [
    {
     "name": "stdout",
     "output_type": "stream",
     "text": [
      "0.7828310234729493\n",
      "0.16097554243712286\n"
     ]
    }
   ],
   "source": [
    "gbr = GradientBoostingRegressor(random_state=42,learning_rate=0.25,subsample=0.7,n_estimators=21)\n",
    "gbr.fit(x_train_stan,y_train)\n",
    "print(gbr.score(x_train_stan, y_train))\n",
    "print(gbr.score(x_test_stan, y_test))"
   ]
  },
  {
   "cell_type": "code",
   "execution_count": null,
   "id": "0e8d60f3",
   "metadata": {},
   "outputs": [],
   "source": []
  },
  {
   "cell_type": "markdown",
   "id": "32176adc",
   "metadata": {},
   "source": [
    "### Gridsearch"
   ]
  },
  {
   "cell_type": "code",
   "execution_count": 42,
   "id": "bc86a6cf",
   "metadata": {},
   "outputs": [],
   "source": [
    "cv = KFold(5, shuffle=True, random_state=42)\n",
    "params = { \n",
    "    'learning_rate': np.arange(0.01,0.25,0.01),\n",
    "    'subsample' : np.arange(0.1,1,0.1),\n",
    "    'n_estimators': np.arange(5,100,5)}\n",
    "grid_b=GridSearchCV(GradientBoostingRegressor(random_state=42),param_grid=params,cv=cv, refit=True, verbose=True, n_jobs=-1) "
   ]
  },
  {
   "cell_type": "code",
   "execution_count": 43,
   "id": "23bc8b92",
   "metadata": {},
   "outputs": [
    {
     "name": "stdout",
     "output_type": "stream",
     "text": [
      "Fitting 5 folds for each of 4104 candidates, totalling 20520 fits\n"
     ]
    },
    {
     "data": {
      "text/plain": [
       "GridSearchCV(cv=KFold(n_splits=5, random_state=42, shuffle=True),\n",
       "             estimator=GradientBoostingRegressor(random_state=42), n_jobs=-1,\n",
       "             param_grid={'learning_rate': array([0.01, 0.02, 0.03, 0.04, 0.05, 0.06, 0.07, 0.08, 0.09, 0.1 , 0.11,\n",
       "       0.12, 0.13, 0.14, 0.15, 0.16, 0.17, 0.18, 0.19, 0.2 , 0.21, 0.22,\n",
       "       0.23, 0.24]),\n",
       "                         'n_estimators': array([ 5, 10, 15, 20, 25, 30, 35, 40, 45, 50, 55, 60, 65, 70, 75, 80, 85,\n",
       "       90, 95]),\n",
       "                         'subsample': array([0.1, 0.2, 0.3, 0.4, 0.5, 0.6, 0.7, 0.8, 0.9])},\n",
       "             verbose=True)"
      ]
     },
     "execution_count": 43,
     "metadata": {},
     "output_type": "execute_result"
    }
   ],
   "source": [
    "grid_b.fit(x_train_stan,y_train)"
   ]
  },
  {
   "cell_type": "code",
   "execution_count": 44,
   "id": "52dfeb90",
   "metadata": {},
   "outputs": [
    {
     "data": {
      "text/plain": [
       "GradientBoostingRegressor(learning_rate=0.03, n_estimators=35, random_state=42,\n",
       "                          subsample=0.1)"
      ]
     },
     "execution_count": 44,
     "metadata": {},
     "output_type": "execute_result"
    }
   ],
   "source": [
    "grid_b.best_estimator_ "
   ]
  },
  {
   "cell_type": "code",
   "execution_count": 45,
   "id": "3e919366",
   "metadata": {},
   "outputs": [
    {
     "data": {
      "text/plain": [
       "0.1285349081576704"
      ]
     },
     "execution_count": 45,
     "metadata": {},
     "output_type": "execute_result"
    }
   ],
   "source": [
    "grid_b.best_score_ "
   ]
  },
  {
   "cell_type": "code",
   "execution_count": 46,
   "id": "d6d3d11a",
   "metadata": {},
   "outputs": [
    {
     "data": {
      "text/plain": [
       "0.2793835647750842"
      ]
     },
     "execution_count": 46,
     "metadata": {},
     "output_type": "execute_result"
    }
   ],
   "source": [
    "grid_b.score(x_train_stan,y_train)"
   ]
  },
  {
   "cell_type": "code",
   "execution_count": 47,
   "id": "031f567d",
   "metadata": {},
   "outputs": [
    {
     "data": {
      "text/plain": [
       "0.20920553807531916"
      ]
     },
     "execution_count": 47,
     "metadata": {},
     "output_type": "execute_result"
    }
   ],
   "source": [
    "grid_b.score(x_test_stan,y_test)"
   ]
  },
  {
   "cell_type": "code",
   "execution_count": null,
   "id": "0760bb04",
   "metadata": {},
   "outputs": [],
   "source": []
  },
  {
   "cell_type": "code",
   "execution_count": null,
   "id": "5fec9b76",
   "metadata": {},
   "outputs": [],
   "source": []
  },
  {
   "cell_type": "markdown",
   "id": "e7197aca",
   "metadata": {},
   "source": [
    "### 결과적으로 ExtraTreesRegressor이  raw_df 사용 시 보다 조금 개선.\n",
    "### overfitted 해소시 더 높은 score 기대"
   ]
  },
  {
   "cell_type": "code",
   "execution_count": null,
   "id": "6b1fb062",
   "metadata": {},
   "outputs": [],
   "source": []
  }
 ],
 "metadata": {
  "kernelspec": {
   "display_name": "Python 3",
   "language": "python",
   "name": "python3"
  },
  "language_info": {
   "codemirror_mode": {
    "name": "ipython",
    "version": 3
   },
   "file_extension": ".py",
   "mimetype": "text/x-python",
   "name": "python",
   "nbconvert_exporter": "python",
   "pygments_lexer": "ipython3",
   "version": "3.8.8"
  }
 },
 "nbformat": 4,
 "nbformat_minor": 5
}
